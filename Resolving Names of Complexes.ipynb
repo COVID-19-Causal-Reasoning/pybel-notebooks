{
 "cells": [
  {
   "cell_type": "markdown",
   "metadata": {},
   "source": [
    "# Resolving Names of Complexes\n",
    "\n",
    "Often in BEL documents, complexes are named by their members. Additional information might be avaliable from other sources, so these complexes should be resolved to their external names if possible.\n",
    "\n",
    "In this investigation, the human `9-1-1 Complex` is resolved while other complexes without names are left."
   ]
  },
  {
   "cell_type": "code",
   "execution_count": 1,
   "metadata": {
    "collapsed": false
   },
   "outputs": [
    {
     "data": {
      "text/plain": [
       "'PyBEL Version: 0.2.4-dev'"
      ]
     },
     "execution_count": 1,
     "metadata": {},
     "output_type": "execute_result"
    }
   ],
   "source": [
    "import pybel, networkx, nx2d3, os\n",
    "import itertools as itt\n",
    "import matplotlib.pyplot as plt\n",
    "%matplotlib inline\n",
    "\n",
    "pybel.get_version()"
   ]
  },
  {
   "cell_type": "markdown",
   "metadata": {},
   "source": [
    "# Prior Knowledge\n",
    "\n",
    "The OpenBEL Framework provides a listing of named complexes, organized as BEL statements. This can be loaded from URL using PyBEL."
   ]
  },
  {
   "cell_type": "code",
   "execution_count": 2,
   "metadata": {
    "collapsed": false,
    "scrolled": true
   },
   "outputs": [],
   "source": [
    "url = 'http://resource.belframework.org/belframework/20150611/resource/named-complexes.bel'\n",
    "path = os.path.expanduser('~/.pybel/named-complexes.gpickle')\n",
    "\n",
    "if not os.path.exists(path):\n",
    "    complexes = pybel.from_url(url)\n",
    "    pybel.to_pickle(complexes, path)\n",
    "else:\n",
    "    complexes = pybel.from_pickle(path)"
   ]
  },
  {
   "cell_type": "code",
   "execution_count": 3,
   "metadata": {
    "collapsed": false
   },
   "outputs": [
    {
     "data": {
      "image/png": "[encoded data removed]",
      "text/plain": [
       "<matplotlib.figure.Figure at 0x1149ff518>"
      ]
     },
     "metadata": {},
     "output_type": "display_data"
    }
   ],
   "source": [
    "plt.plot(sorted([len(complexes.edge[n]) for n in complexes.nodes_iter(type='Complex')], reverse=True), '-r')\n",
    "plt.ylabel('Size')\n",
    "plt.xlabel('Rank')\n",
    "plt.title('Size Rank Distribution of Named Complexes')\n",
    "plt.show()"
   ]
  },
  {
   "cell_type": "markdown",
   "metadata": {},
   "source": [
    "During parsing and compiling, PyBEL transforms each complex into a canonical tuple that consists of the names of each of its members. The prior knowledge graph contains orthologous proteins for each complex, so the members are filtered to match human proteins with `HGNC` identifiers, rather than `MGI` or `RDB`. A mapping is built from the canonical tuple to its name."
   ]
  },
  {
   "cell_type": "code",
   "execution_count": 4,
   "metadata": {
    "collapsed": false
   },
   "outputs": [],
   "source": [
    "# build mapping\n",
    "t2n = {}\n",
    "relabel_mapping = {}\n",
    "for n, d in complexes.nodes_iter(type='Complex', data=True):\n",
    "    members = complexes.edge[n]\n",
    "    members = [member for member in members if complexes.node[member]['namespace'] == 'HGNC']\n",
    "    t = ('Complex',) + tuple(sorted(members))\n",
    "    t2n[t] = d\n",
    "    relabel_mapping[t] = n"
   ]
  },
  {
   "cell_type": "markdown",
   "metadata": {},
   "source": [
    "# Resolution\n",
    "\n",
    "A test BEL network is parsed and shown before complex name resolution. Here, the `9-1-1 complex` written as `complex(p(HGNC:HUS1),p(HGNC:RAD1),p(HGNC:RAD9A))`"
   ]
  },
  {
   "cell_type": "code",
   "execution_count": 5,
   "metadata": {
    "collapsed": true
   },
   "outputs": [],
   "source": [
    "test_bel = \"\"\"SET DOCUMENT Name = \"PyBEL Test Document\"\n",
    "SET DOCUMENT Description = \"Made for testing PyBEL parsing\"\n",
    "SET DOCUMENT Version = \"1.6\"\n",
    "SET DOCUMENT Copyright = \"Copyright (c) Charles Tapley Hoyt. All Rights Reserved.\"\n",
    "SET DOCUMENT Authors = \"Charles Tapley Hoyt\"\n",
    "SET DOCUMENT Licenses = \"Other / Proprietary\"\n",
    "SET DOCUMENT ContactInfo = \"charles.hoyt@scai.fraunhofer.de\"\n",
    "DEFINE NAMESPACE ChEBI AS URL \"http://resource.belframework.org/belframework/1.0/namespace/chebi-names.belns\"\n",
    "DEFINE NAMESPACE HGNC AS URL \"http://resource.belframework.org/belframework/1.0/namespace/hgnc-approved-symbols.belns\"\n",
    "SET Citation = {\"Test Source\", \"Test Title\", \"123456\"}\n",
    "SET Evidence = \"Evidence 1\"\n",
    "complex(p(HGNC:HUS1),p(HGNC:RAD1),p(HGNC:RAD9A)) increases a(ChEBI:\"oxygen radical\")\n",
    "complex(p(HGNC:SFN), p(HGNC:YWHAB))\"\"\"\n",
    "\n",
    "g = pybel.BELGraph(test_bel.split('\\n'))"
   ]
  },
  {
   "cell_type": "code",
   "execution_count": 6,
   "metadata": {
    "collapsed": false
   },
   "outputs": [
    {
     "data": {
      "application/javascript": [
       "var chart_idx='jzsdbqeyuxrpfhmt', graphx={\"multigraph\": true, \"graph\": {}, \"directed\": true, \"links\": [{\"key\": \"hasComponent\", \"target\": 15, \"relation\": \"hasComponent\", \"source\": 1}, {\"key\": \"hasComponent\", \"target\": 2, \"relation\": \"hasComponent\", \"source\": 1}, {\"key\": \"transcribedTo\", \"target\": 7, \"relation\": \"transcribedTo\", \"source\": 4}, {\"key\": \"transcribedTo\", \"target\": 12, \"relation\": \"transcribedTo\", \"source\": 5}, {\"key\": \"transcribedTo\", \"target\": 11, \"relation\": \"transcribedTo\", \"source\": 6}, {\"key\": \"translatedTo\", \"target\": 0, \"relation\": \"translatedTo\", \"source\": 7}, {\"key\": \"transcribedTo\", \"target\": 13, \"relation\": \"transcribedTo\", \"source\": 8}, {\"key\": \"translatedTo\", \"target\": 14, \"relation\": \"translatedTo\", \"source\": 10}, {\"key\": \"translatedTo\", \"target\": 9, \"relation\": \"translatedTo\", \"source\": 11}, {\"key\": \"translatedTo\", \"target\": 15, \"relation\": \"translatedTo\", \"source\": 12}, {\"key\": \"translatedTo\", \"target\": 2, \"relation\": \"translatedTo\", \"source\": 13}, {\"key\": \"hasComponent\", \"target\": 0, \"relation\": \"hasComponent\", \"source\": 16}, {\"key\": \"hasComponent\", \"target\": 14, \"relation\": \"hasComponent\", \"source\": 16}, {\"citation_type\": \"Test Source\", \"target\": 3, \"key\": 0, \"source\": 16, \"citation_name\": \"Test Title\", \"Evidence\": \"Evidence 1\", \"relation\": \"increases\", \"citation_reference\": \"123456\"}, {\"key\": \"hasComponent\", \"target\": 9, \"relation\": \"hasComponent\", \"source\": 16}, {\"key\": \"transcribedTo\", \"target\": 10, \"relation\": \"transcribedTo\", \"source\": 17}], \"nodes\": [{\"id\": [\"Protein\", \"HGNC\", \"RAD9A\"], \"name\": \"RAD9A\", \"type\": \"Protein\", \"namespace\": \"HGNC\"}, {\"id\": [\"Complex\", [\"Protein\", \"HGNC\", \"SFN\"], [\"Protein\", \"HGNC\", \"YWHAB\"]], \"type\": \"Complex\"}, {\"id\": [\"Protein\", \"HGNC\", \"YWHAB\"], \"name\": \"YWHAB\", \"type\": \"Protein\", \"namespace\": \"HGNC\"}, {\"id\": [\"Abundance\", \"ChEBI\", \"oxygen radical\"], \"name\": \"oxygen radical\", \"type\": \"Abundance\", \"namespace\": \"ChEBI\"}, {\"id\": [\"Gene\", \"HGNC\", \"RAD9A\"], \"name\": \"RAD9A\", \"type\": \"Gene\", \"namespace\": \"HGNC\"}, {\"id\": [\"Gene\", \"HGNC\", \"SFN\"], \"name\": \"SFN\", \"type\": \"Gene\", \"namespace\": \"HGNC\"}, {\"id\": [\"Gene\", \"HGNC\", \"HUS1\"], \"name\": \"HUS1\", \"type\": \"Gene\", \"namespace\": \"HGNC\"}, {\"id\": [\"RNA\", \"HGNC\", \"RAD9A\"], \"name\": \"RAD9A\", \"type\": \"RNA\", \"namespace\": \"HGNC\"}, {\"id\": [\"Gene\", \"HGNC\", \"YWHAB\"], \"name\": \"YWHAB\", \"type\": \"Gene\", \"namespace\": \"HGNC\"}, {\"id\": [\"Protein\", \"HGNC\", \"HUS1\"], \"name\": \"HUS1\", \"type\": \"Protein\", \"namespace\": \"HGNC\"}, {\"id\": [\"RNA\", \"HGNC\", \"RAD1\"], \"name\": \"RAD1\", \"type\": \"RNA\", \"namespace\": \"HGNC\"}, {\"id\": [\"RNA\", \"HGNC\", \"HUS1\"], \"name\": \"HUS1\", \"type\": \"RNA\", \"namespace\": \"HGNC\"}, {\"id\": [\"RNA\", \"HGNC\", \"SFN\"], \"name\": \"SFN\", \"type\": \"RNA\", \"namespace\": \"HGNC\"}, {\"id\": [\"RNA\", \"HGNC\", \"YWHAB\"], \"name\": \"YWHAB\", \"type\": \"RNA\", \"namespace\": \"HGNC\"}, {\"id\": [\"Protein\", \"HGNC\", \"RAD1\"], \"name\": \"RAD1\", \"type\": \"Protein\", \"namespace\": \"HGNC\"}, {\"id\": [\"Protein\", \"HGNC\", \"SFN\"], \"name\": \"SFN\", \"type\": \"Protein\", \"namespace\": \"HGNC\"}, {\"id\": [\"Complex\", [\"Protein\", \"HGNC\", \"HUS1\"], [\"Protein\", \"HGNC\", \"RAD1\"], [\"Protein\", \"HGNC\", \"RAD9A\"]], \"type\": \"Complex\"}, {\"id\": [\"Gene\", \"HGNC\", \"RAD1\"], \"name\": \"RAD1\", \"type\": \"Gene\", \"namespace\": \"HGNC\"}]}, widthx=600, heightx=400;\n",
       "var process_nx = function(d3, chart_id, graph, width, height) {\n",
       "    var color = d3.scale.category20();\n",
       "\n",
       "    var force = d3.layout.force()\n",
       "        .charge(-200)\n",
       "        .linkDistance(40)\n",
       "        .size([width, height]);\n",
       "\n",
       "    var svg = d3.select('#' + chart_id).append(\"svg\")\n",
       "        .attr(\"width\", width)\n",
       "        .attr(\"height\", height);\n",
       "\n",
       "    force\n",
       "      .nodes(graph.nodes)\n",
       "      .links(graph.links)\n",
       "      .start();\n",
       "\n",
       "    var link = svg.selectAll(\".link\")\n",
       "        .data(graph.links)\n",
       "        .enter().append(\"line\")\n",
       "        .attr(\"class\", \"link\")\n",
       "        .attr(\"stroke\", \"#999\")\n",
       "        .attr(\"stroke-width\", 1.5);\n",
       "\n",
       "    var node = svg.selectAll(\".node\")\n",
       "        .data(graph.nodes)\n",
       "        .enter().append(\"g\")\n",
       "        .attr(\"class\", \"node\")\n",
       "        .call(force.drag);\n",
       "\n",
       "    node.append(\"circle\")\n",
       "        .attr(\"r\", 6)\n",
       "        .style(\"fill\", function(d) {\n",
       "            return color(d.color);\n",
       "        });\n",
       "\n",
       "    node.append(\"text\")\n",
       "        .attr(\"dx\", 12)\n",
       "        .attr(\"dy\", \".35em\")\n",
       "        .text(function(d) {\n",
       "            return d.id;\n",
       "        });\n",
       "\n",
       "    force.on(\"tick\", function() {\n",
       "        link.attr(\"x1\", function(d) { return d.source.x; })\n",
       "            .attr(\"y1\", function(d) { return d.source.y; })\n",
       "            .attr(\"x2\", function(d) { return d.target.x; })\n",
       "            .attr(\"y2\", function(d) { return d.target.y; });\n",
       "\n",
       "        node.attr(\"transform\", function(d) {\n",
       "            return \"translate(\" + d.x + \",\" + d.y + \")\";\n",
       "        });\n",
       "    });\n",
       "}\n",
       "\n",
       "        require.config({\n",
       "          paths: {\n",
       "              d3: '//cdnjs.cloudflare.com/ajax/libs/d3/3.4.8/d3.min'\n",
       "          }\n",
       "        });\n",
       "\n",
       "        element.append(\"<div id='\" + chart_idx + \"'></div>\");\n",
       "\n",
       "        require(['d3'], function(d3) {\n",
       "            return process_nx(d3, chart_idx, graphx, widthx, heightx)\n",
       "        })\n",
       "    "
      ],
      "text/plain": [
       "<IPython.core.display.Javascript object>"
      ]
     },
     "execution_count": 6,
     "metadata": {},
     "output_type": "execute_result"
    }
   ],
   "source": [
    "nx2d3.embed_networkx(g, width=600, height=400)"
   ]
  },
  {
   "cell_type": "markdown",
   "metadata": {},
   "source": [
    "Finally, the complexes are quickly matched with the mapping dictionary. The appropriate annotations are added, and the node is renamed. The network is shown again with the resolved nodes."
   ]
  },
  {
   "cell_type": "code",
   "execution_count": 7,
   "metadata": {
    "collapsed": false
   },
   "outputs": [
    {
     "name": "stdout",
     "output_type": "stream",
     "text": [
      "('Complex', ('Protein', 'HGNC', 'SFN'), ('Protein', 'HGNC', 'YWHAB'))\n",
      "('Complex', ('Protein', 'HGNC', 'HUS1'), ('Protein', 'HGNC', 'RAD1'), ('Protein', 'HGNC', 'RAD9A'))\n"
     ]
    }
   ],
   "source": [
    "# fix node data\n",
    "for com in g.nodes_iter(type=\"Complex\"):\n",
    "    print(com)\n",
    "    if com in t2n:\n",
    "        g.node[com].update(t2n[com]) \n",
    "        \n",
    "# fix node names\n",
    "gr = networkx.relabel_nodes(g, lambda n: relabel_mapping[n] if n in relabel_mapping else n, copy=False)"
   ]
  },
  {
   "cell_type": "code",
   "execution_count": 8,
   "metadata": {
    "collapsed": false
   },
   "outputs": [
    {
     "data": {
      "application/javascript": [
       "var chart_idx='vdfasqcphbuyojqz', graphx={\"multigraph\": true, \"graph\": {}, \"directed\": true, \"links\": [{\"key\": \"hasComponent\", \"target\": 16, \"relation\": \"hasComponent\", \"source\": 1}, {\"key\": \"hasComponent\", \"target\": 3, \"relation\": \"hasComponent\", \"source\": 1}, {\"key\": \"hasComponent\", \"target\": 0, \"relation\": \"hasComponent\", \"source\": 2}, {\"citation_type\": \"Test Source\", \"target\": 4, \"key\": 0, \"source\": 2, \"citation_name\": \"Test Title\", \"Evidence\": \"Evidence 1\", \"relation\": \"increases\", \"citation_reference\": \"123456\"}, {\"key\": \"hasComponent\", \"target\": 10, \"relation\": \"hasComponent\", \"source\": 2}, {\"key\": \"hasComponent\", \"target\": 15, \"relation\": \"hasComponent\", \"source\": 2}, {\"key\": \"transcribedTo\", \"target\": 8, \"relation\": \"transcribedTo\", \"source\": 5}, {\"key\": \"transcribedTo\", \"target\": 13, \"relation\": \"transcribedTo\", \"source\": 6}, {\"key\": \"transcribedTo\", \"target\": 12, \"relation\": \"transcribedTo\", \"source\": 7}, {\"key\": \"translatedTo\", \"target\": 0, \"relation\": \"translatedTo\", \"source\": 8}, {\"key\": \"transcribedTo\", \"target\": 14, \"relation\": \"transcribedTo\", \"source\": 9}, {\"key\": \"translatedTo\", \"target\": 15, \"relation\": \"translatedTo\", \"source\": 11}, {\"key\": \"translatedTo\", \"target\": 10, \"relation\": \"translatedTo\", \"source\": 12}, {\"key\": \"translatedTo\", \"target\": 16, \"relation\": \"translatedTo\", \"source\": 13}, {\"key\": \"translatedTo\", \"target\": 3, \"relation\": \"translatedTo\", \"source\": 14}, {\"key\": \"transcribedTo\", \"target\": 11, \"relation\": \"transcribedTo\", \"source\": 17}], \"nodes\": [{\"id\": [\"Protein\", \"HGNC\", \"RAD9A\"], \"name\": \"RAD9A\", \"type\": \"Protein\", \"namespace\": \"HGNC\"}, {\"id\": [\"Complex\", [\"Protein\", \"HGNC\", \"SFN\"], [\"Protein\", \"HGNC\", \"YWHAB\"]], \"type\": \"Complex\"}, {\"id\": [\"Complex\", \"SCOMP\", \"9-1-1 Complex\"], \"name\": \"9-1-1 Complex\", \"type\": \"Complex\", \"namespace\": \"SCOMP\"}, {\"id\": [\"Protein\", \"HGNC\", \"YWHAB\"], \"name\": \"YWHAB\", \"type\": \"Protein\", \"namespace\": \"HGNC\"}, {\"id\": [\"Abundance\", \"ChEBI\", \"oxygen radical\"], \"name\": \"oxygen radical\", \"type\": \"Abundance\", \"namespace\": \"ChEBI\"}, {\"id\": [\"Gene\", \"HGNC\", \"RAD9A\"], \"name\": \"RAD9A\", \"type\": \"Gene\", \"namespace\": \"HGNC\"}, {\"id\": [\"Gene\", \"HGNC\", \"SFN\"], \"name\": \"SFN\", \"type\": \"Gene\", \"namespace\": \"HGNC\"}, {\"id\": [\"Gene\", \"HGNC\", \"HUS1\"], \"name\": \"HUS1\", \"type\": \"Gene\", \"namespace\": \"HGNC\"}, {\"id\": [\"RNA\", \"HGNC\", \"RAD9A\"], \"name\": \"RAD9A\", \"type\": \"RNA\", \"namespace\": \"HGNC\"}, {\"id\": [\"Gene\", \"HGNC\", \"YWHAB\"], \"name\": \"YWHAB\", \"type\": \"Gene\", \"namespace\": \"HGNC\"}, {\"id\": [\"Protein\", \"HGNC\", \"HUS1\"], \"name\": \"HUS1\", \"type\": \"Protein\", \"namespace\": \"HGNC\"}, {\"id\": [\"RNA\", \"HGNC\", \"RAD1\"], \"name\": \"RAD1\", \"type\": \"RNA\", \"namespace\": \"HGNC\"}, {\"id\": [\"RNA\", \"HGNC\", \"HUS1\"], \"name\": \"HUS1\", \"type\": \"RNA\", \"namespace\": \"HGNC\"}, {\"id\": [\"RNA\", \"HGNC\", \"SFN\"], \"name\": \"SFN\", \"type\": \"RNA\", \"namespace\": \"HGNC\"}, {\"id\": [\"RNA\", \"HGNC\", \"YWHAB\"], \"name\": \"YWHAB\", \"type\": \"RNA\", \"namespace\": \"HGNC\"}, {\"id\": [\"Protein\", \"HGNC\", \"RAD1\"], \"name\": \"RAD1\", \"type\": \"Protein\", \"namespace\": \"HGNC\"}, {\"id\": [\"Protein\", \"HGNC\", \"SFN\"], \"name\": \"SFN\", \"type\": \"Protein\", \"namespace\": \"HGNC\"}, {\"id\": [\"Gene\", \"HGNC\", \"RAD1\"], \"name\": \"RAD1\", \"type\": \"Gene\", \"namespace\": \"HGNC\"}]}, widthx=600, heightx=400;\n",
       "var process_nx = function(d3, chart_id, graph, width, height) {\n",
       "    var color = d3.scale.category20();\n",
       "\n",
       "    var force = d3.layout.force()\n",
       "        .charge(-200)\n",
       "        .linkDistance(40)\n",
       "        .size([width, height]);\n",
       "\n",
       "    var svg = d3.select('#' + chart_id).append(\"svg\")\n",
       "        .attr(\"width\", width)\n",
       "        .attr(\"height\", height);\n",
       "\n",
       "    force\n",
       "      .nodes(graph.nodes)\n",
       "      .links(graph.links)\n",
       "      .start();\n",
       "\n",
       "    var link = svg.selectAll(\".link\")\n",
       "        .data(graph.links)\n",
       "        .enter().append(\"line\")\n",
       "        .attr(\"class\", \"link\")\n",
       "        .attr(\"stroke\", \"#999\")\n",
       "        .attr(\"stroke-width\", 1.5);\n",
       "\n",
       "    var node = svg.selectAll(\".node\")\n",
       "        .data(graph.nodes)\n",
       "        .enter().append(\"g\")\n",
       "        .attr(\"class\", \"node\")\n",
       "        .call(force.drag);\n",
       "\n",
       "    node.append(\"circle\")\n",
       "        .attr(\"r\", 6)\n",
       "        .style(\"fill\", function(d) {\n",
       "            return color(d.color);\n",
       "        });\n",
       "\n",
       "    node.append(\"text\")\n",
       "        .attr(\"dx\", 12)\n",
       "        .attr(\"dy\", \".35em\")\n",
       "        .text(function(d) {\n",
       "            return d.id;\n",
       "        });\n",
       "\n",
       "    force.on(\"tick\", function() {\n",
       "        link.attr(\"x1\", function(d) { return d.source.x; })\n",
       "            .attr(\"y1\", function(d) { return d.source.y; })\n",
       "            .attr(\"x2\", function(d) { return d.target.x; })\n",
       "            .attr(\"y2\", function(d) { return d.target.y; });\n",
       "\n",
       "        node.attr(\"transform\", function(d) {\n",
       "            return \"translate(\" + d.x + \",\" + d.y + \")\";\n",
       "        });\n",
       "    });\n",
       "}\n",
       "\n",
       "        require.config({\n",
       "          paths: {\n",
       "              d3: '//cdnjs.cloudflare.com/ajax/libs/d3/3.4.8/d3.min'\n",
       "          }\n",
       "        });\n",
       "\n",
       "        element.append(\"<div id='\" + chart_idx + \"'></div>\");\n",
       "\n",
       "        require(['d3'], function(d3) {\n",
       "            return process_nx(d3, chart_idx, graphx, widthx, heightx)\n",
       "        })\n",
       "    "
      ],
      "text/plain": [
       "<IPython.core.display.Javascript object>"
      ]
     },
     "execution_count": 8,
     "metadata": {},
     "output_type": "execute_result"
    }
   ],
   "source": [
    "nx2d3.embed_networkx(g, width=600, height=400)"
   ]
  }
 ],
 "metadata": {
  "kernelspec": {
   "display_name": "Python 3",
   "language": "python",
   "name": "python3"
  },
  "language_info": {
   "codemirror_mode": {
    "name": "ipython",
    "version": 3
   },
   "file_extension": ".py",
   "mimetype": "text/x-python",
   "name": "python",
   "nbconvert_exporter": "python",
   "pygments_lexer": "ipython3",
   "version": "3.5.2"
  }
 },
 "nbformat": 4,
 "nbformat_minor": 1
}
