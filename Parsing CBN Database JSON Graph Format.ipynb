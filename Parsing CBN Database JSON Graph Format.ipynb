{
 "cells": [
  {
   "cell_type": "markdown",
   "metadata": {},
   "source": [
    "# Parsing the Causal Biological Network Database\n",
    "\n",
    "This notebook outlines the process of parsing the JSON Graph File format used in the Causal Biological Network (CBN) Database. "
   ]
  },
  {
   "cell_type": "code",
   "execution_count": 1,
   "metadata": {
    "collapsed": false
   },
   "outputs": [],
   "source": [
    "import json\n",
    "import requests\n",
    "import time\n",
    "\n",
    "from IPython.display import IFrame, HTML\n",
    "import networkx as nx\n",
    "import pybel\n",
    "from pybel.constants import EVIDENCE"
   ]
  },
  {
   "cell_type": "code",
   "execution_count": 2,
   "metadata": {
    "collapsed": false
   },
   "outputs": [
    {
     "data": {
      "text/plain": [
       "'0.3.4'"
      ]
     },
     "execution_count": 2,
     "metadata": {},
     "output_type": "execute_result"
    }
   ],
   "source": [
    "pybel.__version__"
   ]
  },
  {
   "cell_type": "code",
   "execution_count": 3,
   "metadata": {
    "collapsed": false
   },
   "outputs": [
    {
     "data": {
      "text/plain": [
       "'Sun Jan 22 20:41:50 2017'"
      ]
     },
     "execution_count": 3,
     "metadata": {},
     "output_type": "execute_result"
    }
   ],
   "source": [
    "time.asctime()"
   ]
  },
  {
   "cell_type": "code",
   "execution_count": 4,
   "metadata": {
    "collapsed": true
   },
   "outputs": [],
   "source": [
    "species_map = {\n",
    "    'human': '9606',\n",
    "    'rat': '10116',\n",
    "    'mouse': '10090'\n",
    "}"
   ]
  },
  {
   "cell_type": "markdown",
   "metadata": {},
   "source": [
    "## Data Acquisition"
   ]
  },
  {
   "cell_type": "code",
   "execution_count": 5,
   "metadata": {
    "collapsed": false
   },
   "outputs": [],
   "source": [
    "res = requests.get(\"http://causalbionet.com/Networks/GetJSONGraphFile?networkId=hox_2.0_hs\").json()"
   ]
  },
  {
   "cell_type": "markdown",
   "metadata": {},
   "source": [
    "## Traversal and Parsing"
   ]
  },
  {
   "cell_type": "code",
   "execution_count": 6,
   "metadata": {
    "collapsed": true
   },
   "outputs": [],
   "source": [
    "graph = pybel.BELGraph()\n",
    "parser = pybel.parser.BelParser(graph)"
   ]
  },
  {
   "cell_type": "code",
   "execution_count": 7,
   "metadata": {
    "collapsed": false
   },
   "outputs": [],
   "source": [
    "for edge in res['graph']['edges']:    \n",
    "    for evidence in edge['metadata']['evidences']:\n",
    "        if 'citation' not in evidence or not evidence['citation']:\n",
    "            continue\n",
    "        \n",
    "        parser.control_parser.clear()\n",
    "        parser.control_parser.citation = {\n",
    "            'name': evidence['citation']['name'],\n",
    "            'type': evidence['citation']['type'],\n",
    "            'reference': evidence['citation']['id'],\n",
    "        }\n",
    "            \n",
    "        d = {\n",
    "            EVIDENCE: evidence['summary_text']\n",
    "        }\n",
    "        \n",
    "        if 'biological_context' in evidence:\n",
    "            annotations = evidence['biological_context']\n",
    "        \n",
    "            if annotations['tissue']:\n",
    "                d['Tissue'] = annotations['tissue']\n",
    "\n",
    "            if annotations['disease']:\n",
    "                d['Disease'] = annotations['disease']\n",
    "\n",
    "            if annotations['species_common_name']:\n",
    "                d['Species'] = species_map[annotations['species_common_name'].lower()]\n",
    "        \n",
    "        parser.control_parser.annotations.update(d)\n",
    "        bel = '{source} {relation} {target}'.format_map(edge)\n",
    "        try:\n",
    "            parser.parseString(bel)\n",
    "        except:\n",
    "            print(bel, d)"
   ]
  },
  {
   "cell_type": "code",
   "execution_count": 8,
   "metadata": {
    "collapsed": false
   },
   "outputs": [
    {
     "data": {
      "text/plain": [
       "(27, 44)"
      ]
     },
     "execution_count": 8,
     "metadata": {},
     "output_type": "execute_result"
    }
   ],
   "source": [
    "graph.number_of_nodes(), graph.number_of_edges()"
   ]
  }
 ],
 "metadata": {
  "kernelspec": {
   "display_name": "Python 3",
   "language": "python",
   "name": "python3"
  },
  "language_info": {
   "codemirror_mode": {
    "name": "ipython",
    "version": 3
   },
   "file_extension": ".py",
   "mimetype": "text/x-python",
   "name": "python",
   "nbconvert_exporter": "python",
   "pygments_lexer": "ipython3",
   "version": "3.6.0"
  }
 },
 "nbformat": 4,
 "nbformat_minor": 1
}
