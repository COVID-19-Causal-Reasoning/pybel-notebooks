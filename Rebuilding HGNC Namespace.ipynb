{
 "cells": [
  {
   "cell_type": "code",
   "execution_count": 1,
   "metadata": {
    "collapsed": true
   },
   "outputs": [],
   "source": [
    "import requests\n",
    "import os\n",
    "\n",
    "from pybel_tools.namespace_utils import build_namespace"
   ]
  },
  {
   "cell_type": "code",
   "execution_count": 2,
   "metadata": {
    "collapsed": false
   },
   "outputs": [],
   "source": [
    "url = 'http://www.genenames.org/cgi-bin/download?col=gd_app_sym&status=Approved&status_opt=2&where=&order_by=gd_app_sym_sort&format=text&limit=&submit=submit'\n",
    "out_path = os.path.expanduser('~/Desktop/hgnc.belns')"
   ]
  },
  {
   "cell_type": "code",
   "execution_count": 3,
   "metadata": {
    "collapsed": false
   },
   "outputs": [
    {
     "name": "stdout",
     "output_type": "stream",
     "text": [
      "CPU times: user 18.1 ms, sys: 6.57 ms, total: 24.7 ms\n",
      "Wall time: 4.9 s\n"
     ]
    }
   ],
   "source": [
    "%%time\n",
    "res = requests.get(url)\n",
    "res.status_code"
   ]
  },
  {
   "cell_type": "code",
   "execution_count": 4,
   "metadata": {
    "collapsed": false
   },
   "outputs": [],
   "source": [
    "genes = res.content.decode('utf-8').split('\\n')[1:]"
   ]
  },
  {
   "cell_type": "code",
   "execution_count": 5,
   "metadata": {
    "collapsed": false
   },
   "outputs": [],
   "source": [
    "with open(out_path, 'w') as f:\n",
    "    build_namespace(\n",
    "        \"HGNC Approved Gene Symbols\", \n",
    "        \"HGNC\", \n",
    "        \"Gene and Gene Products\", \n",
    "        'Charles Tapley Hoyt', \n",
    "        url, \n",
    "        genes,\n",
    "        namespace_species='9606',\n",
    "        namespace_description=\"HUGO Gene Nomenclature Committee (HGNC) approved gene symbols. These symbols may be used to specify human gene, RNA, microRNA and protein abundances\",\n",
    "        namespace_query_url='http://www.genenames.org/data/hgnc_data.php?match=[VALUE]',\n",
    "        author_copyright='WTF License',\n",
    "        functions=\"GRP\",\n",
    "        author_contact=\"charles.hoyt@scai.fraunhofer.de\",\n",
    "        output=f\n",
    "    )"
   ]
  }
 ],
 "metadata": {
  "kernelspec": {
   "display_name": "Python 3",
   "language": "python",
   "name": "python3"
  },
  "language_info": {
   "codemirror_mode": {
    "name": "ipython",
    "version": 3
   },
   "file_extension": ".py",
   "mimetype": "text/x-python",
   "name": "python",
   "nbconvert_exporter": "python",
   "pygments_lexer": "ipython3",
   "version": "3.6.0"
  }
 },
 "nbformat": 4,
 "nbformat_minor": 2
}
