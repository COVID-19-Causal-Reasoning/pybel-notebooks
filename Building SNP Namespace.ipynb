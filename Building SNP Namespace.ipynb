{
 "cells": [
  {
   "cell_type": "markdown",
   "metadata": {},
   "source": [
    "# Building a SNP Namespace\n",
    "\n",
    "**Author:** [Charles Tapley Hoyt](https://github.com/cthoyt/)\n",
    "\n",
    "This notebook outlines the process to programatically download a curated SNP listing and build a namespace with the PyBEL namespace builder. "
   ]
  },
  {
   "cell_type": "code",
   "execution_count": 1,
   "metadata": {
    "collapsed": false
   },
   "outputs": [
    {
     "name": "stdout",
     "output_type": "stream",
     "text": [
      "/var/folders/n1/h1c266qj2jq8kfdzfxj53pzw0000gn/T/tmp.qvkq84G2\r\n"
     ]
    }
   ],
   "source": [
    "dir=$(mktemp -d)\n",
    "cd $dir\n",
    "pwd"
   ]
  },
  {
   "cell_type": "markdown",
   "metadata": {},
   "source": [
    "## Download\n",
    "\n",
    "The data comes from Will Rayner, who has curated the Illumina genotype chip data across many platforms and build. These SNP id's aren't necessarily the latest from dbSNP, but the source database is not so easy to access or query."
   ]
  },
  {
   "cell_type": "code",
   "execution_count": 2,
   "metadata": {
    "collapsed": false
   },
   "outputs": [
    {
     "name": "stdout",
     "output_type": "stream",
     "text": []
    }
   ],
   "source": [
    "url=\"http://www.well.ox.ac.uk/~wrayner/strand/HumanOmni5-4v1-1_A-b35-strand.zip\"\n",
    "output=~/Downloads/illumina_snps.belns"
   ]
  },
  {
   "cell_type": "code",
   "execution_count": 3,
   "metadata": {
    "collapsed": false
   },
   "outputs": [
    {
     "name": "stdout",
     "output_type": "stream",
     "text": [
      "  % Total    % Received % Xferd  Average Speed   Time    Time     Time  Current\r\n",
      "                                 Dload  Upload   Total   Spent    Left  Speed\r\n",
      "\r",
      "  0     0    0     0    0     0      0      0 --:--:-- --:--:-- --:--:--     0\r",
      "  2 41.7M    2 1152k    0     0  2049k      0  0:00:20 --:--:--  0:00:20 2047k\r",
      " 14 41.7M   14 6095k    0     0  3911k      0  0:00:10  0:00:01  0:00:09 3909k\r",
      " 21 41.7M   21 8991k    0     0  3512k      0  0:00:12  0:00:02  0:00:10 3511k\r",
      " 28 41.7M   28 11.6M    0     0  3348k      0  0:00:12  0:00:03  0:00:09 3347k\r",
      " 33 41.7M   33 14.0M    0     0  3165k      0  0:00:13  0:00:04  0:00:09 3165k\r",
      " 39 41.7M   39 16.6M    0     0  3059k      0  0:00:13  0:00:05  0:00:08 3173k\r",
      " 45 41.7M   45 18.9M    0     0  2966k      0  0:00:14  0:00:06  0:00:08 2671k\r",
      " 51 41.7M   51 21.5M    0     0  2924k      0  0:00:14  0:00:07  0:00:07 2623k\r",
      " 57 41.7M   57 23.9M    0     0  2865k      0  0:00:14  0:00:08  0:00:06 2519k\r",
      " 63 41.7M   63 26.5M    0     0  2847k      0  0:00:15  0:00:09  0:00:06 2557k\r",
      " 70 41.7M   70 29.4M    0     0  2859k      0  0:00:14  0:00:10  0:00:04 2636k\r",
      " 78 41.7M   78 32.8M    0     0  2911k      0  0:00:14  0:00:11  0:00:03 2839k\r",
      " 86 41.7M   86 36.1M    0     0  2942k      0  0:00:14  0:00:12  0:00:02 2970k\r",
      " 94 41.7M   94 39.3M    0     0  2971k      0  0:00:14  0:00:13  0:00:01 3151k\r",
      "100 41.7M  100 41.7M    0     0  2946k      0  0:00:14  0:00:14 --:--:-- 3138k\r\n"
     ]
    }
   ],
   "source": [
    "curl $url -o snps.zip"
   ]
  },
  {
   "cell_type": "markdown",
   "metadata": {},
   "source": [
    "## Filter\n",
    "\n",
    "The data contains putative, unnamed, and unmatched SNPs. These are removed with two `grep` statements."
   ]
  },
  {
   "cell_type": "code",
   "execution_count": 4,
   "metadata": {
    "collapsed": false
   },
   "outputs": [
    {
     "name": "stdout",
     "output_type": "stream",
     "text": []
    }
   ],
   "source": [
    "unzip -p snps.zip | cut -d $'\\t' -f 1 | grep \"rs\" | grep -v \"No Match\" | sort > illumina_snps.txt"
   ]
  },
  {
   "cell_type": "code",
   "execution_count": 5,
   "metadata": {
    "collapsed": false
   },
   "outputs": [
    {
     "name": "stdout",
     "output_type": "stream",
     "text": [
      " 1114146 1114146 11363002 illumina_snps.txt\r\n"
     ]
    }
   ],
   "source": [
    "wc illumina_snps.txt"
   ]
  },
  {
   "cell_type": "markdown",
   "metadata": {},
   "source": [
    "## Output\n",
    "\n",
    "The `buildns` command in `pybel_tools` takes a list of items on stdin and the appropriate annotations as arguments to write a `*.belns` file conforming to the [specification](openbel-framework.readthedocs.io/en/latest/tutorials/building_custom_namespaces.html) from the OpenBEL Framework"
   ]
  },
  {
   "cell_type": "code",
   "execution_count": 6,
   "metadata": {
    "collapsed": false
   },
   "outputs": [
    {
     "name": "stdout",
     "output_type": "stream",
     "text": []
    }
   ],
   "source": [
    "cat illumina_snps.txt | python3 -m pybel_tools buildns --functions \"G\" \\\n",
    "    --title \"Illumina SNPS\" \\\n",
    "    --url \"http://www.well.ox.ac.uk/~wrayner/strand/HumanOmni5-4v1-1_A-b35-strand.zip\" \\\n",
    "    --description \"SNP List acquired from Illumina HumanOmni5Exome-4 v1.1\" \\\n",
    "    --email \"charles.hoyt@scai.fraunhofer.de\" \\\n",
    "    --creator \"Charles Tapley Hoyt\" \\\n",
    "    --subject \"dbSNP\" > $output"
   ]
  },
  {
   "cell_type": "code",
   "execution_count": 7,
   "metadata": {
    "collapsed": false
   },
   "outputs": [
    {
     "name": "stdout",
     "output_type": "stream",
     "text": []
    }
   ],
   "source": [
    "# clean up, clean up, everybody do your share!!!\n",
    "cd\n",
    "rm -rf $dir\n",
    "unset dir"
   ]
  },
  {
   "cell_type": "markdown",
   "metadata": {},
   "source": [
    "# Conclusions\n",
    "\n",
    "This namespace is a better solution than manually curated namespaces, but is also very large and not necessarily updated with dbSNP. It's still worth looking for other sources within dbSNP."
   ]
  }
 ],
 "metadata": {
  "kernelspec": {
   "display_name": "Bash",
   "language": "bash",
   "name": "bash"
  },
  "language_info": {
   "codemirror_mode": "shell",
   "file_extension": ".sh",
   "mimetype": "text/x-sh",
   "name": "bash"
  }
 },
 "nbformat": 4,
 "nbformat_minor": 1
}
