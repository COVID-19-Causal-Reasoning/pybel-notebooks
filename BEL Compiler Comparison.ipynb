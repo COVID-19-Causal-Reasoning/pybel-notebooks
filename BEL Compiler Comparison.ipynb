{
 "cells": [
  {
   "cell_type": "markdown",
   "metadata": {},
   "source": [
    "# BEL Compiler Comparison\n",
    "\n",
    "**Author:** [Charles Tapley Hoyt](https://github.com/cthoyt/)\n",
    "\n",
    "This document uses the OpenBEL Framework example Small Corpus as a baseline of comparison for compile time for PyBEL, bel.rb, and the OpenBEL Framework compiler. To run this notebook, install the Bash Kernel for Jupyter Notebook with:\n",
    "\n",
    "```sh\n",
    "pip3 install bash_kernel\n",
    "python3 -m bash_kernel.install\n",
    "```"
   ]
  },
  {
   "cell_type": "code",
   "execution_count": 1,
   "metadata": {
    "collapsed": false
   },
   "outputs": [
    {
     "name": "stdout",
     "output_type": "stream",
     "text": [
      "Wed Nov 30 14:26:46 CET 2016\r\n"
     ]
    }
   ],
   "source": [
    "date"
   ]
  },
  {
   "cell_type": "code",
   "execution_count": 2,
   "metadata": {
    "collapsed": false
   },
   "outputs": [
    {
     "name": "stdout",
     "output_type": "stream",
     "text": []
    }
   ],
   "source": [
    "small=~/.pybel/data/small_corpus.bel"
   ]
  },
  {
   "cell_type": "code",
   "execution_count": 3,
   "metadata": {
    "collapsed": false
   },
   "outputs": [
    {
     "name": "stdout",
     "output_type": "stream",
     "text": []
    }
   ],
   "source": [
    "if [ ! -f $small ]; then\n",
    "    curl http://resource.belframework.org/belframework/1.0/knowledge/small_corpus.bel > $small\n",
    "fi"
   ]
  },
  {
   "cell_type": "code",
   "execution_count": 4,
   "metadata": {
    "collapsed": false
   },
   "outputs": [
    {
     "name": "stdout",
     "output_type": "stream",
     "text": [
      "##################################################################################\r",
      "\r\n",
      "# Document Properties Section\r",
      "\r\n",
      "\r",
      "\r\n",
      "SET DOCUMENT Name = \"BEL Framework Small Corpus Document\"\r",
      "\r\n",
      "SET DOCUMENT Description = \"Approximately 2000 hand curated statements drawn from 57 PubMeds.\"\r",
      "\r\n",
      "SET DOCUMENT Version = \"1.6\"\r",
      "\r\n",
      "SET DOCUMENT Copyright = \"Copyright (c) 2011-2012, Selventa. All Rights Reserved.\"\r",
      "\r\n",
      "SET DOCUMENT Authors = \"Selventa\"\r",
      "\r\n",
      "SET DOCUMENT Licenses = \"Creative Commons Attribution-Non-Commercial-ShareAlike 3.0 Unported License\"\r",
      "\r\n",
      "SET DOCUMENT ContactInfo = \"support@belframework.org\"\r",
      "\r\n"
     ]
    }
   ],
   "source": [
    "head $small"
   ]
  },
  {
   "cell_type": "markdown",
   "metadata": {},
   "source": [
    "## Test with [PyBEL](https://github.com/pybel/pybel)\n",
    "\n",
    "This test requires the installation of `virtualenv` and `virtualenvwrapper` with `pip3 install virtualenv virtualenvwrapper`"
   ]
  },
  {
   "cell_type": "code",
   "execution_count": 5,
   "metadata": {
    "collapsed": false
   },
   "outputs": [
    {
     "name": "stdout",
     "output_type": "stream",
     "text": []
    }
   ],
   "source": [
    "virtualenv_name=\"pybel_comparison_$(date +%s)\""
   ]
  },
  {
   "cell_type": "code",
   "execution_count": 6,
   "metadata": {
    "collapsed": false
   },
   "outputs": [
    {
     "name": "stdout",
     "output_type": "stream",
     "text": [
      "Running virtualenv with interpreter /usr/local/bin/python3\r\n",
      "Using base prefix '/usr/local/Cellar/python3/3.5.2_3/Frameworks/Python.framework/Versions/3.5'\r\n",
      "New python executable in /Users/cthoyt/.virtualenvs/pybel_comparison_1480512406/bin/python3.5\r\n",
      "Also creating executable in /Users/cthoyt/.virtualenvs/pybel_comparison_1480512406/bin/python\r\n",
      "Installing setuptools, pip, wheel...done.\r\n",
      "virtualenvwrapper.user_scripts creating /Users/cthoyt/.virtualenvs/pybel_comparison_1480512406/bin/predeactivate\r\n",
      "virtualenvwrapper.user_scripts creating /Users/cthoyt/.virtualenvs/pybel_comparison_1480512406/bin/postdeactivate\r\n",
      "virtualenvwrapper.user_scripts creating /Users/cthoyt/.virtualenvs/pybel_comparison_1480512406/bin/preactivate\r\n",
      "virtualenvwrapper.user_scripts creating /Users/cthoyt/.virtualenvs/pybel_comparison_1480512406/bin/postactivate\r\n",
      "virtualenvwrapper.user_scripts creating /Users/cthoyt/.virtualenvs/pybel_comparison_1480512406/bin/get_env_details\r\n",
      "(pybel_comparison_1480512406) "
     ]
    }
   ],
   "source": [
    "mkvirtualenv $virtualenv_name --python=python3"
   ]
  },
  {
   "cell_type": "code",
   "execution_count": 7,
   "metadata": {
    "collapsed": false
   },
   "outputs": [
    {
     "name": "stdout",
     "output_type": "stream",
     "text": [
      "/Users/cthoyt/.virtualenvs/pybel_comparison_1480512406/bin/pip\r\n",
      "(pybel_comparison_1480512406) "
     ]
    }
   ],
   "source": [
    "which pip"
   ]
  },
  {
   "cell_type": "code",
   "execution_count": 8,
   "metadata": {
    "collapsed": false
   },
   "outputs": [
    {
     "name": "stdout",
     "output_type": "stream",
     "text": [
      "Collecting pybel\r\n",
      "  Downloading PyBEL-0.2.6.tar.gz (183kB)\r\n",
      "\u001b[?25l\r",
      "\u001b[K    5% |█▉                              | 10kB 741kB/s eta 0:00:01\r",
      "\u001b[K    11% |███▋                            | 20kB 825kB/s eta 0:00:01\r",
      "\u001b[K    16% |█████▍                          | 30kB 956kB/s eta 0:00:01\r",
      "\u001b[K    22% |███████▏                        | 40kB 1.0MB/s eta 0:00:01\r",
      "\u001b[K    27% |█████████                       | 51kB 1.0MB/s eta 0:00:01\r",
      "\u001b[K    33% |██████████▊                     | 61kB 1.2MB/s eta 0:00:01\r",
      "\u001b[K    39% |████████████▌                   | 71kB 1.3MB/s eta 0:00:01\r",
      "\u001b[K    44% |██████████████▎                 | 81kB 1.3MB/s eta 0:00:01\r",
      "\u001b[K    50% |████████████████                | 92kB 1.5MB/s eta 0:00:01\r",
      "\u001b[K    55% |█████████████████▉              | 102kB 1.4MB/s eta 0:00:01\r",
      "\u001b[K    61% |███████████████████▋            | 112kB 1.6MB/s eta 0:00:01\r",
      "\u001b[K    66% |█████████████████████▍          | 122kB 1.8MB/s eta 0:00:01\r",
      "\u001b[K    72% |███████████████████████▏        | 133kB 1.7MB/s eta 0:00:01\r",
      "\u001b[K    78% |█████████████████████████       | 143kB 2.0MB/s eta 0:00:01\r",
      "\u001b[K    83% |██████████████████████████▉     | 153kB 2.1MB/s eta 0:00:01\r",
      "\u001b[K    89% |████████████████████████████▋   | 163kB 1.7MB/s eta 0:00:01\r",
      "\u001b[K    94% |██████████████████████████████▍ | 174kB 1.8MB/s eta 0:00:01\r",
      "\u001b[K    100% |████████████████████████████████| 184kB 1.5MB/s \r\n",
      "\u001b[?25hCollecting requests (from pybel)\r\n",
      "  Downloading requests-2.12.2-py2.py3-none-any.whl (575kB)\r\n",
      "\u001b[?25l\r",
      "\u001b[K    1% |▋                               | 10kB 27.4MB/s eta 0:00:01\r",
      "\u001b[K    3% |█▏                              | 20kB 5.0MB/s eta 0:00:01\r",
      "\u001b[K    5% |█▊                              | 30kB 7.0MB/s eta 0:00:01\r",
      "\u001b[K    7% |██▎                             | 40kB 3.5MB/s eta 0:00:01\r",
      "\u001b[K    8% |██▉                             | 51kB 2.3MB/s eta 0:00:01\r",
      "\u001b[K    10% |███▍                            | 61kB 2.7MB/s eta 0:00:01\r",
      "\u001b[K    12% |████                            | 71kB 2.5MB/s eta 0:00:01\r",
      "\u001b[K    14% |████▌                           | 81kB 2.3MB/s eta 0:00:01\r",
      "\u001b[K    16% |█████▏                          | 92kB 2.5MB/s eta 0:00:01\r",
      "\u001b[K    17% |█████▊                          | 102kB 2.3MB/s eta 0:00:01\r",
      "\u001b[K    19% |██████▎                         | 112kB 2.3MB/s eta 0:00:01\r",
      "\u001b[K    21% |██████▉                         | 122kB 2.2MB/s eta 0:00:01\r",
      "\u001b[K    23% |███████▍                        | 133kB 1.8MB/s eta 0:00:01\r",
      "\u001b[K    24% |████████                        | 143kB 2.1MB/s eta 0:00:01\r",
      "\u001b[K    26% |████████▌                       | 153kB 2.2MB/s eta 0:00:01\r",
      "\u001b[K    28% |█████████                       | 163kB 2.0MB/s eta 0:00:01\r",
      "\u001b[K    30% |█████████▊                      | 174kB 2.2MB/s eta 0:00:01\r",
      "\u001b[K    32% |██████████▎                     | 184kB 2.2MB/s eta 0:00:01\r",
      "\u001b[K    33% |██████████▉                     | 194kB 2.2MB/s eta 0:00:01\r",
      "\u001b[K    35% |███████████▍                    | 204kB 2.3MB/s eta 0:00:01\r",
      "\u001b[K    37% |████████████                    | 215kB 1.9MB/s eta 0:00:01\r",
      "\u001b[K    39% |████████████▌                   | 225kB 2.0MB/s eta 0:00:01\r",
      "\u001b[K    40% |█████████████                   | 235kB 2.2MB/s eta 0:00:01\r",
      "\u001b[K    42% |█████████████▋                  | 245kB 1.9MB/s eta 0:00:01\r",
      "\u001b[K    44% |██████████████▎                 | 256kB 2.2MB/s eta 0:00:01\r",
      "\u001b[K    46% |██████████████▉                 | 266kB 2.1MB/s eta 0:00:01\r",
      "\u001b[K    48% |███████████████▍                | 276kB 2.1MB/s eta 0:00:01\r",
      "\u001b[K    49% |████████████████                | 286kB 2.0MB/s eta 0:00:01\r",
      "\u001b[K    51% |████████████████▌               | 296kB 1.7MB/s eta 0:00:01\r",
      "\u001b[K    53% |█████████████████               | 307kB 2.0MB/s eta 0:00:01\r",
      "\u001b[K    55% |█████████████████▋              | 317kB 2.2MB/s eta 0:00:01\r",
      "\u001b[K    56% |██████████████████▏             | 327kB 1.8MB/s eta 0:00:01\r",
      "\u001b[K    58% |██████████████████▉             | 337kB 2.1MB/s eta 0:00:01\r",
      "\u001b[K    60% |███████████████████▍            | 348kB 2.1MB/s eta 0:00:01\r",
      "\u001b[K    62% |████████████████████            | 358kB 2.1MB/s eta 0:00:01\r",
      "\u001b[K    64% |████████████████████▌           | 368kB 2.1MB/s eta 0:00:01\r",
      "\u001b[K    65% |█████████████████████           | 378kB 1.8MB/s eta 0:00:01\r",
      "\u001b[K    67% |█████████████████████▋          | 389kB 2.2MB/s eta 0:00:01\r",
      "\u001b[K    69% |██████████████████████▏         | 399kB 2.3MB/s eta 0:00:01\r",
      "\u001b[K    71% |██████████████████████▊         | 409kB 1.9MB/s eta 0:00:01\r",
      "\u001b[K    72% |███████████████████████▍        | 419kB 2.1MB/s eta 0:00:01\r",
      "\u001b[K    74% |████████████████████████        | 430kB 2.3MB/s eta 0:00:01\r",
      "\u001b[K    76% |████████████████████████▌       | 440kB 2.3MB/s eta 0:00:01\r",
      "\u001b[K    78% |█████████████████████████       | 450kB 2.3MB/s eta 0:00:01\r",
      "\u001b[K    80% |█████████████████████████▋      | 460kB 2.0MB/s eta 0:00:01\r",
      "\u001b[K    81% |██████████████████████████▏     | 471kB 2.3MB/s eta 0:00:01\r",
      "\u001b[K    83% |██████████████████████████▊     | 481kB 2.5MB/s eta 0:00:01\r",
      "\u001b[K    85% |███████████████████████████▎    | 491kB 2.2MB/s eta 0:00:01\r",
      "\u001b[K    87% |████████████████████████████    | 501kB 2.4MB/s eta 0:00:01\r",
      "\u001b[K    88% |████████████████████████████▌   | 512kB 2.7MB/s eta 0:00:01\r",
      "\u001b[K    90% |█████████████████████████████   | 522kB 2.7MB/s eta 0:00:01\r",
      "\u001b[K    92% |█████████████████████████████▋  | 532kB 2.6MB/s eta 0:00:01\r",
      "\u001b[K    94% |██████████████████████████████▏ | 542kB 2.3MB/s eta 0:00:01\r",
      "\u001b[K    96% |██████████████████████████████▊ | 552kB 2.7MB/s eta 0:00:01\r",
      "\u001b[K    97% |███████████████████████████████▎| 563kB 2.6MB/s eta 0:00:01\r",
      "\u001b[K    99% |███████████████████████████████▉| 573kB 2.6MB/s eta 0:00:01\r",
      "\u001b[K    100% |████████████████████████████████| 583kB 1.3MB/s \r\n",
      "\u001b[?25hCollecting requests_file (from pybel)\r\n",
      "  Using cached requests_file-1.4.1-py2.py3-none-any.whl\r\n",
      "Collecting networkx (from pybel)\r\n",
      "  Using cached networkx-1.11-py2.py3-none-any.whl\r\n",
      "Collecting pyparsing (from pybel)\r\n",
      "  Using cached pyparsing-2.1.10-py2.py3-none-any.whl\r\n",
      "Collecting configparser (from pybel)\r\n",
      "Collecting py2neo (from pybel)\r\n",
      "Collecting click (from pybel)\r\n",
      "  Using cached click-6.6-py2.py3-none-any.whl\r\n",
      "Collecting sqlalchemy (from pybel)\r\n",
      "Collecting pandas (from pybel)\r\n",
      "  Using cached pandas-0.19.1-cp35-cp35m-macosx_10_6_intel.macosx_10_9_intel.macosx_10_9_x86_64.macosx_10_10_intel.macosx_10_10_x86_64.whl\r\n",
      "Collecting matplotlib (from pybel)\r\n",
      "  Using cached matplotlib-1.5.3-cp35-cp35m-macosx_10_6_intel.macosx_10_9_intel.macosx_10_9_x86_64.macosx_10_10_intel.macosx_10_10_x86_64.whl\r\n",
      "Collecting six (from requests_file->pybel)\r\n",
      "  Using cached six-1.10.0-py2.py3-none-any.whl\r\n",
      "Collecting decorator>=3.4.0 (from networkx->pybel)\r\n",
      "  Using cached decorator-4.0.10-py2.py3-none-any.whl\r\n",
      "Collecting pytz>=2011k (from pandas->pybel)\r\n",
      "  Using cached pytz-2016.7-py2.py3-none-any.whl\r\n",
      "Collecting python-dateutil>=2 (from pandas->pybel)\r\n",
      "  Using cached python_dateutil-2.6.0-py2.py3-none-any.whl\r\n",
      "Collecting numpy>=1.7.0 (from pandas->pybel)\r\n",
      "  Using cached numpy-1.11.2-cp35-cp35m-macosx_10_6_intel.macosx_10_9_intel.macosx_10_9_x86_64.macosx_10_10_intel.macosx_10_10_x86_64.whl\r\n",
      "Collecting cycler (from matplotlib->pybel)\r\n",
      "  Using cached cycler-0.10.0-py2.py3-none-any.whl\r\n",
      "Building wheels for collected packages: pybel\r\n",
      "  Running setup.py bdist_wheel for pybel ... \u001b[?25l-\b \b\\\b \bdone\r\n",
      "\u001b[?25h  Stored in directory: /Users/cthoyt/Library/Caches/pip/wheels/dc/1e/20/985008ca0eab0845ea9f926970fae04239146dc591364097db\r\n",
      "Successfully built pybel\r\n",
      "Installing collected packages: requests, six, requests-file, decorator, networkx, pyparsing, configparser, py2neo, click, sqlalchemy, pytz, python-dateutil, numpy, pandas, cycler, matplotlib, pybel\r\n",
      "Successfully installed click-6.6 configparser-3.5.0 cycler-0.10.0 decorator-4.0.10 matplotlib-1.5.3 networkx-1.11 numpy-1.11.2 pandas-0.19.1 py2neo-3.1.2 pybel-0.2.6 pyparsing-2.1.10 python-dateutil-2.6.0 pytz-2016.7 requests-2.12.2 requests-file-1.4.1 six-1.10.0 sqlalchemy-1.1.4\r\n",
      "(pybel_comparison_1480512406) "
     ]
    }
   ],
   "source": [
    "pip install pybel"
   ]
  },
  {
   "cell_type": "code",
   "execution_count": 9,
   "metadata": {
    "collapsed": false
   },
   "outputs": [
    {
     "name": "stdout",
     "output_type": "stream",
     "text": [
      "pybel, version 0.2.7.dev0\r\n",
      "(pybel_comparison_1480512406) "
     ]
    }
   ],
   "source": [
    "pybel --version"
   ]
  },
  {
   "cell_type": "code",
   "execution_count": 10,
   "metadata": {
    "collapsed": false
   },
   "outputs": [
    {
     "name": "stdout",
     "output_type": "stream",
     "text": [
      "Usage: pybel convert [OPTIONS]\r\n",
      "\r\n",
      "  Options for multiple outputs/conversions\r\n",
      "\r\n",
      "Options:\r\n",
      "  --path FILENAME      Input BEL file file path. Use - for stdin\r\n",
      "  --url TEXT           Input BEL file URL\r\n",
      "  --database TEXT      Input BEL database\r\n",
      "  --csv TEXT           Output path for *.csv\r\n",
      "  --graphml TEXT       Output path for GraphML output. Use *.graphml for\r\n",
      "                       Cytoscape\r\n",
      "  --json FILENAME      Output path for Node-link *.json\r\n",
      "  --pickle TEXT        Output path for NetworkX *.gpickle\r\n",
      "  --neo TEXT           Connection string for neo4j upload\r\n",
      "  --neo-context TEXT   Context for neo4j upload\r\n",
      "  --lenient            Enable lenient parsing\r\n",
      "  --log-file FILENAME  Optional path for verbose log output\r\n",
      "  -v, --verbose\r\n",
      "  --help               Show this message and exit.\r\n",
      "(pybel_comparison_1480512406) "
     ]
    }
   ],
   "source": [
    "pybel convert --help"
   ]
  },
  {
   "cell_type": "code",
   "execution_count": 11,
   "metadata": {
    "collapsed": false
   },
   "outputs": [
    {
     "name": "stdout",
     "output_type": "stream",
     "text": [
      "2016-11-30 14:27:52,452 - pybel - INFO - File length: 3596 lines\r\n",
      "2016-11-30 14:27:52,452 - pybel - INFO - Loading definition cache from sqlite:////Users/cthoyt/.pybel/data/definitions.db\r\n",
      "2016-11-30 14:27:52,500 - pybel - INFO - Initiation of definition cache took 0.05 seconds\r\n",
      "2016-11-30 14:27:52,504 - pybel - INFO - Finished parsing document section in 0.00 seconds\r\n",
      "2016-11-30 14:27:56,585 - pybel - DEBUG - Retrieved namespace SDIS from definitions cache\r\n",
      "2016-11-30 14:27:56,587 - pybel - DEBUG - Retrieved namespace PFR from definitions cache\r\n",
      "2016-11-30 14:27:56,588 - pybel - DEBUG - Retrieved namespace MGI from definitions cache\r\n",
      "2016-11-30 14:27:56,589 - pybel - DEBUG - Retrieved namespace PFM from definitions cache\r\n",
      "2016-11-30 14:27:56,590 - pybel - DEBUG - Retrieved namespace MESHPP from definitions cache\r\n",
      "2016-11-30 14:27:56,674 - pybel - DEBUG - Retrieved namespace MESHCL from definitions cache\r\n",
      "2016-11-30 14:27:56,676 - pybel - DEBUG - Retrieved namespace NCH from definitions cache\r\n",
      "2016-11-30 14:27:56,677 - pybel - DEBUG - Retrieved namespace CHEBI from definitions cache\r\n",
      "2016-11-30 14:27:56,678 - pybel - DEBUG - Retrieved namespace NCR from definitions cache\r\n",
      "2016-11-30 14:27:56,679 - pybel - DEBUG - Retrieved namespace HGNC from definitions cache\r\n",
      "2016-11-30 14:27:56,680 - pybel - DEBUG - Retrieved namespace SPAC from definitions cache\r\n",
      "2016-11-30 14:27:56,681 - pybel - DEBUG - Retrieved namespace PFH from definitions cache\r\n",
      "2016-11-30 14:27:56,682 - pybel - DEBUG - Retrieved namespace NCM from definitions cache\r\n",
      "2016-11-30 14:27:56,683 - pybel - DEBUG - Retrieved namespace CHEBIID from definitions cache\r\n",
      "2016-11-30 14:27:56,684 - pybel - DEBUG - Retrieved namespace RGD from definitions cache\r\n",
      "2016-11-30 14:27:56,685 - pybel - DEBUG - Retrieved namespace MESHD from definitions cache\r\n",
      "2016-11-30 14:27:56,686 - pybel - DEBUG - Retrieved namespace GO from definitions cache\r\n",
      "2016-11-30 14:27:56,687 - pybel - DEBUG - Retrieved namespace SCHEM from definitions cache\r\n",
      "2016-11-30 14:27:56,688 - pybel - DEBUG - Retrieved namespace EGID from definitions cache\r\n",
      "2016-11-30 14:27:56,689 - pybel - DEBUG - Retrieved annotation HemicAndImmuneSystem from definitions cache\r\n",
      "2016-11-30 14:27:56,691 - pybel - DEBUG - Retrieved annotation UrogenitalSystem from definitions cache\r\n",
      "2016-11-30 14:27:56,692 - pybel - DEBUG - Retrieved annotation FluidAndSecretion from definitions cache\r\n",
      "2016-11-30 14:27:56,693 - pybel - DEBUG - Retrieved annotation CellStructure from definitions cache\r\n",
      "2016-11-30 14:27:56,694 - pybel - DEBUG - Retrieved annotation CellLine from definitions cache\r\n",
      "2016-11-30 14:27:56,696 - pybel - DEBUG - Retrieved annotation IntegumentarySystem from definitions cache\r\n",
      "2016-11-30 14:27:56,697 - pybel - DEBUG - Retrieved annotation DigestiveSystem from definitions cache\r\n",
      "2016-11-30 14:27:56,698 - pybel - DEBUG - Retrieved annotation MuskuloskeletalSystem from definitions cache\r\n",
      "2016-11-30 14:27:56,699 - pybel - DEBUG - Retrieved annotation Tissue from definitions cache\r\n",
      "2016-11-30 14:27:56,700 - pybel - DEBUG - Retrieved annotation BodyRegion from definitions cache\r\n",
      "2016-11-30 14:27:56,701 - pybel - DEBUG - Retrieved annotation Cell from definitions cache\r\n",
      "2016-11-30 14:27:56,703 - pybel - DEBUG - Retrieved annotation NervousSystem from definitions cache\r\n",
      "2016-11-30 14:27:56,704 - pybel - DEBUG - Retrieved annotation SenseOrgan from definitions cache\r\n",
      "2016-11-30 14:27:56,705 - pybel - DEBUG - Retrieved annotation Disease from definitions cache\r\n",
      "2016-11-30 14:27:56,706 - pybel - DEBUG - Retrieved annotation RespiratorySystem from definitions cache\r\n",
      "2016-11-30 14:27:56,707 - pybel - DEBUG - Retrieved annotation Species from definitions cache\r\n",
      "2016-11-30 14:27:56,708 - pybel - DEBUG - Retrieved annotation CardiovascularSystem from definitions cache\r\n",
      "2016-11-30 14:27:56,709 - pybel - DEBUG - Retrieved annotation EndocrineSystem from definitions cache\r\n",
      "2016-11-30 14:27:56,709 - pybel - INFO - Finished parsing definitions section in 4.21 seconds\r\n",
      "2016-11-30 14:28:01,319 - pybel - INFO - Finished streamlining BEL parser in 4.20s\r\n",
      "2016-11-30 14:28:01,367 - pybel - WARNING - Line 0000142 - PyBEL118 - Nesting unsupported: abundance(CHEBI:antioxidant) decreases (abundance(SCHEM:\"7-Ketocholesterol\") increases biologicalProcess(GO:\"apoptotic process\")): abundance(CHEBI:antioxidant) decreases (abundance(SCHEM:\"7-Ketocholesterol\") increases biologicalProcess(GO:\"apoptotic process\"))\r\n",
      "2016-11-30 14:28:01,373 - pybel - WARNING - Line 0000149 - PyBEL118 - Nesting unsupported: proteinAbundance(HGNC:CAT) decreases (abundance(CHEBI:\"hydrogen peroxide\") increases biologicalProcess(GO:\"apoptotic process\")): proteinAbundance(HGNC:CAT) decreases (abundance(CHEBI:\"hydrogen peroxide\") increases biologicalProcess(GO:\"apoptotic process\"))\r\n",
      "2016-11-30 14:28:01,581 - pybel - WARNING - Line 0000327 - PyBEL118 - Nesting unsupported: proteinAbundance(HGNC:HIF1A,proteinModification(P,H)) directlyIncreases (catalyticActivity(complexAbundance(proteinAbundance(HGNC:VHL),proteinAbundance(HGNC:TCEB1),proteinAbundance(HGNC:TCEB2),proteinAbundance(HGNC:RBX1),proteinAbundance(HGNC:CUL2))) directlyIncreases degradation(proteinAbundance(HGNC:HIF1A))): proteinAbundance(HGNC:HIF1A,proteinModification(P,H)) directlyIncreases (catalyticActivity(complexAbundance(proteinAbundance(HGNC:VHL),proteinAbundance(HGNC:TCEB1),proteinAbundance(HGNC:TCEB2),proteinAbundance(HGNC:RBX1),proteinAbundance(HGNC:CUL2))) directlyIncreases degradation(proteinAbundance(HGNC:HIF1A)))\r\n",
      "2016-11-30 14:28:01,726 - pybel - WARNING - Line 0000449 - PyBEL118 - Nesting unsupported: proteinAbundance(HGNC:VHL) increases (proteinAbundance(HGNC:TNF) increases biologicalProcess(GO:\"cell death\")): proteinAbundance(HGNC:VHL) increases (proteinAbundance(HGNC:TNF) increases biologicalProcess(GO:\"cell death\"))\r\n",
      "2016-11-30 14:28:01,756 - pybel - WARNING - Line 0000477 - PyBEL118 - Nesting unsupported: proteinAbundance(HGNC:VHL) increases (biologicalProcess(GO:\"integrin-mediated signaling pathway\") increases biologicalProcess(GO:\"extracellular matrix assembly\")): proteinAbundance(HGNC:VHL) increases (biologicalProcess(GO:\"integrin-mediated signaling pathway\") increases biologicalProcess(GO:\"extracellular matrix assembly\"))\r\n",
      "2016-11-30 14:28:01,952 - pybel - WARNING - Line 0000656 - PyBEL118 - Nesting unsupported: gtpBoundActivity(proteinAbundance(HGNC:RAP1A)) increases (kinaseActivity(proteinAbundance(HGNC:BRAF)) increases proteinAbundance(PFH:\"MAPK Erk1/3 Family\",proteinModification(P))): gtpBoundActivity(proteinAbundance(HGNC:RAP1A)) increases (kinaseActivity(proteinAbundance(HGNC:BRAF)) increases proteinAbundance(PFH:\"MAPK Erk1/3 Family\",proteinModification(P)))\r\n",
      "2016-11-30 14:28:02,033 - pybel - WARNING - Line 0000727 - PyBEL118 - Nesting unsupported: gtpBoundActivity(proteinAbundance(PFH:\"RHO Family\")) increases (gtpBoundActivity(proteinAbundance(PFH:\"RAS Family\")) directlyIncreases kinaseActivity(proteinAbundance(HGNC:RAF1))): gtpBoundActivity(proteinAbundance(PFH:\"RHO Family\")) increases (gtpBoundActivity(proteinAbundance(PFH:\"RAS Family\")) directlyIncreases kinaseActivity(proteinAbundance(HGNC:RAF1)))\r\n",
      "2016-11-30 14:28:02,249 - pybel - WARNING - Line 0000844 - PyBEL118 - Nesting unsupported: kinaseActivity(proteinAbundance(HGNC:RAF1)) directlyIncreases (molecularActivity(proteinAbundance(HGNC:BCL2)) decreases biologicalProcess(GO:\"apoptotic process\")): kinaseActivity(proteinAbundance(HGNC:RAF1)) directlyIncreases (molecularActivity(proteinAbundance(HGNC:BCL2)) decreases biologicalProcess(GO:\"apoptotic process\"))\r\n",
      "2016-11-30 14:28:02,251 - pybel - WARNING - Line 0000845 - PyBEL118 - Nesting unsupported: kinaseActivity(proteinAbundance(HGNC:RAF1)) directlyIncreases (molecularActivity(proteinAbundance(HGNC:BAG1)) decreases biologicalProcess(GO:\"apoptotic process\")): kinaseActivity(proteinAbundance(HGNC:RAF1)) directlyIncreases (molecularActivity(proteinAbundance(HGNC:BAG1)) decreases biologicalProcess(GO:\"apoptotic process\"))\r\n",
      "2016-11-30 14:28:02,254 - pybel - WARNING - Line 0000846 - PyBEL118 - Nesting unsupported: kinaseActivity(proteinAbundance(HGNC:RAF1)) decreases (kinaseActivity(proteinAbundance(HGNC:MAP3K5)) increases biologicalProcess(GO:\"apoptotic process\")): kinaseActivity(proteinAbundance(HGNC:RAF1)) decreases (kinaseActivity(proteinAbundance(HGNC:MAP3K5)) increases biologicalProcess(GO:\"apoptotic process\"))\r\n",
      "2016-11-30 14:28:02,317 - pybel - WARNING - Line 0000920 - PyBEL118 - Nesting unsupported: proteinAbundance(MGI:Pde4b) increases (abundance(SCHEM:Lipopolysaccharide) increases proteinAbundance(MGI:Tnf)): proteinAbundance(MGI:Pde4b) increases (abundance(SCHEM:Lipopolysaccharide) increases proteinAbundance(MGI:Tnf))\r\n",
      "2016-11-30 14:28:02,415 - pybel - WARNING - Line 0000998 - PyBEL118 - Nesting unsupported: abundance(CHEBIID:59826) increases (proteinAbundance(HGNC:EGF) increases proteinAbundance(PFH:\"STAT5 Family\",proteinModification(P,Y,694))): abundance(CHEBIID:59826) increases (proteinAbundance(HGNC:EGF) increases proteinAbundance(PFH:\"STAT5 Family\",proteinModification(P,Y,694)))\r\n",
      "2016-11-30 14:28:02,421 - pybel - WARNING - Line 0001005 - PyBEL118 - Nesting unsupported: compositeAbundance(abundance(CHEBIID:59826),proteinAbundance(HGNC:PRL)) increases (transcriptionalActivity(proteinAbundance(PFH:\"STAT5 Family\")) directlyIncreases rnaAbundance(HGNC:CSN2)): compositeAbundance(abundance(CHEBIID:59826),proteinAbundance(HGNC:PRL)) increases (transcriptionalActivity(proteinAbundance(PFH:\"STAT5 Family\")) directlyIncreases rnaAbundance(HGNC:CSN2))\r\n",
      "2016-11-30 14:28:02,426 - pybel - WARNING - Line 0001006 - PyBEL118 - Nesting unsupported: compositeAbundance(abundance(CHEBI:progesterone),proteinAbundance(HGNC:EGF)) increases (transcriptionalActivity(proteinAbundance(PFH:\"STAT5 Family\")) directlyIncreases rnaAbundance(HGNC:FOS)): compositeAbundance(abundance(CHEBI:progesterone),proteinAbundance(HGNC:EGF)) increases (transcriptionalActivity(proteinAbundance(PFH:\"STAT5 Family\")) directlyIncreases rnaAbundance(HGNC:FOS))\r\n",
      "2016-11-30 14:28:02,431 - pybel - WARNING - Line 0001007 - PyBEL118 - Nesting unsupported: compositeAbundance(abundance(CHEBI:progesterone),proteinAbundance(HGNC:EGF)) increases (transcriptionalActivity(proteinAbundance(PFH:\"STAT5 Family\")) directlyIncreases rnaAbundance(HGNC:CDKN1A)): compositeAbundance(abundance(CHEBI:progesterone),proteinAbundance(HGNC:EGF)) increases (transcriptionalActivity(proteinAbundance(PFH:\"STAT5 Family\")) directlyIncreases rnaAbundance(HGNC:CDKN1A))\r\n",
      "2016-11-30 14:28:02,621 - pybel - WARNING - Line 0001258 - PyBEL137 - Invalid function for identifier SDIS:mitochondrial DNA damage. Valid are: [O]: biologicalProcess(SDIS:\"mitochondrial DNA damage\") decreases biologicalProcess(GO:\"mitochondrial respiratory chain complex assembly\")\r\n",
      "2016-11-30 14:28:02,717 - pybel - WARNING - Line 0001372 - PyBEL137 - Invalid function for identifier SDIS:Lipid Droplet. Valid are: [O]: pathology(SDIS:Steatosis) association biologicalProcess(SDIS:\"Lipid Droplet\")\r\n",
      "2016-11-30 14:28:02,719 - pybel - WARNING - Line 0001379 - PyBEL137 - Invalid function for identifier SDIS:lipid peroxidation. Valid are: [O]: abundance(CHEBI:\"reactive oxygen species\") increases biologicalProcess(SDIS:\"lipid peroxidation\")\r\n",
      "2016-11-30 14:28:02,729 - pybel - WARNING - Line 0001386 - PyBEL137 - Invalid function for identifier SDIS:fibrosis. Valid are: [O]: proteinAbundance(HGNC:TGFB1) increases biologicalProcess(SDIS:fibrosis)\r\n",
      "2016-11-30 14:28:02,742 - pybel - WARNING - Line 0001407 - PyBEL137 - Invalid function for identifier SDIS:VLDL secretion. Valid are: [O]: abundance(CHEBI:amiodarone) decreases biologicalProcess(SDIS:\"VLDL secretion\")\r\n",
      "2016-11-30 14:28:02,746 - pybel - WARNING - Line 0001409 - PyBEL137 - Invalid function for identifier SDIS:VLDL secretion. Valid are: [O]: abundance(CHEBI:amineptine) decreases biologicalProcess(SDIS:\"VLDL secretion\")\r\n",
      "2016-11-30 14:28:02,860 - pybel - WARNING - Line 0001546 - PyBEL118 - Nesting unsupported: proteinAbundance(HGNC:ERBB2) increases (pathology(SDIS:\"tissue damage\") increases biologicalProcess(GO:\"cell proliferation\")): proteinAbundance(HGNC:ERBB2) increases (pathology(SDIS:\"tissue damage\") increases biologicalProcess(GO:\"cell proliferation\"))\r\n",
      "2016-11-30 14:28:02,899 - pybel - WARNING - Line 0001591 - PyBEL118 - Nesting unsupported: proteinAbundance(HGNC:VEGFA) increases (proteinAbundance(HGNC:ITGB1) increases biologicalProcess(GO:\"cell migration\")): proteinAbundance(HGNC:VEGFA) increases (proteinAbundance(HGNC:ITGB1) increases biologicalProcess(GO:\"cell migration\"))\r\n",
      "2016-11-30 14:28:02,984 - pybel - WARNING - Line 0001648 - PyBEL118 - Nesting unsupported: proteinAbundance(HGNC:ITGB1) increases (proteinAbundance(HGNC:VEGFA) increases biologicalProcess(GO:\"cell-matrix adhesion\")): proteinAbundance(HGNC:ITGB1) increases (proteinAbundance(HGNC:VEGFA) increases biologicalProcess(GO:\"cell-matrix adhesion\"))\r\n",
      "2016-11-30 14:28:02,986 - pybel - WARNING - Line 0001649 - PyBEL118 - Nesting unsupported: kinaseActivity(proteinAbundance(HGNC:PRKCA)) increases (proteinAbundance(HGNC:VEGFA) increases biologicalProcess(GO:\"cell-matrix adhesion\")): kinaseActivity(proteinAbundance(HGNC:PRKCA)) increases (proteinAbundance(HGNC:VEGFA) increases biologicalProcess(GO:\"cell-matrix adhesion\"))\r\n",
      "2016-11-30 14:28:02,993 - pybel - WARNING - Line 0001655 - PyBEL118 - Nesting unsupported: proteinAbundance(HGNC:ITGB1) increases (compositeAbundance(proteinAbundance(HGNC:VEGFA),proteinAbundance(HGNC:FN1)) increases biologicalProcess(GO:\"cell migration\")): proteinAbundance(HGNC:ITGB1) increases (compositeAbundance(proteinAbundance(HGNC:VEGFA),proteinAbundance(HGNC:FN1)) increases biologicalProcess(GO:\"cell migration\"))\r\n",
      "2016-11-30 14:28:03,036 - pybel - WARNING - Line 0001675 - PyBEL118 - Nesting unsupported: proteinAbundance(HGNC:ITGB1) increases (proteinAbundance(HGNC:VEGFA) increases kinaseActivity(proteinAbundance(HGNC:PTK2B))): proteinAbundance(HGNC:ITGB1) increases (proteinAbundance(HGNC:VEGFA) increases kinaseActivity(proteinAbundance(HGNC:PTK2B)))\r\n",
      "2016-11-30 14:28:03,039 - pybel - WARNING - Line 0001676 - PyBEL118 - Nesting unsupported: kinaseActivity(proteinAbundance(PFH:\"PRKC Family\")) increases (proteinAbundance(HGNC:VEGFA) increases kinaseActivity(proteinAbundance(HGNC:PTK2B))): kinaseActivity(proteinAbundance(PFH:\"PRKC Family\")) increases (proteinAbundance(HGNC:VEGFA) increases kinaseActivity(proteinAbundance(HGNC:PTK2B)))\r\n",
      "2016-11-30 14:28:03,145 - pybel - WARNING - Line 0001731 - PyBEL118 - Nesting unsupported: abundance(SCHEM:\"LY 294002\") decreases (compositeAbundance(proteinAbundance(HGNC:VEGFA),proteinAbundance(HGNC:FN1)) increases biologicalProcess(GO:\"cell migration\")): abundance(SCHEM:\"LY 294002\") decreases (compositeAbundance(proteinAbundance(HGNC:VEGFA),proteinAbundance(HGNC:FN1)) increases biologicalProcess(GO:\"cell migration\"))\r\n",
      "2016-11-30 14:28:03,163 - pybel - WARNING - Line 0001750 - PyBEL118 - Nesting unsupported: abundance(SCHEM:\"KN 62\") decreases (biologicalProcess(GO:\"cellular response to electrical stimulus\") increases translocation(proteinAbundance(MGI:Hdac4),MESHCL:\"Cell Nucleus\",MESHCL:Cytoplasm)): abundance(SCHEM:\"KN 62\") decreases (biologicalProcess(GO:\"cellular response to electrical stimulus\") increases translocation(proteinAbundance(MGI:Hdac4),MESHCL:\"Cell Nucleus\",MESHCL:Cytoplasm))\r\n",
      "2016-11-30 14:28:03,196 - pybel - WARNING - Line 0001780 - PyBEL118 - Nesting unsupported: biologicalProcess(GO:\"cellular response to electrical stimulus\") increases (kinaseActivity(proteinAbundance(PFM:\"Camk Family\")) increases proteinAbundance(MGI:Hdac4,proteinModification(P))): biologicalProcess(GO:\"cellular response to electrical stimulus\") increases (kinaseActivity(proteinAbundance(PFM:\"Camk Family\")) increases proteinAbundance(MGI:Hdac4,proteinModification(P)))\r\n",
      "2016-11-30 14:28:03,276 - pybel - WARNING - Line 0001862 - PyBEL118 - Nesting unsupported: abundance(SCHEM:Tripterine) decreases (compositeAbundance(abundance(SCHEM:Lipopolysaccharide),proteinAbundance(MGI:Ifng)) increases biologicalProcess(MESHPP:\"Capillary Permeability\")): abundance(SCHEM:Tripterine) decreases (compositeAbundance(abundance(SCHEM:Lipopolysaccharide),proteinAbundance(MGI:Ifng)) increases biologicalProcess(MESHPP:\"Capillary Permeability\"))\r\n",
      "2016-11-30 14:28:03,279 - pybel - WARNING - Line 0001863 - PyBEL118 - Nesting unsupported: abundance(SCHEM:Tripterine) decreases (compositeAbundance(abundance(SCHEM:Lipopolysaccharide),proteinAbundance(MGI:Ifng)) increases proteinAbundance(MGI:Nos2)): abundance(SCHEM:Tripterine) decreases (compositeAbundance(abundance(SCHEM:Lipopolysaccharide),proteinAbundance(MGI:Ifng)) increases proteinAbundance(MGI:Nos2))\r\n",
      "2016-11-30 14:28:03,282 - pybel - WARNING - Line 0001864 - PyBEL118 - Nesting unsupported: abundance(SCHEM:Tripterine) decreases (compositeAbundance(abundance(SCHEM:Lipopolysaccharide),proteinAbundance(MGI:Ifng)) increases proteinAbundance(MGI:Nox1)): abundance(SCHEM:Tripterine) decreases (compositeAbundance(abundance(SCHEM:Lipopolysaccharide),proteinAbundance(MGI:Ifng)) increases proteinAbundance(MGI:Nox1))\r\n",
      "2016-11-30 14:28:03,285 - pybel - WARNING - Line 0001865 - PyBEL118 - Nesting unsupported: abundance(SCHEM:Tripterine) decreases (compositeAbundance(abundance(SCHEM:Lipopolysaccharide),proteinAbundance(MGI:Ifng)) increases abundance(CHEBI:superoxide)): abundance(SCHEM:Tripterine) decreases (compositeAbundance(abundance(SCHEM:Lipopolysaccharide),proteinAbundance(MGI:Ifng)) increases abundance(CHEBI:superoxide))\r\n",
      "2016-11-30 14:28:03,287 - pybel - WARNING - Line 0001866 - PyBEL118 - Nesting unsupported: abundance(SCHEM:Tripterine) decreases (compositeAbundance(abundance(SCHEM:Lipopolysaccharide),proteinAbundance(MGI:Ifng)) increases abundance(CHEBI:\"nitric oxide\")): abundance(SCHEM:Tripterine) decreases (compositeAbundance(abundance(SCHEM:Lipopolysaccharide),proteinAbundance(MGI:Ifng)) increases abundance(CHEBI:\"nitric oxide\"))\r\n",
      "2016-11-30 14:28:03,291 - pybel - WARNING - Line 0001867 - PyBEL118 - Nesting unsupported: abundance(SCHEM:Tripterine) decreases (compositeAbundance(abundance(SCHEM:Lipopolysaccharide),proteinAbundance(MGI:Ifng)) increases abundance(CHEBI:\"3-nitro-L-tyrosine\")): abundance(SCHEM:Tripterine) decreases (compositeAbundance(abundance(SCHEM:Lipopolysaccharide),proteinAbundance(MGI:Ifng)) increases abundance(CHEBI:\"3-nitro-L-tyrosine\"))\r\n",
      "2016-11-30 14:28:03,294 - pybel - WARNING - Line 0001868 - PyBEL118 - Nesting unsupported: abundance(SCHEM:Tripterine) decreases (compositeAbundance(abundance(SCHEM:Lipopolysaccharide),proteinAbundance(MGI:Ifng)) increases phosphataseActivity(complexAbundance(NCM:\"PP2A Complex\"))): abundance(SCHEM:Tripterine) decreases (compositeAbundance(abundance(SCHEM:Lipopolysaccharide),proteinAbundance(MGI:Ifng)) increases phosphataseActivity(complexAbundance(NCM:\"PP2A Complex\")))\r\n",
      "2016-11-30 14:28:03,297 - pybel - WARNING - Line 0001878 - PyBEL118 - Nesting unsupported: abundance(SCHEM:\"PD 98,059\") decreases (compositeAbundance(proteinAbundance(MGI:Ifng),abundance(SCHEM:Lipopolysaccharide)) increases proteinAbundance(MGI:Nos2)): abundance(SCHEM:\"PD 98,059\") decreases (compositeAbundance(proteinAbundance(MGI:Ifng),abundance(SCHEM:Lipopolysaccharide)) increases proteinAbundance(MGI:Nos2))\r\n",
      "2016-11-30 14:28:03,300 - pybel - WARNING - Line 0001879 - PyBEL118 - Nesting unsupported: abundance(SCHEM:\"PD 98,059\") decreases (compositeAbundance(proteinAbundance(MGI:Ifng),abundance(SCHEM:Lipopolysaccharide)) increases proteinAbundance(MGI:Nox1)): abundance(SCHEM:\"PD 98,059\") decreases (compositeAbundance(proteinAbundance(MGI:Ifng),abundance(SCHEM:Lipopolysaccharide)) increases proteinAbundance(MGI:Nox1))\r\n",
      "2016-11-30 14:28:03,312 - pybel - WARNING - Line 0001883 - PyBEL118 - Nesting unsupported: abundance(SCHEM:SP600125) decreases (compositeAbundance(proteinAbundance(MGI:Ifng),abundance(SCHEM:Lipopolysaccharide)) increases proteinAbundance(MGI:Nos2)): abundance(SCHEM:SP600125) decreases (compositeAbundance(proteinAbundance(MGI:Ifng),abundance(SCHEM:Lipopolysaccharide)) increases proteinAbundance(MGI:Nos2))\r\n",
      "2016-11-30 14:28:03,316 - pybel - WARNING - Line 0001884 - PyBEL118 - Nesting unsupported: abundance(SCHEM:SP600125) decreases (compositeAbundance(proteinAbundance(MGI:Ifng),abundance(SCHEM:Lipopolysaccharide)) increases proteinAbundance(MGI:Nox1)): abundance(SCHEM:SP600125) decreases (compositeAbundance(proteinAbundance(MGI:Ifng),abundance(SCHEM:Lipopolysaccharide)) increases proteinAbundance(MGI:Nox1))\r\n",
      "2016-11-30 14:28:03,324 - pybel - WARNING - Line 0001886 - PyBEL118 - Nesting unsupported: abundance(SCHEM:\"AG-490\") decreases (compositeAbundance(proteinAbundance(MGI:Ifng),abundance(SCHEM:Lipopolysaccharide)) increases proteinAbundance(MGI:Nos2)): abundance(SCHEM:\"AG-490\") decreases (compositeAbundance(proteinAbundance(MGI:Ifng),abundance(SCHEM:Lipopolysaccharide)) increases proteinAbundance(MGI:Nos2))\r\n",
      "2016-11-30 14:28:03,328 - pybel - WARNING - Line 0001887 - PyBEL118 - Nesting unsupported: abundance(SCHEM:\"AG-490\") decreases (compositeAbundance(proteinAbundance(MGI:Ifng),abundance(SCHEM:Lipopolysaccharide)) increases proteinAbundance(MGI:Nox1)): abundance(SCHEM:\"AG-490\") decreases (compositeAbundance(proteinAbundance(MGI:Ifng),abundance(SCHEM:Lipopolysaccharide)) increases proteinAbundance(MGI:Nox1))\r\n",
      "2016-11-30 14:28:03,331 - pybel - WARNING - Line 0001888 - PyBEL118 - Nesting unsupported: abundance(SCHEM:\"Benzyloxycarbonylleucyl-leucyl-leucine aldehyde\") decreases (compositeAbundance(proteinAbundance(MGI:Ifng),abundance(SCHEM:Lipopolysaccharide)) increases proteinAbundance(MGI:Nos2)): abundance(SCHEM:\"Benzyloxycarbonylleucyl-leucyl-leucine aldehyde\") decreases (compositeAbundance(proteinAbundance(MGI:Ifng),abundance(SCHEM:Lipopolysaccharide)) increases proteinAbundance(MGI:Nos2))\r\n",
      "2016-11-30 14:28:03,334 - pybel - WARNING - Line 0001889 - PyBEL118 - Nesting unsupported: abundance(SCHEM:\"Benzyloxycarbonylleucyl-leucyl-leucine aldehyde\") decreases (compositeAbundance(proteinAbundance(MGI:Ifng),abundance(SCHEM:Lipopolysaccharide)) increases proteinAbundance(MGI:Nox1)): abundance(SCHEM:\"Benzyloxycarbonylleucyl-leucyl-leucine aldehyde\") decreases (compositeAbundance(proteinAbundance(MGI:Ifng),abundance(SCHEM:Lipopolysaccharide)) increases proteinAbundance(MGI:Nox1))\r\n",
      "2016-11-30 14:28:03,370 - pybel - WARNING - Line 0001913 - PyBEL118 - Nesting unsupported: abundance(CHEBI:apocynin) decreases (compositeAbundance(proteinAbundance(MGI:Ifng),abundance(SCHEM:Lipopolysaccharide)) increases biologicalProcess(MESHPP:\"Capillary Permeability\")): abundance(CHEBI:apocynin) decreases (compositeAbundance(proteinAbundance(MGI:Ifng),abundance(SCHEM:Lipopolysaccharide)) increases biologicalProcess(MESHPP:\"Capillary Permeability\"))\r\n",
      "2016-11-30 14:28:03,377 - pybel - WARNING - Line 0001915 - PyBEL118 - Nesting unsupported: abundance(SCHEM:Tripterine) decreases (compositeAbundance(proteinAbundance(MGI:Ifng),abundance(SCHEM:Lipopolysaccharide)) increases biologicalProcess(MESHPP:\"Capillary Permeability\")): abundance(SCHEM:Tripterine) decreases (compositeAbundance(proteinAbundance(MGI:Ifng),abundance(SCHEM:Lipopolysaccharide)) increases biologicalProcess(MESHPP:\"Capillary Permeability\"))\r\n",
      "2016-11-30 14:28:03,455 - pybel - WARNING - Line 0001993 - PyBEL118 - Nesting unsupported: abundance(CHEBIID:52289) decreases (kinaseActivity(proteinAbundance(PFH:\"AKT Family\")) decreases biologicalProcess(GO:\"apoptotic process\")): abundance(CHEBIID:52289) decreases (kinaseActivity(proteinAbundance(PFH:\"AKT Family\")) decreases biologicalProcess(GO:\"apoptotic process\"))\r\n",
      "2016-11-30 14:28:03,458 - pybel - WARNING - Line 0001994 - PyBEL118 - Nesting unsupported: abundance(SCHEM:\"LY 294002\") decreases (kinaseActivity(proteinAbundance(PFH:\"AKT Family\")) decreases biologicalProcess(GO:\"apoptotic process\")): abundance(SCHEM:\"LY 294002\") decreases (kinaseActivity(proteinAbundance(PFH:\"AKT Family\")) decreases biologicalProcess(GO:\"apoptotic process\"))\r\n",
      "2016-11-30 14:28:03,789 - pybel - WARNING - Line 0002251 - PyBEL118 - Nesting unsupported: abundance(SCHEM:\"Smoke extract, cigarette\") decreases (proteinAbundance(PFH:\"VEGF Family\") increases biologicalProcess(GO:\"cell migration\")): abundance(SCHEM:\"Smoke extract, cigarette\") decreases (proteinAbundance(PFH:\"VEGF Family\") increases biologicalProcess(GO:\"cell migration\"))\r\n",
      "2016-11-30 14:28:03,792 - pybel - WARNING - Line 0002252 - PyBEL118 - Nesting unsupported: abundance(SCHEM:\"Smoke extract, cigarette\") decreases (proteinAbundance(PFH:\"VEGF Family\") increases biologicalProcess(GO:\"blood vessel endothelial cell migration\")): abundance(SCHEM:\"Smoke extract, cigarette\") decreases (proteinAbundance(PFH:\"VEGF Family\") increases biologicalProcess(GO:\"blood vessel endothelial cell migration\"))\r\n",
      "2016-11-30 14:28:03,797 - pybel - WARNING - Line 0002254 - PyBEL118 - Nesting unsupported: abundance(SCHEM:\"Smoke extract, cigarette\") decreases (proteinAbundance(PFH:\"VEGF Family\") increases biologicalProcess(GO:\"epithelial tube formation\")): abundance(SCHEM:\"Smoke extract, cigarette\") decreases (proteinAbundance(PFH:\"VEGF Family\") increases biologicalProcess(GO:\"epithelial tube formation\"))\r\n",
      "2016-11-30 14:28:03,799 - pybel - WARNING - Line 0002255 - PyBEL118 - Nesting unsupported: abundance(SCHEM:\"Smoke extract, cigarette\") decreases (proteinAbundance(PFH:\"VEGF Family\") increases biologicalProcess(GO:\"cell migration\")): abundance(SCHEM:\"Smoke extract, cigarette\") decreases (proteinAbundance(PFH:\"VEGF Family\") increases biologicalProcess(GO:\"cell migration\"))\r\n",
      "2016-11-30 14:28:03,802 - pybel - WARNING - Line 0002259 - PyBEL118 - Nesting unsupported: abundance(SCHEM:\"Smoke extract, cigarette\") decreases (proteinAbundance(PFH:\"VEGF Family\") increases catalyticActivity(proteinAbundance(HGNC:NOS3))): abundance(SCHEM:\"Smoke extract, cigarette\") decreases (proteinAbundance(PFH:\"VEGF Family\") increases catalyticActivity(proteinAbundance(HGNC:NOS3)))\r\n",
      "2016-11-30 14:28:03,805 - pybel - WARNING - Line 0002266 - PyBEL118 - Nesting unsupported: abundance(SCHEM:\"Smoke extract, cigarette\") decreases (proteinAbundance(PFH:\"VEGF Family\") increases biologicalProcess(GO:\"blood vessel endothelial cell migration\")): abundance(SCHEM:\"Smoke extract, cigarette\") decreases (proteinAbundance(PFH:\"VEGF Family\") increases biologicalProcess(GO:\"blood vessel endothelial cell migration\"))\r\n",
      "2016-11-30 14:28:03,814 - pybel - WARNING - Line 0002275 - PyBEL118 - Nesting unsupported: abundance(SCHEM:\"Smoke extract, cigarette\") decreases (proteinAbundance(PFH:\"VEGF Family\") increases biologicalProcess(GO:\"cell migration\")): abundance(SCHEM:\"Smoke extract, cigarette\") decreases (proteinAbundance(PFH:\"VEGF Family\") increases biologicalProcess(GO:\"cell migration\"))\r\n",
      "2016-11-30 14:28:03,834 - pybel - WARNING - Line 0002296 - PyBEL118 - Nesting unsupported: abundance(CHEBI:\"vitamin C\") decreases (abundance(SCHEM:\"Smoke extract, cigarette\") increases abundance(CHEBI:\"reactive oxygen species\")): abundance(CHEBI:\"vitamin C\") decreases (abundance(SCHEM:\"Smoke extract, cigarette\") increases abundance(CHEBI:\"reactive oxygen species\"))\r\n",
      "2016-11-30 14:28:03,836 - pybel - WARNING - Line 0002297 - PyBEL118 - Nesting unsupported: abundance(CHEBI:\"N-acetyl-L-cysteine\") decreases (abundance(SCHEM:\"Smoke extract, cigarette\") increases abundance(CHEBI:\"reactive oxygen species\")): abundance(CHEBI:\"N-acetyl-L-cysteine\") decreases (abundance(SCHEM:\"Smoke extract, cigarette\") increases abundance(CHEBI:\"reactive oxygen species\"))\r\n",
      "2016-11-30 14:28:03,839 - pybel - WARNING - Line 0002311 - PyBEL118 - Nesting unsupported: abundance(SCHEM:\"Smoke extract, cigarette\") decreases (proteinAbundance(PFH:\"VEGF Family\") increases kinaseActivity(proteinAbundance(PFH:\"AKT Family\"))): abundance(SCHEM:\"Smoke extract, cigarette\") decreases (proteinAbundance(PFH:\"VEGF Family\") increases kinaseActivity(proteinAbundance(PFH:\"AKT Family\")))\r\n",
      "2016-11-30 14:28:03,842 - pybel - WARNING - Line 0002312 - PyBEL118 - Nesting unsupported: abundance(SCHEM:\"Smoke extract, cigarette\") decreases (proteinAbundance(PFH:\"VEGF Family\") increases catalyticActivity(proteinAbundance(HGNC:NOS3))): abundance(SCHEM:\"Smoke extract, cigarette\") decreases (proteinAbundance(PFH:\"VEGF Family\") increases catalyticActivity(proteinAbundance(HGNC:NOS3)))\r\n",
      "2016-11-30 14:28:03,845 - pybel - WARNING - Line 0002319 - PyBEL118 - Nesting unsupported: abundance(SCHEM:\"Smoke extract, cigarette\") decreases (proteinAbundance(PFH:\"VEGF Family\") increases abundance(CHEBI:\"nitric oxide\")): abundance(SCHEM:\"Smoke extract, cigarette\") decreases (proteinAbundance(PFH:\"VEGF Family\") increases abundance(CHEBI:\"nitric oxide\"))\r\n",
      "2016-11-30 14:28:03,859 - pybel - WARNING - Line 0002333 - PyBEL118 - Nesting unsupported: abundance(SCHEM:\"Smoke extract, cigarette\") decreases (proteinAbundance(PFH:\"VEGF Family\") increases kinaseActivity(proteinAbundance(PFH:\"AKT Family\"))): abundance(SCHEM:\"Smoke extract, cigarette\") decreases (proteinAbundance(PFH:\"VEGF Family\") increases kinaseActivity(proteinAbundance(PFH:\"AKT Family\")))\r\n",
      "2016-11-30 14:28:03,862 - pybel - WARNING - Line 0002334 - PyBEL118 - Nesting unsupported: abundance(SCHEM:\"Smoke extract, cigarette\") decreases (proteinAbundance(PFH:\"VEGF Family\") increases catalyticActivity(proteinAbundance(HGNC:NOS3))): abundance(SCHEM:\"Smoke extract, cigarette\") decreases (proteinAbundance(PFH:\"VEGF Family\") increases catalyticActivity(proteinAbundance(HGNC:NOS3)))\r\n",
      "2016-11-30 14:28:03,934 - pybel - WARNING - Line 0002374 - PyBEL118 - Nesting unsupported: complexAbundance(proteinAbundance(HGNC:VTN),proteinAbundance(HGNC:ITGAV),proteinAbundance(HGNC:ITGB3)) increases (kinaseActivity(proteinAbundance(HGNC:PDGFRB)) increases biologicalProcess(GO:\"cell proliferation\")): complexAbundance(proteinAbundance(HGNC:VTN),proteinAbundance(HGNC:ITGAV),proteinAbundance(HGNC:ITGB3)) increases (kinaseActivity(proteinAbundance(HGNC:PDGFRB)) increases biologicalProcess(GO:\"cell proliferation\"))\r\n",
      "2016-11-30 14:28:03,939 - pybel - WARNING - Line 0002375 - PyBEL118 - Nesting unsupported: complexAbundance(proteinAbundance(HGNC:VTN),proteinAbundance(HGNC:ITGAV),proteinAbundance(HGNC:ITGB3)) increases (kinaseActivity(proteinAbundance(HGNC:PDGFRB)) increases biologicalProcess(GO:\"cell migration\")): complexAbundance(proteinAbundance(HGNC:VTN),proteinAbundance(HGNC:ITGAV),proteinAbundance(HGNC:ITGB3)) increases (kinaseActivity(proteinAbundance(HGNC:PDGFRB)) increases biologicalProcess(GO:\"cell migration\"))\r\n",
      "2016-11-30 14:28:03,944 - pybel - WARNING - Line 0002376 - PyBEL118 - Nesting unsupported: complexAbundance(proteinAbundance(HGNC:VTN),proteinAbundance(HGNC:ITGAV),proteinAbundance(HGNC:ITGB3)) increases (kinaseActivity(proteinAbundance(HGNC:KDR)) increases biologicalProcess(GO:\"cell proliferation\")): complexAbundance(proteinAbundance(HGNC:VTN),proteinAbundance(HGNC:ITGAV),proteinAbundance(HGNC:ITGB3)) increases (kinaseActivity(proteinAbundance(HGNC:KDR)) increases biologicalProcess(GO:\"cell proliferation\"))\r\n",
      "2016-11-30 14:28:03,950 - pybel - WARNING - Line 0002377 - PyBEL118 - Nesting unsupported: complexAbundance(proteinAbundance(HGNC:VTN),proteinAbundance(HGNC:ITGAV),proteinAbundance(HGNC:ITGB3)) increases (kinaseActivity(proteinAbundance(HGNC:KDR)) increases biologicalProcess(GO:\"cell migration\")): complexAbundance(proteinAbundance(HGNC:VTN),proteinAbundance(HGNC:ITGAV),proteinAbundance(HGNC:ITGB3)) increases (kinaseActivity(proteinAbundance(HGNC:KDR)) increases biologicalProcess(GO:\"cell migration\"))\r\n",
      "2016-11-30 14:28:03,979 - pybel - WARNING - Line 0002398 - PyBEL118 - Nesting unsupported: molecularActivity(complexAbundance(proteinAbundance(HGNC:ITGAV),proteinAbundance(HGNC:ITGB3))) increases (proteinAbundance(PFH:\"PDGF Family\") increases biologicalProcess(GO:\"cell proliferation\")): molecularActivity(complexAbundance(proteinAbundance(HGNC:ITGAV),proteinAbundance(HGNC:ITGB3))) increases (proteinAbundance(PFH:\"PDGF Family\") increases biologicalProcess(GO:\"cell proliferation\"))\r\n",
      "2016-11-30 14:28:03,982 - pybel - WARNING - Line 0002399 - PyBEL118 - Nesting unsupported: molecularActivity(complexAbundance(proteinAbundance(HGNC:ITGAV),proteinAbundance(HGNC:ITGB3))) increases (proteinAbundance(HGNC:INS) increases biologicalProcess(GO:\"cell proliferation\")): molecularActivity(complexAbundance(proteinAbundance(HGNC:ITGAV),proteinAbundance(HGNC:ITGB3))) increases (proteinAbundance(HGNC:INS) increases biologicalProcess(GO:\"cell proliferation\"))\r\n",
      "2016-11-30 14:28:03,985 - pybel - WARNING - Line 0002400 - PyBEL118 - Nesting unsupported: molecularActivity(complexAbundance(proteinAbundance(HGNC:ITGAV),proteinAbundance(HGNC:ITGB3))) increases (proteinAbundance(PFH:\"PDGF Family\") increases biologicalProcess(GO:\"cell migration\")): molecularActivity(complexAbundance(proteinAbundance(HGNC:ITGAV),proteinAbundance(HGNC:ITGB3))) increases (proteinAbundance(PFH:\"PDGF Family\") increases biologicalProcess(GO:\"cell migration\"))\r\n",
      "2016-11-30 14:28:03,989 - pybel - WARNING - Line 0002401 - PyBEL118 - Nesting unsupported: molecularActivity(complexAbundance(proteinAbundance(HGNC:ITGAV),proteinAbundance(HGNC:ITGB3))) increases (proteinAbundance(HGNC:INS) increases biologicalProcess(GO:\"cell migration\")): molecularActivity(complexAbundance(proteinAbundance(HGNC:ITGAV),proteinAbundance(HGNC:ITGB3))) increases (proteinAbundance(HGNC:INS) increases biologicalProcess(GO:\"cell migration\"))\r\n",
      "2016-11-30 14:28:04,043 - pybel - WARNING - Line 0002437 - PyBEL118 - Nesting unsupported: molecularActivity(proteinAbundance(HGNC:SHC1)) increases (molecularActivity(complexAbundance(proteinAbundance(HGNC:ITGA6),proteinAbundance(HGNC:ITGB4))) increases kinaseActivity(proteinAbundance(PFH:\"MAPK Erk1/3 Family\"))): molecularActivity(proteinAbundance(HGNC:SHC1)) increases (molecularActivity(complexAbundance(proteinAbundance(HGNC:ITGA6),proteinAbundance(HGNC:ITGB4))) increases kinaseActivity(proteinAbundance(PFH:\"MAPK Erk1/3 Family\")))\r\n",
      "2016-11-30 14:28:04,047 - pybel - WARNING - Line 0002438 - PyBEL118 - Nesting unsupported: gtpBoundActivity(proteinAbundance(PFH:\"RAS Family\")) increases (molecularActivity(complexAbundance(proteinAbundance(HGNC:ITGA6),proteinAbundance(HGNC:ITGB4))) increases kinaseActivity(proteinAbundance(PFH:\"MAPK Erk1/3 Family\"))): gtpBoundActivity(proteinAbundance(PFH:\"RAS Family\")) increases (molecularActivity(complexAbundance(proteinAbundance(HGNC:ITGA6),proteinAbundance(HGNC:ITGB4))) increases kinaseActivity(proteinAbundance(PFH:\"MAPK Erk1/3 Family\")))\r\n",
      "2016-11-30 14:28:04,051 - pybel - WARNING - Line 0002439 - PyBEL118 - Nesting unsupported: gtpBoundActivity(proteinAbundance(HGNC:RHOA)) increases (molecularActivity(complexAbundance(proteinAbundance(HGNC:ITGA6),proteinAbundance(HGNC:ITGB4))) increases kinaseActivity(proteinAbundance(PFH:\"MAPK Erk1/3 Family\"))): gtpBoundActivity(proteinAbundance(HGNC:RHOA)) increases (molecularActivity(complexAbundance(proteinAbundance(HGNC:ITGA6),proteinAbundance(HGNC:ITGB4))) increases kinaseActivity(proteinAbundance(PFH:\"MAPK Erk1/3 Family\")))\r\n",
      "2016-11-30 14:28:04,055 - pybel - WARNING - Line 0002440 - PyBEL118 - Nesting unsupported: gtpBoundActivity(proteinAbundance(PFH:\"RAS Family\")) increases (molecularActivity(complexAbundance(proteinAbundance(HGNC:ITGA6),proteinAbundance(HGNC:ITGB4))) increases kinaseActivity(proteinAbundance(PFH:\"MAPK JNK Family\"))): gtpBoundActivity(proteinAbundance(PFH:\"RAS Family\")) increases (molecularActivity(complexAbundance(proteinAbundance(HGNC:ITGA6),proteinAbundance(HGNC:ITGB4))) increases kinaseActivity(proteinAbundance(PFH:\"MAPK JNK Family\")))\r\n",
      "2016-11-30 14:28:04,060 - pybel - WARNING - Line 0002441 - PyBEL118 - Nesting unsupported: gtpBoundActivity(proteinAbundance(HGNC:RAC1)) increases (molecularActivity(complexAbundance(proteinAbundance(HGNC:ITGA6),proteinAbundance(HGNC:ITGB4))) increases kinaseActivity(proteinAbundance(PFH:\"MAPK JNK Family\"))): gtpBoundActivity(proteinAbundance(HGNC:RAC1)) increases (molecularActivity(complexAbundance(proteinAbundance(HGNC:ITGA6),proteinAbundance(HGNC:ITGB4))) increases kinaseActivity(proteinAbundance(PFH:\"MAPK JNK Family\")))\r\n",
      "2016-11-30 14:28:04,063 - pybel - WARNING - Line 0002442 - PyBEL118 - Nesting unsupported: kinaseActivity(complexAbundance(NCH:\"p85/p110 PI3Kinase Complex\")) increases (molecularActivity(complexAbundance(proteinAbundance(HGNC:ITGA6),proteinAbundance(HGNC:ITGB4))) increases kinaseActivity(proteinAbundance(PFH:\"MAPK JNK Family\"))): kinaseActivity(complexAbundance(NCH:\"p85/p110 PI3Kinase Complex\")) increases (molecularActivity(complexAbundance(proteinAbundance(HGNC:ITGA6),proteinAbundance(HGNC:ITGB4))) increases kinaseActivity(proteinAbundance(PFH:\"MAPK JNK Family\")))\r\n",
      "2016-11-30 14:28:04,179 - pybel - WARNING - Line 0002549 - PyBEL118 - Nesting unsupported: proteinAbundance(PFH:\"WNT Family\") increases (kinaseActivity(proteinAbundance(HGNC:CSNK1G2)) directlyIncreases proteinAbundance(HGNC:LRP5,proteinModification(P))): proteinAbundance(PFH:\"WNT Family\") increases (kinaseActivity(proteinAbundance(HGNC:CSNK1G2)) directlyIncreases proteinAbundance(HGNC:LRP5,proteinModification(P)))\r\n",
      "2016-11-30 14:28:04,185 - pybel - WARNING - Line 0002550 - PyBEL118 - Nesting unsupported: proteinAbundance(PFH:\"WNT Family\") increases (kinaseActivity(proteinAbundance(HGNC:GSK3B)) directlyIncreases proteinAbundance(HGNC:LRP5,proteinModification(P))): proteinAbundance(PFH:\"WNT Family\") increases (kinaseActivity(proteinAbundance(HGNC:GSK3B)) directlyIncreases proteinAbundance(HGNC:LRP5,proteinModification(P)))\r\n",
      "2016-11-30 14:28:04,189 - pybel - WARNING - Line 0002551 - PyBEL118 - Nesting unsupported: proteinAbundance(PFH:\"WNT Family\") increases (kinaseActivity(proteinAbundance(HGNC:CSNK1G2)) directlyIncreases proteinAbundance(HGNC:LRP6,proteinModification(P))): proteinAbundance(PFH:\"WNT Family\") increases (kinaseActivity(proteinAbundance(HGNC:CSNK1G2)) directlyIncreases proteinAbundance(HGNC:LRP6,proteinModification(P)))\r\n",
      "2016-11-30 14:28:04,193 - pybel - WARNING - Line 0002552 - PyBEL118 - Nesting unsupported: proteinAbundance(PFH:\"WNT Family\") increases (kinaseActivity(proteinAbundance(HGNC:GSK3B)) directlyIncreases proteinAbundance(HGNC:LRP6,proteinModification(P))): proteinAbundance(PFH:\"WNT Family\") increases (kinaseActivity(proteinAbundance(HGNC:GSK3B)) directlyIncreases proteinAbundance(HGNC:LRP6,proteinModification(P)))\r\n",
      "2016-11-30 14:28:04,440 - pybel - WARNING - Line 0002785 - PyBEL137 - Invalid function for identifier PFR:Hspa Family. Valid are: [P]: abundance(PFR:\"Hspa Family\") directlyDecreases transcriptionalActivity(complexAbundance(NCR:\"Nfkb Complex\"))\r\n",
      "2016-11-30 14:28:04,718 - pybel - WARNING - Line 0003022 - PyBEL118 - Nesting unsupported: complexAbundance(proteinAbundance(HGNC:APC),proteinAbundance(PFH:\"AXIN Family\")) directlyIncreases (kinaseActivity(proteinAbundance(HGNC:GSK3B)) increases degradation(proteinAbundance(HGNC:CTNNB1))): complexAbundance(proteinAbundance(HGNC:APC),proteinAbundance(PFH:\"AXIN Family\")) directlyIncreases (kinaseActivity(proteinAbundance(HGNC:GSK3B)) increases degradation(proteinAbundance(HGNC:CTNNB1)))\r\n",
      "2016-11-30 14:28:04,836 - pybel - WARNING - Line 0003135 - PyBEL137 - Invalid function for identifier SDIS:tumor growth. Valid are: [O]: proteinAbundance(PFH:\"MAPK p38 Family\") negativeCorrelation biologicalProcess(SDIS:\"tumor growth\")\r\n",
      "2016-11-30 14:28:04,867 - pybel - WARNING - Line 0003163 - PyBEL137 - Invalid function for identifier SDIS:tumor growth. Valid are: [O]: proteinAbundance(HGNC:MAP2K6) decreases biologicalProcess(SDIS:\"tumor growth\")\r\n",
      "2016-11-30 14:28:04,870 - pybel - WARNING - Line 0003164 - PyBEL137 - Invalid function for identifier SDIS:tumor growth. Valid are: [O]: proteinAbundance(HGNC:MAP2K3) decreases biologicalProcess(SDIS:\"tumor growth\")\r\n",
      "2016-11-30 14:28:04,874 - pybel - WARNING - Line 0003169 - PyBEL137 - Invalid function for identifier SDIS:tumor growth. Valid are: [O]: proteinAbundance(HGNC:MAPK14) decreases biologicalProcess(SDIS:\"tumor growth\")\r\n",
      "2016-11-30 14:28:04,892 - pybel - WARNING - Line 0003203 - PyBEL118 - Nesting unsupported: abundance(CHEBI:GDP) decreases (proteinAbundance(HGNC:UCP1) increases biologicalProcess(GO:\"heat dissipation\")): abundance(CHEBI:GDP) decreases (proteinAbundance(HGNC:UCP1) increases biologicalProcess(GO:\"heat dissipation\"))\r\n",
      "2016-11-30 14:28:04,965 - pybel - WARNING - Line 0003273 - PyBEL118 - Nesting unsupported: abundance(CHEBI:rapamycin) directlyDecreases (kinaseActivity(proteinAbundance(HGNC:MTOR)) directlyIncreases kinaseActivity(proteinAbundance(HGNC:RPS6KB2))): abundance(CHEBI:rapamycin) directlyDecreases (kinaseActivity(proteinAbundance(HGNC:MTOR)) directlyIncreases kinaseActivity(proteinAbundance(HGNC:RPS6KB2)))\r\n",
      "2016-11-30 14:28:05,017 - pybel - WARNING - Line 0003331 - PyBEL118 - Nesting unsupported: abundance(CHEBI:wortmannin) decreases (proteinAbundance(HGNC:INS) increases rnaAbundance(HGNC:SLC2A4)): abundance(CHEBI:wortmannin) decreases (proteinAbundance(HGNC:INS) increases rnaAbundance(HGNC:SLC2A4))\r\n",
      "2016-11-30 14:28:05,019 - pybel - WARNING - Line 0003332 - PyBEL118 - Nesting unsupported: abundance(CHEBI:wortmannin) decreases (proteinAbundance(HGNC:INS) increases proteinAbundance(HGNC:SLC2A4)): abundance(CHEBI:wortmannin) decreases (proteinAbundance(HGNC:INS) increases proteinAbundance(HGNC:SLC2A4))\r\n",
      "2016-11-30 14:28:05,022 - pybel - WARNING - Line 0003333 - PyBEL118 - Nesting unsupported: abundance(SCHEM:\"LY 294002\") decreases (proteinAbundance(HGNC:INS) increases rnaAbundance(HGNC:SLC2A4)): abundance(SCHEM:\"LY 294002\") decreases (proteinAbundance(HGNC:INS) increases rnaAbundance(HGNC:SLC2A4))\r\n",
      "2016-11-30 14:28:05,024 - pybel - WARNING - Line 0003334 - PyBEL118 - Nesting unsupported: abundance(SCHEM:\"LY 294002\") decreases (proteinAbundance(HGNC:INS) increases proteinAbundance(HGNC:SLC2A4)): abundance(SCHEM:\"LY 294002\") decreases (proteinAbundance(HGNC:INS) increases proteinAbundance(HGNC:SLC2A4))\r\n",
      "2016-11-30 14:28:05,034 - pybel - WARNING - Line 0003351 - PyBEL118 - Nesting unsupported: abundance(SCHEM:\"ML 9\") decreases (proteinAbundance(HGNC:INS) increases rnaAbundance(HGNC:SLC2A4)): abundance(SCHEM:\"ML 9\") decreases (proteinAbundance(HGNC:INS) increases rnaAbundance(HGNC:SLC2A4))\r\n",
      "2016-11-30 14:28:05,038 - pybel - WARNING - Line 0003352 - PyBEL118 - Nesting unsupported: abundance(SCHEM:\"ML 9\") decreases (proteinAbundance(HGNC:INS) increases translocation(proteinAbundance(HGNC:SLC2A4),MESHCL:\"Intracellular Space\",MESHCL:\"Cell Membrane\")): abundance(SCHEM:\"ML 9\") decreases (proteinAbundance(HGNC:INS) increases translocation(proteinAbundance(HGNC:SLC2A4),MESHCL:\"Intracellular Space\",MESHCL:\"Cell Membrane\"))\r\n",
      "2016-11-30 14:28:05,057 - pybel - WARNING - Line 0003375 - PyBEL118 - Nesting unsupported: abundance(CHEBI:\"okadaic acid\") decreases (proteinAbundance(HGNC:INS) increases kinaseActivity(proteinAbundance(HGNC:PRKCZ))): abundance(CHEBI:\"okadaic acid\") decreases (proteinAbundance(HGNC:INS) increases kinaseActivity(proteinAbundance(HGNC:PRKCZ)))\r\n",
      "2016-11-30 14:28:05,061 - pybel - WARNING - Line 0003380 - PyBEL118 - Nesting unsupported: kinaseActivity(proteinAbundance(HGNC:PRKCZ)) increases (proteinAbundance(HGNC:INS) increases biologicalProcess(GO:\"glucose import\")): kinaseActivity(proteinAbundance(HGNC:PRKCZ)) increases (proteinAbundance(HGNC:INS) increases biologicalProcess(GO:\"glucose import\"))\r\n",
      "2016-11-30 14:28:05,088 - pybel - WARNING - Line 0003405 - PyBEL118 - Nesting unsupported: abundance(CHEBI:wortmannin) decreases (proteinAbundance(HGNC:INS) increases rnaAbundance(HGNC:UCP1)): abundance(CHEBI:wortmannin) decreases (proteinAbundance(HGNC:INS) increases rnaAbundance(HGNC:UCP1))\r\n",
      "2016-11-30 14:28:05,090 - pybel - WARNING - Line 0003406 - PyBEL118 - Nesting unsupported: abundance(CHEBI:wortmannin) decreases (proteinAbundance(HGNC:IGF1) increases rnaAbundance(HGNC:UCP1)): abundance(CHEBI:wortmannin) decreases (proteinAbundance(HGNC:IGF1) increases rnaAbundance(HGNC:UCP1))\r\n",
      "2016-11-30 14:28:05,093 - pybel - WARNING - Line 0003407 - PyBEL118 - Nesting unsupported: abundance(SCHEM:\"LY 294002\") decreases (proteinAbundance(HGNC:INS) increases rnaAbundance(HGNC:UCP1)): abundance(SCHEM:\"LY 294002\") decreases (proteinAbundance(HGNC:INS) increases rnaAbundance(HGNC:UCP1))\r\n",
      "2016-11-30 14:28:05,095 - pybel - WARNING - Line 0003408 - PyBEL118 - Nesting unsupported: abundance(SCHEM:\"LY 294002\") decreases (proteinAbundance(HGNC:IGF1) increases rnaAbundance(HGNC:UCP1)): abundance(SCHEM:\"LY 294002\") decreases (proteinAbundance(HGNC:IGF1) increases rnaAbundance(HGNC:UCP1))\r\n",
      "2016-11-30 14:28:05,099 - pybel - WARNING - Line 0003413 - PyBEL118 - Nesting unsupported: proteinAbundance(PFH:\"RAS Family\") increases (proteinAbundance(HGNC:INS) increases rnaAbundance(HGNC:UCP1)): proteinAbundance(PFH:\"RAS Family\") increases (proteinAbundance(HGNC:INS) increases rnaAbundance(HGNC:UCP1))\r\n",
      "2016-11-30 14:28:05,107 - pybel - WARNING - Line 0003425 - PyBEL118 - Nesting unsupported: proteinAbundance(RGD:Tnf) decreases (proteinAbundance(PFR:\"Ins Family\") increases rnaAbundance(RGD:Fasn)): proteinAbundance(RGD:Tnf) decreases (proteinAbundance(PFR:\"Ins Family\") increases rnaAbundance(RGD:Fasn))\r\n",
      "2016-11-30 14:28:05,122 - pybel - WARNING - Line 0003441 - PyBEL118 - Nesting unsupported: proteinAbundance(HGNC:TNF) decreases (proteinAbundance(HGNC:INS) increases proteinAbundance(HGNC:INSR,proteinModification(P))): proteinAbundance(HGNC:TNF) decreases (proteinAbundance(HGNC:INS) increases proteinAbundance(HGNC:INSR,proteinModification(P)))\r\n",
      "2016-11-30 14:28:05,125 - pybel - WARNING - Line 0003442 - PyBEL118 - Nesting unsupported: proteinAbundance(HGNC:TNF) decreases (proteinAbundance(HGNC:INS) increases proteinAbundance(HGNC:IRS2,proteinModification(P))): proteinAbundance(HGNC:TNF) decreases (proteinAbundance(HGNC:INS) increases proteinAbundance(HGNC:IRS2,proteinModification(P)))\r\n",
      "2016-11-30 14:28:05,128 - pybel - WARNING - Line 0003443 - PyBEL118 - Nesting unsupported: proteinAbundance(HGNC:TNF) decreases (proteinAbundance(HGNC:INS) increases kinaseActivity(complexAbundance(NCH:\"p85/p110 PI3Kinase Complex\"))): proteinAbundance(HGNC:TNF) decreases (proteinAbundance(HGNC:INS) increases kinaseActivity(complexAbundance(NCH:\"p85/p110 PI3Kinase Complex\")))\r\n",
      "2016-11-30 14:28:05,145 - pybel - WARNING - Line 0003472 - PyBEL118 - Nesting unsupported: proteinAbundance(MGI:Irs1) increases (proteinAbundance(PFM:\"Ins Family\") increases kinaseActivity(complexAbundance(NCM:\"p85/p110 PI3Kinase Complex\"))): proteinAbundance(MGI:Irs1) increases (proteinAbundance(PFM:\"Ins Family\") increases kinaseActivity(complexAbundance(NCM:\"p85/p110 PI3Kinase Complex\")))\r\n",
      "2016-11-30 14:28:05,159 - pybel - WARNING - Line 0003485 - PyBEL118 - Nesting unsupported: proteinAbundance(MGI:Irs1) increases (proteinAbundance(PFM:\"Ins Family\") increases rnaAbundance(MGI:Fasn)): proteinAbundance(MGI:Irs1) increases (proteinAbundance(PFM:\"Ins Family\") increases rnaAbundance(MGI:Fasn))\r\n",
      "2016-11-30 14:28:05,164 - pybel - WARNING - Line 0003493 - PyBEL118 - Nesting unsupported: proteinAbundance(HGNC:IRS1) increases (proteinAbundance(HGNC:INS) increases rnaAbundance(HGNC:UCP1)): proteinAbundance(HGNC:IRS1) increases (proteinAbundance(HGNC:INS) increases rnaAbundance(HGNC:UCP1))\r\n",
      "2016-11-30 14:28:05,168 - pybel - WARNING - Line 0003501 - PyBEL118 - Nesting unsupported: proteinAbundance(MGI:Irs2) increases (proteinAbundance(PFM:\"Ins Family\") increases biologicalProcess(GO:\"glucose import\")): proteinAbundance(MGI:Irs2) increases (proteinAbundance(PFM:\"Ins Family\") increases biologicalProcess(GO:\"glucose import\"))\r\n",
      "2016-11-30 14:28:05,173 - pybel - WARNING - Line 0003506 - PyBEL118 - Nesting unsupported: proteinAbundance(HGNC:IRS2) increases (proteinAbundance(HGNC:INS) increases translocation(proteinAbundance(HGNC:SLC2A4),MESHCL:\"Intracellular Space\",MESHCL:\"Cell Membrane\")): proteinAbundance(HGNC:IRS2) increases (proteinAbundance(HGNC:INS) increases translocation(proteinAbundance(HGNC:SLC2A4),MESHCL:\"Intracellular Space\",MESHCL:\"Cell Membrane\"))\r\n",
      "2016-11-30 14:28:05,260 - pybel - WARNING - Line 0003615 - PyBEL118 - Nesting unsupported: microRNAAbundance(MGI:Mir203) decreases (proteinAbundance(MGI:Trp63) increases biologicalProcess(GO:\"cell proliferation\")): microRNAAbundance(MGI:Mir203) decreases (proteinAbundance(MGI:Trp63) increases biologicalProcess(GO:\"cell proliferation\"))\r\n",
      "2016-11-30 14:28:05,301 - pybel - WARNING - Line 0003692 - PyBEL118 - Nesting unsupported: proteinAbundance(HGNC:TP63) decreases (proteinAbundance(HGNC:TP73) increases biologicalProcess(GO:\"apoptotic process\")): proteinAbundance(HGNC:TP63) decreases (proteinAbundance(HGNC:TP73) increases biologicalProcess(GO:\"apoptotic process\"))\r\n",
      "2016-11-30 14:28:05,501 - pybel - WARNING - Line 0003919 - PyBEL118 - Nesting unsupported: abundance(CHEBI:\"calcium(2+)\") decreases (proteinAbundance(HGNC:IL1B) increases transcriptionalActivity(complexAbundance(NCH:\"Nfkb Complex\"))): abundance(CHEBI:\"calcium(2+)\") decreases (proteinAbundance(HGNC:IL1B) increases transcriptionalActivity(complexAbundance(NCH:\"Nfkb Complex\")))\r\n",
      "2016-11-30 14:28:05,505 - pybel - WARNING - Line 0003920 - PyBEL118 - Nesting unsupported: kinaseActivity(proteinAbundance(PFH:\"CAMK Family\")) decreases (proteinAbundance(HGNC:IL1B) increases transcriptionalActivity(complexAbundance(NCH:\"Nfkb Complex\"))): kinaseActivity(proteinAbundance(PFH:\"CAMK Family\")) decreases (proteinAbundance(HGNC:IL1B) increases transcriptionalActivity(complexAbundance(NCH:\"Nfkb Complex\")))\r\n",
      "2016-11-30 14:28:05,508 - pybel - WARNING - Line 0003921 - PyBEL118 - Nesting unsupported: proteinAbundance(PFH:\"AKT Family\") decreases (proteinAbundance(HGNC:IL1B) increases transcriptionalActivity(complexAbundance(NCH:\"Nfkb Complex\"))): proteinAbundance(PFH:\"AKT Family\") decreases (proteinAbundance(HGNC:IL1B) increases transcriptionalActivity(complexAbundance(NCH:\"Nfkb Complex\")))\r\n",
      "2016-11-30 14:28:05,522 - pybel - WARNING - Line 0003926 - PyBEL118 - Nesting unsupported: abundance(SCHEM:Ionomycin) decreases (proteinAbundance(HGNC:IL1B) increases kinaseActivity(proteinAbundance(HGNC:IKBKB))): abundance(SCHEM:Ionomycin) decreases (proteinAbundance(HGNC:IL1B) increases kinaseActivity(proteinAbundance(HGNC:IKBKB)))\r\n",
      "2016-11-30 14:28:05,524 - pybel - WARNING - Line 0003927 - PyBEL118 - Nesting unsupported: kinaseActivity(proteinAbundance(PFH:\"CAMK Family\")) decreases (proteinAbundance(HGNC:IL1B) increases kinaseActivity(proteinAbundance(HGNC:IKBKB))): kinaseActivity(proteinAbundance(PFH:\"CAMK Family\")) decreases (proteinAbundance(HGNC:IL1B) increases kinaseActivity(proteinAbundance(HGNC:IKBKB)))\r\n",
      "2016-11-30 14:28:05,528 - pybel - WARNING - Line 0003928 - PyBEL118 - Nesting unsupported: kinaseActivity(proteinAbundance(PFH:\"AKT Family\")) decreases (proteinAbundance(HGNC:IL1B) increases kinaseActivity(proteinAbundance(HGNC:IKBKB))): kinaseActivity(proteinAbundance(PFH:\"AKT Family\")) decreases (proteinAbundance(HGNC:IL1B) increases kinaseActivity(proteinAbundance(HGNC:IKBKB)))\r\n",
      "2016-11-30 14:28:05,534 - pybel - WARNING - Line 0003936 - PyBEL118 - Nesting unsupported: kinaseActivity(proteinAbundance(PFH:\"CAMK Family\")) decreases (proteinAbundance(HGNC:IRAK1) increases transcriptionalActivity(complexAbundance(NCH:\"Nfkb Complex\"))): kinaseActivity(proteinAbundance(PFH:\"CAMK Family\")) decreases (proteinAbundance(HGNC:IRAK1) increases transcriptionalActivity(complexAbundance(NCH:\"Nfkb Complex\")))\r\n",
      "2016-11-30 14:28:05,538 - pybel - WARNING - Line 0003937 - PyBEL118 - Nesting unsupported: proteinAbundance(PFH:\"AKT Family\") decreases (proteinAbundance(HGNC:IRAK1) increases transcriptionalActivity(complexAbundance(NCH:\"Nfkb Complex\"))): proteinAbundance(PFH:\"AKT Family\") decreases (proteinAbundance(HGNC:IRAK1) increases transcriptionalActivity(complexAbundance(NCH:\"Nfkb Complex\")))\r\n",
      "2016-11-30 14:28:05,548 - pybel - WARNING - Line 0003940 - PyBEL118 - Nesting unsupported: proteinAbundance(HGNC:IRAK1,proteinModification(P,T,100)) directlyDecreases (proteinAbundance(HGNC:IRAK1) increases transcriptionalActivity(complexAbundance(NCH:\"Nfkb Complex\"))): proteinAbundance(HGNC:IRAK1,proteinModification(P,T,100)) directlyDecreases (proteinAbundance(HGNC:IRAK1) increases transcriptionalActivity(complexAbundance(NCH:\"Nfkb Complex\")))\r\n",
      "2016-11-30 14:28:05,575 - pybel - WARNING - Line 0003970 - PyBEL118 - Nesting unsupported: kinaseActivity(proteinAbundance(PFH:\"CAMK Family\")) decreases (proteinAbundance(HGNC:IL1B) increases kinaseActivity(proteinAbundance(HGNC:IRAK1))): kinaseActivity(proteinAbundance(PFH:\"CAMK Family\")) decreases (proteinAbundance(HGNC:IL1B) increases kinaseActivity(proteinAbundance(HGNC:IRAK1)))\r\n",
      "2016-11-30 14:28:05,578 - pybel - WARNING - Line 0003971 - PyBEL118 - Nesting unsupported: proteinAbundance(PFH:\"AKT Family\") decreases (proteinAbundance(HGNC:IL1B) increases kinaseActivity(proteinAbundance(HGNC:IRAK1))): proteinAbundance(PFH:\"AKT Family\") decreases (proteinAbundance(HGNC:IL1B) increases kinaseActivity(proteinAbundance(HGNC:IRAK1)))\r\n",
      "2016-11-30 14:28:05,581 - pybel - WARNING - Line 0003972 - PyBEL118 - Nesting unsupported: abundance(SCHEM:Ionomycin) decreases (proteinAbundance(HGNC:IL1B) increases kinaseActivity(proteinAbundance(HGNC:IRAK1))): abundance(SCHEM:Ionomycin) decreases (proteinAbundance(HGNC:IL1B) increases kinaseActivity(proteinAbundance(HGNC:IRAK1)))\r\n",
      "2016-11-30 14:28:05,667 - pybel - WARNING - Line 0004057 - PyBEL118 - Nesting unsupported: abundance(SCHEM:SP600125) decreases (gtpBoundActivity(proteinAbundance(HGNC:HRAS)) increases pathology(MESHD:Neoplasms)): abundance(SCHEM:SP600125) decreases (gtpBoundActivity(proteinAbundance(HGNC:HRAS)) increases pathology(MESHD:Neoplasms))\r\n",
      "2016-11-30 14:28:05,706 - pybel - WARNING - Line 0004106 - PyBEL118 - Nesting unsupported: kinaseActivity(proteinAbundance(HGNC:MAP2K7)) decreases (gtpBoundActivity(proteinAbundance(HGNC:HRAS)) decreases biologicalProcess(GO:\"G1/S transition of mitotic cell cycle\")): kinaseActivity(proteinAbundance(HGNC:MAP2K7)) decreases (gtpBoundActivity(proteinAbundance(HGNC:HRAS)) decreases biologicalProcess(GO:\"G1/S transition of mitotic cell cycle\"))\r\n",
      "2016-11-30 14:28:05,714 - pybel - WARNING - Line 0004115 - PyBEL118 - Nesting unsupported: kinaseActivity(proteinAbundance(HGNC:CDK4)) decreases (proteinAbundance(HGNC:HRAS,substitution(G,12,V)) decreases biologicalProcess(GO:\"G1/S transition of mitotic cell cycle\")): kinaseActivity(proteinAbundance(HGNC:CDK4)) decreases (proteinAbundance(HGNC:HRAS,substitution(G,12,V)) decreases biologicalProcess(GO:\"G1/S transition of mitotic cell cycle\"))\r\n",
      "2016-11-30 14:28:05,828 - pybel - WARNING - Line 0004298 - PyBEL118 - Nesting unsupported: gtpBoundActivity(proteinAbundance(PFH:\"DNM Family\")) increases (proteinAbundance(HGNC:EGF) increases biologicalProcess(GO:\"cell proliferation\")): gtpBoundActivity(proteinAbundance(PFH:\"DNM Family\")) increases (proteinAbundance(HGNC:EGF) increases biologicalProcess(GO:\"cell proliferation\"))\r\n",
      "2016-11-30 14:28:05,835 - pybel - WARNING - Line 0004318 - PyBEL118 - Nesting unsupported: proteinAbundance(HGNC:RIN1) increases (proteinAbundance(HGNC:EGF) increases biologicalProcess(GO:\"cell proliferation\")): proteinAbundance(HGNC:RIN1) increases (proteinAbundance(HGNC:EGF) increases biologicalProcess(GO:\"cell proliferation\"))\r\n",
      "2016-11-30 14:28:05,838 - pybel - WARNING - Line 0004331 - PyBEL118 - Nesting unsupported: molecularActivity(proteinAbundance(HGNC:RIN1)) increases (kinaseActivity(proteinAbundance(HGNC:EGFR)) increases biologicalProcess(GO:\"cell proliferation\")): molecularActivity(proteinAbundance(HGNC:RIN1)) increases (kinaseActivity(proteinAbundance(HGNC:EGFR)) increases biologicalProcess(GO:\"cell proliferation\"))\r\n",
      "2016-11-30 14:28:05,849 - pybel - WARNING - Line 0004349 - PyBEL118 - Nesting unsupported: gtpBoundActivity(proteinAbundance(PFH:\"DNM Family\")) increases (biologicalProcess(GO:\"receptor internalization\") increases biologicalProcess(GO:\"epidermal growth factor receptor signaling pathway\")): gtpBoundActivity(proteinAbundance(PFH:\"DNM Family\")) increases (biologicalProcess(GO:\"receptor internalization\") increases biologicalProcess(GO:\"epidermal growth factor receptor signaling pathway\"))\r\n",
      "2016-11-30 14:28:05,860 - pybel - WARNING - Line 0004369 - PyBEL118 - Nesting unsupported: gtpBoundActivity(proteinAbundance(PFH:\"DNM Family\")) increases (proteinAbundance(HGNC:EGF) increases biologicalProcess(GO:\"cell proliferation\")): gtpBoundActivity(proteinAbundance(PFH:\"DNM Family\")) increases (proteinAbundance(HGNC:EGF) increases biologicalProcess(GO:\"cell proliferation\"))\r\n",
      "2016-11-30 14:28:05,862 - pybel - WARNING - Line 0004370 - PyBEL118 - Nesting unsupported: gtpBoundActivity(proteinAbundance(HGNC:RAB5A)) increases (proteinAbundance(HGNC:EGF) increases biologicalProcess(GO:\"cell proliferation\")): gtpBoundActivity(proteinAbundance(HGNC:RAB5A)) increases (proteinAbundance(HGNC:EGF) increases biologicalProcess(GO:\"cell proliferation\"))\r\n",
      "2016-11-30 14:28:05,884 - pybel - WARNING - Line 0004406 - PyBEL118 - Nesting unsupported: abundance(CHEBI:glucosamine) decreases (abundance(CHEBI:glucose) increases proteinAbundance(HGNC:INS)): abundance(CHEBI:glucosamine) decreases (abundance(CHEBI:glucose) increases proteinAbundance(HGNC:INS))\r\n",
      "2016-11-30 14:28:05,887 - pybel - WARNING - Line 0004416 - PyBEL118 - Nesting unsupported: abundance(CHEBI:glucosamine) decreases (abundance(CHEBI:glucose) increases proteinAbundance(HGNC:INS)): abundance(CHEBI:glucosamine) decreases (abundance(CHEBI:glucose) increases proteinAbundance(HGNC:INS))\r\n",
      "2016-11-30 14:28:05,890 - pybel - WARNING - Line 0004427 - PyBEL118 - Nesting unsupported: kinaseActivity(proteinAbundance(HGNC:INSR)) increases (abundance(CHEBI:glucose) increases proteinAbundance(HGNC:INS)): kinaseActivity(proteinAbundance(HGNC:INSR)) increases (abundance(CHEBI:glucose) increases proteinAbundance(HGNC:INS))\r\n",
      "2016-11-30 14:28:05,892 - pybel - WARNING - Line 0004428 - PyBEL118 - Nesting unsupported: kinaseActivity(complexAbundance(NCH:\"p85/p110 PI3Kinase Complex\")) increases (abundance(CHEBI:glucose) increases proteinAbundance(HGNC:INS)): kinaseActivity(complexAbundance(NCH:\"p85/p110 PI3Kinase Complex\")) increases (abundance(CHEBI:glucose) increases proteinAbundance(HGNC:INS))\r\n",
      "2016-11-30 14:28:05,894 - pybel - WARNING - Line 0004429 - PyBEL118 - Nesting unsupported: kinaseActivity(proteinAbundance(HGNC:MTOR)) increases (abundance(CHEBI:glucose) increases proteinAbundance(HGNC:INS)): kinaseActivity(proteinAbundance(HGNC:MTOR)) increases (abundance(CHEBI:glucose) increases proteinAbundance(HGNC:INS))\r\n",
      "2016-11-30 14:28:05,902 - pybel - WARNING - Line 0004438 - PyBEL118 - Nesting unsupported: abundance(CHEBI:glucose) decreases (proteinAbundance(PFR:\"Ins Family\") increases proteinAbundance(RGD:Irs1,proteinModification(P,Y))): abundance(CHEBI:glucose) decreases (proteinAbundance(PFR:\"Ins Family\") increases proteinAbundance(RGD:Irs1,proteinModification(P,Y)))\r\n",
      "2016-11-30 14:28:05,905 - pybel - WARNING - Line 0004444 - PyBEL118 - Nesting unsupported: abundance(CHEBI:glucose) decreases (proteinAbundance(PFR:\"Ins Family\") increases kinaseActivity(complexAbundance(NCR:\"p85/p110 PI3Kinase Complex\"))): abundance(CHEBI:glucose) decreases (proteinAbundance(PFR:\"Ins Family\") increases kinaseActivity(complexAbundance(NCR:\"p85/p110 PI3Kinase Complex\")))\r\n",
      "2016-11-30 14:28:05,908 - pybel - WARNING - Line 0004449 - PyBEL118 - Nesting unsupported: abundance(CHEBI:glucosamine) decreases (proteinAbundance(PFR:\"Ins Family\") increases proteinAbundance(RGD:Irs1,proteinModification(P,Y))): abundance(CHEBI:glucosamine) decreases (proteinAbundance(PFR:\"Ins Family\") increases proteinAbundance(RGD:Irs1,proteinModification(P,Y)))\r\n",
      "2016-11-30 14:28:05,911 - pybel - WARNING - Line 0004455 - PyBEL118 - Nesting unsupported: abundance(CHEBI:glucosamine) decreases (proteinAbundance(PFR:\"Ins Family\") increases kinaseActivity(complexAbundance(NCR:\"p85/p110 PI3Kinase Complex\"))): abundance(CHEBI:glucosamine) decreases (proteinAbundance(PFR:\"Ins Family\") increases kinaseActivity(complexAbundance(NCR:\"p85/p110 PI3Kinase Complex\")))\r\n",
      "2016-11-30 14:28:05,914 - pybel - WARNING - Line 0004461 - PyBEL118 - Nesting unsupported: abundance(CHEBI:glucosamine) decreases (proteinAbundance(PFR:\"Ins Family\") increases proteinAbundance(RGD:Irs1,proteinModification(P,Y,608))): abundance(CHEBI:glucosamine) decreases (proteinAbundance(PFR:\"Ins Family\") increases proteinAbundance(RGD:Irs1,proteinModification(P,Y,608)))\r\n",
      "2016-11-30 14:28:05,917 - pybel - WARNING - Line 0004462 - PyBEL118 - Nesting unsupported: abundance(CHEBI:glucosamine) decreases (proteinAbundance(PFR:\"Ins Family\") increases proteinAbundance(RGD:Irs1,proteinModification(P,Y,628))): abundance(CHEBI:glucosamine) decreases (proteinAbundance(PFR:\"Ins Family\") increases proteinAbundance(RGD:Irs1,proteinModification(P,Y,628)))\r\n",
      "2016-11-30 14:28:05,922 - pybel - WARNING - Line 0004468 - PyBEL118 - Nesting unsupported: abundance(CHEBI:glucosamine) decreases (proteinAbundance(PFR:\"Ins Family\") increases proteinAbundance(RGD:Irs2,proteinModification(P,Y))): abundance(CHEBI:glucosamine) decreases (proteinAbundance(PFR:\"Ins Family\") increases proteinAbundance(RGD:Irs2,proteinModification(P,Y)))\r\n",
      "2016-11-30 14:28:05,925 - pybel - WARNING - Line 0004476 - PyBEL118 - Nesting unsupported: abundance(CHEBI:glucosamine) decreases (proteinAbundance(PFR:\"Ins Family\") increases proteinAbundance(RGD:Akt1,proteinModification(P,S,473))): abundance(CHEBI:glucosamine) decreases (proteinAbundance(PFR:\"Ins Family\") increases proteinAbundance(RGD:Akt1,proteinModification(P,S,473)))\r\n",
      "2016-11-30 14:28:05,929 - pybel - WARNING - Line 0004483 - PyBEL118 - Nesting unsupported: abundance(CHEBI:glucosamine) decreases (proteinAbundance(PFR:\"Ins Family\") increases proteinAbundance(RGD:Mtor,proteinModification(P,S,2448))): abundance(CHEBI:glucosamine) decreases (proteinAbundance(PFR:\"Ins Family\") increases proteinAbundance(RGD:Mtor,proteinModification(P,S,2448)))\r\n",
      "2016-11-30 14:28:05,933 - pybel - WARNING - Line 0004484 - PyBEL118 - Nesting unsupported: abundance(CHEBI:glucosamine) decreases (proteinAbundance(PFR:\"Ins Family\") increases proteinAbundance(RGD:Tsc2,proteinModification(P,S,1462))): abundance(CHEBI:glucosamine) decreases (proteinAbundance(PFR:\"Ins Family\") increases proteinAbundance(RGD:Tsc2,proteinModification(P,S,1462)))\r\n",
      "2016-11-30 14:28:05,936 - pybel - WARNING - Line 0004491 - PyBEL118 - Nesting unsupported: abundance(CHEBI:glucosamine) decreases (proteinAbundance(PFR:\"Ins Family\") increases proteinAbundance(RGD:Rps6kb2,proteinModification(P,T,389))): abundance(CHEBI:glucosamine) decreases (proteinAbundance(PFR:\"Ins Family\") increases proteinAbundance(RGD:Rps6kb2,proteinModification(P,T,389)))\r\n",
      "2016-11-30 14:28:05,958 - pybel - WARNING - Line 0004512 - PyBEL118 - Nesting unsupported: abundance(SCHEM:Azaserine) decreases (abundance(CHEBI:glucose) increases kinaseActivity(proteinAbundance(PFR:\"Mapk JNK Family\"))): abundance(SCHEM:Azaserine) decreases (abundance(CHEBI:glucose) increases kinaseActivity(proteinAbundance(PFR:\"Mapk JNK Family\")))\r\n",
      "2016-11-30 14:28:05,961 - pybel - WARNING - Line 0004513 - PyBEL118 - Nesting unsupported: abundance(SCHEM:Azaserine) decreases (abundance(CHEBI:glucose) increases transcriptionalActivity(proteinAbundance(RGD:Jun))): abundance(SCHEM:Azaserine) decreases (abundance(CHEBI:glucose) increases transcriptionalActivity(proteinAbundance(RGD:Jun)))\r\n",
      "2016-11-30 14:28:05,964 - pybel - WARNING - Line 0004514 - PyBEL118 - Nesting unsupported: abundance(SCHEM:Azaserine) decreases (abundance(CHEBI:glucose) increases kinaseActivity(proteinAbundance(RGD:Mapk1))): abundance(SCHEM:Azaserine) decreases (abundance(CHEBI:glucose) increases kinaseActivity(proteinAbundance(RGD:Mapk1)))\r\n",
      "2016-11-30 14:28:05,966 - pybel - WARNING - Line 0004515 - PyBEL118 - Nesting unsupported: abundance(SCHEM:Azaserine) decreases (abundance(CHEBI:glucose) increases kinaseActivity(proteinAbundance(RGD:Mapk3))): abundance(SCHEM:Azaserine) decreases (abundance(CHEBI:glucose) increases kinaseActivity(proteinAbundance(RGD:Mapk3)))\r\n",
      "2016-11-30 14:28:06,025 - pybel - WARNING - Line 0004532 - PyBEL118 - Nesting unsupported: kinaseActivity(proteinAbundance(PFR:\"Mapk JNK Family\")) increases (abundance(CHEBI:glucosamine) increases proteinAbundance(RGD:Irs1,proteinModification(P,S,307))): kinaseActivity(proteinAbundance(PFR:\"Mapk JNK Family\")) increases (abundance(CHEBI:glucosamine) increases proteinAbundance(RGD:Irs1,proteinModification(P,S,307)))\r\n",
      "2016-11-30 14:28:06,028 - pybel - WARNING - Line 0004533 - PyBEL118 - Nesting unsupported: kinaseActivity(proteinAbundance(PFR:\"Mapk JNK Family\")) increases (abundance(CHEBI:glucosamine) increases proteinAbundance(RGD:Irs1,proteinModification(P,S,612))): kinaseActivity(proteinAbundance(PFR:\"Mapk JNK Family\")) increases (abundance(CHEBI:glucosamine) increases proteinAbundance(RGD:Irs1,proteinModification(P,S,612)))\r\n",
      "2016-11-30 14:28:06,032 - pybel - WARNING - Line 0004534 - PyBEL118 - Nesting unsupported: kinaseActivity(proteinAbundance(RGD:Map2k1)) increases (abundance(CHEBI:glucosamine) increases proteinAbundance(RGD:Irs1,proteinModification(P,S,307))): kinaseActivity(proteinAbundance(RGD:Map2k1)) increases (abundance(CHEBI:glucosamine) increases proteinAbundance(RGD:Irs1,proteinModification(P,S,307)))\r\n",
      "2016-11-30 14:28:06,034 - pybel - WARNING - Line 0004535 - PyBEL118 - Nesting unsupported: kinaseActivity(proteinAbundance(RGD:Map2k1)) increases (abundance(CHEBI:glucosamine) increases proteinAbundance(RGD:Irs1,proteinModification(P,S,612))): kinaseActivity(proteinAbundance(RGD:Map2k1)) increases (abundance(CHEBI:glucosamine) increases proteinAbundance(RGD:Irs1,proteinModification(P,S,612)))\r\n",
      "2016-11-30 14:28:06,161 - pybel - WARNING - Line 0004605 - PyBEL118 - Nesting unsupported: proteinAbundance(HGNC:MYD88) directlyIncreases (kinaseActivity(proteinAbundance(HGNC:IRAK4)) directlyIncreases kinaseActivity(proteinAbundance(HGNC:IRAK1))): proteinAbundance(HGNC:MYD88) directlyIncreases (kinaseActivity(proteinAbundance(HGNC:IRAK4)) directlyIncreases kinaseActivity(proteinAbundance(HGNC:IRAK1)))\r\n",
      "2016-11-30 14:28:06,181 - pybel - WARNING - Line 0004614 - PyBEL118 - Nesting unsupported: proteinAbundance(MGI:Irak1) increases (proteinAbundance(PFM:\"Il1 Family\") increases biologicalProcess(GO:\"cytokine production\")): proteinAbundance(MGI:Irak1) increases (proteinAbundance(PFM:\"Il1 Family\") increases biologicalProcess(GO:\"cytokine production\"))\r\n",
      "2016-11-30 14:28:06,184 - pybel - WARNING - Line 0004615 - PyBEL118 - Nesting unsupported: proteinAbundance(MGI:Irak1) increases (abundance(SCHEM:Lipopolysaccharide) increases biologicalProcess(GO:\"cytokine production\")): proteinAbundance(MGI:Irak1) increases (abundance(SCHEM:Lipopolysaccharide) increases biologicalProcess(GO:\"cytokine production\"))\r\n",
      "2016-11-30 14:28:06,221 - pybel - WARNING - Line 0004638 - PyBEL118 - Nesting unsupported: proteinAbundance(HGNC:MAP3K7) increases (proteinAbundance(PFH:\"IL1 Family\") increases transcriptionalActivity(complexAbundance(NCH:\"Nfkb Complex\"))): proteinAbundance(HGNC:MAP3K7) increases (proteinAbundance(PFH:\"IL1 Family\") increases transcriptionalActivity(complexAbundance(NCH:\"Nfkb Complex\")))\r\n",
      "2016-11-30 14:28:06,224 - pybel - WARNING - Line 0004639 - PyBEL118 - Nesting unsupported: proteinAbundance(HGNC:MAP3K7) increases (proteinAbundance(HGNC:TNF) increases transcriptionalActivity(complexAbundance(NCH:\"Nfkb Complex\"))): proteinAbundance(HGNC:MAP3K7) increases (proteinAbundance(HGNC:TNF) increases transcriptionalActivity(complexAbundance(NCH:\"Nfkb Complex\")))\r\n",
      "2016-11-30 14:28:06,312 - pybel - WARNING - Line 0004680 - PyBEL118 - Nesting unsupported: proteinAbundance(HGNC:PELI1) increases (proteinAbundance(PFH:\"IL1 Family\") increases transcriptionalActivity(complexAbundance(NCH:\"Nfkb Complex\"))): proteinAbundance(HGNC:PELI1) increases (proteinAbundance(PFH:\"IL1 Family\") increases transcriptionalActivity(complexAbundance(NCH:\"Nfkb Complex\")))\r\n",
      "2016-11-30 14:28:06,322 - pybel - WARNING - Line 0004682 - PyBEL118 - Nesting unsupported: proteinAbundance(HGNC:PELI2) increases (proteinAbundance(PFH:\"IL1 Family\") increases rnaAbundance(HGNC:IL8)): proteinAbundance(HGNC:PELI2) increases (proteinAbundance(PFH:\"IL1 Family\") increases rnaAbundance(HGNC:IL8))\r\n",
      "2016-11-30 14:28:06,325 - pybel - WARNING - Line 0004683 - PyBEL118 - Nesting unsupported: proteinAbundance(HGNC:PELI2) increases (abundance(SCHEM:Lipopolysaccharide) increases rnaAbundance(HGNC:IL8)): proteinAbundance(HGNC:PELI2) increases (abundance(SCHEM:Lipopolysaccharide) increases rnaAbundance(HGNC:IL8))\r\n",
      "2016-11-30 14:28:06,373 - pybel - WARNING - Line 0004719 - PyBEL118 - Nesting unsupported: molecularActivity(proteinAbundance(HGNC:TIRAP)) increases (abundance(SCHEM:Lipopolysaccharide) increases transcriptionalActivity(complexAbundance(NCH:\"Nfkb Complex\"))): molecularActivity(proteinAbundance(HGNC:TIRAP)) increases (abundance(SCHEM:Lipopolysaccharide) increases transcriptionalActivity(complexAbundance(NCH:\"Nfkb Complex\")))\r\n",
      "2016-11-30 14:28:06,375 - pybel - WARNING - Line 0004723 - PyBEL118 - Nesting unsupported: molecularActivity(proteinAbundance(HGNC:TIRAP)) increases (abundance(SCHEM:Lipopolysaccharide) increases biologicalProcess(GO:\"dendritic cell differentiation\")): molecularActivity(proteinAbundance(HGNC:TIRAP)) increases (abundance(SCHEM:Lipopolysaccharide) increases biologicalProcess(GO:\"dendritic cell differentiation\"))\r\n",
      "2016-11-30 14:28:06,378 - pybel - WARNING - Line 0004724 - PyBEL118 - Nesting unsupported: molecularActivity(proteinAbundance(HGNC:TIRAP)) increases (abundance(SCHEM:Lipopolysaccharide) increases proteinAbundance(HGNC:CXCL10)): molecularActivity(proteinAbundance(HGNC:TIRAP)) increases (abundance(SCHEM:Lipopolysaccharide) increases proteinAbundance(HGNC:CXCL10))\r\n",
      "2016-11-30 14:28:06,393 - pybel - WARNING - Line 0004738 - PyBEL118 - Nesting unsupported: proteinAbundance(MGI:Ticam1) increases (abundance(SCHEM:Lipopolysaccharide) increases biologicalProcess(GO:\"cytokine production\")): proteinAbundance(MGI:Ticam1) increases (abundance(SCHEM:Lipopolysaccharide) increases biologicalProcess(GO:\"cytokine production\"))\r\n",
      "2016-11-30 14:28:06,407 - pybel - WARNING - Line 0004763 - PyBEL118 - Nesting unsupported: abundance(SCHEM:\"Pertussis toxins\") decreases (proteinAbundance(PFH:\"COL1 Family\") increases proteinAbundance(HGNC:DDR1,proteinModification(P))): abundance(SCHEM:\"Pertussis toxins\") decreases (proteinAbundance(PFH:\"COL1 Family\") increases proteinAbundance(HGNC:DDR1,proteinModification(P)))\r\n",
      "2016-11-30 14:28:06,420 - pybel - WARNING - Line 0004788 - PyBEL118 - Nesting unsupported: abundance(SCHEM:\"Pertussis toxins\") decreases (proteinAbundance(HGNC:WNT5A) increases biologicalProcess(GO:\"cell-matrix adhesion\")): abundance(SCHEM:\"Pertussis toxins\") decreases (proteinAbundance(HGNC:WNT5A) increases biologicalProcess(GO:\"cell-matrix adhesion\"))\r\n",
      "2016-11-30 14:28:06,428 - pybel - WARNING - Line 0004799 - PyBEL118 - Nesting unsupported: abundance(SCHEM:Mastoparan) increases (proteinAbundance(PFH:\"COL1 Family\") increases proteinAbundance(HGNC:DDR1,proteinModification(P))): abundance(SCHEM:Mastoparan) increases (proteinAbundance(PFH:\"COL1 Family\") increases proteinAbundance(HGNC:DDR1,proteinModification(P)))\r\n",
      "2016-11-30 14:28:06,433 - pybel - WARNING - Line 0004808 - PyBEL118 - Nesting unsupported: abundance(SCHEM:\"PP1 tyrosine kinase inhibitor\") decreases (proteinAbundance(PFH:\"COL1 Family\") increases proteinAbundance(HGNC:DDR1,proteinModification(P))): abundance(SCHEM:\"PP1 tyrosine kinase inhibitor\") decreases (proteinAbundance(PFH:\"COL1 Family\") increases proteinAbundance(HGNC:DDR1,proteinModification(P)))\r\n",
      "2016-11-30 14:28:06,451 - pybel - WARNING - Line 0004820 - PyBEL118 - Nesting unsupported: abundance(SCHEM:\"Pertussis toxins\") decreases (proteinAbundance(PFH:\"COL1 Family\") increases complexAbundance(proteinAbundance(PFH:\"PIK3R Class IA Family\"),proteinAbundance(HGNC:DDR1))): abundance(SCHEM:\"Pertussis toxins\") decreases (proteinAbundance(PFH:\"COL1 Family\") increases complexAbundance(proteinAbundance(PFH:\"PIK3R Class IA Family\"),proteinAbundance(HGNC:DDR1)))\r\n",
      "2016-11-30 14:28:06,454 - pybel - WARNING - Line 0004821 - PyBEL118 - Nesting unsupported: abundance(SCHEM:\"Pertussis toxins\") decreases (biologicalProcess(GO:\"cell-matrix adhesion\") increases proteinAbundance(PFH:\"PIK3R Class IA Family\",proteinModification(P,Y))): abundance(SCHEM:\"Pertussis toxins\") decreases (biologicalProcess(GO:\"cell-matrix adhesion\") increases proteinAbundance(PFH:\"PIK3R Class IA Family\",proteinModification(P,Y)))\r\n",
      "2016-11-30 14:28:06,457 - pybel - WARNING - Line 0004828 - PyBEL118 - Nesting unsupported: proteinAbundance(HGNC:WNT5A) increases (gtpBoundActivity(proteinAbundance(PFH:\"GNAI Family\")) increases biologicalProcess(GO:\"cell-matrix adhesion\")): proteinAbundance(HGNC:WNT5A) increases (gtpBoundActivity(proteinAbundance(PFH:\"GNAI Family\")) increases biologicalProcess(GO:\"cell-matrix adhesion\"))\r\n",
      "2016-11-30 14:28:06,461 - pybel - WARNING - Line 0004829 - PyBEL118 - Nesting unsupported: proteinAbundance(HGNC:WNT5A) increases (gtpBoundActivity(proteinAbundance(PFH:\"GNAI Family\")) increases kinaseActivity(proteinAbundance(HGNC:DDR1))): proteinAbundance(HGNC:WNT5A) increases (gtpBoundActivity(proteinAbundance(PFH:\"GNAI Family\")) increases kinaseActivity(proteinAbundance(HGNC:DDR1)))\r\n",
      "2016-11-30 14:28:06,577 - pybel - WARNING - Line 0004991 - PyBEL137 - Invalid function for identifier SDIS:tumor growth. Valid are: [O]: abundance(SCHEM:\"smoke condensate, cigarette (gas phase)\") increases biologicalProcess(SDIS:\"tumor growth\")\r\n",
      "2016-11-30 14:28:06,844 - pybel - WARNING - Line 0005228 - PyBEL118 - Nesting unsupported: proteinAbundance(MGI:Ptpn11) decreases (molecularActivity(proteinAbundance(MGI:Il6st)) increases transcriptionalActivity(proteinAbundance(MGI:Stat3))): proteinAbundance(MGI:Ptpn11) decreases (molecularActivity(proteinAbundance(MGI:Il6st)) increases transcriptionalActivity(proteinAbundance(MGI:Stat3)))\r\n",
      "2016-11-30 14:28:06,909 - pybel - WARNING - Line 0005297 - PyBEL118 - Nesting unsupported: biologicalProcess(GO:\"response to fluid shear stress\") increases (molecularActivity(proteinAbundance(HGNC:NOX1)) increases abundance(CHEBI:\"reactive oxygen species\")): biologicalProcess(GO:\"response to fluid shear stress\") increases (molecularActivity(proteinAbundance(HGNC:NOX1)) increases abundance(CHEBI:\"reactive oxygen species\"))\r\n",
      "2016-11-30 14:28:06,969 - pybel - WARNING - Line 0005326 - PyBEL118 - Nesting unsupported: proteinAbundance(PFH:\"VEGF Family\") increases (molecularActivity(proteinAbundance(HGNC:CYBB)) increases abundance(CHEBI:\"reactive oxygen species\")): proteinAbundance(PFH:\"VEGF Family\") increases (molecularActivity(proteinAbundance(HGNC:CYBB)) increases abundance(CHEBI:\"reactive oxygen species\"))\r\n",
      "2016-11-30 14:28:06,972 - pybel - WARNING - Line 0005327 - PyBEL118 - Nesting unsupported: proteinAbundance(HGNC:ANGPT2) increases (molecularActivity(proteinAbundance(HGNC:CYBB)) increases abundance(CHEBI:\"reactive oxygen species\")): proteinAbundance(HGNC:ANGPT2) increases (molecularActivity(proteinAbundance(HGNC:CYBB)) increases abundance(CHEBI:\"reactive oxygen species\"))\r\n",
      "2016-11-30 14:28:07,028 - pybel - WARNING - Line 0005370 - PyBEL118 - Nesting unsupported: proteinAbundance(HGNC:TNF) increases (phosphataseActivity(proteinAbundance(HGNC:PTPN11)) directlyDecreases kinaseActivity(proteinAbundance(HGNC:KDR))): proteinAbundance(HGNC:TNF) increases (phosphataseActivity(proteinAbundance(HGNC:PTPN11)) directlyDecreases kinaseActivity(proteinAbundance(HGNC:KDR)))\r\n",
      "2016-11-30 14:28:07,216 - pybel - WARNING - Line 0005525 - PyBEL118 - Nesting unsupported: kinaseActivity(proteinAbundance(HGNC:AKT1)) increases (molecularActivity(proteinAbundance(HGNC:XPO1)) directlyIncreases translocation(proteinAbundance(PFH:\"FOXO Family\"),MESHCL:\"Cell Nucleus\",MESHCL:Cytoplasm)): kinaseActivity(proteinAbundance(HGNC:AKT1)) increases (molecularActivity(proteinAbundance(HGNC:XPO1)) directlyIncreases translocation(proteinAbundance(PFH:\"FOXO Family\"),MESHCL:\"Cell Nucleus\",MESHCL:Cytoplasm))\r\n",
      "2016-11-30 14:28:07,222 - pybel - WARNING - Line 0005526 - PyBEL118 - Nesting unsupported: kinaseActivity(proteinAbundance(HGNC:AKT1)) increases (molecularActivity(proteinAbundance(PFH:\"14-3-3 Family\")) directlyIncreases translocation(proteinAbundance(PFH:\"FOXO Family\"),MESHCL:\"Cell Nucleus\",MESHCL:Cytoplasm)): kinaseActivity(proteinAbundance(HGNC:AKT1)) increases (molecularActivity(proteinAbundance(PFH:\"14-3-3 Family\")) directlyIncreases translocation(proteinAbundance(PFH:\"FOXO Family\"),MESHCL:\"Cell Nucleus\",MESHCL:Cytoplasm))\r\n",
      "2016-11-30 14:28:07,232 - pybel - WARNING - Line 0005533 - PyBEL118 - Nesting unsupported: kinaseActivity(proteinAbundance(HGNC:AKT1)) increases (catalyticActivity(proteinAbundance(HGNC:SKP2)) directlyIncreases degradation(proteinAbundance(PFH:\"FOXO Family\"))): kinaseActivity(proteinAbundance(HGNC:AKT1)) increases (catalyticActivity(proteinAbundance(HGNC:SKP2)) directlyIncreases degradation(proteinAbundance(PFH:\"FOXO Family\")))\r\n",
      "2016-11-30 14:28:07,397 - pybel - WARNING - Line 0005671 - PyBEL118 - Nesting unsupported: abundance(SCHEM:Gefitinib) decreases (proteinAbundance(HGNC:EGF) increases complexAbundance(proteinAbundance(HGNC:ERBB3),proteinAbundance(PFH:\"PIK3R Class IA Family\"))): abundance(SCHEM:Gefitinib) decreases (proteinAbundance(HGNC:EGF) increases complexAbundance(proteinAbundance(HGNC:ERBB3),proteinAbundance(PFH:\"PIK3R Class IA Family\")))\r\n",
      "2016-11-30 14:28:07,506 - pybel - WARNING - Line 0005801 - PyBEL118 - Nesting unsupported: proteinAbundance(MGI:Pgf) increases (proteinAbundance(MGI:Vegfa) directlyIncreases kinaseActivity(proteinAbundance(MGI:Kdr))): proteinAbundance(MGI:Pgf) increases (proteinAbundance(MGI:Vegfa) directlyIncreases kinaseActivity(proteinAbundance(MGI:Kdr)))\r\n",
      "2016-11-30 14:28:07,571 - pybel - WARNING - Line 0005839 - PyBEL118 - Nesting unsupported: proteinAbundance(MGI:Lrig1) decreases (proteinAbundance(MGI:Egf) increases biologicalProcess(GO:\"immortalization of host cell\")): proteinAbundance(MGI:Lrig1) decreases (proteinAbundance(MGI:Egf) increases biologicalProcess(GO:\"immortalization of host cell\"))\r\n",
      "2016-11-30 14:28:07,574 - pybel - WARNING - Line 0005844 - PyBEL118 - Nesting unsupported: proteinAbundance(HGNC:LRIG1) decreases (proteinAbundance(HGNC:EGF) increases biologicalProcess(GO:\"cell proliferation\")): proteinAbundance(HGNC:LRIG1) decreases (proteinAbundance(HGNC:EGF) increases biologicalProcess(GO:\"cell proliferation\"))\r\n",
      "2016-11-30 14:28:07,578 - pybel - WARNING - Line 0005845 - PyBEL118 - Nesting unsupported: proteinAbundance(HGNC:LRIG1) decreases (proteinAbundance(HGNC:NRG1) increases biologicalProcess(GO:\"cell proliferation\")): proteinAbundance(HGNC:LRIG1) decreases (proteinAbundance(HGNC:NRG1) increases biologicalProcess(GO:\"cell proliferation\"))\r\n",
      "2016-11-30 14:28:07,644 - pybel - WARNING - Line 0005888 - PyBEL118 - Nesting unsupported: proteinAbundance(HGNC:LRIG1) increases (proteinAbundance(HGNC:EGF) directlyIncreases proteinAbundance(HGNC:EGFR,proteinModification(U,K))): proteinAbundance(HGNC:LRIG1) increases (proteinAbundance(HGNC:EGF) directlyIncreases proteinAbundance(HGNC:EGFR,proteinModification(U,K)))\r\n",
      "2016-11-30 14:28:07,648 - pybel - WARNING - Line 0005889 - PyBEL118 - Nesting unsupported: proteinAbundance(HGNC:LRIG1) increases (proteinAbundance(HGNC:EGF) directlyIncreases proteinAbundance(HGNC:ERBB4,proteinModification(U,K))): proteinAbundance(HGNC:LRIG1) increases (proteinAbundance(HGNC:EGF) directlyIncreases proteinAbundance(HGNC:ERBB4,proteinModification(U,K)))\r\n",
      "2016-11-30 14:28:07,673 - pybel - WARNING - Line 0005932 - PyBEL118 - Nesting unsupported: proteinAbundance(MGI:Lrig1) decreases (proteinAbundance(MGI:Egf) increases biologicalProcess(GO:\"immortalization of host cell\")): proteinAbundance(MGI:Lrig1) decreases (proteinAbundance(MGI:Egf) increases biologicalProcess(GO:\"immortalization of host cell\"))\r\n",
      "2016-11-30 14:28:07,677 - pybel - WARNING - Line 0005940 - PyBEL118 - Nesting unsupported: proteinAbundance(HGNC:LRIG1) decreases (proteinAbundance(HGNC:EGF) increases biologicalProcess(GO:\"cell proliferation\")): proteinAbundance(HGNC:LRIG1) decreases (proteinAbundance(HGNC:EGF) increases biologicalProcess(GO:\"cell proliferation\"))\r\n",
      "2016-11-30 14:28:07,680 - pybel - WARNING - Line 0005941 - PyBEL118 - Nesting unsupported: proteinAbundance(HGNC:LRIG1) decreases (proteinAbundance(HGNC:NRG1) increases biologicalProcess(GO:\"cell proliferation\")): proteinAbundance(HGNC:LRIG1) decreases (proteinAbundance(HGNC:NRG1) increases biologicalProcess(GO:\"cell proliferation\"))\r\n",
      "2016-11-30 14:28:07,699 - pybel - WARNING - Line 0005967 - PyBEL118 - Nesting unsupported: abundance(SCHEM:\"PD 98,059\") decreases (proteinAbundance(RGD:Igf1) increases kinaseActivity(proteinAbundance(PFR:\"Rps6kb Family\"))): abundance(SCHEM:\"PD 98,059\") decreases (proteinAbundance(RGD:Igf1) increases kinaseActivity(proteinAbundance(PFR:\"Rps6kb Family\")))\r\n",
      "2016-11-30 14:28:07,727 - pybel - WARNING - Line 0005994 - PyBEL118 - Nesting unsupported: abundance(SCHEM:\"PD 98,059\") decreases (proteinAbundance(RGD:Igf1) increases biologicalProcess(GO:\"skeletal muscle hypertrophy\")): abundance(SCHEM:\"PD 98,059\") decreases (proteinAbundance(RGD:Igf1) increases biologicalProcess(GO:\"skeletal muscle hypertrophy\"))\r\n",
      "2016-11-30 14:28:07,738 - pybel - WARNING - Line 0006002 - PyBEL118 - Nesting unsupported: abundance(SCHEM:\"PD 98,059\") decreases (proteinAbundance(RGD:Igf1) increases proteinAbundance(PFR:\"Rps6kb Family\",proteinModification(P,T,412))): abundance(SCHEM:\"PD 98,059\") decreases (proteinAbundance(RGD:Igf1) increases proteinAbundance(PFR:\"Rps6kb Family\",proteinModification(P,T,412)))\r\n",
      "2016-11-30 14:28:07,744 - pybel - WARNING - Line 0006004 - PyBEL118 - Nesting unsupported: abundance(SCHEM:\"PD 98,059\") decreases (proteinAbundance(RGD:Igf1) increases kinaseActivity(proteinAbundance(PFR:\"Rps6kb Family\"))): abundance(SCHEM:\"PD 98,059\") decreases (proteinAbundance(RGD:Igf1) increases kinaseActivity(proteinAbundance(PFR:\"Rps6kb Family\")))\r\n",
      "2016-11-30 14:28:07,752 - pybel - WARNING - Line 0006018 - PyBEL118 - Nesting unsupported: abundance(SCHEM:\"PD 98,059\") decreases (proteinAbundance(RGD:Igf1) increases biologicalProcess(GO:\"skeletal muscle hypertrophy\")): abundance(SCHEM:\"PD 98,059\") decreases (proteinAbundance(RGD:Igf1) increases biologicalProcess(GO:\"skeletal muscle hypertrophy\"))\r\n",
      "2016-11-30 14:28:07,776 - pybel - WARNING - Line 0006047 - PyBEL118 - Nesting unsupported: abundance(SCHEM:\"PD 98,059\") decreases (proteinAbundance(RGD:Igf1) increases kinaseActivity(proteinAbundance(PFR:\"MAPK Erk1/3 Family\"))): abundance(SCHEM:\"PD 98,059\") decreases (proteinAbundance(RGD:Igf1) increases kinaseActivity(proteinAbundance(PFR:\"MAPK Erk1/3 Family\")))\r\n",
      "2016-11-30 14:28:07,835 - pybel - WARNING - Line 0006106 - PyBEL118 - Nesting unsupported: abundance(SCHEM:\"LY 294002\") decreases (proteinAbundance(PFM:\"Pdgf Family\") decreases rnaAbundance(MGI:Cdkn1b)): abundance(SCHEM:\"LY 294002\") decreases (proteinAbundance(PFM:\"Pdgf Family\") decreases rnaAbundance(MGI:Cdkn1b))\r\n",
      "2016-11-30 14:28:07,838 - pybel - WARNING - Line 0006107 - PyBEL118 - Nesting unsupported: abundance(SCHEM:\"PD 98,059\") decreases (proteinAbundance(PFM:\"Pdgf Family\") decreases rnaAbundance(MGI:Cdkn1b)): abundance(SCHEM:\"PD 98,059\") decreases (proteinAbundance(PFM:\"Pdgf Family\") decreases rnaAbundance(MGI:Cdkn1b))\r\n",
      "2016-11-30 14:28:07,850 - pybel - WARNING - Line 0006124 - PyBEL118 - Nesting unsupported: proteinAbundance(MGI:Hras1,substitution(G,12,V)) decreases (biologicalProcess(GO:\"cellular response to starvation\") increases proteinAbundance(MGI:Cdkn1b)): proteinAbundance(MGI:Hras1,substitution(G,12,V)) decreases (biologicalProcess(GO:\"cellular response to starvation\") increases proteinAbundance(MGI:Cdkn1b))\r\n",
      "2016-11-30 14:28:07,853 - pybel - WARNING - Line 0006132 - PyBEL118 - Nesting unsupported: abundance(SCHEM:\"PD 98,059\") decreases (proteinAbundance(MGI:Hras1,substitution(G,12,V)) decreases proteinAbundance(MGI:Cdkn1b)): abundance(SCHEM:\"PD 98,059\") decreases (proteinAbundance(MGI:Hras1,substitution(G,12,V)) decreases proteinAbundance(MGI:Cdkn1b))\r\n",
      "2016-11-30 14:28:07,856 - pybel - WARNING - Line 0006133 - PyBEL118 - Nesting unsupported: abundance(SCHEM:\"LY 294002\") decreases (proteinAbundance(MGI:Hras1,substitution(G,12,V)) decreases proteinAbundance(MGI:Cdkn1b)): abundance(SCHEM:\"LY 294002\") decreases (proteinAbundance(MGI:Hras1,substitution(G,12,V)) decreases proteinAbundance(MGI:Cdkn1b))\r\n",
      "2016-11-30 14:28:07,913 - pybel - WARNING - Line 0006175 - PyBEL118 - Nesting unsupported: proteinAbundance(HGNC:CDKN1B,proteinModification(P,T,187)) directlyIncreases (catalyticActivity(proteinAbundance(HGNC:SKP2)) directlyIncreases degradation(proteinAbundance(HGNC:CDKN1B))): proteinAbundance(HGNC:CDKN1B,proteinModification(P,T,187)) directlyIncreases (catalyticActivity(proteinAbundance(HGNC:SKP2)) directlyIncreases degradation(proteinAbundance(HGNC:CDKN1B)))\r\n",
      "2016-11-30 14:28:08,093 - pybel - WARNING - Line 0006364 - PyBEL118 - Nesting unsupported: phosphataseActivity(complexAbundance(NCM:\"Calcineurin Complex\")) increases (transcriptionalActivity(proteinAbundance(MGI:Camk4)) directlyIncreases rnaAbundance(MGI:Ppargc1a)): phosphataseActivity(complexAbundance(NCM:\"Calcineurin Complex\")) increases (transcriptionalActivity(proteinAbundance(MGI:Camk4)) directlyIncreases rnaAbundance(MGI:Ppargc1a))\r\n",
      "2016-11-30 14:28:08,106 - pybel - WARNING - Line 0006380 - PyBEL118 - Nesting unsupported: transcriptionalActivity(proteinAbundance(MGI:Creb1)) increases (proteinAbundance(MGI:Camk4) directlyIncreases rnaAbundance(MGI:Ppargc1a)): transcriptionalActivity(proteinAbundance(MGI:Creb1)) increases (proteinAbundance(MGI:Camk4) directlyIncreases rnaAbundance(MGI:Ppargc1a))\r\n",
      "2016-11-30 14:28:08,126 - pybel - WARNING - Line 0006407 - PyBEL118 - Nesting unsupported: phosphataseActivity(complexAbundance(NCM:\"Calcineurin Complex\")) increases (transcriptionalActivity(proteinAbundance(MGI:Mef2c)) increases rnaAbundance(MGI:Ppargc1a)): phosphataseActivity(complexAbundance(NCM:\"Calcineurin Complex\")) increases (transcriptionalActivity(proteinAbundance(MGI:Mef2c)) increases rnaAbundance(MGI:Ppargc1a))\r\n",
      "2016-11-30 14:28:08,128 - pybel - WARNING - Line 0006408 - PyBEL118 - Nesting unsupported: phosphataseActivity(complexAbundance(NCM:\"Calcineurin Complex\")) increases (transcriptionalActivity(proteinAbundance(MGI:Mef2c)) increases rnaAbundance(MGI:Ppargc1a)): phosphataseActivity(complexAbundance(NCM:\"Calcineurin Complex\")) increases (transcriptionalActivity(proteinAbundance(MGI:Mef2c)) increases rnaAbundance(MGI:Ppargc1a))\r\n",
      "2016-11-30 14:28:08,331 - pybel - WARNING - Line 0006633 - PyBEL137 - Invalid function for identifier SDIS:tumor growth. Valid are: [O]: proteinAbundance(HGNC:PAWR) decreases biologicalProcess(SDIS:\"tumor growth\")\r\n",
      "2016-11-30 14:28:08,407 - pybel - WARNING - Line 0006666 - PyBEL118 - Nesting unsupported: complexAbundance(proteinAbundance(PFH:\"14-3-3 Family\"),proteinAbundance(HGNC:PAWR)) directlyDecreases (molecularActivity(proteinAbundance(HGNC:PAWR)) increases biologicalProcess(GO:\"apoptotic process\")): complexAbundance(proteinAbundance(PFH:\"14-3-3 Family\"),proteinAbundance(HGNC:PAWR)) directlyDecreases (molecularActivity(proteinAbundance(HGNC:PAWR)) increases biologicalProcess(GO:\"apoptotic process\"))\r\n",
      "2016-11-30 14:28:08,410 - pybel - WARNING - Line 0006671 - PyBEL118 - Nesting unsupported: proteinAbundance(HGNC:PAWR) increases (proteinAbundance(HGNC:PTEN) increases biologicalProcess(GO:\"apoptotic process\")): proteinAbundance(HGNC:PAWR) increases (proteinAbundance(HGNC:PTEN) increases biologicalProcess(GO:\"apoptotic process\"))\r\n",
      "2016-11-30 14:28:08,476 - pybel - WARNING - Line 0006763 - PyBEL118 - Nesting unsupported: proteinAbundance(MGI:Hck,substitution(Y,499,F)) increases (abundance(CHEBI:lipopolysaccharide) increases proteinAbundance(MGI:Tnf)): proteinAbundance(MGI:Hck,substitution(Y,499,F)) increases (abundance(CHEBI:lipopolysaccharide) increases proteinAbundance(MGI:Tnf))\r\n",
      "2016-11-30 14:28:08,481 - pybel - WARNING - Line 0006769 - PyBEL118 - Nesting unsupported: proteinAbundance(MGI:Hck,substitution(Y,499,F)) increases (abundance(CHEBI:lipopolysaccharide) increases peptidaseActivity(proteinAbundance(MGI:Mmp9))): proteinAbundance(MGI:Hck,substitution(Y,499,F)) increases (abundance(CHEBI:lipopolysaccharide) increases peptidaseActivity(proteinAbundance(MGI:Mmp9)))\r\n",
      "2016-11-30 14:28:08,485 - pybel - WARNING - Line 0006770 - PyBEL118 - Nesting unsupported: proteinAbundance(MGI:Hck,substitution(Y,499,F)) increases (abundance(CHEBI:lipopolysaccharide) increases peptidaseActivity(proteinAbundance(MGI:Mmp2))): proteinAbundance(MGI:Hck,substitution(Y,499,F)) increases (abundance(CHEBI:lipopolysaccharide) increases peptidaseActivity(proteinAbundance(MGI:Mmp2)))\r\n",
      "2016-11-30 14:28:08,488 - pybel - WARNING - Line 0006777 - PyBEL118 - Nesting unsupported: proteinAbundance(MGI:Hck,substitution(Y,499,F)) increases (abundance(CHEBI:lipopolysaccharide) increases abundance(CHEBI:\"nitric oxide\")): proteinAbundance(MGI:Hck,substitution(Y,499,F)) increases (abundance(CHEBI:lipopolysaccharide) increases abundance(CHEBI:\"nitric oxide\"))\r\n",
      "2016-11-30 14:28:08,492 - pybel - WARNING - Line 0006778 - PyBEL118 - Nesting unsupported: proteinAbundance(MGI:Hck,substitution(Y,499,F)) increases (abundance(CHEBI:lipopolysaccharide) increases proteinAbundance(MGI:Nos2)): proteinAbundance(MGI:Hck,substitution(Y,499,F)) increases (abundance(CHEBI:lipopolysaccharide) increases proteinAbundance(MGI:Nos2))\r\n",
      "2016-11-30 14:28:08,507 - pybel - WARNING - Line 0006802 - PyBEL118 - Nesting unsupported: proteinAbundance(MGI:Hck,substitution(Y,499,F)) increases (proteinAbundance(MGI:Tnf) increases abundance(CHEBI:superoxide)): proteinAbundance(MGI:Hck,substitution(Y,499,F)) increases (proteinAbundance(MGI:Tnf) increases abundance(CHEBI:superoxide))\r\n",
      "2016-11-30 14:28:08,510 - pybel - WARNING - Line 0006803 - PyBEL118 - Nesting unsupported: proteinAbundance(MGI:Hck,substitution(Y,499,F)) increases (abundance(CHEBIID:53490) increases abundance(CHEBI:superoxide)): proteinAbundance(MGI:Hck,substitution(Y,499,F)) increases (abundance(CHEBIID:53490) increases abundance(CHEBI:superoxide))\r\n",
      "2016-11-30 14:28:08,520 - pybel - WARNING - Line 0006821 - PyBEL118 - Nesting unsupported: proteinAbundance(HGNC:NR2F1) decreases (abundance(CHEBIID:28119) increases rnaAbundance(HGNC:CYP1A1)): proteinAbundance(HGNC:NR2F1) decreases (abundance(CHEBIID:28119) increases rnaAbundance(HGNC:CYP1A1))\r\n",
      "2016-11-30 14:28:08,529 - pybel - WARNING - Line 0006829 - PyBEL118 - Nesting unsupported: abundance(SCHEM:Estradiol) decreases (abundance(SCHEM:Tetrachlorodibenzodioxin) increases rnaAbundance(HGNC:CYP1A1)): abundance(SCHEM:Estradiol) decreases (abundance(SCHEM:Tetrachlorodibenzodioxin) increases rnaAbundance(HGNC:CYP1A1))\r\n",
      "2016-11-30 14:28:08,531 - pybel - WARNING - Line 0006830 - PyBEL118 - Nesting unsupported: abundance(SCHEM:Estradiol) decreases (transcriptionalActivity(proteinAbundance(HGNC:AHR)) directlyIncreases rnaAbundance(HGNC:CYP1A1)): abundance(SCHEM:Estradiol) decreases (transcriptionalActivity(proteinAbundance(HGNC:AHR)) directlyIncreases rnaAbundance(HGNC:CYP1A1))\r\n",
      "2016-11-30 14:28:08,538 - pybel - WARNING - Line 0006845 - PyBEL118 - Nesting unsupported: proteinAbundance(HGNC:NR2F1) decreases (abundance(SCHEM:Tetrachlorodibenzodioxin) increases rnaAbundance(HGNC:CYP1A1)): proteinAbundance(HGNC:NR2F1) decreases (abundance(SCHEM:Tetrachlorodibenzodioxin) increases rnaAbundance(HGNC:CYP1A1))\r\n",
      "2016-11-30 14:28:08,541 - pybel - WARNING - Line 0006846 - PyBEL118 - Nesting unsupported: proteinAbundance(HGNC:NR2F1) decreases (abundance(SCHEM:Estradiol) increases rnaAbundance(HGNC:CYP1A1)): proteinAbundance(HGNC:NR2F1) decreases (abundance(SCHEM:Estradiol) increases rnaAbundance(HGNC:CYP1A1))\r\n",
      "2016-11-30 14:28:08,544 - pybel - WARNING - Line 0006851 - PyBEL118 - Nesting unsupported: abundance(SCHEM:Tetrachlorodibenzodioxin) decreases (abundance(SCHEM:Estradiol) increases rnaAbundance(HGNC:TFF1)): abundance(SCHEM:Tetrachlorodibenzodioxin) decreases (abundance(SCHEM:Estradiol) increases rnaAbundance(HGNC:TFF1))\r\n",
      "2016-11-30 14:28:08,552 - pybel - WARNING - Line 0006864 - PyBEL118 - Nesting unsupported: abundance(SCHEM:\"4,17beta-Dihydroxy-4-androstene-3-one\") decreases (abundance(CHEBIID:16469) increases rnaAbundance(HGNC:TFF1)): abundance(SCHEM:\"4,17beta-Dihydroxy-4-androstene-3-one\") decreases (abundance(CHEBIID:16469) increases rnaAbundance(HGNC:TFF1))\r\n",
      "2016-11-30 14:28:08,556 - pybel - WARNING - Line 0006866 - PyBEL118 - Nesting unsupported: abundance(SCHEM:Tetrachlorodibenzodioxin) decreases (abundance(CHEBIID:16469) increases rnaAbundance(HGNC:TFF1)): abundance(SCHEM:Tetrachlorodibenzodioxin) decreases (abundance(CHEBIID:16469) increases rnaAbundance(HGNC:TFF1))\r\n",
      "2016-11-30 14:28:08,559 - pybel - WARNING - Line 0006867 - PyBEL118 - Nesting unsupported: proteinAbundance(HGNC:NR2F1) decreases (abundance(CHEBIID:16469) increases rnaAbundance(HGNC:TFF1)): proteinAbundance(HGNC:NR2F1) decreases (abundance(CHEBIID:16469) increases rnaAbundance(HGNC:TFF1))\r\n",
      "2016-11-30 14:28:08,561 - pybel - WARNING - Line 0006868 - PyBEL118 - Nesting unsupported: proteinAbundance(HGNC:NR2F1) decreases (abundance(SCHEM:Tetrachlorodibenzodioxin) increases rnaAbundance(HGNC:TFF1)): proteinAbundance(HGNC:NR2F1) decreases (abundance(SCHEM:Tetrachlorodibenzodioxin) increases rnaAbundance(HGNC:TFF1))\r\n",
      "2016-11-30 14:28:08,584 - pybel - WARNING - Line 0006880 - PyBEL118 - Nesting unsupported: abundance(SCHEM:Tetrachlorodibenzodioxin) decreases (abundance(SCHEM:Estradiol) increases rnaAbundance(HGNC:FOS)): abundance(SCHEM:Tetrachlorodibenzodioxin) decreases (abundance(SCHEM:Estradiol) increases rnaAbundance(HGNC:FOS))\r\n",
      "2016-11-30 14:28:08,587 - pybel - WARNING - Line 0006881 - PyBEL118 - Nesting unsupported: proteinAbundance(HGNC:NR2F1) decreases (abundance(SCHEM:Estradiol) increases rnaAbundance(HGNC:FOS)): proteinAbundance(HGNC:NR2F1) decreases (abundance(SCHEM:Estradiol) increases rnaAbundance(HGNC:FOS))\r\n",
      "2016-11-30 14:28:08,697 - pybel - WARNING - Line 0007024 - PyBEL118 - Nesting unsupported: abundance(CHEBIID:52289) decreases (abundance(CHEBIID:50864) increases kinaseActivity(proteinAbundance(HGNC:GSK3A))): abundance(CHEBIID:52289) decreases (abundance(CHEBIID:50864) increases kinaseActivity(proteinAbundance(HGNC:GSK3A)))\r\n",
      "2016-11-30 14:28:08,700 - pybel - WARNING - Line 0007029 - PyBEL118 - Nesting unsupported: abundance(CHEBIID:52289) decreases (abundance(CHEBIID:50864) increases kinaseActivity(proteinAbundance(HGNC:GSK3B))): abundance(CHEBIID:52289) decreases (abundance(CHEBIID:50864) increases kinaseActivity(proteinAbundance(HGNC:GSK3B)))\r\n",
      "2016-11-30 14:28:08,864 - pybel - WARNING - Line 0007228 - PyBEL118 - Nesting unsupported: proteinAbundance(HGNC:ANGPT2) directlyDecreases (proteinAbundance(HGNC:ANGPT1) directlyIncreases kinaseActivity(proteinAbundance(HGNC:TEK))): proteinAbundance(HGNC:ANGPT2) directlyDecreases (proteinAbundance(HGNC:ANGPT1) directlyIncreases kinaseActivity(proteinAbundance(HGNC:TEK)))\r\n",
      "2016-11-30 14:28:09,231 - pybel - INFO - Finished parsing statements section in 7.91 seconds\r\n",
      "2016-11-30 14:28:09,231 - pybel - INFO - Outputting pickle to /Users/cthoyt/Downloads/test.gpickle\r\n",
      "\r\n",
      "real\t0m18.319s\r\n",
      "user\t0m17.365s\r\n",
      "sys\t0m0.941s\r\n",
      "(pybel_comparison_1480512406) "
     ]
    }
   ],
   "source": [
    "time pybel convert --path $small --pickle ~/Downloads/test.gpickle -v"
   ]
  },
  {
   "cell_type": "code",
   "execution_count": 12,
   "metadata": {
    "collapsed": false
   },
   "outputs": [
    {
     "name": "stdout",
     "output_type": "stream",
     "text": []
    }
   ],
   "source": [
    "deactivate\n",
    "rm -rf \"~/.virtualenvs/$virtualenv_name\""
   ]
  },
  {
   "cell_type": "markdown",
   "metadata": {},
   "source": [
    "## Test with [bel.rb](https://github.com/OpenBEL/bel.rb)\n",
    "\n",
    "We've yet to get `bel.rb` to run by following either the simple instructions `gem install bel` or the developer instructions on the project GitHub page. We're waiting on the developer for some support. This is as far as we've got:"
   ]
  },
  {
   "cell_type": "code",
   "execution_count": 13,
   "metadata": {
    "collapsed": false
   },
   "outputs": [
    {
     "name": "stdout",
     "output_type": "stream",
     "text": [
      "rbenv 1.1.0\r\n"
     ]
    }
   ],
   "source": [
    "rbenv --version"
   ]
  },
  {
   "cell_type": "code",
   "execution_count": 14,
   "metadata": {
    "collapsed": false
   },
   "outputs": [
    {
     "name": "stdout",
     "output_type": "stream",
     "text": []
    }
   ],
   "source": [
    "eval \"$(rbenv init -)\""
   ]
  },
  {
   "cell_type": "code",
   "execution_count": 15,
   "metadata": {
    "collapsed": false
   },
   "outputs": [
    {
     "name": "stdout",
     "output_type": "stream",
     "text": []
    }
   ],
   "source": [
    "rbenv install \"2.3.0\" --skip-existing"
   ]
  },
  {
   "cell_type": "code",
   "execution_count": 16,
   "metadata": {
    "collapsed": false
   },
   "outputs": [
    {
     "name": "stdout",
     "output_type": "stream",
     "text": []
    }
   ],
   "source": [
    "rbenv local \"2.3.0\""
   ]
  },
  {
   "cell_type": "code",
   "execution_count": 17,
   "metadata": {
    "collapsed": false
   },
   "outputs": [
    {
     "name": "stdout",
     "output_type": "stream",
     "text": [
      "/Users/cthoyt/.rbenv/shims/ruby\r\n"
     ]
    }
   ],
   "source": [
    "which ruby"
   ]
  },
  {
   "cell_type": "code",
   "execution_count": 18,
   "metadata": {
    "collapsed": false
   },
   "outputs": [
    {
     "name": "stdout",
     "output_type": "stream",
     "text": [
      "/Users/cthoyt/.rbenv/versions/2.3.0/bin/ruby\r\n"
     ]
    }
   ],
   "source": [
    "rbenv which ruby"
   ]
  },
  {
   "cell_type": "code",
   "execution_count": 19,
   "metadata": {
    "collapsed": false
   },
   "outputs": [
    {
     "name": "stdout",
     "output_type": "stream",
     "text": [
      "ruby 2.3.0p0 (2015-12-25 revision 53290) [x86_64-darwin16]\r\n"
     ]
    }
   ],
   "source": [
    "ruby --version"
   ]
  },
  {
   "cell_type": "code",
   "execution_count": 20,
   "metadata": {
    "collapsed": false
   },
   "outputs": [
    {
     "name": "stdout",
     "output_type": "stream",
     "text": [
      "/Users/cthoyt/.rbenv/shims/gem\r\n"
     ]
    }
   ],
   "source": [
    "which gem"
   ]
  },
  {
   "cell_type": "code",
   "execution_count": 21,
   "metadata": {
    "collapsed": false
   },
   "outputs": [
    {
     "name": "stdout",
     "output_type": "stream",
     "text": [
      "/Users/cthoyt/.rbenv/versions/2.3.0/bin/gem\r\n"
     ]
    }
   ],
   "source": [
    "rbenv which gem"
   ]
  },
  {
   "cell_type": "code",
   "execution_count": 22,
   "metadata": {
    "collapsed": false
   },
   "outputs": [
    {
     "name": "stdout",
     "output_type": "stream",
     "text": [
      "2.6.8\r\n"
     ]
    }
   ],
   "source": [
    "gem --version"
   ]
  },
  {
   "cell_type": "code",
   "execution_count": 23,
   "metadata": {
    "collapsed": false
   },
   "outputs": [
    {
     "name": "stdout",
     "output_type": "stream",
     "text": [
      "/var/folders/n1/h1c266qj2jq8kfdzfxj53pzw0000gn/T/tmp.ggUsUtUr\r\n"
     ]
    }
   ],
   "source": [
    "dir=$(mktemp -d)\n",
    "cd $dir\n",
    "echo $dir"
   ]
  },
  {
   "cell_type": "code",
   "execution_count": 24,
   "metadata": {
    "collapsed": false
   },
   "outputs": [
    {
     "name": "stdout",
     "output_type": "stream",
     "text": [
      "Cloning into 'OpenBEL/bel.rb'...\r\n",
      "remote: Counting objects: 4909, done.\u001b[K\r\n",
      "Receiving objects:   0% (1/4909)   \r",
      "Receiving objects:   1% (50/4909)   \r",
      "Receiving objects:   2% (99/4909)   \r",
      "Receiving objects:   3% (148/4909)   \r",
      "Receiving objects:   4% (197/4909)   \r",
      "Receiving objects:   5% (246/4909)   \r",
      "Receiving objects:   6% (295/4909)   \r",
      "Receiving objects:   7% (344/4909)   \r",
      "Receiving objects:   8% (393/4909)   \r",
      "Receiving objects:   9% (442/4909)   \r",
      "Receiving objects:  10% (491/4909)   \r",
      "Receiving objects:  11% (540/4909)   \r",
      "Receiving objects:  12% (590/4909)   \r",
      "Receiving objects:  13% (639/4909)   \r",
      "Receiving objects:  14% (688/4909)   \r",
      "Receiving objects:  15% (737/4909)   \r",
      "Receiving objects:  16% (786/4909)   \r",
      "Receiving objects:  17% (835/4909)   \r",
      "Receiving objects:  18% (884/4909)   \r",
      "Receiving objects:  19% (933/4909), 404.01 KiB | 799.00 KiB/s   \r",
      "Receiving objects:  19% (933/4909), 956.01 KiB | 951.00 KiB/s   \r",
      "Receiving objects:  20% (982/4909), 956.01 KiB | 951.00 KiB/s   \r",
      "Receiving objects:  21% (1031/4909), 956.01 KiB | 951.00 KiB/s   \r",
      "Receiving objects:  22% (1080/4909), 956.01 KiB | 951.00 KiB/s   \r",
      "Receiving objects:  23% (1130/4909), 1.61 MiB | 1.06 MiB/s   \r",
      "Receiving objects:  23% (1152/4909), 2.48 MiB | 1.23 MiB/s   \r",
      "Receiving objects:  23% (1152/4909), 4.14 MiB | 1.37 MiB/s   \r",
      "Receiving objects:  23% (1152/4909), 5.54 MiB | 1.38 MiB/s   \r",
      "Receiving objects:  24% (1179/4909), 6.28 MiB | 1.38 MiB/s   \r",
      "Receiving objects:  25% (1228/4909), 6.28 MiB | 1.38 MiB/s   \r",
      "Receiving objects:  26% (1277/4909), 6.28 MiB | 1.38 MiB/s   \r",
      "Receiving objects:  27% (1326/4909), 6.28 MiB | 1.38 MiB/s   \r",
      "Receiving objects:  27% (1362/4909), 7.04 MiB | 1.47 MiB/s   \r",
      "Receiving objects:  28% (1375/4909), 7.04 MiB | 1.47 MiB/s   \r",
      "Receiving objects:  29% (1424/4909), 7.04 MiB | 1.47 MiB/s   \r",
      "Receiving objects:  30% (1473/4909), 7.04 MiB | 1.47 MiB/s   \r",
      "Receiving objects:  31% (1522/4909), 7.04 MiB | 1.47 MiB/s   \r",
      "Receiving objects:  32% (1571/4909), 7.04 MiB | 1.47 MiB/s   \r",
      "Receiving objects:  33% (1620/4909), 7.04 MiB | 1.47 MiB/s   \r",
      "Receiving objects:  34% (1670/4909), 7.04 MiB | 1.47 MiB/s   \r",
      "Receiving objects:  35% (1719/4909), 7.04 MiB | 1.47 MiB/s   \r",
      "Receiving objects:  36% (1768/4909), 7.04 MiB | 1.47 MiB/s   \r",
      "Receiving objects:  37% (1817/4909), 7.04 MiB | 1.47 MiB/s   \r",
      "Receiving objects:  38% (1866/4909), 7.04 MiB | 1.47 MiB/s   \r",
      "Receiving objects:  39% (1915/4909), 7.04 MiB | 1.47 MiB/s   \r",
      "Receiving objects:  40% (1964/4909), 7.04 MiB | 1.47 MiB/s   \r",
      "Receiving objects:  41% (2013/4909), 7.04 MiB | 1.47 MiB/s   \r",
      "Receiving objects:  42% (2062/4909), 7.80 MiB | 1.51 MiB/s   \r",
      "Receiving objects:  43% (2111/4909), 7.80 MiB | 1.51 MiB/s   \r",
      "Receiving objects:  44% (2160/4909), 7.80 MiB | 1.51 MiB/s   \r",
      "Receiving objects:  45% (2210/4909), 7.80 MiB | 1.51 MiB/s   \r",
      "Receiving objects:  46% (2259/4909), 7.80 MiB | 1.51 MiB/s   \r",
      "Receiving objects:  47% (2308/4909), 7.80 MiB | 1.51 MiB/s   \r",
      "Receiving objects:  48% (2357/4909), 7.80 MiB | 1.51 MiB/s   \r",
      "Receiving objects:  49% (2406/4909), 7.80 MiB | 1.51 MiB/s   \r",
      "Receiving objects:  50% (2455/4909), 7.80 MiB | 1.51 MiB/s   \r",
      "Receiving objects:  51% (2504/4909), 7.80 MiB | 1.51 MiB/s   \r",
      "Receiving objects:  52% (2553/4909), 7.80 MiB | 1.51 MiB/s   \r",
      "Receiving objects:  53% (2602/4909), 7.80 MiB | 1.51 MiB/s   \r",
      "Receiving objects:  54% (2651/4909), 7.80 MiB | 1.51 MiB/s   \r",
      "Receiving objects:  55% (2700/4909), 7.80 MiB | 1.51 MiB/s   \r",
      "Receiving objects:  56% (2750/4909), 7.80 MiB | 1.51 MiB/s   \r",
      "Receiving objects:  56% (2791/4909), 8.60 MiB | 1.53 MiB/s   \r",
      "Receiving objects:  57% (2799/4909), 8.60 MiB | 1.53 MiB/s   \r",
      "Receiving objects:  58% (2848/4909), 8.60 MiB | 1.53 MiB/s   \r",
      "Receiving objects:  59% (2897/4909), 8.60 MiB | 1.53 MiB/s   \r",
      "Receiving objects:  60% (2946/4909), 8.60 MiB | 1.53 MiB/s   \r",
      "Receiving objects:  61% (2995/4909), 8.60 MiB | 1.53 MiB/s   \r",
      "Receiving objects:  62% (3044/4909), 8.60 MiB | 1.53 MiB/s   \r",
      "Receiving objects:  63% (3093/4909), 9.21 MiB | 1.47 MiB/s   \r",
      "Receiving objects:  63% (3128/4909), 9.86 MiB | 1.39 MiB/s   \r",
      "Receiving objects:  64% (3142/4909), 9.86 MiB | 1.39 MiB/s   \r",
      "Receiving objects:  65% (3191/4909), 9.86 MiB | 1.39 MiB/s   \r",
      "Receiving objects:  66% (3240/4909), 9.86 MiB | 1.39 MiB/s   \r",
      "Receiving objects:  67% (3290/4909), 9.86 MiB | 1.39 MiB/s   \r",
      "Receiving objects:  68% (3339/4909), 9.86 MiB | 1.39 MiB/s   \r",
      "Receiving objects:  69% (3388/4909), 9.86 MiB | 1.39 MiB/s   \r",
      "Receiving objects:  70% (3437/4909), 9.86 MiB | 1.39 MiB/s   \r",
      "Receiving objects:  71% (3486/4909), 9.86 MiB | 1.39 MiB/s   \r",
      "Receiving objects:  72% (3535/4909), 10.56 MiB | 1.40 MiB/s   \r",
      "Receiving objects:  73% (3584/4909), 10.56 MiB | 1.40 MiB/s   \r",
      "Receiving objects:  74% (3633/4909), 10.56 MiB | 1.40 MiB/s   \r",
      "Receiving objects:  75% (3682/4909), 10.56 MiB | 1.40 MiB/s   \r",
      "Receiving objects:  76% (3731/4909), 10.56 MiB | 1.40 MiB/s   \r",
      "Receiving objects:  76% (3759/4909), 10.56 MiB | 1.40 MiB/s   \r",
      "Receiving objects:  77% (3780/4909), 10.56 MiB | 1.40 MiB/s   \r",
      "Receiving objects:  78% (3830/4909), 10.56 MiB | 1.40 MiB/s   \r",
      "Receiving objects:  78% (3855/4909), 12.03 MiB | 1.42 MiB/s   \r",
      "Receiving objects:  79% (3879/4909), 12.82 MiB | 1.43 MiB/s   \r",
      "Receiving objects:  80% (3928/4909), 12.82 MiB | 1.43 MiB/s   \r",
      "Receiving objects:  81% (3977/4909), 12.82 MiB | 1.43 MiB/s   \r",
      "Receiving objects:  82% (4026/4909), 12.82 MiB | 1.43 MiB/s   \r",
      "Receiving objects:  83% (4075/4909), 12.82 MiB | 1.43 MiB/s   \r",
      "Receiving objects:  84% (4124/4909), 12.82 MiB | 1.43 MiB/s   \r",
      "Receiving objects:  84% (4140/4909), 14.34 MiB | 1.44 MiB/s   \r",
      "Receiving objects:  85% (4173/4909), 14.34 MiB | 1.44 MiB/s   \r",
      "Receiving objects:  86% (4222/4909), 14.34 MiB | 1.44 MiB/s   \r",
      "Receiving objects:  87% (4271/4909), 14.34 MiB | 1.44 MiB/s   \r",
      "Receiving objects:  88% (4320/4909), 14.34 MiB | 1.44 MiB/s   \r",
      "Receiving objects:  89% (4370/4909), 14.34 MiB | 1.44 MiB/s   \r",
      "Receiving objects:  90% (4419/4909), 14.34 MiB | 1.44 MiB/s   \r",
      "Receiving objects:  91% (4468/4909), 14.34 MiB | 1.44 MiB/s   \r",
      "Receiving objects:  92% (4517/4909), 14.34 MiB | 1.44 MiB/s   \r",
      "Receiving objects:  93% (4566/4909), 14.34 MiB | 1.44 MiB/s   \r",
      "Receiving objects:  94% (4615/4909), 14.34 MiB | 1.44 MiB/s   \r",
      "Receiving objects:  94% (4643/4909), 15.81 MiB | 1.42 MiB/s   \r",
      "Receiving objects:  94% (4656/4909), 16.43 MiB | 1.42 MiB/s   \r",
      "Receiving objects:  95% (4664/4909), 16.43 MiB | 1.42 MiB/s   \r",
      "Receiving objects:  96% (4713/4909), 17.04 MiB | 1.40 MiB/s   \r",
      "Receiving objects:  97% (4762/4909), 17.72 MiB | 1.39 MiB/s   \r",
      "Receiving objects:  97% (4772/4909), 17.72 MiB | 1.39 MiB/s   \r",
      "Receiving objects:  98% (4811/4909), 17.72 MiB | 1.39 MiB/s   \r",
      "Receiving objects:  99% (4860/4909), 17.72 MiB | 1.39 MiB/s   \r",
      "remote: Total 4909 (delta 0), reused 0 (delta 0), pack-reused 4909\u001b[K\r\n",
      "Receiving objects: 100% (4909/4909), 17.72 MiB | 1.39 MiB/s   \r",
      "Receiving objects: 100% (4909/4909), 18.42 MiB | 1.38 MiB/s, done.\r\n",
      "Resolving deltas:   0% (0/2921)   \r",
      "Resolving deltas:   1% (40/2921)   \r",
      "Resolving deltas:   6% (192/2921)   \r",
      "Resolving deltas:   7% (211/2921)   \r",
      "Resolving deltas:   8% (237/2921)   \r",
      "Resolving deltas:   9% (265/2921)   \r",
      "Resolving deltas:  10% (297/2921)   \r",
      "Resolving deltas:  11% (337/2921)   \r",
      "Resolving deltas:  13% (389/2921)   \r",
      "Resolving deltas:  14% (410/2921)   \r",
      "Resolving deltas:  15% (440/2921)   \r",
      "Resolving deltas:  16% (470/2921)   \r",
      "Resolving deltas:  17% (506/2921)   \r",
      "Resolving deltas:  19% (558/2921)   \r",
      "Resolving deltas:  20% (607/2921)   \r",
      "Resolving deltas:  21% (614/2921)   \r",
      "Resolving deltas:  22% (644/2921)   \r",
      "Resolving deltas:  24% (703/2921)   \r",
      "Resolving deltas:  25% (733/2921)   \r",
      "Resolving deltas:  26% (766/2921)   \r",
      "Resolving deltas:  27% (812/2921)   \r",
      "Resolving deltas:  28% (821/2921)   \r",
      "Resolving deltas:  29% (848/2921)   \r",
      "Resolving deltas:  30% (877/2921)   \r",
      "Resolving deltas:  31% (911/2921)   \r",
      "Resolving deltas:  32% (936/2921)   \r",
      "Resolving deltas:  33% (974/2921)   \r",
      "Resolving deltas:  34% (997/2921)   \r",
      "Resolving deltas:  35% (1023/2921)   \r",
      "Resolving deltas:  36% (1053/2921)   \r",
      "Resolving deltas:  37% (1085/2921)   \r",
      "Resolving deltas:  38% (1115/2921)   \r",
      "Resolving deltas:  39% (1143/2921)   \r",
      "Resolving deltas:  40% (1171/2921)   \r",
      "Resolving deltas:  41% (1198/2921)   \r",
      "Resolving deltas:  42% (1228/2921)   \r",
      "Resolving deltas:  43% (1258/2921)   \r",
      "Resolving deltas:  44% (1288/2921)   \r",
      "Resolving deltas:  50% (1470/2921)   \r",
      "Resolving deltas:  51% (1490/2921)   \r",
      "Resolving deltas:  52% (1522/2921)   \r",
      "Resolving deltas:  53% (1549/2921)   \r",
      "Resolving deltas:  54% (1578/2921)   \r",
      "Resolving deltas:  55% (1632/2921)   \r",
      "Resolving deltas:  56% (1639/2921)   \r",
      "Resolving deltas:  57% (1683/2921)   \r",
      "Resolving deltas:  58% (1697/2921)   \r",
      "Resolving deltas:  59% (1739/2921)   \r",
      "Resolving deltas:  60% (1755/2921)   \r",
      "Resolving deltas:  61% (1790/2921)   \r",
      "Resolving deltas:  62% (1816/2921)   \r",
      "Resolving deltas:  63% (1847/2921)   \r",
      "Resolving deltas:  64% (1875/2921)   \r",
      "Resolving deltas:  65% (1907/2921)   \r",
      "Resolving deltas:  66% (1931/2921)   \r",
      "Resolving deltas:  67% (1958/2921)   \r",
      "Resolving deltas:  68% (1995/2921)   \r",
      "Resolving deltas:  70% (2059/2921)   \r",
      "Resolving deltas:  71% (2075/2921)   \r",
      "Resolving deltas:  72% (2127/2921)   \r",
      "Resolving deltas:  73% (2133/2921)   \r",
      "Resolving deltas:  76% (2233/2921)   \r",
      "Resolving deltas:  77% (2251/2921)   \r",
      "Resolving deltas:  78% (2280/2921)   \r",
      "Resolving deltas:  79% (2332/2921)   \r",
      "Resolving deltas:  80% (2350/2921)   \r",
      "Resolving deltas:  86% (2519/2921)   \r",
      "Resolving deltas:  87% (2554/2921)   \r",
      "Resolving deltas:  88% (2571/2921)   \r",
      "Resolving deltas:  89% (2603/2921)   \r",
      "Resolving deltas:  90% (2657/2921)   \r",
      "Resolving deltas:  91% (2659/2921)   \r",
      "Resolving deltas:  92% (2690/2921)   \r",
      "Resolving deltas:  93% (2717/2921)   \r",
      "Resolving deltas:  94% (2748/2921)   \r",
      "Resolving deltas:  95% (2775/2921)   \r",
      "Resolving deltas:  96% (2805/2921)   \r",
      "Resolving deltas:  97% (2850/2921)   \r",
      "Resolving deltas:  98% (2863/2921)   \r",
      "Resolving deltas:  99% (2892/2921)   \r",
      "Resolving deltas: 100% (2921/2921)   \r",
      "Resolving deltas: 100% (2921/2921), done.\r\n"
     ]
    }
   ],
   "source": [
    "git clone --branch=master https://github.com/OpenBEL/bel.rb.git OpenBEL/bel.rb"
   ]
  },
  {
   "cell_type": "code",
   "execution_count": 25,
   "metadata": {
    "collapsed": false
   },
   "outputs": [
    {
     "name": "stdout",
     "output_type": "stream",
     "text": []
    }
   ],
   "source": [
    "cd OpenBEL/bel.rb"
   ]
  },
  {
   "cell_type": "code",
   "execution_count": 26,
   "metadata": {
    "collapsed": false
   },
   "outputs": [
    {
     "name": "stdout",
     "output_type": "stream",
     "text": [
      "Installing development dependencies.\r\n",
      "Using ffi (1.9.8)\r\n",
      "Using minitest (5.9.1)\r\n",
      "Using rake (10.5.0)\r\n",
      "Using rake-compiler (0.9.9)\r\n",
      "Using rdoc (4.3.0)\r\n",
      "Using rspec-support (3.5.0)\r\n",
      "Using rspec-core (3.5.4)\r\n",
      "Using diff-lcs (1.2.5)\r\n",
      "Using rspec-expectations (3.5.0)\r\n",
      "Using rspec-mocks (3.5.0)\r\n",
      "Using rspec (3.5.0)\r\n",
      "Using yard (0.9.5)\r\n",
      "Using yard-doctest (0.1.8)\r\n",
      "Using coderay (1.1.1)\r\n",
      "Using slop (3.6.0)\r\n",
      "Using method_source (0.8.2)\r\n",
      "Using pry (0.10.4)\r\n",
      "Using rainbow (2.1.0)\r\n",
      "Using ast (2.3.0)\r\n",
      "Using parser (2.3.3.0)\r\n",
      "Using powerpack (0.1.1)\r\n",
      "Using ruby-progressbar (1.8.1)\r\n",
      "Using unicode-display_width (1.1.1)\r\n",
      "Using rubocop (0.46.0)\r\n",
      "Fetching: rantly-0.3.2.gem\r",
      "Fetching: rantly-0.3.2.gem ( 11%)\r",
      "Fetching: rantly-0.3.2.gem ( 26%)\r",
      "Fetching: rantly-0.3.2.gem ( 42%)\r",
      "Fetching: rantly-0.3.2.gem ( 57%)\r",
      "Fetching: rantly-0.3.2.gem ( 73%)\r",
      "Fetching: rantly-0.3.2.gem ( 87%)\r",
      "Fetching: rantly-0.3.2.gem (100%)\r",
      "Fetching: rantly-0.3.2.gem (100%)\r\n",
      "Installing rantly (0.3.2)\r\n",
      "Using public_suffix (2.0.4)\r\n",
      "Using addressable (2.5.0)\r\n",
      "Using link_header (0.0.8)\r\n",
      "Using rdf (1.99.1)\r\n",
      "Fetching: sxp-0.1.5.gem\r",
      "Fetching: sxp-0.1.5.gem ( 11%)\r",
      "Fetching: sxp-0.1.5.gem ( 27%)\r",
      "Fetching: sxp-0.1.5.gem ( 43%)\r",
      "Fetching: sxp-0.1.5.gem ( 59%)\r",
      "Fetching: sxp-0.1.5.gem ( 75%)\r",
      "Fetching: sxp-0.1.5.gem ( 90%)\r",
      "Fetching: sxp-0.1.5.gem (100%)\r",
      "Fetching: sxp-0.1.5.gem (100%)\r\n",
      "Installing sxp (0.1.5)\r\n",
      "Fetching: ebnf-1.0.0.gem\r",
      "Fetching: ebnf-1.0.0.gem (  2%)\r",
      "Fetching: ebnf-1.0.0.gem (  4%)\r",
      "Fetching: ebnf-1.0.0.gem (  7%)\r",
      "Fetching: ebnf-1.0.0.gem (  9%)\r",
      "Fetching: ebnf-1.0.0.gem ( 11%)\r",
      "Fetching: ebnf-1.0.0.gem ( 13%)\r",
      "Fetching: ebnf-1.0.0.gem ( 16%)\r",
      "Fetching: ebnf-1.0.0.gem ( 18%)\r",
      "Fetching: ebnf-1.0.0.gem ( 20%)\r",
      "Fetching: ebnf-1.0.0.gem ( 23%)\r",
      "Fetching: ebnf-1.0.0.gem ( 25%)\r",
      "Fetching: ebnf-1.0.0.gem ( 27%)\r",
      "Fetching: ebnf-1.0.0.gem ( 41%)\r",
      "Fetching: ebnf-1.0.0.gem ( 54%)\r",
      "Fetching: ebnf-1.0.0.gem ( 68%)\r",
      "Fetching: ebnf-1.0.0.gem ( 82%)\r",
      "Fetching: ebnf-1.0.0.gem ( 96%)\r",
      "Fetching: ebnf-1.0.0.gem (100%)\r",
      "Fetching: ebnf-1.0.0.gem (100%)\r\n",
      "Installing ebnf (1.0.0)\r\n",
      "Using rdf-turtle (1.99.0)\r\n",
      "Using systemu (2.6.5)\r\n",
      "Using macaddr (1.7.1)\r\n",
      "Using uuid (2.3.8)\r\n",
      "Fetching: bson-1.12.5.gem\r",
      "Fetching: bson-1.12.5.gem ( 64%)\r",
      "Fetching: bson-1.12.5.gem (100%)\r",
      "Fetching: bson-1.12.5.gem (100%)\r\n",
      "Installing bson (1.12.5)\r\n",
      "Fetching: mongo-1.12.5.gem\r",
      "Fetching: mongo-1.12.5.gem (  9%)\r",
      "Fetching: mongo-1.12.5.gem ( 19%)\r",
      "Fetching: mongo-1.12.5.gem ( 28%)\r",
      "Fetching: mongo-1.12.5.gem ( 37%)\r",
      "Fetching: mongo-1.12.5.gem ( 46%)\r",
      "Fetching: mongo-1.12.5.gem ( 56%)\r",
      "Fetching: mongo-1.12.5.gem ( 65%)\r",
      "Fetching: mongo-1.12.5.gem ( 74%)\r",
      "Fetching: mongo-1.12.5.gem ( 83%)\r",
      "Fetching: mongo-1.12.5.gem ( 92%)\r",
      "Fetching: mongo-1.12.5.gem (100%)\r",
      "Fetching: mongo-1.12.5.gem (100%)\r\n",
      "Installing mongo (1.12.5)\r\n",
      "Fetching: rdf-mongo-1.99.0.gem\r",
      "Fetching: rdf-mongo-1.99.0.gem (100%)\r",
      "Fetching: rdf-mongo-1.99.0.gem (100%)\r\n",
      "Installing rdf-mongo (1.99.0)\r\n",
      "Have fun! :)\r\n"
     ]
    }
   ],
   "source": [
    "scripts/gem-install-devdeps.sh"
   ]
  },
  {
   "cell_type": "code",
   "execution_count": 27,
   "metadata": {
    "collapsed": false
   },
   "outputs": [
    {
     "name": "stdout",
     "output_type": "stream",
     "text": [
      "  Successfully built RubyGem\r\n",
      "  Name: bel\r\n",
      "  Version: 0.7.0\r\n",
      "  File: bel-0.7.0.gem\r\n"
     ]
    }
   ],
   "source": [
    "gem build bel.gemspec"
   ]
  },
  {
   "cell_type": "code",
   "execution_count": 28,
   "metadata": {
    "collapsed": false
   },
   "outputs": [
    {
     "name": "stdout",
     "output_type": "stream",
     "text": [
      "Building native extensions.  This could take a while...\r\n",
      "Successfully installed bel-0.7.0\r\n",
      "1 gem installed\r\n"
     ]
    }
   ],
   "source": [
    "time gem install bel-0.7.0.gem"
   ]
  },
  {
   "cell_type": "code",
   "execution_count": 29,
   "metadata": {
    "collapsed": false
   },
   "outputs": [
    {
     "name": "stdout",
     "output_type": "stream",
     "text": [
      "/Users/cthoyt/.rbenv/shims/bel\r\n"
     ]
    }
   ],
   "source": [
    "which bel"
   ]
  },
  {
   "cell_type": "code",
   "execution_count": 30,
   "metadata": {
    "collapsed": false
   },
   "outputs": [
    {
     "name": "stdout",
     "output_type": "stream",
     "text": [
      "/Users/cthoyt/.rbenv/versions/2.3.0/bin/bel\r\n"
     ]
    }
   ],
   "source": [
    "rbenv which bel"
   ]
  },
  {
   "cell_type": "code",
   "execution_count": 31,
   "metadata": {
    "collapsed": false
   },
   "outputs": [
    {
     "name": "stdout",
     "output_type": "stream",
     "text": [
      "bel 1.0.1\r\n",
      "Copyright (C) 2016 OpenBEL\r\n",
      "Apache License, Version 2.0, January 2004\r\n",
      "http://www.apache.org/licenses/\r\n"
     ]
    }
   ],
   "source": [
    "bel --version"
   ]
  },
  {
   "cell_type": "code",
   "execution_count": 32,
   "metadata": {
    "collapsed": false
   },
   "outputs": [
    {
     "name": "stdout",
     "output_type": "stream",
     "text": [
      "Usage: bel [OPTIONS]... summarize [OPTIONS]\r\n",
      "Show summary statistics. for knowledge in provided BEL script.\r\n",
      "\r\n",
      "Options:\r\n",
      "  -b, --bel=<s>    The BEL script to parse and output. If not provided the\r\n",
      "                   default is to read from standard in (STDIN).\r\n",
      "  -h, --help       Show this message\r\n"
     ]
    }
   ],
   "source": [
    "bel summarize --help"
   ]
  },
  {
   "cell_type": "code",
   "execution_count": 33,
   "metadata": {
    "collapsed": false,
    "scrolled": false
   },
   "outputs": [
    {
     "name": "stdout",
     "output_type": "stream",
     "text": [
      "/Users/cthoyt/.rbenv/versions/2.3.0/lib/ruby/gems/2.3.0/gems/bel-1.0.1/bin/bel_summarize.rb:56:in `block (2 levels) in <top (required)>': uninitialized constant BEL::Nanopub::Term (NameError)\r\n",
      "\tfrom /Users/cthoyt/.rbenv/versions/2.3.0/lib/ruby/gems/2.3.0/gems/bel-1.0.1/lib/bel/script.rb:44036:in `block in parse'\r\n",
      "\tfrom /Users/cthoyt/.rbenv/versions/2.3.0/lib/ruby/gems/2.3.0/gems/bel-1.0.1/lib/bel/script.rb:63888:in `block in each'\r\n",
      "\tfrom /Users/cthoyt/.rbenv/versions/2.3.0/lib/ruby/gems/2.3.0/gems/bel-1.0.1/lib/bel/nonblocking_io_wrapper.rb:25:in `each'\r\n",
      "\tfrom /Users/cthoyt/.rbenv/versions/2.3.0/lib/ruby/gems/2.3.0/gems/bel-1.0.1/lib/bel/script.rb:63742:in `each'\r\n",
      "\tfrom /Users/cthoyt/.rbenv/versions/2.3.0/lib/ruby/gems/2.3.0/gems/bel-1.0.1/lib/bel/script.rb:44035:in `parse'\r\n",
      "\tfrom /Users/cthoyt/.rbenv/versions/2.3.0/lib/ruby/gems/2.3.0/gems/bel-1.0.1/bin/bel_summarize.rb:46:in `block in <top (required)>'\r\n",
      "\tfrom /Users/cthoyt/.rbenv/versions/2.3.0/lib/ruby/2.3.0/csv.rb:1057:in `instance'\r\n",
      "\tfrom /Users/cthoyt/.rbenv/versions/2.3.0/lib/ruby/2.3.0/csv.rb:2329:in `CSV'\r\n",
      "\tfrom /Users/cthoyt/.rbenv/versions/2.3.0/lib/ruby/gems/2.3.0/gems/bel-1.0.1/bin/bel_summarize.rb:29:in `<top (required)>'\r\n",
      "\tfrom /Users/cthoyt/.rbenv/versions/2.3.0/lib/ruby/gems/2.3.0/gems/bel-1.0.1/bin/bel:226:in `require_relative'\r\n",
      "\tfrom /Users/cthoyt/.rbenv/versions/2.3.0/lib/ruby/gems/2.3.0/gems/bel-1.0.1/bin/bel:226:in `run'\r\n",
      "\tfrom /Users/cthoyt/.rbenv/versions/2.3.0/lib/ruby/gems/2.3.0/gems/bel-1.0.1/bin/bel:583:in `<top (required)>'\r\n",
      "\tfrom /Users/cthoyt/.rbenv/versions/2.3.0/bin/bel:22:in `load'\r\n",
      "\tfrom /Users/cthoyt/.rbenv/versions/2.3.0/bin/bel:22:in `<main>'\r\n"
     ]
    }
   ],
   "source": [
    "bel summarize -b $small"
   ]
  },
  {
   "cell_type": "code",
   "execution_count": 34,
   "metadata": {
    "collapsed": false
   },
   "outputs": [
    {
     "name": "stdout",
     "output_type": "stream",
     "text": [
      "Usage: bel [OPTIONS]... parse [OPTIONS]\r\n",
      "Shows parse of BEL script.\r\n",
      "\r\n",
      "Options:\r\n",
      "  -b, --bel=<s>    The BEL script to parse and output. If not provided the\r\n",
      "                   default is to read from standard in (STDIN).\r\n",
      "  -h, --help       Show this message\r\n"
     ]
    }
   ],
   "source": [
    "bel parse --help"
   ]
  },
  {
   "cell_type": "code",
   "execution_count": 35,
   "metadata": {
    "collapsed": false
   },
   "outputs": [
    {
     "name": "stdout",
     "output_type": "stream",
     "text": [
      "Comment                  ##################################################################################\r",
      "\r\n",
      "Comment                  # Document Properties Section\r",
      "\r\n",
      "Newline                  \r\n",
      "DocumentProperty         SET DOCUMENT Name = \"BEL Framework Small Corpus Document\"\r\n",
      "DocumentProperty         SET DOCUMENT Description = \"Approximately 2000 hand curated statements drawn from 57 PubMeds.\"\r\n",
      "DocumentProperty         SET DOCUMENT Version = \"1.6\"\r\n",
      "DocumentProperty         SET DOCUMENT Copyright = \"Copyright (c) 2011-2012, Selventa. All Rights Reserved.\"\r\n",
      "DocumentProperty         SET DOCUMENT Authors = Selventa\r\n",
      "DocumentProperty         SET DOCUMENT Licenses = \"Creative Commons Attribution-Non-Commercial-ShareAlike 3.0 Unported License\"\r\n",
      "DocumentProperty         SET DOCUMENT ContactInfo = \"support@belframework.org\"\r\n",
      "Newline                  \r\n",
      "Comment                  ##################################################################################\r",
      "\r\n",
      "Comment                  # Definitions Section\r",
      "\r\n",
      "Newline                  \r\n",
      "NamespaceDefinition      DEFINE NAMESPACE SDIS AS URL \"http://resource.belframework.org/belframework/1.0/namespace/selventa-legacy-diseases.belns\"\r\n",
      "NamespaceDefinition      DEFINE NAMESPACE PFR AS URL \"http://resource.belframework.org/belframework/1.0/namespace/selventa-named-rat-protein-families.belns\"\r\n",
      "NamespaceDefinition      DEFINE NAMESPACE MGI AS URL \"http://resource.belframework.org/belframework/1.0/namespace/mgi-approved-symbols.belns\"\r\n",
      "NamespaceDefinition      DEFINE NAMESPACE PFM AS URL \"http://resource.belframework.org/belframework/1.0/namespace/selventa-named-mouse-protein-families.belns\"\r\n",
      "NamespaceDefinition      DEFINE NAMESPACE MESHPP AS URL \"http://resource.belframework.org/belframework/1.0/namespace/mesh-biological-processes.belns\"\r\n",
      "NamespaceDefinition      DEFINE NAMESPACE MESHCL AS URL \"http://resource.belframework.org/belframework/1.0/namespace/mesh-cellular-locations.belns\"\r\n",
      "NamespaceDefinition      DEFINE NAMESPACE NCH AS URL \"http://resource.belframework.org/belframework/1.0/namespace/selventa-named-human-complexes.belns\"\r\n",
      "NamespaceDefinition      DEFINE NAMESPACE CHEBI AS URL \"http://resource.belframework.org/belframework/1.0/namespace/chebi-names.belns\"\r\n",
      "NamespaceDefinition      DEFINE NAMESPACE NCR AS URL \"http://resource.belframework.org/belframework/1.0/namespace/selventa-named-rat-complexes.belns\"\r\n",
      "NamespaceDefinition      DEFINE NAMESPACE HGNC AS URL \"http://resource.belframework.org/belframework/1.0/namespace/hgnc-approved-symbols.belns\"\r\n",
      "NamespaceDefinition      DEFINE NAMESPACE SPAC AS URL \"http://resource.belframework.org/belframework/1.0/namespace/swissprot-accession-numbers.belns\"\r\n",
      "NamespaceDefinition      DEFINE NAMESPACE PFH AS URL \"http://resource.belframework.org/belframework/1.0/namespace/selventa-named-human-protein-families.belns\"\r\n",
      "NamespaceDefinition      DEFINE NAMESPACE NCM AS URL \"http://resource.belframework.org/belframework/1.0/namespace/selventa-named-mouse-complexes.belns\"\r\n",
      "NamespaceDefinition      DEFINE NAMESPACE CHEBIID AS URL \"http://resource.belframework.org/belframework/1.0/namespace/chebi-ids.belns\"\r\n",
      "NamespaceDefinition      DEFINE NAMESPACE RGD AS URL \"http://resource.belframework.org/belframework/1.0/namespace/rgd-approved-symbols.belns\"\r\n",
      "NamespaceDefinition      DEFINE NAMESPACE MESHD AS URL \"http://resource.belframework.org/belframework/1.0/namespace/mesh-diseases.belns\"\r\n",
      "NamespaceDefinition      DEFINE NAMESPACE GO AS URL \"http://resource.belframework.org/belframework/1.0/namespace/go-biological-processes-names.belns\"\r\n",
      "NamespaceDefinition      DEFINE NAMESPACE SCHEM AS URL \"http://resource.belframework.org/belframework/1.0/namespace/selventa-legacy-chemical-names.belns\"\r\n",
      "NamespaceDefinition      DEFINE NAMESPACE EGID AS URL \"http://resource.belframework.org/belframework/1.0/namespace/entrez-gene-ids-hmr.belns\"\r\n",
      "Newline                  \r\n",
      "AnnotationDefinition     DEFINE ANNOTATION HemicAndImmuneSystem AS URL \"http://resource.belframework.org/belframework/1.0/annotation/mesh-hemic-and-immune-system.belanno\"\r\n",
      "AnnotationDefinition     DEFINE ANNOTATION UrogenitalSystem AS URL \"http://resource.belframework.org/belframework/1.0/annotation/mesh-urogenital-system.belanno\"\r\n",
      "AnnotationDefinition     DEFINE ANNOTATION FluidAndSecretion AS URL \"http://resource.belframework.org/belframework/1.0/annotation/mesh-fluid-and-secretion.belanno\"\r\n",
      "AnnotationDefinition     DEFINE ANNOTATION CellStructure AS URL \"http://resource.belframework.org/belframework/1.0/annotation/mesh-cell-structure.belanno\"\r\n",
      "AnnotationDefinition     DEFINE ANNOTATION CellLine AS URL \"http://resource.belframework.org/belframework/1.0/annotation/atcc-cell-line.belanno\"\r\n",
      "AnnotationDefinition     DEFINE ANNOTATION TextLocation AS LIST {Abstract,Results,Legend,Review}\r\n",
      "AnnotationDefinition     DEFINE ANNOTATION IntegumentarySystem AS URL \"http://resource.belframework.org/belframework/1.0/annotation/mesh-integumentary-system.belanno\"\r\n",
      "AnnotationDefinition     DEFINE ANNOTATION DigestiveSystem AS URL \"http://resource.belframework.org/belframework/1.0/annotation/mesh-digestive-system.belanno\"\r\n",
      "AnnotationDefinition     DEFINE ANNOTATION MuskuloskeletalSystem AS URL \"http://resource.belframework.org/belframework/1.0/annotation/mesh-musculoskeletal-system.belanno\"\r\n",
      "AnnotationDefinition     DEFINE ANNOTATION Tissue AS URL \"http://resource.belframework.org/belframework/1.0/annotation/mesh-tissue.belanno\"\r\n",
      "AnnotationDefinition     DEFINE ANNOTATION BodyRegion AS URL \"http://resource.belframework.org/belframework/1.0/annotation/mesh-body-region.belanno\"\r\n",
      "AnnotationDefinition     DEFINE ANNOTATION Cell AS URL \"http://resource.belframework.org/belframework/1.0/annotation/mesh-cell.belanno\"\r\n",
      "AnnotationDefinition     DEFINE ANNOTATION NervousSystem AS URL \"http://resource.belframework.org/belframework/1.0/annotation/mesh-nervous-system.belanno\"\r\n",
      "AnnotationDefinition     DEFINE ANNOTATION SenseOrgan AS URL \"http://resource.belframework.org/belframework/1.0/annotation/mesh-sense-organ.belanno\"\r\n",
      "AnnotationDefinition     DEFINE ANNOTATION Disease AS URL \"http://resource.belframework.org/belframework/1.0/annotation/mesh-disease.belanno\"\r\n",
      "AnnotationDefinition     DEFINE ANNOTATION RespiratorySystem AS URL \"http://resource.belframework.org/belframework/1.0/annotation/mesh-respiratory-system.belanno\"\r\n",
      "AnnotationDefinition     DEFINE ANNOTATION Species AS URL \"http://resource.belframework.org/belframework/1.0/annotation/species-taxonomy-id.belanno\"\r\n",
      "AnnotationDefinition     DEFINE ANNOTATION CardiovascularSystem AS URL \"http://resource.belframework.org/belframework/1.0/annotation/mesh-cardiovascular-system.belanno\"\r\n",
      "AnnotationDefinition     DEFINE ANNOTATION EndocrineSystem AS URL \"http://resource.belframework.org/belframework/1.0/annotation/mesh-endocrine-system.belanno\"\r\n",
      "Newline                  \r\n",
      "Comment                  ##################################################################################\r",
      "\r\n",
      "Comment                  # Statements Section\r",
      "\r\n",
      "Newline                  \r\n",
      "StatementGroup           SET STATEMENT_GROUP = \"Group 1\"\r\n",
      "Newline                  \r\n",
      "Annotation               SET Disease = Atherosclerosis\r\n",
      "Annotation               SET CardiovascularSystem = Arteries\r\n",
      "Annotation               SET TextLocation = Review\r\n",
      "Annotation               SET Evidence = \"Oxidation and nitration of macromolecules, such as proteins, DNA and lipids, are prominent\r",
      "\r\n",
      "in atherosclerotic arteries.\"\r\n",
      "Annotation               SET Citation = {\"PubMed\",\"Trends in molecular medicine\",\"12928037\",\"\",\"de Nigris F|Lerman A|Ignarro LJ|Williams-Ignarro S|Sica V|Baker AH|Lerman LO|Geng YJ|Napoli C\",\"\"}\r\n",
      "Newline                  \r\n",
      "/Users/cthoyt/.rbenv/versions/2.3.0/lib/ruby/gems/2.3.0/gems/bel-1.0.1/lib/bel/script.rb:65172:in `block in each': uninitialized constant BEL::Nanopub::Statement (NameError)\r\n",
      "\tfrom /Users/cthoyt/.rbenv/versions/2.3.0/lib/ruby/gems/2.3.0/gems/bel-1.0.1/lib/bel/nonblocking_io_wrapper.rb:25:in `each'\r\n",
      "\tfrom /Users/cthoyt/.rbenv/versions/2.3.0/lib/ruby/gems/2.3.0/gems/bel-1.0.1/lib/bel/script.rb:63742:in `each'\r\n",
      "\tfrom /Users/cthoyt/.rbenv/versions/2.3.0/lib/ruby/gems/2.3.0/gems/bel-1.0.1/lib/bel/script.rb:44035:in `parse'\r\n",
      "\tfrom /Users/cthoyt/.rbenv/versions/2.3.0/lib/ruby/gems/2.3.0/gems/bel-1.0.1/bin/bel_parse.rb:46:in `initialize'\r\n",
      "\tfrom /Users/cthoyt/.rbenv/versions/2.3.0/lib/ruby/gems/2.3.0/gems/bel-1.0.1/bin/bel_parse.rb:53:in `new'\r\n",
      "\tfrom /Users/cthoyt/.rbenv/versions/2.3.0/lib/ruby/gems/2.3.0/gems/bel-1.0.1/bin/bel_parse.rb:53:in `<top (required)>'\r\n",
      "\tfrom /Users/cthoyt/.rbenv/versions/2.3.0/lib/ruby/gems/2.3.0/gems/bel-1.0.1/bin/bel:165:in `require_relative'\r\n",
      "\tfrom /Users/cthoyt/.rbenv/versions/2.3.0/lib/ruby/gems/2.3.0/gems/bel-1.0.1/bin/bel:165:in `run'\r\n",
      "\tfrom /Users/cthoyt/.rbenv/versions/2.3.0/lib/ruby/gems/2.3.0/gems/bel-1.0.1/bin/bel:583:in `<top (required)>'\r\n",
      "\tfrom /Users/cthoyt/.rbenv/versions/2.3.0/bin/bel:22:in `load'\r\n",
      "\tfrom /Users/cthoyt/.rbenv/versions/2.3.0/bin/bel:22:in `<main>'\r\n"
     ]
    }
   ],
   "source": [
    "bel parse -b $small"
   ]
  },
  {
   "cell_type": "code",
   "execution_count": 36,
   "metadata": {
    "collapsed": false
   },
   "outputs": [
    {
     "name": "stdout",
     "output_type": "stream",
     "text": [
      "Usage: bel [OPTIONS]... bel2rdf [OPTIONS]\r\n",
      "Converts BEL to RDF.\r\n",
      "\r\n",
      "Options:\r\n",
      "  -b, --bel=<s>                The BEL script to parse and output (Defaults to\r\n",
      "                               STDIN).\r\n",
      "  -f, --format=<s>             The RDF format to output. (Default: ntriples)\r\n",
      "  -s, --schema                 Includes the BEL RDFS schema in RDF output.\r\n",
      "  -p, --rdf-prefix-file=<s>    A YAML file mapping prefix containing key/value\r\n",
      "                               pairs. The key is an RDF prefix to use in the\r\n",
      "                               RDF output; the value is the RDF URI for that\r\n",
      "                               prefix. For example, belv:\r\n",
      "                               'http://www.openbel.org/vocabulary/'\r\n",
      "  -r, --remap-file=<s>         A YAML file that remaps annotation and namespace\r\n",
      "                               definitions. Run \"bel remapfile\" to get an\r\n",
      "                               example of the YAML format.\r\n",
      "  -h, --help                   Show this message\r\n"
     ]
    }
   ],
   "source": [
    "bel bel2rdf --help"
   ]
  },
  {
   "cell_type": "code",
   "execution_count": 37,
   "metadata": {
    "collapsed": false
   },
   "outputs": [
    {
     "name": "stdout",
     "output_type": "stream",
     "text": [
      "/Users/cthoyt/.rbenv/versions/2.3.0/lib/ruby/gems/2.3.0/gems/bel-1.0.1/lib/bel/translator/plugins/rdf/monkey_patch.rb:351:in `to_rdf': undefined method `parse_statement' for BEL::Nanopub::Nanopub:Class (NoMethodError)\r\n",
      "\tfrom /Users/cthoyt/.rbenv/versions/2.3.0/lib/ruby/gems/2.3.0/gems/bel-1.0.1/lib/bel/translator/plugins/rdf/translator.rb:83:in `block (2 levels) in write_rdf_to_io'\r\n",
      "\tfrom /Users/cthoyt/.rbenv/versions/2.3.0/lib/ruby/gems/2.3.0/gems/bel_parser-1.0.8/lib/bel/translator/plugins/bel_script/reader.rb:35:in `block in each'\r\n",
      "\tfrom /Users/cthoyt/.rbenv/versions/2.3.0/lib/ruby/gems/2.3.0/gems/bel_parser-1.0.8/lib/bel_parser/script/nanopub_mapper.rb:39:in `block in each'\r\n",
      "\tfrom /Users/cthoyt/.rbenv/versions/2.3.0/lib/ruby/gems/2.3.0/gems/bel_parser-1.0.8/lib/bel_parser/script/validator.rb:39:in `block in each'\r\n",
      "\tfrom /Users/cthoyt/.rbenv/versions/2.3.0/lib/ruby/gems/2.3.0/gems/bel_parser-1.0.8/lib/bel_parser/script/state_aggregator.rb:25:in `block in each'\r\n",
      "\tfrom /Users/cthoyt/.rbenv/versions/2.3.0/lib/ruby/gems/2.3.0/gems/bel_parser-1.0.8/lib/bel_parser/script/first_node.rb:13:in `block in each'\r\n",
      "\tfrom /Users/cthoyt/.rbenv/versions/2.3.0/lib/ruby/gems/2.3.0/gems/bel_parser-1.0.8/lib/bel_parser/ast_filter.rb:15:in `block in each'\r\n",
      "\tfrom /Users/cthoyt/.rbenv/versions/2.3.0/lib/ruby/gems/2.3.0/gems/bel_parser-1.0.8/lib/bel_parser/ast_generator.rb:63:in `block in each'\r\n",
      "\tfrom /Users/cthoyt/.rbenv/versions/2.3.0/lib/ruby/gems/2.3.0/gems/bel_parser-1.0.8/lib/bel_parser/ast_generator.rb:52:in `yield'\r\n",
      "\tfrom /Users/cthoyt/.rbenv/versions/2.3.0/lib/ruby/gems/2.3.0/gems/bel_parser-1.0.8/lib/bel_parser/ast_generator.rb:52:in `each_line'\r\n",
      "\tfrom /Users/cthoyt/.rbenv/versions/2.3.0/lib/ruby/gems/2.3.0/gems/bel_parser-1.0.8/lib/bel_parser/ast_generator.rb:52:in `each'\r\n",
      "\tfrom /Users/cthoyt/.rbenv/versions/2.3.0/lib/ruby/gems/2.3.0/gems/bel_parser-1.0.8/lib/bel_parser/ast_generator.rb:52:in `each'\r\n",
      "\tfrom /Users/cthoyt/.rbenv/versions/2.3.0/lib/ruby/gems/2.3.0/gems/bel_parser-1.0.8/lib/bel_parser/ast_generator.rb:52:in `each'\r\n",
      "\tfrom /Users/cthoyt/.rbenv/versions/2.3.0/lib/ruby/gems/2.3.0/gems/bel_parser-1.0.8/lib/bel_parser/ast_generator.rb:52:in `each'\r\n",
      "\tfrom /Users/cthoyt/.rbenv/versions/2.3.0/lib/ruby/gems/2.3.0/gems/bel_parser-1.0.8/lib/bel_parser/ast_generator.rb:52:in `each'\r\n",
      "\tfrom /Users/cthoyt/.rbenv/versions/2.3.0/lib/ruby/gems/2.3.0/gems/bel_parser-1.0.8/lib/bel_parser/ast_filter.rb:13:in `each'\r\n",
      "\tfrom /Users/cthoyt/.rbenv/versions/2.3.0/lib/ruby/gems/2.3.0/gems/bel_parser-1.0.8/lib/bel_parser/script/filter.rb:28:in `each'\r\n",
      "\tfrom /Users/cthoyt/.rbenv/versions/2.3.0/lib/ruby/gems/2.3.0/gems/bel_parser-1.0.8/lib/bel_parser/script/first_node.rb:12:in `each'\r\n",
      "\tfrom /Users/cthoyt/.rbenv/versions/2.3.0/lib/ruby/gems/2.3.0/gems/bel_parser-1.0.8/lib/bel_parser/script/state_aggregator.rb:19:in `each'\r\n",
      "\tfrom /Users/cthoyt/.rbenv/versions/2.3.0/lib/ruby/gems/2.3.0/gems/bel_parser-1.0.8/lib/bel_parser/script/validator.rb:30:in `each'\r\n",
      "\tfrom /Users/cthoyt/.rbenv/versions/2.3.0/lib/ruby/gems/2.3.0/gems/bel_parser-1.0.8/lib/bel_parser/script/nanopub_mapper.rb:26:in `each'\r\n",
      "\tfrom /Users/cthoyt/.rbenv/versions/2.3.0/lib/ruby/gems/2.3.0/gems/bel_parser-1.0.8/lib/bel/translator/plugins/bel_script/reader.rb:34:in `each'\r\n",
      "\tfrom /Users/cthoyt/.rbenv/versions/2.3.0/lib/ruby/gems/2.3.0/gems/bel-1.0.1/lib/bel/translator/plugins/rdf/translator.rb:72:in `block in write_rdf_to_io'\r\n",
      "\tfrom /Users/cthoyt/.rbenv/versions/2.3.0/lib/ruby/gems/2.3.0/gems/bel-1.0.1/lib/bel/translator/plugins/rdf/translator.rb:111:in `each'\r\n",
      "\tfrom /Users/cthoyt/.rbenv/versions/2.3.0/lib/ruby/gems/2.3.0/gems/bel-1.0.1/lib/bel/translator/plugins/rdf/translator.rb:111:in `each'\r\n",
      "\tfrom /Users/cthoyt/.rbenv/versions/2.3.0/lib/ruby/gems/2.3.0/gems/bel-1.0.1/lib/bel/translator/plugins/rdf/translator.rb:111:in `write_rdf_to_io'\r\n",
      "\tfrom /Users/cthoyt/.rbenv/versions/2.3.0/lib/ruby/gems/2.3.0/gems/bel-1.0.1/lib/bel/translator/plugins/rdf/translator.rb:33:in `write'\r\n",
      "\tfrom /Users/cthoyt/.rbenv/versions/2.3.0/lib/ruby/gems/2.3.0/gems/bel-1.0.1/lib/bel/translate.rb:53:in `translate'\r\n",
      "\tfrom /Users/cthoyt/.rbenv/versions/2.3.0/lib/ruby/gems/2.3.0/gems/bel-1.0.1/bin/bel2rdf.rb:108:in `<top (required)>'\r\n",
      "\tfrom /Users/cthoyt/.rbenv/versions/2.3.0/lib/ruby/gems/2.3.0/gems/bel-1.0.1/bin/bel:103:in `require_relative'\r\n",
      "\tfrom /Users/cthoyt/.rbenv/versions/2.3.0/lib/ruby/gems/2.3.0/gems/bel-1.0.1/bin/bel:103:in `run'\r\n",
      "\tfrom /Users/cthoyt/.rbenv/versions/2.3.0/lib/ruby/gems/2.3.0/gems/bel-1.0.1/bin/bel:583:in `<top (required)>'\r\n",
      "\tfrom /Users/cthoyt/.rbenv/versions/2.3.0/bin/bel:22:in `load'\r\n",
      "\tfrom /Users/cthoyt/.rbenv/versions/2.3.0/bin/bel:22:in `<main>'\r\n"
     ]
    }
   ],
   "source": [
    "bel bel2rdf -b $small > small_corpus.rdf"
   ]
  },
  {
   "cell_type": "code",
   "execution_count": 42,
   "metadata": {
    "collapsed": false
   },
   "outputs": [
    {
     "name": "stdout",
     "output_type": "stream",
     "text": []
    }
   ],
   "source": [
    "cd\n",
    "rm -rf $dir\n",
    "unset dir"
   ]
  },
  {
   "cell_type": "markdown",
   "metadata": {},
   "source": [
    "## Test with [OpenBEL Framework](https://github.com/OpenBEL/openbel-framework)"
   ]
  },
  {
   "cell_type": "code",
   "execution_count": 43,
   "metadata": {
    "collapsed": false
   },
   "outputs": [
    {
     "name": "stdout",
     "output_type": "stream",
     "text": []
    }
   ],
   "source": [
    "# download from git\n",
    "openbel_url=\"https://github.com/OpenBEL/openbel-framework/releases/download/3.0.0_build20150728/OpenBEL_Framework-3.0.0.zip\""
   ]
  },
  {
   "cell_type": "code",
   "execution_count": 44,
   "metadata": {
    "collapsed": false,
    "scrolled": false
   },
   "outputs": [
    {
     "name": "stdout",
     "output_type": "stream",
     "text": [
      "usage: [OPTIONS]... [-p <path> [-p <path 2> [...] ] ] [-f <filename> [-f <filename 2> [...] ] ] [-k\r\n",
      "                    <kam_name>] [-d <kam_description>]\r\n",
      "BEL Framework Compiler/Assembler V3.0.0\r\n",
      "Options:\r\n",
      "     --debug           Enables debug mode.\r\n",
      "                       The default is to disable debug mode.\r\n",
      "  -h,--help            Shows command line options.\r\n",
      "  -k,--kam-name <kam>  Name of the KAM to create. If a KAM with same name exists it will be\r\n",
      "                       overwritten if the --no-preserve option is set.\r\n",
      "     --no-preserve     If present, if a KAM with the same name exists it will be overwritten.\r\n",
      "                       The default is to preserve the KAM and exit with an error if the existing KAM\r\n",
      "                       will be overwritten.\r\n",
      "  -v,--verbose         Enables verbose mode. This mode outputs additional information as the\r\n",
      "                       application runs.\r\n",
      "                       The default is to disable verbose mode.\r\n",
      "usage: [OPTION]... [-p <path>]... [-f <filename>]...\r\n",
      "Phase I: Compiling proto-networks\r\n",
      "Options:\r\n",
      "     --debug                          Enables debug mode.\r\n",
      "                                      The default is to disable debug mode.\r\n",
      "  -f,--file <filename>                File name of an XBEL or BEL Script file to compile. This\r\n",
      "                                      option may be used multiple times.\r\n",
      "  -h,--help                           Shows command line options.\r\n",
      "     --no-nested-statements           Modifies Phase I to force the compiler not to create a\r\n",
      "                                      relationship between the subject term of a statement with a\r\n",
      "                                      nested statement as an object, to the object term of the\r\n",
      "                                      nested statement.\r\n",
      "                                      The default is to couple nested statements.\r\n",
      "     --no-semantic-check              Bypasses the semantic checker. When set, this option will omit\r\n",
      "                                      checking for semantic errors in the input documents.\r\n",
      "                                      The default is to enable semantic checking.\r\n",
      "     --no-syntax-check                Bypasses the syntax checker. When set, this option will omit\r\n",
      "                                      checking for syntax errors in the input documents. This is not\r\n",
      "                                      recommended as it can lead to unpredictable KAM topologies.\r\n",
      "                                      The default is to enable syntax checking.\r\n",
      "  -p,--input-path <path>              Path to a folder containing one or more XBEL or BEL Script\r\n",
      "                                      files to compile. This option may be used multiple times.\r\n",
      "     --pedantic                       Enables pedantic mode. This mode treats warnings as errors and\r\n",
      "                                      will terminate the compiler/assembler at the end of a phase if\r\n",
      "                                      a warning is generated in the phase.\r\n",
      "                                      The default is to disable pedantic mode.\r\n",
      "  -s,--system-config-file <filename>  Optional. Allows the user to specify the path to a system\r\n",
      "                                      configuration file to use to specify the OpenBEL Framework\r\n",
      "                                      configuration.\r\n",
      "                                      The default is to use the default systems configuration file\r\n",
      "                                      found in [installdir]/config.\r\n",
      "  -t,--timing                         Enables timing mode. This mode outputs times in seconds for\r\n",
      "                                      each reported phase of the compiler/assembler. Usually used in\r\n",
      "                                      conjunction with --verbose.\r\n",
      "                                      The default is to disable timing mode.\r\n",
      "  -v,--verbose                        Enables verbose mode. This mode outputs additional information\r\n",
      "                                      as the application runs.\r\n",
      "                                      The default is to disable verbose mode.\r\n",
      "usage: [OPTION]...\r\n",
      "Phase II: Merging proto-networks\r\n",
      "Options:\r\n",
      "     --debug                          Enables debug mode.\r\n",
      "                                      The default is to disable debug mode.\r\n",
      "  -h,--help                           Shows command line options.\r\n",
      "     --pedantic                       Enables pedantic mode. This mode treats warnings as errors and\r\n",
      "                                      will terminate the compiler/assembler at the end of a phase if\r\n",
      "                                      a warning is generated in the phase.\r\n",
      "                                      The default is to disable pedantic mode.\r\n",
      "  -s,--system-config-file <filename>  Optional. Allows the user to specify the path to a system\r\n",
      "                                      configuration file to use to specify the OpenBEL Framework\r\n",
      "                                      configuration.\r\n",
      "                                      The default is to use the default systems configuration file\r\n",
      "                                      found in [installdir]/config.\r\n",
      "  -t,--timing                         Enables timing mode. This mode outputs times in seconds for\r\n",
      "                                      each reported phase of the compiler/assembler. Usually used in\r\n",
      "                                      conjunction with --verbose.\r\n",
      "                                      The default is to disable timing mode.\r\n",
      "  -v,--verbose                        Enables verbose mode. This mode outputs additional information\r\n",
      "                                      as the application runs.\r\n",
      "                                      The default is to disable verbose mode.\r\n",
      "usage: [OPTION]...\r\n",
      "Phase III: Expansion and augmentation of composite network\r\n",
      "Options:\r\n",
      "     --debug                          Enables debug mode.\r\n",
      "                                      The default is to disable debug mode.\r\n",
      "     --expand-named-complexes         Modifies Phase III to inject named complex members and\r\n",
      "                                      associated hasComponent edges when a member of a named complex\r\n",
      "                                      is defined in a BEL Document.\r\n",
      "                                      The default is to not inject named complex nodes and edges.\r\n",
      "     --expand-protein-families        Modifies Phase III to inject protein family nodes, members,\r\n",
      "                                      and associated hasMember edges when a member of a protein\r\n",
      "                                      family is defined in a BEL Document.\r\n",
      "                                      The default is to not inject protein family nodes and edges.\r\n",
      "  -h,--help                           Shows command line options.\r\n",
      "     --no-gene-scaffolding            Modifies Phase III to omit expanding the composite network to\r\n",
      "                                      include gene activation pathways for gene products identified\r\n",
      "                                      in BEL Document input to the compiler.\r\n",
      "                                      The default is to expand gene activation pathways for\r\n",
      "                                      identified gene products.\r\n",
      "     --no-named-complexes             Modifies Phase III to omit coupling named complexes to its\r\n",
      "                                      components in the composite network.\r\n",
      "                                      The default is to automatically create edges from named\r\n",
      "                                      complexes, in a BEL Document, to their components.\r\n",
      "     --no-orthology                   Modifies Phase III to omit coupling orthologous family members\r\n",
      "                                      to existing nodes in the composite network. The default is to\r\n",
      "                                      add orthologous edges to the network.\r\n",
      "     --no-phaseIII                    Executes Phase III in pass-through mode. This is the same as\r\n",
      "                                      specifying --no-gene-scaffolding, --no-named-complexes,\r\n",
      "                                      --no-protein-families, and --no-orthology.\r\n",
      "     --no-protein-families            Modifies Phase III to omit coupling protein family members to\r\n",
      "                                      existing nodes in the composite network.\r\n",
      "                                      The default is to automatically create edges from protein\r\n",
      "                                      family nodes to their members.\r\n",
      "     --pedantic                       Enables pedantic mode. This mode treats warnings as errors and\r\n",
      "                                      will terminate the compiler/assembler at the end of a phase if\r\n",
      "                                      a warning is generated in the phase.\r\n",
      "                                      The default is to disable pedantic mode.\r\n",
      "  -s,--system-config-file <filename>  Optional. Allows the user to specify the path to a system\r\n",
      "                                      configuration file to use to specify the OpenBEL Framework\r\n",
      "                                      configuration.\r\n",
      "                                      The default is to use the default systems configuration file\r\n",
      "                                      found in [installdir]/config.\r\n",
      "  -t,--timing                         Enables timing mode. This mode outputs times in seconds for\r\n",
      "                                      each reported phase of the compiler/assembler. Usually used in\r\n",
      "                                      conjunction with --verbose.\r\n",
      "                                      The default is to disable timing mode.\r\n",
      "  -v,--verbose                        Enables verbose mode. This mode outputs additional information\r\n",
      "                                      as the application runs.\r\n",
      "                                      The default is to disable verbose mode.\r\n",
      "usage: [OPTION]... -k <kam> -d <description>\r\n",
      "Phase IV: Exporting final network to the KAM Store\r\n",
      "Options:\r\n",
      "  -d,--kam-description <description>  A description for the KAM that will be created. Put the\r\n",
      "                                      description in quotes. It may be necessary to escape the\r\n",
      "                                      quotes (i.e. \\\") for the full description to be recognized by\r\n",
      "                                      BELC.\r\n",
      "     --debug                          Enables debug mode.\r\n",
      "                                      The default is to disable debug mode.\r\n",
      "  -h,--help                           Shows command line options.\r\n",
      "  -k,--kam-name <kam>                 Name of the KAM to create. If a KAM with same name exists it\r\n",
      "                                      will be overwritten if the --no-preserve option is set.\r\n",
      "     --pedantic                       Enables pedantic mode. This mode treats warnings as errors and\r\n",
      "                                      will terminate the compiler/assembler at the end of a phase if\r\n",
      "                                      a warning is generated in the phase.\r\n",
      "                                      The default is to disable pedantic mode.\r\n",
      "  -s,--system-config-file <filename>  Optional. Allows the user to specify the path to a system\r\n",
      "                                      configuration file to use to specify the OpenBEL Framework\r\n",
      "                                      configuration.\r\n",
      "                                      The default is to use the default systems configuration file\r\n",
      "                                      found in [installdir]/config.\r\n",
      "  -t,--timing                         Enables timing mode. This mode outputs times in seconds for\r\n",
      "                                      each reported phase of the compiler/assembler. Usually used in\r\n",
      "                                      conjunction with --verbose.\r\n",
      "                                      The default is to disable timing mode.\r\n",
      "  -v,--verbose                        Enables verbose mode. This mode outputs additional information\r\n",
      "                                      as the application runs.\r\n",
      "                                      The default is to disable verbose mode.\r\n"
     ]
    }
   ],
   "source": [
    "sh ~/dev/openbel/belc.sh --help"
   ]
  },
  {
   "cell_type": "code",
   "execution_count": 45,
   "metadata": {
    "collapsed": false,
    "scrolled": false
   },
   "outputs": [
    {
     "name": "stdout",
     "output_type": "stream",
     "text": [
      "\r\n",
      "OpenBEL Framework V3.0.0: Compiler/Assembler\r\n",
      "Copyright (c) 2011-2012, Selventa. All Rights Reserved.\r\n",
      "\r\n",
      "\r\n",
      "    === Phase I: Compiling proto-networks ===\r\n",
      "    Compiling 1 BEL Document(s)\r\n",
      "    Compiling 1 of 1 BEL Document(s)\r\n",
      "    Stage 1 of 7: Validation\r\n",
      "        Validating /Users/cthoyt/.pybel/data/small_corpus.bel\r\n",
      "        \r\n",
      "\r\n",
      "    Stage 2 of 7: Namespace compilation\r\n",
      "        Compiling 19 namespaces for BEL Framework Small Corpus Document\r\n",
      "        \r\n",
      "\r\n",
      "    Stage 3 of 7: Symbol verification\r\n",
      "        Verifying symbols in BEL Framework Small Corpus Document\r\n",
      "        \r\n",
      "\r\n",
      "    Stage 4 of 7: Semantic verification\r\n",
      "        Verifying semantics in BEL Framework Small Corpus Document\r\n",
      "        \r\n",
      "\r\n",
      "    Stage 5 of 7: Building proto-networks\r\n",
      "        Building proto-network for BEL Framework Small Corpus Document\r\n",
      "        \r\n",
      "\r\n",
      "    Stage 6 of 7: Expansion\r\n",
      "        Expanding statements and terms\r\n",
      "        \r\n",
      "\r\n",
      "    Stage 7 of 7: Saving proto-networks\r\n",
      "        Saving proto-network for BEL Framework Small Corpus Document\r\n",
      "        \r\n",
      "\r\n",
      "    === Phase Complete === \r\n",
      "    === Phase II: Merging proto-networks ===\r\n",
      "    Stage 1 of 4: Merging proto-networks\r\n",
      "        Merging 1 network\r\n",
      "        \r\n",
      "\r\n",
      "    Stage 2 of 4: Loading equivalence index\r\n",
      "        Loading namespace equivalences from resource index\r\n",
      "        Equivalence for http://resource.belframework.org/belframework/1.0/namespace/go-cellular-component-terms.belns\r\n",
      "        Equivalence for http://resource.belframework.org/belframework/1.0/namespace/affy-mouse430a-2.belns\r\n",
      "        Equivalence for http://resource.belframework.org/belframework/1.0/namespace/selventa-named-human-protein-families.belns\r\n",
      "        Equivalence for http://resource.belframework.org/belframework/1.0/namespace/chebi-ids.belns\r\n",
      "        Equivalence for http://resource.belframework.org/belframework/1.0/namespace/affy-mg-u74abc.belns\r\n",
      "        Equivalence for http://resource.belframework.org/belframework/1.0/namespace/swissprot-entry-names.belns\r\n",
      "        Equivalence for http://resource.belframework.org/belframework/1.0/namespace/mgi-approved-symbols.belns\r\n",
      "        Equivalence for http://resource.belframework.org/belframework/1.0/namespace/rgd-approved-symbols.belns\r\n",
      "        Equivalence for http://resource.belframework.org/belframework/1.0/namespace/go-cellular-component-accession-numbers.belns\r\n",
      "        Equivalence for http://resource.belframework.org/belframework/1.0/namespace/affy-hg-u95av2.belns\r\n",
      "        Equivalence for http://resource.belframework.org/belframework/1.0/namespace/affy-hg-u133ab.belns\r\n",
      "        Equivalence for http://resource.belframework.org/belframework/1.0/namespace/selventa-named-human-complexes.belns\r\n",
      "        Equivalence for http://resource.belframework.org/belframework/1.0/namespace/selventa-named-rat-complexes.belns\r\n",
      "        Equivalence for http://resource.belframework.org/belframework/1.0/namespace/entrez-gene-ids-hmr.belns\r\n",
      "        Equivalence for http://resource.belframework.org/belframework/1.0/namespace/selventa-named-mouse-protein-families.belns\r\n",
      "        Equivalence for http://resource.belframework.org/belframework/1.0/namespace/swissprot-accession-numbers.belns\r\n",
      "        Equivalence for http://resource.belframework.org/belframework/1.0/namespace/affy-rat230-2.belns\r\n",
      "        Equivalence for http://resource.belframework.org/belframework/1.0/namespace/affy-moe430ab.belns\r\n",
      "        Equivalence for http://resource.belframework.org/belframework/1.0/namespace/mesh-cellular-locations.belns\r\n",
      "        Equivalence for http://resource.belframework.org/belframework/1.0/namespace/go-biological-processes-accession-numbers.belns\r\n",
      "        Equivalence for http://resource.belframework.org/belframework/1.0/namespace/mesh-diseases.belns\r\n",
      "        Equivalence for http://resource.belframework.org/belframework/1.0/namespace/affy-mouse430-2.belns\r\n",
      "        Equivalence for http://resource.belframework.org/belframework/1.0/namespace/mesh-biological-processes.belns\r\n",
      "        Equivalence for http://resource.belframework.org/belframework/1.0/namespace/selventa-named-mouse-complexes.belns\r\n",
      "        Equivalence for http://resource.belframework.org/belframework/1.0/namespace/affy-rae230ab-2.belns\r\n",
      "        Equivalence for http://resource.belframework.org/belframework/1.0/namespace/affy-hg-u133-plus2.belns\r\n",
      "        Equivalence for http://resource.belframework.org/belframework/1.0/namespace/chebi-names.belns\r\n",
      "        Equivalence for http://resource.belframework.org/belframework/1.0/namespace/selventa-named-rat-protein-families.belns\r\n",
      "        Equivalence for http://resource.belframework.org/belframework/1.0/namespace/hgnc-approved-symbols.belns\r\n",
      "        Equivalence for http://resource.belframework.org/belframework/1.0/namespace/go-biological-processes-names.belns\r\n",
      "        \r\n",
      "\r\n",
      "    Stage 3 of 4: Equivalencing merged network\r\n",
      "        Equivalencing parameters\r\n",
      "        (5 equivalences)\r\n",
      "        Equivalencing terms\r\n",
      "        (15 equivalences)\r\n",
      "        Equivalencing statements\r\n",
      "        (2485 equivalences)\r\n",
      "        2060 statements, 1704 terms, 944 parameters\r\n",
      "        \r\n",
      "\r\n",
      "    Stage 4 of 4: Saving merged network\r\n",
      "        Saving network\r\n",
      "        \r\n",
      "\r\n",
      "    === Phase Complete === \r\n",
      "    === Phase III: Expansion and augmentation of composite network ===\r\n",
      "    Stage 1 of 6: Processing protein families\r\n",
      "        Processing protein families\r\n",
      "        \r\n",
      "        Pruning protein families\r\n",
      "        \r\n",
      "        80 of 720 statements remain after pruning\r\n",
      "        Inferring protein family relationships\r\n",
      "        \r\n",
      "        42 of 122 statements inferred for protein families\r\n",
      "        Compiling pruned protein families\r\n",
      "        \r\n",
      "        Merging proto-networks\r\n",
      "        \r\n",
      "\r\n",
      "    Stage 2 of 6: Processing named complexes\r\n",
      "        Processing named complexes\r\n",
      "        \r\n",
      "        Pruning named complexes\r\n",
      "        \r\n",
      "        11 of 202 statements remain after pruning\r\n",
      "        Compiling named complexes proto-network\r\n",
      "        \r\n",
      "        Merging proto-networks\r\n",
      "        \r\n",
      "\r\n",
      "    Stage 3 of 6: Processing gene scaffolding\r\n",
      "        Processing gene scaffolding\r\n",
      "        \r\n",
      "        Pruning gene scaffolding\r\n",
      "        \r\n",
      "        1800 of 164847 statements remain after pruning\r\n",
      "        Compiling gene scaffolding proto-network\r\n",
      "        \r\n",
      "        Merging proto-networks\r\n",
      "        \r\n",
      "\r\n",
      "    Stage 4 of 6: Incorporating orthology information\r\n",
      "        Processing orthology document 'BEL Framework Orthologous Genes Document'\r\n",
      "        \r\n",
      "        Processing orthology document 'BEL Framework Orthologous Protein Family Document'\r\n",
      "        \r\n",
      "        Processing orthology document 'BEL Framework Orthologous Protein Complex Document'\r\n",
      "        \r\n",
      "    Stage 5 of 6: Equivalencing merged network\r\n",
      "        Equivalencing parameters\r\n",
      "        (2129 equivalences)\r\n",
      "        Equivalencing terms\r\n",
      "        (3602 equivalences)\r\n",
      "        Equivalencing statements\r\n",
      "        (42862 equivalences)\r\n",
      "        9723 statements, 11268 terms, 4838 parameters\r\n",
      "        \r\n",
      "\r\n",
      "    Stage 6 of 6: Saving augmented network\r\n",
      "        Saving augmented network\r\n",
      "        \r\n",
      "\r\n",
      "    === Phase Complete === \r\n",
      "    === Phase IV: Exporting final network to the KAM Store ===\r\n",
      "    Stage 1 of 1: Building final KAM\r\n",
      "    === Phase Complete === \r\n",
      "\r\n",
      "real\t3m35.739s\r\n",
      "user\t4m20.186s\r\n",
      "sys\t0m33.150s\r\n"
     ]
    }
   ],
   "source": [
    "time sh ~/dev/openbel/belc.sh -f $small -k \"Small_Corpus\" -d \"Testing the Small Corpus\" -v --no-preserve"
   ]
  },
  {
   "cell_type": "markdown",
   "metadata": {},
   "source": [
    "# Conclusions\n",
    "\n",
    "As of now, this comparison clearly shows the advantages of PyBEL over OpenBEL Framework in terms of speed. Additionally, the interchangability of data from PyBEL and programmatic interface makes it an essential tool for anyone doing creative science. PyBEL does not yet have all of the post-processing features, but they will be implemeted soon, and can be implented easily because it was designed with extensibility and programmatic usability in mind. \n",
    "\n",
    "The bel.rb parser cannot, in its current state, be installed with the instructions provided in its documentation. Even old versions, tested by colleagues who installed it with different and non-reproducible environments, were also unable to use all of its features and make a proper comparison. However, their tests showed that the program crashed before completion, and took longer than PyBEL."
   ]
  }
 ],
 "metadata": {
  "kernelspec": {
   "display_name": "Bash",
   "language": "bash",
   "name": "bash"
  },
  "language_info": {
   "codemirror_mode": "shell",
   "file_extension": ".sh",
   "mimetype": "text/x-sh",
   "name": "bash"
  }
 },
 "nbformat": 4,
 "nbformat_minor": 1
}
