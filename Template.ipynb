{
 "cells": [
  {
   "cell_type": "markdown",
   "metadata": {},
   "source": [
    "# PyBEL Notebook Style Guide\n",
    "\n",
    "**Author:** [Charles Tapley Hoyt](https://github.com/cthoyt/)\n",
    "\n",
    "This notebook is a self explanatory template. There should be a H1 Level header with the document name, then a couple sentences explaining what the notebook is all about. After this introduction should follow a code block with all of the imports for the entire document, then a list of single cells describing the version of PyBEL and when the document was last run."
   ]
  },
  {
   "cell_type": "code",
   "execution_count": 1,
   "metadata": {
    "collapsed": false
   },
   "outputs": [],
   "source": [
    "import time\n",
    "\n",
    "import pybel"
   ]
  },
  {
   "cell_type": "code",
   "execution_count": 2,
   "metadata": {
    "collapsed": false
   },
   "outputs": [
    {
     "data": {
      "text/plain": [
       "'PyBEL Version: 0.2.6-dev'"
      ]
     },
     "execution_count": 2,
     "metadata": {},
     "output_type": "execute_result"
    }
   ],
   "source": [
    "pybel.__version__"
   ]
  },
  {
   "cell_type": "code",
   "execution_count": 3,
   "metadata": {
    "collapsed": false
   },
   "outputs": [
    {
     "data": {
      "text/plain": [
       "'Sun Nov 13 22:48:46 2016'"
      ]
     },
     "execution_count": 3,
     "metadata": {},
     "output_type": "execute_result"
    }
   ],
   "source": [
    "time.asctime()"
   ]
  },
  {
   "cell_type": "code",
   "execution_count": 4,
   "metadata": {
    "collapsed": false
   },
   "outputs": [
    {
     "name": "stdout",
     "output_type": "stream",
     "text": [
      "other code to set up the notebook, such as logging and file system management\n"
     ]
    }
   ],
   "source": [
    "print('other code to set up the notebook, such as logging and file system management')"
   ]
  },
  {
   "cell_type": "markdown",
   "metadata": {},
   "source": [
    "## Top Section\n",
    "\n",
    "The top section has an H1 title, a line with the author(s) and links to their GitHub pages, then a short abstract. It's followed by the imports, organized to two sections - system libraries and external libraries. For these notebooks, the PyBEL version and the time of notebook run should be shown."
   ]
  },
  {
   "cell_type": "code",
   "execution_count": 5,
   "metadata": {
    "collapsed": false
   },
   "outputs": [],
   "source": [
    "# code"
   ]
  },
  {
   "cell_type": "markdown",
   "metadata": {},
   "source": [
    "## Middle Sections\n",
    "\n",
    "After the title, abstract, imports, and setup, there should be 1-3 H2 sections describing the actual work in the notebook. These sections are where code is written, but the markdown cells should be used to explain each block of code so if they are output without the code, it still makes sense. This means the output of the code should be illustrative of the explanation given in markdown. Pretty pictures are preferred!\n",
    "\n",
    "If you're using more than 3 or 4 H2 section titles, consider that the notebook may have too much content. These notebooks should be vignettes. After the first main point, there may be more! Use H2 titles to help organize the main ideas of the document. For example, you might have sections for Data Acquisition, Analysis, Visualization, then Output."
   ]
  },
  {
   "cell_type": "code",
   "execution_count": 6,
   "metadata": {
    "collapsed": true
   },
   "outputs": [],
   "source": [
    "# more code"
   ]
  },
  {
   "cell_type": "markdown",
   "metadata": {},
   "source": [
    "## Style\n",
    "\n",
    "- Code should be broken into notebook cells, hopefully not longer than 50 lines each. Between bits of code should be markdown explaining what's happening in the code, and why\n",
    "- As far as style goes, never use center-aligned text. Keep the markdown as minimalistic as possible so it can be interchangable in many formats\n",
    "- It's also preferred that python notebooks don't have any bash magic in them - do as much as you can with python code\n",
    "- If the input can be acquired from a stable internet source, that's preferred. If you have data that *must* be stored, then use the root-level `/data` folder."
   ]
  },
  {
   "cell_type": "code",
   "execution_count": 7,
   "metadata": {
    "collapsed": false
   },
   "outputs": [],
   "source": [
    "# even more code"
   ]
  },
  {
   "cell_type": "markdown",
   "metadata": {},
   "source": [
    "# Conclusions\n",
    "\n",
    "Each notebook should end with a conclusions section that has an H1 heading. This should also only be a couple sentences, describing what the notebook has shown and their implications. Please rerun your notebook before submitting it, so all of the numbers are chronological! It might also be useful to add an additional H1 section following the conclusion to give an appendix, or show more data."
   ]
  }
 ],
 "metadata": {
  "kernelspec": {
   "display_name": "Python 3",
   "language": "python",
   "name": "python3"
  },
  "language_info": {
   "codemirror_mode": {
    "name": "ipython",
    "version": 3
   },
   "file_extension": ".py",
   "mimetype": "text/x-python",
   "name": "python",
   "nbconvert_exporter": "python",
   "pygments_lexer": "ipython3",
   "version": "3.5.2"
  }
 },
 "nbformat": 4,
 "nbformat_minor": 1
}
