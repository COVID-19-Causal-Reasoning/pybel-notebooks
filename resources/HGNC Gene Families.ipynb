{
 "cells": [
  {
   "cell_type": "markdown",
   "metadata": {
    "deletable": true,
    "editable": true
   },
   "source": [
    "# HGNC Gene Families\n",
    "\n",
    "**Author:** Charles Tapley Hoyt\n",
    "\n",
    "**Estimated Runtime:** 15 Seconds\n",
    "\n",
    "This notebook outlines the process to programatically download a curated list of Gene Families from HGNC."
   ]
  },
  {
   "cell_type": "code",
   "execution_count": 1,
   "metadata": {
    "collapsed": true,
    "deletable": true,
    "editable": true
   },
   "outputs": [],
   "source": [
    "import pandas as pd\n",
    "import os\n",
    "import time\n",
    "\n",
    "import pybel_tools as pbt\n",
    "from pybel.utils import ensure_quotes"
   ]
  },
  {
   "cell_type": "code",
   "execution_count": 2,
   "metadata": {
    "collapsed": false,
    "deletable": true,
    "editable": true
   },
   "outputs": [
    {
     "data": {
      "text/plain": [
       "'Tue Apr  4 23:18:09 2017'"
      ]
     },
     "execution_count": 2,
     "metadata": {},
     "output_type": "execute_result"
    }
   ],
   "source": [
    "time.asctime()"
   ]
  },
  {
   "cell_type": "code",
   "execution_count": 3,
   "metadata": {
    "collapsed": false,
    "deletable": true,
    "editable": true
   },
   "outputs": [
    {
     "data": {
      "text/plain": [
       "'0.1.6-dev'"
      ]
     },
     "execution_count": 3,
     "metadata": {},
     "output_type": "execute_result"
    }
   ],
   "source": [
    "pbt.__version__"
   ]
  },
  {
   "cell_type": "code",
   "execution_count": 4,
   "metadata": {
    "collapsed": true,
    "deletable": true,
    "editable": true
   },
   "outputs": [],
   "source": [
    "pybel_resources_base = os.environ['PYBEL_RESOURCES_BASE']"
   ]
  },
  {
   "cell_type": "markdown",
   "metadata": {
    "deletable": true,
    "editable": true
   },
   "source": [
    "## Download\n",
    "\n",
    "The data comes from the HGNC custom downloads page."
   ]
  },
  {
   "cell_type": "code",
   "execution_count": 5,
   "metadata": {
    "collapsed": true,
    "deletable": true,
    "editable": true
   },
   "outputs": [],
   "source": [
    "HGNC_GENE_FAMILY_URL = 'http://www.genenames.org/cgi-bin/genefamilies/download-all/tsv'"
   ]
  },
  {
   "cell_type": "code",
   "execution_count": 6,
   "metadata": {
    "collapsed": false,
    "deletable": true,
    "editable": true
   },
   "outputs": [
    {
     "data": {
      "text/html": [
       "<div>\n",
       "<table border=\"1\" class=\"dataframe\">\n",
       "  <thead>\n",
       "    <tr style=\"text-align: right;\">\n",
       "      <th></th>\n",
       "      <th>HGNC ID</th>\n",
       "      <th>Approved Symbol</th>\n",
       "      <th>Approved Name</th>\n",
       "      <th>Status</th>\n",
       "      <th>Previous Symbols</th>\n",
       "      <th>Synonyms</th>\n",
       "      <th>Chromosome</th>\n",
       "      <th>Accession Numbers</th>\n",
       "      <th>RefSeq IDs</th>\n",
       "      <th>Gene Family Tag</th>\n",
       "      <th>Gene family description</th>\n",
       "      <th>Gene family ID</th>\n",
       "    </tr>\n",
       "  </thead>\n",
       "  <tbody>\n",
       "    <tr>\n",
       "      <th>0</th>\n",
       "      <td>324</td>\n",
       "      <td>AGPAT1</td>\n",
       "      <td>1-acylglycerol-3-phosphate O-acyltransferase 1</td>\n",
       "      <td>Approved</td>\n",
       "      <td>NaN</td>\n",
       "      <td>LPAAT-alpha</td>\n",
       "      <td>6p21.32</td>\n",
       "      <td>U56417</td>\n",
       "      <td>NM_006411</td>\n",
       "      <td>AGPAT</td>\n",
       "      <td>1-acylglycerol-3-phosphate O-acyltransferases</td>\n",
       "      <td>46</td>\n",
       "    </tr>\n",
       "    <tr>\n",
       "      <th>1</th>\n",
       "      <td>325</td>\n",
       "      <td>AGPAT2</td>\n",
       "      <td>1-acylglycerol-3-phosphate O-acyltransferase 2</td>\n",
       "      <td>Approved</td>\n",
       "      <td>BSCL</td>\n",
       "      <td>LPAAT-beta</td>\n",
       "      <td>9q34.3</td>\n",
       "      <td>AF000237</td>\n",
       "      <td>NM_006412</td>\n",
       "      <td>AGPAT</td>\n",
       "      <td>1-acylglycerol-3-phosphate O-acyltransferases</td>\n",
       "      <td>46</td>\n",
       "    </tr>\n",
       "    <tr>\n",
       "      <th>2</th>\n",
       "      <td>326</td>\n",
       "      <td>AGPAT3</td>\n",
       "      <td>1-acylglycerol-3-phosphate O-acyltransferase 3</td>\n",
       "      <td>Approved</td>\n",
       "      <td>NaN</td>\n",
       "      <td>LPAAT-gamma</td>\n",
       "      <td>21q22.3</td>\n",
       "      <td>AF156774</td>\n",
       "      <td>NM_020132</td>\n",
       "      <td>AGPAT</td>\n",
       "      <td>1-acylglycerol-3-phosphate O-acyltransferases</td>\n",
       "      <td>46</td>\n",
       "    </tr>\n",
       "    <tr>\n",
       "      <th>3</th>\n",
       "      <td>20885</td>\n",
       "      <td>AGPAT4</td>\n",
       "      <td>1-acylglycerol-3-phosphate O-acyltransferase 4</td>\n",
       "      <td>Approved</td>\n",
       "      <td>NaN</td>\n",
       "      <td>LPAAT-delta, dJ473J16.2</td>\n",
       "      <td>6q26</td>\n",
       "      <td>AF156776</td>\n",
       "      <td>NM_020133</td>\n",
       "      <td>AGPAT</td>\n",
       "      <td>1-acylglycerol-3-phosphate O-acyltransferases</td>\n",
       "      <td>46</td>\n",
       "    </tr>\n",
       "    <tr>\n",
       "      <th>4</th>\n",
       "      <td>20886</td>\n",
       "      <td>AGPAT5</td>\n",
       "      <td>1-acylglycerol-3-phosphate O-acyltransferase 5</td>\n",
       "      <td>Approved</td>\n",
       "      <td>NaN</td>\n",
       "      <td>FLJ11210, LPAAT-e, LPAAT-epsilon</td>\n",
       "      <td>8p23.1</td>\n",
       "      <td>AF375789</td>\n",
       "      <td>NM_018361</td>\n",
       "      <td>AGPAT</td>\n",
       "      <td>1-acylglycerol-3-phosphate O-acyltransferases</td>\n",
       "      <td>46</td>\n",
       "    </tr>\n",
       "  </tbody>\n",
       "</table>\n",
       "</div>"
      ],
      "text/latex": [
       "\\begin{center}{\\begin{tabular}{lrllllllllllr}\n",
       "\\toprule\n",
       "{} &  HGNC ID & Approved Symbol &                                   Approved Name &    Status & Previous Symbols &                          Synonyms & Chromosome & Accession Numbers & RefSeq IDs & Gene Family Tag &                        Gene family description &  Gene family ID \\\\\n",
       "\\midrule\n",
       "0 &      324 &          AGPAT1 &  1-acylglycerol-3-phosphate O-acyltransferase 1 &  Approved &              NaN &                       LPAAT-alpha &    6p21.32 &            U56417 &  NM\\_006411 &           AGPAT &  1-acylglycerol-3-phosphate O-acyltransferases &              46 \\\\\n",
       "1 &      325 &          AGPAT2 &  1-acylglycerol-3-phosphate O-acyltransferase 2 &  Approved &             BSCL &                        LPAAT-beta &     9q34.3 &          AF000237 &  NM\\_006412 &           AGPAT &  1-acylglycerol-3-phosphate O-acyltransferases &              46 \\\\\n",
       "2 &      326 &          AGPAT3 &  1-acylglycerol-3-phosphate O-acyltransferase 3 &  Approved &              NaN &                       LPAAT-gamma &    21q22.3 &          AF156774 &  NM\\_020132 &           AGPAT &  1-acylglycerol-3-phosphate O-acyltransferases &              46 \\\\\n",
       "3 &    20885 &          AGPAT4 &  1-acylglycerol-3-phosphate O-acyltransferase 4 &  Approved &              NaN &           LPAAT-delta, dJ473J16.2 &       6q26 &          AF156776 &  NM\\_020133 &           AGPAT &  1-acylglycerol-3-phosphate O-acyltransferases &              46 \\\\\n",
       "4 &    20886 &          AGPAT5 &  1-acylglycerol-3-phosphate O-acyltransferase 5 &  Approved &              NaN &  FLJ11210, LPAAT-e, LPAAT-epsilon &     8p23.1 &          AF375789 &  NM\\_018361 &           AGPAT &  1-acylglycerol-3-phosphate O-acyltransferases &              46 \\\\\n",
       "\\bottomrule\n",
       "\\end{tabular}\n",
       "}\\end{center}"
      ],
      "text/plain": [
       "   HGNC ID Approved Symbol                                   Approved Name  \\\n",
       "0      324          AGPAT1  1-acylglycerol-3-phosphate O-acyltransferase 1   \n",
       "1      325          AGPAT2  1-acylglycerol-3-phosphate O-acyltransferase 2   \n",
       "2      326          AGPAT3  1-acylglycerol-3-phosphate O-acyltransferase 3   \n",
       "3    20885          AGPAT4  1-acylglycerol-3-phosphate O-acyltransferase 4   \n",
       "4    20886          AGPAT5  1-acylglycerol-3-phosphate O-acyltransferase 5   \n",
       "\n",
       "     Status Previous Symbols                          Synonyms Chromosome  \\\n",
       "0  Approved              NaN                       LPAAT-alpha    6p21.32   \n",
       "1  Approved             BSCL                        LPAAT-beta     9q34.3   \n",
       "2  Approved              NaN                       LPAAT-gamma    21q22.3   \n",
       "3  Approved              NaN           LPAAT-delta, dJ473J16.2       6q26   \n",
       "4  Approved              NaN  FLJ11210, LPAAT-e, LPAAT-epsilon     8p23.1   \n",
       "\n",
       "  Accession Numbers RefSeq IDs Gene Family Tag  \\\n",
       "0            U56417  NM_006411           AGPAT   \n",
       "1          AF000237  NM_006412           AGPAT   \n",
       "2          AF156774  NM_020132           AGPAT   \n",
       "3          AF156776  NM_020133           AGPAT   \n",
       "4          AF375789  NM_018361           AGPAT   \n",
       "\n",
       "                         Gene family description  Gene family ID  \n",
       "0  1-acylglycerol-3-phosphate O-acyltransferases              46  \n",
       "1  1-acylglycerol-3-phosphate O-acyltransferases              46  \n",
       "2  1-acylglycerol-3-phosphate O-acyltransferases              46  \n",
       "3  1-acylglycerol-3-phosphate O-acyltransferases              46  \n",
       "4  1-acylglycerol-3-phosphate O-acyltransferases              46  "
      ]
     },
     "execution_count": 6,
     "metadata": {},
     "output_type": "execute_result"
    }
   ],
   "source": [
    "df = pd.read_csv(HGNC_GENE_FAMILY_URL, sep='\\t')\n",
    "df.head()"
   ]
  },
  {
   "cell_type": "code",
   "execution_count": 7,
   "metadata": {
    "collapsed": true,
    "deletable": true,
    "editable": true
   },
   "outputs": [],
   "source": [
    "entries = set(df['Gene family description'].unique())"
   ]
  },
  {
   "cell_type": "code",
   "execution_count": 8,
   "metadata": {
    "collapsed": false,
    "deletable": true,
    "editable": true
   },
   "outputs": [
    {
     "data": {
      "text/plain": [
       "973"
      ]
     },
     "execution_count": 8,
     "metadata": {},
     "output_type": "execute_result"
    }
   ],
   "source": [
    "len(entries)"
   ]
  },
  {
   "cell_type": "markdown",
   "metadata": {
    "deletable": true,
    "editable": true
   },
   "source": [
    "## Export BELNS\n",
    "\n",
    "PyBEL Tools contains a function to write namespaces to a stream, given a bit of metadata."
   ]
  },
  {
   "cell_type": "code",
   "execution_count": 9,
   "metadata": {
    "collapsed": false,
    "deletable": true,
    "editable": true
   },
   "outputs": [],
   "source": [
    "with open(os.path.join(pybel_resources_base, 'gfam.belns'), 'w') as f:\n",
    "    pbt.definition_utils.write_namespace(\n",
    "        \"HGNC Gene Families\",\n",
    "        \"GFAM\",\n",
    "        \"Gene and Gene Products\",\n",
    "        'Charles Tapley Hoyt',\n",
    "        HGNC_GENE_FAMILY_URL,\n",
    "        (entry.strip() for entry in entries),\n",
    "        namespace_species='9606',\n",
    "        namespace_description=\"HUGO Gene Nomenclature Committee (HGNC) curated gene families\",\n",
    "        author_copyright='WTF License',\n",
    "        functions=\"GRP\",\n",
    "        author_contact=\"charles.hoyt@scai.fraunhofer.de\",\n",
    "        file=f\n",
    "    )"
   ]
  },
  {
   "cell_type": "markdown",
   "metadata": {
    "deletable": true,
    "editable": true
   },
   "source": [
    "## Export BEL\n",
    "\n",
    "The membership relationships are exported as a BEL script."
   ]
  },
  {
   "cell_type": "code",
   "execution_count": 10,
   "metadata": {
    "collapsed": true,
    "deletable": true,
    "editable": true
   },
   "outputs": [],
   "source": [
    "HGNC_URL = 'https://owncloud.scai.fraunhofer.de/index.php/s/JsfpQvkdx3Y5EMx/download?path=hgnc-human-genes.belns'\n",
    "GFAM_URL = 'https://owncloud.scai.fraunhofer.de/index.php/s/JsfpQvkdx3Y5EMx/download?path=gfam.belns'"
   ]
  },
  {
   "cell_type": "code",
   "execution_count": 11,
   "metadata": {
    "collapsed": true,
    "deletable": true,
    "editable": true
   },
   "outputs": [],
   "source": [
    "namespace_dict = {\n",
    "    'HGNC': HGNC_URL,\n",
    "    'GFAM': GFAM_URL\n",
    "}"
   ]
  },
  {
   "cell_type": "code",
   "execution_count": 12,
   "metadata": {
    "collapsed": false,
    "deletable": true,
    "editable": true
   },
   "outputs": [],
   "source": [
    "with open(os.path.join(pybel_resources_base, 'gfam_members.bel'), 'w') as f:\n",
    "    pbt.document_utils.write_boilerplate(\n",
    "        document_name='Gene Family Definitions',\n",
    "        authors='Charles Tapley Hoyt',\n",
    "        contact='charles.hoyt@scai.fraunhofer.de',\n",
    "        description='Encoding of the gene family memberships',\n",
    "        namespace_dict=namespace_dict,\n",
    "        annotations_dict={},\n",
    "        file=f\n",
    "    )\n",
    "    \n",
    "    print('SET Citation = {\"PubMed\",\"HGNC\",\"25361968\"}', file=f)\n",
    "    print('SET Evidence = \"HGNC Definitions\"', file=f)\n",
    "    \n",
    "    for _, gfam, gene in df[['Gene family description', 'Approved Symbol']].itertuples():\n",
    "        gfam_clean = ensure_quotes(gfam.strip())\n",
    "        gene_clean = ensure_quotes(gene.strip())\n",
    "        \n",
    "        print('g(HGNC:{}) isA g(GFAM:{})'.format(gene_clean, gfam_clean), file=f)"
   ]
  }
 ],
 "metadata": {
  "kernelspec": {
   "display_name": "Python 3",
   "language": "python",
   "name": "python3"
  },
  "language_info": {
   "codemirror_mode": {
    "name": "ipython",
    "version": 3
   },
   "file_extension": ".py",
   "mimetype": "text/x-python",
   "name": "python",
   "nbconvert_exporter": "python",
   "pygments_lexer": "ipython3",
   "version": "3.6.1"
  }
 },
 "nbformat": 4,
 "nbformat_minor": 2
}
