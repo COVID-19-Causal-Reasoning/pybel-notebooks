{
 "cells": [
  {
   "cell_type": "markdown",
   "metadata": {
    "deletable": true,
    "editable": true
   },
   "source": [
    "# Abstract\n",
    "\n",
    "**Author:** [Charles Tapley Hoyt](https://github.com/cthoyt/)\n",
    "\n",
    "**Estimated Run Time:** \n",
    "\n",
    "This notebook outlines the process to programatically download a curated SNP listing and build a namespace with the PyBEL namespace builder. "
   ]
  },
  {
   "cell_type": "code",
   "execution_count": 2,
   "metadata": {
    "collapsed": false,
    "deletable": true,
    "editable": true
   },
   "outputs": [],
   "source": [
    "import requests\n",
    "import os\n",
    "import time\n",
    "\n",
    "import pybel_tools\n",
    "from pybel_tools.definition_utils import write_namespace"
   ]
  },
  {
   "cell_type": "code",
   "execution_count": 3,
   "metadata": {
    "collapsed": false
   },
   "outputs": [
    {
     "data": {
      "text/plain": [
       "'0.1.3-dev'"
      ]
     },
     "execution_count": 3,
     "metadata": {},
     "output_type": "execute_result"
    }
   ],
   "source": [
    "pybel_tools.__version__"
   ]
  },
  {
   "cell_type": "code",
   "execution_count": 4,
   "metadata": {
    "collapsed": false
   },
   "outputs": [
    {
     "data": {
      "text/plain": [
       "'Wed Mar 15 12:02:31 2017'"
      ]
     },
     "execution_count": 4,
     "metadata": {},
     "output_type": "execute_result"
    }
   ],
   "source": [
    "time.asctime()"
   ]
  },
  {
   "cell_type": "markdown",
   "metadata": {},
   "source": [
    "# Data from dbSNP"
   ]
  },
  {
   "cell_type": "code",
   "execution_count": 3,
   "metadata": {
    "collapsed": true,
    "deletable": true,
    "editable": true
   },
   "outputs": [],
   "source": [
    "dbsnp_url = 'ftp://ftp.ncbi.nih.gov/snp/organisms/human_9606/VCF/00-All.vcf.gz'"
   ]
  },
  {
   "cell_type": "code",
   "execution_count": 2,
   "metadata": {
    "collapsed": false,
    "deletable": true,
    "editable": true
   },
   "outputs": [],
   "source": [
    "dbsnp_out_path = os.path.expanduser('~/Downloads/dbsnp_snps.belns')"
   ]
  },
  {
   "cell_type": "markdown",
   "metadata": {
    "deletable": true,
    "editable": true
   },
   "source": [
    "## Download\n",
    "\n",
    "A standard resource for SNPs is dbSNP. It lists variations for which .\n",
    "\n",
    "This notebook was written during the period for which build 147 is the most current.\n",
    "\n",
    "ftp://ftp.ncbi.nih.gov/snp/organisms/human_9606/VCF/All_20161122.vcf.gz is the physical link, but there's a symlink for the most recent at ftp://ftp.ncbi.nih.gov/snp/organisms/human_9606/VCF/00-All.vcf.gz.\n",
    "\n",
    "The VCF format has comments starting with a `##` for the first 50 or so lines, then rows with the following format\n",
    "\n",
    "```\n",
    "#CHROM\tPOS\tID\tREF\tALT\tQUAL\tFILTER\tINFO\n",
    "1\t10019\trs775809821\tTA\tT\t.\t.\tRS=775809821;RSPOS=10020;dbSNPBuildID=144;SSR=0;SAO=0;VP=0x050000020005000002000200;GENEINFO=DDX11L1:100287102;WGT=1;VC=DIV;R5;ASP\n",
    "1\t10055\trs768019142\tT\tTA\t.\t.\tRS=768019142;RSPOS=10055;dbSNPBuildID=144;SSR=0;SAO=0;VP=0x050000020005000002000200;GENEINFO=DDX11L1:100287102;WGT=1;VC=DIV;R5;ASP\n",
    "```\n",
    "\n",
    "### Do it in Bash\n",
    "\n",
    "In bash, this was accomplished by gunzipping the module and doing \n",
    "\n",
    "1. `gunzip` it or `zcat` into the next command\n",
    "2. `grep -v \"##\" All_20161122.vcf | cut -d $'\\t' -f 3 > rsids.txt`\n",
    "3. `cat` it into `pybel_tools` namespace builder"
   ]
  },
  {
   "cell_type": "markdown",
   "metadata": {},
   "source": [
    "## Output"
   ]
  },
  {
   "cell_type": "code",
   "execution_count": 4,
   "metadata": {
    "collapsed": true,
    "deletable": true,
    "editable": true
   },
   "outputs": [],
   "source": [
    "%%time\n",
    "with open(os.path.expanduser('~/Downloads/rsids.txt')) as dbsnp_snps, open(dbsnp_out_path, 'w') as o:\n",
    "    _ = next(dbsnp_snps)  # Throw out header\n",
    "    \n",
    "    write_namespace(\n",
    "        \"dbSNP Common SNPs\", \n",
    "        \"dbSNP\", \n",
    "        \"Gene and Gene Products\", \n",
    "        'Charles Tapley Hoyt', \n",
    "        dbsnp_url, \n",
    "        dbsnp_snps,\n",
    "        namespace_description=\"SNP List acquired from dbSNP\",\n",
    "        namespace_species='9606',\n",
    "        author_copyright='WTF License',\n",
    "        functions=\"G\",\n",
    "        author_contact=\"charles.hoyt@scai.fraunhofer.de\",\n",
    "        output=f\n",
    "    )"
   ]
  },
  {
   "cell_type": "markdown",
   "metadata": {},
   "source": [
    "# Data from ENSEMBL"
   ]
  },
  {
   "cell_type": "code",
   "execution_count": 2,
   "metadata": {
    "collapsed": true,
    "deletable": true,
    "editable": true
   },
   "outputs": [],
   "source": [
    "ensembl_url = \"http://www.ensembl.org/biomart/martview/8335b18c43ef6a646d303cdba04299ce?VIRTUALSCHEMANAME=default&ATTRIBUTES=hsapiens_snp.default.snp.refsnp_id|hsapiens_snp.default.snp.refsnp_source|hsapiens_snp.default.snp.chr_name|hsapiens_snp.default.snp.chrom_start|hsapiens_snp.default.snp.chrom_end&FILTERS=&VISIBLEPANEL=resultspanel\""
   ]
  },
  {
   "cell_type": "code",
   "execution_count": 5,
   "metadata": {
    "collapsed": true
   },
   "outputs": [],
   "source": [
    "ensembl_out_path = os.path.expanduser('~/Downloads/ensembl_snps.belns')"
   ]
  },
  {
   "cell_type": "markdown",
   "metadata": {
    "deletable": true,
    "editable": true
   },
   "source": [
    "It's also possible to download the list of SNPs in ENSEMBL. Their data download service is also slow, and often crashes when trying to dump this database."
   ]
  },
  {
   "cell_type": "code",
   "execution_count": 4,
   "metadata": {
    "collapsed": false,
    "deletable": true,
    "editable": true
   },
   "outputs": [
    {
     "name": "stdout",
     "output_type": "stream",
     "text": [
      "CPU times: user 15.7 ms, sys: 5.63 ms, total: 21.3 ms\n",
      "Wall time: 210 ms\n"
     ]
    }
   ],
   "source": [
    "%%time\n",
    "res = requests.get(url)\n",
    "res.status_code"
   ]
  },
  {
   "cell_type": "code",
   "execution_count": 5,
   "metadata": {
    "collapsed": true,
    "deletable": true,
    "editable": true
   },
   "outputs": [],
   "source": [
    "ensembl_snps = res.content.decode('utf-8').split('\\n')"
   ]
  },
  {
   "cell_type": "markdown",
   "metadata": {
    "deletable": true,
    "editable": true
   },
   "source": [
    "## Output\n",
    "\n",
    "The `buildns` command in `pybel_tools` takes a list of items on stdin and the appropriate annotations as arguments to write a `*.belns` file conforming to the [specification](openbel-framework.readthedocs.io/en/latest/tutorials/building_custom_namespaces.html) from the OpenBEL Framework"
   ]
  },
  {
   "cell_type": "code",
   "execution_count": 6,
   "metadata": {
    "collapsed": false,
    "deletable": true,
    "editable": true
   },
   "outputs": [
    {
     "name": "stdout",
     "output_type": "stream",
     "text": [
      "CPU times: user 1.45 ms, sys: 1.34 ms, total: 2.79 ms\n",
      "Wall time: 2.97 ms\n"
     ]
    }
   ],
   "source": [
    "%%time\n",
    "with open(ensembl_out_path, 'w') as f:\n",
    "    write_namespace(\n",
    "        \"Ensembl SNPS\", \n",
    "        \"EnsblSNP\", \n",
    "        \"Gene and Gene Products\", \n",
    "        'Charles Tapley Hoyt', \n",
    "        ensembl_url, \n",
    "        ensembl_snps,\n",
    "        namespace_description=\"SNP List acquired from Ensembl\",\n",
    "        namespace_species='9606',\n",
    "        author_copyright='WTF License',\n",
    "        functions=\"G\",\n",
    "        author_contact=\"charles.hoyt@scai.fraunhofer.de\",\n",
    "        file=f\n",
    "    )"
   ]
  },
  {
   "cell_type": "markdown",
   "metadata": {},
   "source": [
    "# Conclusions\n",
    "\n",
    "There are multiple databases containing SNPs. Some are curated and others are not, and they all contain different annotations for different purposes. There are many other sources that also contain these data, such as the Affymetrix and Illumina sequence probe manifests."
   ]
  }
 ],
 "metadata": {
  "kernelspec": {
   "display_name": "Python 3",
   "language": "python",
   "name": "python3"
  },
  "language_info": {
   "codemirror_mode": {
    "name": "ipython",
    "version": 3
   },
   "file_extension": ".py",
   "mimetype": "text/x-python",
   "name": "python",
   "nbconvert_exporter": "python",
   "pygments_lexer": "ipython3",
   "version": "3.6.0"
  }
 },
 "nbformat": 4,
 "nbformat_minor": 2
}
