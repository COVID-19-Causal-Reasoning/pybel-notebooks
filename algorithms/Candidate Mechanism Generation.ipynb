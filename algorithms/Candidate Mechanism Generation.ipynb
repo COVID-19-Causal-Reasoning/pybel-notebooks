{
 "cells": [
  {
   "cell_type": "markdown",
   "metadata": {
    "deletable": true,
    "editable": true
   },
   "source": [
    "# Abstract\n",
    "\n",
    "**Author:** [Charles Tapley Hoyt](https://github.com/cthoyt)\n",
    "\n",
    "**Estimated Run Time:** 5 minutes\n",
    "\n",
    "This notebooks outlines the process of generating unbiased candidate mechanisms and comparing them to the dogmatic mechanisms from the [NeuroMMSig Database](http://neurommsig.scai.fraunhofer.de/)."
   ]
  },
  {
   "cell_type": "markdown",
   "metadata": {
    "deletable": true,
    "editable": true
   },
   "source": [
    "### Notebook Imports"
   ]
  },
  {
   "cell_type": "code",
   "execution_count": 1,
   "metadata": {
    "collapsed": true,
    "deletable": true,
    "editable": true
   },
   "outputs": [],
   "source": [
    "import logging\n",
    "import itertools as itt\n",
    "import os\n",
    "import time\n",
    "from collections import defaultdict\n",
    "from operator import itemgetter\n",
    "\n",
    "import matplotlib.pyplot as plt\n",
    "import numpy as np\n",
    "import pandas as pd\n",
    "import seaborn as sns\n",
    "from matplotlib_venn import venn2\n",
    "\n",
    "import pybel\n",
    "import pybel_tools as pbt\n",
    "import pybel_tools.analysis.npa as npa\n",
    "from pybel.canonicalize import calculate_canonical_name\n",
    "from pybel.constants import *\n",
    "from pybel_tools.visualization import to_jupyter"
   ]
  },
  {
   "cell_type": "code",
   "execution_count": 2,
   "metadata": {
    "collapsed": false,
    "deletable": true,
    "editable": true
   },
   "outputs": [],
   "source": [
    "#%config InlineBackend.figure_format = 'svg'\n",
    "%matplotlib inline"
   ]
  },
  {
   "cell_type": "markdown",
   "metadata": {
    "deletable": true,
    "editable": true
   },
   "source": [
    "### Notebook Provenance\n",
    "\n",
    "The time of execution, random number generator seed, and the versions of the software packegs used are displayed explicitly."
   ]
  },
  {
   "cell_type": "code",
   "execution_count": 3,
   "metadata": {
    "collapsed": false,
    "deletable": true,
    "editable": true
   },
   "outputs": [
    {
     "data": {
      "text/plain": [
       "'Tue Mar 28 23:01:41 2017'"
      ]
     },
     "execution_count": 3,
     "metadata": {},
     "output_type": "execute_result"
    }
   ],
   "source": [
    "time.asctime()"
   ]
  },
  {
   "cell_type": "code",
   "execution_count": 4,
   "metadata": {
    "collapsed": true,
    "deletable": true,
    "editable": true
   },
   "outputs": [],
   "source": [
    "# seed the random number generator\n",
    "import random\n",
    "random.seed(127)"
   ]
  },
  {
   "cell_type": "code",
   "execution_count": 5,
   "metadata": {
    "collapsed": false,
    "deletable": true,
    "editable": true
   },
   "outputs": [
    {
     "data": {
      "text/plain": [
       "'0.4.4-dev'"
      ]
     },
     "execution_count": 5,
     "metadata": {},
     "output_type": "execute_result"
    }
   ],
   "source": [
    "pybel.__version__"
   ]
  },
  {
   "cell_type": "code",
   "execution_count": 6,
   "metadata": {
    "collapsed": false,
    "deletable": true,
    "editable": true
   },
   "outputs": [
    {
     "data": {
      "text/plain": [
       "'0.1.4-dev'"
      ]
     },
     "execution_count": 6,
     "metadata": {},
     "output_type": "execute_result"
    }
   ],
   "source": [
    "pbt.__version__"
   ]
  },
  {
   "cell_type": "markdown",
   "metadata": {
    "deletable": true,
    "editable": true
   },
   "source": [
    "### Local Path Definitions\n",
    "\n",
    "To make this notebook interoperable across many machines, locations to the repositories that contain the data used in this notebook are referenced from the environment, set in `~/.bashrc` to point to the place where the repositories have been cloned. Assuming the repositories have been `git clone`'d into the `~/dev` folder, the entries in `~/.bashrc` should look like:\n",
    "\n",
    "```bash\n",
    "...\n",
    "export BMS_BASE=~/dev/bms\n",
    "...\n",
    "```\n",
    "\n",
    "#### BMS \n",
    "\n",
    "The biological model store (BMS) is the internal Fraunhofer SCAI repository for keeping BEL models under version control. It can be downloaded from https://tor-2.scai.fraunhofer.de/gf/project/bms/"
   ]
  },
  {
   "cell_type": "code",
   "execution_count": 7,
   "metadata": {
    "collapsed": true,
    "deletable": true,
    "editable": true
   },
   "outputs": [],
   "source": [
    "bms_base = os.environ['BMS_BASE']"
   ]
  },
  {
   "cell_type": "markdown",
   "metadata": {
    "deletable": true,
    "editable": true
   },
   "source": [
    "## Alzheimer's Disease Knowledge Assembly\n",
    "\n",
    "The Alzheimer's Disease knowledge assembly has been precompiled with the following command line script, and will be loaded from this format for improved performance. In general, derived data, such as the gpickle representation of a BEL script, are not saved under version control to ensure that the most up-to-date data is always used.\n",
    "\n",
    "```sh\n",
    "pybel convert --path \"$BMS_BASE/aetionomy/alzheimers.bel\" --pickle \"$BMS_BASE/aetionomy/alzheimers.gpickle\"\n",
    "```\n",
    "\n",
    "The BEL script can also be compiled from inside this notebook with the following python code:\n",
    "\n",
    "```python\n",
    ">>> import os\n",
    ">>> import pybel\n",
    ">>> # Input from BEL script\n",
    ">>> bel_path = os.path.join(bms_base, 'aetionomy', 'alzheimers.bel')\n",
    ">>> graph = pybel.from_path(bel_path)\n",
    ">>> # Output to gpickle for fast loading later\n",
    ">>> pickle_path = os.path.join(bms_base, 'aetionomy', 'alzheimers.gpickle')\n",
    ">>> pybel.to_pickle(graph, pickle_path)\n",
    "```"
   ]
  },
  {
   "cell_type": "code",
   "execution_count": 8,
   "metadata": {
    "collapsed": true,
    "deletable": true,
    "editable": true
   },
   "outputs": [],
   "source": [
    "pickle_path = os.path.join(bms_base, 'aetionomy', 'alzheimers.gpickle')"
   ]
  },
  {
   "cell_type": "code",
   "execution_count": 9,
   "metadata": {
    "collapsed": true,
    "deletable": true,
    "editable": true
   },
   "outputs": [],
   "source": [
    "graph = pybel.from_pickle(pickle_path)"
   ]
  },
  {
   "cell_type": "code",
   "execution_count": 10,
   "metadata": {
    "collapsed": false
   },
   "outputs": [
    {
     "data": {
      "text/plain": [
       "'3.0'"
      ]
     },
     "execution_count": 10,
     "metadata": {},
     "output_type": "execute_result"
    }
   ],
   "source": [
    "graph.version"
   ]
  },
  {
   "cell_type": "markdown",
   "metadata": {
    "deletable": true,
    "editable": true
   },
   "source": [
    "## Summary of Subgraphs and Biological Processes"
   ]
  },
  {
   "cell_type": "markdown",
   "metadata": {
    "deletable": true,
    "editable": true
   },
   "source": [
    "The names of the dogmatic mechanisms are extracted and listed below."
   ]
  },
  {
   "cell_type": "code",
   "execution_count": 11,
   "metadata": {
    "collapsed": false,
    "deletable": true,
    "editable": true
   },
   "outputs": [],
   "source": [
    "dogmatic_mechanism_names = sorted(pbt.summary.get_annotation_values(graph, 'Subgraph'))"
   ]
  },
  {
   "cell_type": "code",
   "execution_count": 12,
   "metadata": {
    "collapsed": false,
    "deletable": true,
    "editable": true
   },
   "outputs": [
    {
     "data": {
      "text/plain": [
       "126"
      ]
     },
     "execution_count": 12,
     "metadata": {},
     "output_type": "execute_result"
    }
   ],
   "source": [
    "len(dogmatic_mechanism_names)"
   ]
  },
  {
   "cell_type": "markdown",
   "metadata": {
    "deletable": true,
    "editable": true
   },
   "source": [
    "The BEL graph object is split to multiple BEL graph objects representing each of the subgraphs with [pbt.selection.get_subgraph_by_annotation](http://pybel-tools.readthedocs.io/en/latest/selection.html#pybel_tools.selection.get_subgraph_by_annotation)."
   ]
  },
  {
   "cell_type": "code",
   "execution_count": 13,
   "metadata": {
    "collapsed": false,
    "deletable": true,
    "editable": true
   },
   "outputs": [
    {
     "name": "stdout",
     "output_type": "stream",
     "text": [
      "CPU times: user 14.3 s, sys: 155 ms, total: 14.4 s\n",
      "Wall time: 14.5 s\n"
     ]
    }
   ],
   "source": [
    "%%time\n",
    "\n",
    "dogmatic_mechanisms = {}\n",
    "\n",
    "for dogmatic_mechanism_name in dogmatic_mechanism_names:\n",
    "    dogmatic_mechanism = pbt.selection.get_subgraph_by_annotation(graph, dogmatic_mechanism_name)\n",
    "    # TODO filters?\n",
    "    dogmatic_mechanisms[dogmatic_mechanism_name] = dogmatic_mechanism"
   ]
  },
  {
   "cell_type": "markdown",
   "metadata": {
    "deletable": true,
    "editable": true
   },
   "source": [
    "### Biological Processes to Dogmatic Subgraphs"
   ]
  },
  {
   "cell_type": "markdown",
   "metadata": {
    "deletable": true,
    "editable": true
   },
   "source": [
    "All biological process nodes are retrieved with [pbt.selection.get_nodes_by_function](http://pybel-tools.readthedocs.io/en/latest/selection.html#pybel_tools.selection.get_nodes_by_function)."
   ]
  },
  {
   "cell_type": "code",
   "execution_count": 14,
   "metadata": {
    "collapsed": true,
    "deletable": true,
    "editable": true
   },
   "outputs": [],
   "source": [
    "bioprocess_nodes = sorted(pbt.selection.get_nodes_by_function(graph, BIOPROCESS))"
   ]
  },
  {
   "cell_type": "code",
   "execution_count": 15,
   "metadata": {
    "collapsed": false,
    "deletable": true,
    "editable": true
   },
   "outputs": [
    {
     "data": {
      "text/plain": [
       "440"
      ]
     },
     "execution_count": 15,
     "metadata": {},
     "output_type": "execute_result"
    }
   ],
   "source": [
    "len(bioprocess_nodes)"
   ]
  },
  {
   "cell_type": "markdown",
   "metadata": {
    "deletable": true,
    "editable": true
   },
   "source": [
    "Which bioprocesses appear in multiple dogmatic mechanisms? The upstream controllers of these nodes in the knowledge assembly will be direct evidence for cross talk."
   ]
  },
  {
   "cell_type": "code",
   "execution_count": 16,
   "metadata": {
    "collapsed": false,
    "deletable": true,
    "editable": true
   },
   "outputs": [],
   "source": [
    "bp2dm = defaultdict(set)\n",
    "\n",
    "for dogmatic_mechanism_name, dogmatic_mechanism in dogmatic_mechanisms.items():\n",
    "    for bp in pbt.selection.get_nodes_by_function(dogmatic_mechanism, BIOPROCESS):\n",
    "        bp2dm[bp].add(dogmatic_mechanism_name)\n",
    "        \n",
    "bp2dm = dict(bp2dm)"
   ]
  },
  {
   "cell_type": "code",
   "execution_count": 17,
   "metadata": {
    "collapsed": false,
    "deletable": true,
    "editable": true
   },
   "outputs": [
    {
     "data": {
      "image/png": "[encoded data removed]",
      "text/plain": [
       "<matplotlib.figure.Figure at 0x11abfb048>"
      ]
     },
     "metadata": {},
     "output_type": "display_data"
    }
   ],
   "source": [
    "bp2dm_counts = pbt.utils.count_dict_values(bp2dm)\n",
    "\n",
    "plt.ylabel('Frequency')\n",
    "plt.xlabel('Number of subgraphs in which a biological process appears')\n",
    "plt.hist(list(bp2dm_counts.values()), log=True)\n",
    "plt.show()"
   ]
  },
  {
   "cell_type": "markdown",
   "metadata": {
    "deletable": true,
    "editable": true
   },
   "source": [
    "The top 25 most frequent biological processes are shown below."
   ]
  },
  {
   "cell_type": "code",
   "execution_count": 18,
   "metadata": {
    "collapsed": false,
    "deletable": true,
    "editable": true
   },
   "outputs": [
    {
     "name": "stdout",
     "output_type": "stream",
     "text": [
      "42 GOBP   apoptotic process\n",
      "30 GOBP   neuron apoptotic process\n",
      "28 GOBP   neuron death\n",
      "26 GOBP   cognition\n",
      "24 GOBP   cell death\n",
      "20 MESHPP Oxidative Stress\n",
      "20 GOBP   memory\n",
      "20 GOBP   inflammatory response\n",
      "15 GOBP   calcium ion import\n",
      "14 GOBP   response to oxidative stress\n",
      "14 GOBP   microglial cell activation\n",
      "12 GOBP   learning\n",
      "12 MESHPP Apoptosis\n",
      "11 MESHPP Insulin Resistance\n",
      "11 GOBP   regulation of synaptic plasticity\n",
      "10 GOBP   negative regulation of neuron apoptotic process\n",
      "10 GOBP   calcium-mediated signaling\n",
      "10 GOBP   insulin receptor signaling pathway\n",
      "10 GOBP   endocytosis\n",
      "10 GOBP   microglial cell activation involved in immune response\n",
      " 9 GOBP   beta-amyloid formation\n",
      " 9 GOBP   synaptic transmission\n",
      " 9 GOBP   neuron projection development\n",
      " 9 MESHPP Neurogenesis\n",
      " 9 GOBP   cytoskeleton organization\n"
     ]
    }
   ],
   "source": [
    "for bp, count in bp2dm_counts.most_common(25):\n",
    "    print('{:2} {:6} {}'.format(count, graph.node[bp][NAMESPACE], graph.node[bp][NAME]))"
   ]
  },
  {
   "cell_type": "markdown",
   "metadata": {
    "deletable": true,
    "editable": true
   },
   "source": [
    "### Dogmatic Subgraphs to Biological Processes\n",
    "\n",
    "Conversely, how many biological processes appear in each mechanism?"
   ]
  },
  {
   "cell_type": "code",
   "execution_count": 19,
   "metadata": {
    "collapsed": false,
    "deletable": true,
    "editable": true
   },
   "outputs": [],
   "source": [
    "dm2bp = {}\n",
    "\n",
    "for dogmatic_mechanism_name, dogmatic_mechanism in dogmatic_mechanisms.items():\n",
    "    dm2bp[dogmatic_mechanism_name] = set(pbt.selection.get_nodes_by_function(dogmatic_mechanism, BIOPROCESS))"
   ]
  },
  {
   "cell_type": "code",
   "execution_count": 20,
   "metadata": {
    "collapsed": false,
    "deletable": true,
    "editable": true
   },
   "outputs": [
    {
     "data": {
      "image/png": "[encoded data removed]",
      "text/plain": [
       "<matplotlib.figure.Figure at 0x11a989630>"
      ]
     },
     "metadata": {},
     "output_type": "display_data"
    }
   ],
   "source": [
    "dm2bp_counts = pbt.utils.count_dict_values(dm2bp)\n",
    "\n",
    "plt.ylabel('Frequency')\n",
    "plt.xlabel('Number of biological processes contained within a subgraph')\n",
    "plt.hist(list(dm2bp_counts.values()), log=True)\n",
    "plt.show()"
   ]
  },
  {
   "cell_type": "markdown",
   "metadata": {
    "deletable": true,
    "editable": true
   },
   "source": [
    "The top 25 highest biological-process dense subgraphs are shown below."
   ]
  },
  {
   "cell_type": "code",
   "execution_count": 21,
   "metadata": {
    "collapsed": false,
    "deletable": true,
    "editable": true
   },
   "outputs": [
    {
     "name": "stdout",
     "output_type": "stream",
     "text": [
      "97 Amyloidogenic subgraph\n",
      "64 Insulin signal transduction\n",
      "43 Inflammatory response subgraph\n",
      "42 Tau protein subgraph\n",
      "36 Low density lipoprotein subgraph\n",
      "34 Gamma secretase subgraph\n",
      "33 Acetylcholine signaling subgraph\n",
      "30 MAPK-ERK subgraph\n",
      "29 Cyclin-CDK subgraph\n",
      "29 Non-amyloidogenic subgraph\n",
      "28 Glutamatergic subgraph\n",
      "26 Reactive oxygen species subgraph\n",
      "25 Calcium-dependent signal transduction\n",
      "23 Tumor necrosis factor subgraph\n",
      "22 Phosphatidylinositol 3 subgraph\n",
      "22 Regulation of cytoskeleton subgraph\n",
      "21 Chemokine signaling subgraph\n",
      "21 GSK3 subgraph\n",
      "21 Interleukin signaling subgraph\n",
      "21 Nitric oxide subgraph\n",
      "20 Caspase subgraph\n",
      "19 ApoE subgraph\n",
      "19 CREB subgraph\n",
      "19 Response to oxidative stress\n",
      "17 Endosomal lysosomal subgraph\n"
     ]
    }
   ],
   "source": [
    "for dogmatic_mechanism_name, count in dm2bp_counts.most_common(25):\n",
    "    print('{:2} {}'.format(count, dogmatic_mechanism_name))"
   ]
  },
  {
   "cell_type": "markdown",
   "metadata": {
    "deletable": true,
    "editable": true
   },
   "source": [
    "### Annotation Landscape\n",
    "\n",
    "The biological process to dogmatic subgraph membership matrix is calculated, clustered, and plotted below."
   ]
  },
  {
   "cell_type": "code",
   "execution_count": 22,
   "metadata": {
    "collapsed": true,
    "deletable": true,
    "editable": true
   },
   "outputs": [],
   "source": [
    "dm_bp_membership = defaultdict(dict)\n",
    "dm_bp_membership_bool = defaultdict(dict)\n",
    "\n",
    "for dogmatic_mechanism_name, bp in itt.product(dogmatic_mechanism_names, bioprocess_nodes):\n",
    "    dm_bp_membership_bool[dogmatic_mechanism_name][bp] = bp in dm2bp[dogmatic_mechanism_name]\n",
    "    dm_bp_membership[dogmatic_mechanism_name][bp] = 1 if bp in dm2bp[dogmatic_mechanism_name] else 0\n",
    "    \n",
    "dm_bp_membership = dict(dm_bp_membership)\n",
    "dm_bp_membership_bool = dict(dm_bp_membership_bool)"
   ]
  },
  {
   "cell_type": "code",
   "execution_count": 23,
   "metadata": {
    "collapsed": false,
    "deletable": true,
    "editable": true
   },
   "outputs": [
    {
     "name": "stderr",
     "output_type": "stream",
     "text": [
      "/usr/local/lib/python3.6/site-packages/matplotlib/cbook.py:136: MatplotlibDeprecationWarning: The axisbg attribute was deprecated in version 2.0. Use facecolor instead.\n",
      "  warnings.warn(message, mplDeprecation, stacklevel=1)\n"
     ]
    },
    {
     "data": {
      "image/png": "[encoded data removed]",
      "text/plain": [
       "<matplotlib.figure.Figure at 0x11bb791d0>"
      ]
     },
     "metadata": {},
     "output_type": "display_data"
    }
   ],
   "source": [
    "membership_df = pd.DataFrame(dm_bp_membership)\n",
    "\n",
    "#plt.title('Landscape of membership of biological processes to dogmatic subgraphs')\n",
    "#plt.ylabel('Biological process')\n",
    "#plt.xlabel('Dogmatic subgraph')\n",
    "\n",
    "sg = sns.clustermap(membership_df, xticklabels=False, yticklabels=False, figsize=(10, 7))\n",
    "\n",
    "plt.show()"
   ]
  },
  {
   "cell_type": "markdown",
   "metadata": {
    "collapsed": true,
    "deletable": true,
    "editable": true
   },
   "source": [
    "## Generated Unbiased Mechanisms\n",
    "\n",
    "Each subgraph annotation in the NeuroMMSig Database comes from a specific domain of study. While these dogmatic mechanisms are helpful for communicating ideas, they are a discretization of the continuous and inseperable biological system. In this section, we will generate more, smaller candidate subgraphs with an unbiased approach in hopes of providing a more thorough overview of the individual mechanisms in the hollistic system and their interplay or \"cross-talk\". Later, we'll use that information to assess the overlap between dogmatic mechanisms and bridge the gaps between them."
   ]
  },
  {
   "cell_type": "markdown",
   "metadata": {
    "deletable": true,
    "editable": true
   },
   "source": [
    "The mechanisms themselves are generated with [pbt.generation.generate_bioprocess_mechanisms](http://pybel-tools.readthedocs.io/en/latest/generation.html#pybel_tools.generation.generate_bioprocess_mechanisms) by expanding to the upstream controllers around each biological process."
   ]
  },
  {
   "cell_type": "code",
   "execution_count": 24,
   "metadata": {
    "collapsed": false,
    "deletable": true,
    "editable": true
   },
   "outputs": [
    {
     "name": "stdout",
     "output_type": "stream",
     "text": [
      "CPU times: user 3.5 s, sys: 57 ms, total: 3.55 s\n",
      "Wall time: 3.57 s\n"
     ]
    }
   ],
   "source": [
    "%%time\n",
    "candidate_mechanisms = pbt.generation.generate_bioprocess_mechanisms(graph)"
   ]
  },
  {
   "cell_type": "code",
   "execution_count": 25,
   "metadata": {
    "collapsed": false,
    "deletable": true,
    "editable": true
   },
   "outputs": [
    {
     "data": {
      "image/png": "[encoded data removed]",
      "text/plain": [
       "<matplotlib.figure.Figure at 0x11bb8b2b0>"
      ]
     },
     "metadata": {},
     "output_type": "display_data"
    }
   ],
   "source": [
    "plt.xlabel('Generated mechanism size')\n",
    "plt.ylabel('Frequency')\n",
    "plt.hist([len(cm) for cm in candidate_mechanisms.values()], log=True)\n",
    "plt.show()"
   ]
  },
  {
   "cell_type": "markdown",
   "metadata": {
    "deletable": true,
    "editable": true
   },
   "source": [
    "## Overlap Summary\n",
    "\n",
    "The Tversky similarity is calculated between the nodes contained in each candidate mechanism versus each dogmatic subgraph. It is weighted to calculate what percentage of the nodes in a candidate mechanism with $\\alpha=1$ and $\\beta=0$."
   ]
  },
  {
   "cell_type": "code",
   "execution_count": 26,
   "metadata": {
    "collapsed": false,
    "deletable": true,
    "editable": true
   },
   "outputs": [
    {
     "name": "stdout",
     "output_type": "stream",
     "text": [
      "CPU times: user 5.63 s, sys: 30.3 ms, total: 5.66 s\n",
      "Wall time: 5.68 s\n"
     ]
    }
   ],
   "source": [
    "%%time\n",
    "\n",
    "dm_bp_overlap = defaultdict(dict)\n",
    "\n",
    "for dogmatic_mechanism_name, bp in itt.product(dogmatic_mechanism_names, bioprocess_nodes):\n",
    "    x = set(pbt.selection.get_nodes_by_function(candidate_mechanisms[bp], {PROTEIN, BIOPROCESS}))\n",
    "    y = set(dogmatic_mechanisms[dogmatic_mechanism_name].nodes_iter())\n",
    "    \n",
    "    dm_bp_overlap[dogmatic_mechanism_name][bp] = pbt.utils.set_percentage(x, y)\n",
    "    \n",
    "dm_bp_overlap = dict(dm_bp_overlap)"
   ]
  },
  {
   "cell_type": "code",
   "execution_count": 27,
   "metadata": {
    "collapsed": false,
    "deletable": true,
    "editable": true,
    "scrolled": false
   },
   "outputs": [
    {
     "data": {
      "image/png": "[encoded data removed]",
      "text/plain": [
       "<matplotlib.figure.Figure at 0x11bd2a0b8>"
      ]
     },
     "metadata": {},
     "output_type": "display_data"
    }
   ],
   "source": [
    "overlap_df = pd.DataFrame(dm_bp_overlap)\n",
    "overlap_df.to_csv(os.path.expanduser('~/Desktop/subgraph_comparison.csv'))\n",
    "\n",
    "plt.title('A histogram over the pairwise overlap values')\n",
    "plt.xlabel('Percent Overlap')\n",
    "plt.ylabel('Frequency')\n",
    "plt.hist(overlap_df.as_matrix().ravel(), log=True)\n",
    "plt.show()"
   ]
  },
  {
   "cell_type": "code",
   "execution_count": 28,
   "metadata": {
    "collapsed": false,
    "deletable": true,
    "editable": true
   },
   "outputs": [
    {
     "name": "stderr",
     "output_type": "stream",
     "text": [
      "/usr/local/lib/python3.6/site-packages/matplotlib/cbook.py:136: MatplotlibDeprecationWarning: The axisbg attribute was deprecated in version 2.0. Use facecolor instead.\n",
      "  warnings.warn(message, mplDeprecation, stacklevel=1)\n"
     ]
    },
    {
     "data": {
      "image/png": "[encoded data removed]",
      "text/plain": [
       "<matplotlib.figure.Figure at 0x11aa07b00>"
      ]
     },
     "metadata": {},
     "output_type": "display_data"
    }
   ],
   "source": [
    "#ax = plt.axes()\n",
    "#ax.set_title('Landscape of overlap of generated candidate mechanisms to dogmatic subgraphs')\n",
    "#ax.set_ylabel('Candidate mechanism generated from biological process')\n",
    "#ax.set_xlabel('Dogmatic subgraph')\n",
    "\n",
    "cg = sns.clustermap(overlap_df, xticklabels=False, yticklabels=False, figsize=(10, 7))\n",
    "\n",
    "plt.show()"
   ]
  },
  {
   "cell_type": "markdown",
   "metadata": {
    "deletable": true,
    "editable": true
   },
   "source": [
    "The overlap similarity matrix is discretized with a cutoff and displayed below."
   ]
  },
  {
   "cell_type": "code",
   "execution_count": 29,
   "metadata": {
    "collapsed": true,
    "deletable": true,
    "editable": true
   },
   "outputs": [],
   "source": [
    "overlap_cutoff = 0.2"
   ]
  },
  {
   "cell_type": "code",
   "execution_count": 30,
   "metadata": {
    "collapsed": false,
    "deletable": true,
    "editable": true
   },
   "outputs": [
    {
     "name": "stderr",
     "output_type": "stream",
     "text": [
      "/usr/local/lib/python3.6/site-packages/matplotlib/cbook.py:136: MatplotlibDeprecationWarning: The axisbg attribute was deprecated in version 2.0. Use facecolor instead.\n",
      "  warnings.warn(message, mplDeprecation, stacklevel=1)\n"
     ]
    },
    {
     "data": {
      "image/png": "[encoded data removed]",
      "text/plain": [
       "<matplotlib.figure.Figure at 0x11da5e048>"
      ]
     },
     "metadata": {},
     "output_type": "display_data"
    }
   ],
   "source": [
    "sns.clustermap(overlap_cutoff < overlap_df, xticklabels=False, yticklabels=False, figsize=(10, 7))\n",
    "plt.show()"
   ]
  },
  {
   "cell_type": "markdown",
   "metadata": {
    "deletable": true,
    "editable": true
   },
   "source": [
    "## Concordance Calculations\n",
    "\n",
    "Which dogmatic subgraphs have a significant overlap with candidate mechansims? Of the candidate mechanisms with significant overlap to dogmatic subgraphs, which biological processes were not already part of the dogmatic subgraph?"
   ]
  },
  {
   "cell_type": "code",
   "execution_count": 31,
   "metadata": {
    "collapsed": false,
    "deletable": true,
    "editable": true
   },
   "outputs": [],
   "source": [
    "#: Keeps track of which biological processes have large overlap with a dogmatic mechanism, but wasn't in it\n",
    "dm_added = {}\n",
    "dm_bp_cutoff_member = defaultdict(dict)\n",
    "\n",
    "for dogmatic_mechanism_name in dogmatic_mechanism_names:\n",
    "    dm_added[dogmatic_mechanism_name] = set()\n",
    "    for bp in bioprocess_nodes:\n",
    "        \n",
    "        concordance = overlap_cutoff < dm_bp_overlap[dogmatic_mechanism_name][bp]\n",
    "        \n",
    "        dm_bp_cutoff_member[dogmatic_mechanism_name][bp] = concordance\n",
    "        \n",
    "        if bp not in dm2bp[dogmatic_mechanism_name] and concordance:\n",
    "            dm_added[dogmatic_mechanism_name].add(bp)"
   ]
  },
  {
   "cell_type": "code",
   "execution_count": 32,
   "metadata": {
    "collapsed": false,
    "deletable": true,
    "editable": true
   },
   "outputs": [
    {
     "data": {
      "image/png": "[encoded data removed]",
      "text/plain": [
       "<matplotlib.figure.Figure at 0x11eb7d320>"
      ]
     },
     "metadata": {},
     "output_type": "display_data"
    }
   ],
   "source": [
    "plt.xlabel('Number of biological processes added to dogmatic subgraph')\n",
    "plt.ylabel('Frequency')\n",
    "plt.hist([len(v) for v in dm_added.values()], log=True)\n",
    "plt.show()"
   ]
  },
  {
   "cell_type": "markdown",
   "metadata": {
    "deletable": true,
    "editable": true
   },
   "source": [
    "Similarity values between the set of added biological processes and the set of contained biological processes for each dogmatic mechanism are calculated. \n",
    "\n",
    "Higher similarity means that this approach has lower potential for asserting subgraph expansions, so the values are subtracted from one to preserve monotonicity and improve interpretability."
   ]
  },
  {
   "cell_type": "code",
   "execution_count": 33,
   "metadata": {
    "collapsed": true,
    "deletable": true,
    "editable": true
   },
   "outputs": [],
   "source": [
    "dm_concordance = {}\n",
    "\n",
    "for dm in dogmatic_mechanism_names:\n",
    "    x = dm_added[dm]\n",
    "    y = {bp for bp in bioprocess_nodes if dm_bp_cutoff_member[dm][bp]}\n",
    "    \n",
    "    dm_concordance[dm] = 1 - pbt.utils.tanimoto_set_similarity(x, y)"
   ]
  },
  {
   "cell_type": "code",
   "execution_count": 34,
   "metadata": {
    "collapsed": false,
    "deletable": true,
    "editable": true
   },
   "outputs": [
    {
     "data": {
      "image/png": "[encoded data removed]",
      "text/plain": [
       "<matplotlib.figure.Figure at 0x11dd97390>"
      ]
     },
     "metadata": {},
     "output_type": "display_data"
    }
   ],
   "source": [
    "plt.ylabel('Frequency')\n",
    "plt.xlabel('Potential for adding biological processes not in the dogmatic subgraph')\n",
    "plt.hist(list(dm_concordance.values()))\n",
    "plt.show()"
   ]
  },
  {
   "cell_type": "markdown",
   "metadata": {
    "deletable": true,
    "editable": true
   },
   "source": [
    "The similarity values correspond to which dogmatic subgraphs have the highest potential for expansion, with higher values corresponding to higher potential."
   ]
  },
  {
   "cell_type": "code",
   "execution_count": 35,
   "metadata": {
    "collapsed": false,
    "deletable": true,
    "editable": true
   },
   "outputs": [
    {
     "name": "stdout",
     "output_type": "stream",
     "text": [
      "1.00 Alcohol dehydrogenase subgraph\n",
      "1.00 Beta-Oxidation of Fatty Acids\n",
      "1.00 CRH subgraph\n",
      "1.00 Cortisol subgraph\n",
      "1.00 Disaccharide metabolism subgraph\n",
      "1.00 Dopaminergic subgraph\n",
      "1.00 Galanin subgraph\n",
      "1.00 Glycolysis subgraph\n",
      "1.00 Myeloperoxidase subgraph\n",
      "1.00 Neurotransmitter release subgraph\n",
      "1.00 Nucleoside salvage subgraph\n",
      "1.00 Protein biosynthesis subgraph\n",
      "1.00 RhoA subgraph\n",
      "1.00 Smad subgraph\n",
      "1.00 Syndecan subgraph\n",
      "1.00 p53 stabilization subgraph\n",
      "0.86 Serotonergic subgraph\n",
      "0.83 Blood vessel dilation subgraph\n",
      "0.67 KANSL1 subgraph\n",
      "0.60 Retinoblastoma subgraph\n",
      "0.56 Axonal guidance subgraph\n",
      "0.50 Cell-cell communication subgraph\n",
      "0.50 Energy metabolism\n",
      "0.50 Glutathione reductase subgraph\n",
      "0.50 Reelin subgraph\n",
      "0.50 Synapse assembly subgraph\n",
      "0.50 Vitamin subgraph\n",
      "0.50 XIAP subgraph\n",
      "0.44 Tau protein subgraph\n",
      "0.43 Cell cycle subgraph\n",
      "0.43 Axonal transport subgraph\n",
      "0.43 Neuroprotection subgraph\n",
      "0.42 Amyloidogenic subgraph\n",
      "0.40 Hydrogen peroxide subgraph\n",
      "0.40 Insulin signal transduction\n",
      "0.39 Phosphatidylinositol 3 subgraph\n",
      "0.38 CREB subgraph\n",
      "0.38 Glutamatergic subgraph\n",
      "0.36 Wnt signaling subgraph\n",
      "0.33 Albumin subgraph\n",
      "0.33 Glucagon subgraph\n",
      "0.33 Inflammatory response subgraph\n",
      "0.33 Leptin subgraph\n",
      "0.33 Low density lipoprotein subgraph\n",
      "0.33 Paroxetine subgraph\n",
      "0.33 Plasminogen activator subgraph\n",
      "0.32 Caspase subgraph\n",
      "0.32 Gamma secretase subgraph\n",
      "0.31 Innate immune system subgraph\n",
      "0.31 T cells signaling\n",
      "0.29 Reactive oxygen species subgraph\n",
      "0.29 Sphingolipid metabolic subgraph\n",
      "0.29 GSK3 subgraph\n",
      "0.29 ApoE subgraph\n",
      "0.29 Electron transport chain\n",
      "0.29 Unfolded protein response subgraph\n",
      "0.28 Chemokine signaling subgraph\n",
      "0.27 Cyclin-CDK subgraph\n",
      "0.27 Calcium-dependent signal transduction\n",
      "0.27 Cholesterol metabolism subgraph\n",
      "0.27 Regulation of cytoskeleton subgraph\n",
      "0.27 Autophagy signaling subgraph\n",
      "0.27 Matrix metalloproteinase subgraph\n",
      "0.26 Nitric oxide subgraph\n",
      "0.25 Acetylcholine signaling subgraph\n",
      "0.25 Bcl-2 subgraph\n",
      "0.25 miRNA subgraph\n",
      "0.24 Chaperone subgraph\n",
      "0.24 NMDA receptor\n",
      "0.24 Synaptic vesicle endocytosis subgraph\n",
      "0.23 MAPK-ERK subgraph\n",
      "0.23 Immunoglobulin subgraph\n",
      "0.23 Ubiquitin degradation subgraph\n",
      "0.23 Cytokine signaling subgraph\n",
      "0.22 TGF-Beta subgraph\n",
      "0.22 Cell adhesion subgraph\n",
      "0.22 Endosomal lysosomal subgraph\n",
      "0.21 Peroxisome proliferator activated receptor subgraph\n",
      "0.20 ATP binding cassette transport subgraph\n",
      "0.20 Calpastatin-calpain subgraph\n",
      "0.20 GABA subgraph\n",
      "0.20 Hypoxia response subgraph\n",
      "0.20 Lipid peroxidation subgraph\n",
      "0.19 Notch signaling subgraph\n",
      "0.19 Apoptosis signaling subgraph\n",
      "0.19 Response to oxidative stress\n",
      "0.18 DYRK1A subgraph\n",
      "0.18 Interleukin signaling subgraph\n",
      "0.17 Androgen subgraph\n",
      "0.17 G-protein-mediated signaling\n",
      "0.17 Metabolism of steroid hormones subgraph\n",
      "0.17 Vascular endothelial growth factor subgraph\n",
      "0.16 Nerve growth factor subgraph\n",
      "0.16 Tumor necrosis factor subgraph\n",
      "0.16 Non-amyloidogenic subgraph\n",
      "0.15 Mitochondrial translocation subgraph\n",
      "0.15 MAPK-JNK subgraph\n",
      "0.14 Beta-Catenin subgraph\n",
      "0.14 Estrogen subgraph\n",
      "0.14 Akt subgraph\n",
      "0.12 Free radical formation subgraph\n",
      "0.12 Lipid metabolism subgraph\n",
      "0.12 Neurotrophic subgraph\n",
      "0.11 mTOR signaling subgraph\n",
      "0.10 Complement system subgraph\n",
      "0.08 Beta secretase subgraph\n",
      "0.08 JAK-STAT signaling subgraph\n",
      "0.08 Synuclein subgraph\n",
      "0.06 ADAM Metallopeptidase subgraph\n",
      "0.05 Interferon signaling\n",
      "0.04 Binding and Uptake of Ligands by Scavenger Receptors\n",
      "0.04 Nuclear factor Kappa beta subgraph\n",
      "0.00 AD T2DM SNPs\n",
      "0.00 Alpha 2 macroglobulin subgraph\n",
      "0.00 Amylin subgraph\n",
      "0.00 Calsyntenin subgraph\n",
      "0.00 DNA synthesis\n",
      "0.00 Eicosanoids signaling subgraph\n",
      "0.00 Endoplasmic reticulum-Golgi protein export\n",
      "0.00 Endothelin subgraph\n",
      "0.00 Gap junctions subgraph\n",
      "0.00 Prostaglandin subgraph\n",
      "0.00 Protein degradation subgraph\n",
      "0.00 Renin-angiotensin subgraph\n",
      "0.00 Response DNA damage\n",
      "0.00 Toll like receptor subgraph\n"
     ]
    }
   ],
   "source": [
    "for dm, concordance in sorted(dm_concordance.items(), key=itemgetter(1), reverse=True):\n",
    "    print('{:.2f} {}'.format(concordance, dm))"
   ]
  },
  {
   "cell_type": "markdown",
   "metadata": {
    "deletable": true,
    "editable": true
   },
   "source": [
    "# Conclusions\n",
    "\n",
    "Generating unbiased candidate mechanism subgraphs ultimately provides the same insight as painstakingly curated subgraphs. It is also possible to identify high novelty in candidate mechanisms that have little overlap with curated subgraphs and high scores in data driven approaches."
   ]
  }
 ],
 "metadata": {
  "kernelspec": {
   "display_name": "Python 3",
   "language": "python",
   "name": "python3"
  },
  "language_info": {
   "codemirror_mode": {
    "name": "ipython",
    "version": 3
   },
   "file_extension": ".py",
   "mimetype": "text/x-python",
   "name": "python",
   "nbconvert_exporter": "python",
   "pygments_lexer": "ipython3",
   "version": "3.6.1"
  }
 },
 "nbformat": 4,
 "nbformat_minor": 2
}
