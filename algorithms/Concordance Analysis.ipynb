{
 "cells": [
  {
   "cell_type": "markdown",
   "metadata": {},
   "source": [
    "# Abstract\n",
    "\n",
    "**Author:** [Charles Tapley Hoyt](https://github.com/cthoyt)\n",
    "\n",
    "**Estimated Run Time:** 4 minutes\n",
    "\n",
    "This notebooks demonstrates an algorithm that analyzes the concordance of the results of an experiment to the graph."
   ]
  },
  {
   "cell_type": "markdown",
   "metadata": {},
   "source": [
    "### Notebook Imports"
   ]
  },
  {
   "cell_type": "code",
   "execution_count": 1,
   "metadata": {
    "collapsed": true
   },
   "outputs": [],
   "source": [
    "import logging\n",
    "import os\n",
    "import time\n",
    "\n",
    "import pandas as pd\n",
    "import numpy as np\n",
    "import matplotlib.pyplot as plt\n",
    "from pandas.tools.plotting import scatter_matrix\n",
    "from matplotlib_venn import venn2\n",
    "import seaborn as sns\n",
    "\n",
    "import pybel\n",
    "import pybel_tools as pbt\n",
    "from pybel_tools.analysis.concordance import *\n",
    "from pybel.constants import *\n",
    "from pybel.canonicalize import calculate_canonical_name\n",
    "from pybel_tools.visualization import to_jupyter"
   ]
  },
  {
   "cell_type": "code",
   "execution_count": 2,
   "metadata": {
    "collapsed": true
   },
   "outputs": [],
   "source": [
    "#%config InlineBackend.figure_format = 'svg'\n",
    "#%matplotlib inline"
   ]
  },
  {
   "cell_type": "markdown",
   "metadata": {},
   "source": [
    "### Notebook Provenance\n",
    "\n",
    "The time of execution, random number generator seed, and the versions of the software packages used are displayed explicitly."
   ]
  },
  {
   "cell_type": "code",
   "execution_count": 3,
   "metadata": {},
   "outputs": [
    {
     "data": {
      "text/plain": [
       "'Sat Aug 12 19:15:05 2017'"
      ]
     },
     "execution_count": 3,
     "metadata": {},
     "output_type": "execute_result"
    }
   ],
   "source": [
    "time.asctime()"
   ]
  },
  {
   "cell_type": "code",
   "execution_count": 4,
   "metadata": {
    "collapsed": true
   },
   "outputs": [],
   "source": [
    "# seed the random number generator\n",
    "import random\n",
    "random.seed(127)"
   ]
  },
  {
   "cell_type": "code",
   "execution_count": 5,
   "metadata": {},
   "outputs": [
    {
     "data": {
      "text/plain": [
       "'0.7.3-dev'"
      ]
     },
     "execution_count": 5,
     "metadata": {},
     "output_type": "execute_result"
    }
   ],
   "source": [
    "pybel.__version__"
   ]
  },
  {
   "cell_type": "code",
   "execution_count": 6,
   "metadata": {},
   "outputs": [
    {
     "data": {
      "text/plain": [
       "'0.1.18-dev'"
      ]
     },
     "execution_count": 6,
     "metadata": {},
     "output_type": "execute_result"
    }
   ],
   "source": [
    "pbt.__version__"
   ]
  },
  {
   "cell_type": "markdown",
   "metadata": {},
   "source": [
    "### Local Path Definitions\n",
    "\n",
    "To make this notebook interoperable across many machines, locations to the repositories that contain the data used in this notebook are referenced from the environment, set in `~/.bashrc` to point to the place where the repositories have been cloned. Assuming the repositories have been `git clone`'d into the `~/dev` folder, the entries in `~/.bashrc` should look like:\n",
    "\n",
    "```bash\n",
    "...\n",
    "export BMS_BASE=~/dev/bms\n",
    "...\n",
    "```\n",
    "\n",
    "#### BMS \n",
    "\n",
    "The biological model store (BMS) is the internal Fraunhofer SCAI repository for keeping BEL models under version control. It can be downloaded from https://tor-2.scai.fraunhofer.de/gf/project/bms/"
   ]
  },
  {
   "cell_type": "code",
   "execution_count": 7,
   "metadata": {
    "collapsed": true
   },
   "outputs": [],
   "source": [
    "bms_base = os.environ['BMS_BASE']"
   ]
  },
  {
   "cell_type": "markdown",
   "metadata": {},
   "source": [
    "#### OwnCloud\n",
    "\n",
    "The differential gene expression data used in this notebook is currently not published, and is obfuscated with reference through our team's internal data storage system with [OwnCloud](https://owncloud.org/)."
   ]
  },
  {
   "cell_type": "code",
   "execution_count": 8,
   "metadata": {
    "collapsed": true
   },
   "outputs": [],
   "source": [
    "owncloud_base = os.environ['OWNCLOUD_BASE']"
   ]
  },
  {
   "cell_type": "markdown",
   "metadata": {},
   "source": [
    "# Data\n",
    "\n",
    "## Alzheimer's Disease Knowledge Assembly\n",
    "\n",
    "The Alzheimer's Disease Knowledge Assembly has been precompiled with the following command line script, and will be loaded from this format for improved performance. In general, derived data, such as the gpickle representation of a BEL script, are not saved under version control to ensure that the most up-to-date data is always used.\n",
    "\n",
    "```sh\n",
    "pybel convert --path \"$BMS_BASE/aetionomy/alzheimers.bel\" --pickle \"$BMS_BASE/aetionomy/alzheimers.gpickle\"\n",
    "```\n",
    "\n",
    "The BEL script can also be compiled from inside this notebook with the following python code:\n",
    "\n",
    "```python\n",
    ">>> import os\n",
    ">>> import pybel\n",
    ">>> # Input from BEL script\n",
    ">>> bel_path = os.path.join(bms_base, 'aetionomy', 'alzheimers.bel')\n",
    ">>> graph = pybel.from_path(bel_path)\n",
    ">>> # Output to gpickle for fast loading later\n",
    ">>> pickle_path = os.path.join(bms_base, 'aetionomy', 'alzheimers.gpickle')\n",
    ">>> pybel.to_pickle(graph, pickle_path)\n",
    "```"
   ]
  },
  {
   "cell_type": "code",
   "execution_count": 9,
   "metadata": {
    "collapsed": true
   },
   "outputs": [],
   "source": [
    "pickle_path = os.path.join(bms_base, 'aetionomy', 'alzheimers', 'alzheimers.gpickle')"
   ]
  },
  {
   "cell_type": "code",
   "execution_count": 10,
   "metadata": {
    "collapsed": true
   },
   "outputs": [],
   "source": [
    "graph = pybel.from_pickle(pickle_path)"
   ]
  },
  {
   "cell_type": "code",
   "execution_count": 11,
   "metadata": {},
   "outputs": [
    {
     "data": {
      "text/plain": [
       "'3.0.9'"
      ]
     },
     "execution_count": 11,
     "metadata": {},
     "output_type": "execute_result"
    }
   ],
   "source": [
    "graph.version"
   ]
  },
  {
   "cell_type": "markdown",
   "metadata": {},
   "source": [
    "All orthologies are discared before analysis."
   ]
  },
  {
   "cell_type": "code",
   "execution_count": 12,
   "metadata": {
    "collapsed": true
   },
   "outputs": [],
   "source": [
    "pbt.filters.remove_nodes_by_namespace(graph, 'MGI')\n",
    "pbt.filters.remove_nodes_by_namespace(graph, 'RGD')"
   ]
  },
  {
   "cell_type": "markdown",
   "metadata": {},
   "source": [
    "To merge the differential gene expression annotations, the entire graph is collapsed to genes using [pbt.mutation.collapse_by_central_dogma_to_genes](http://pybel-tools.readthedocs.io/en/latest/mutation.html#pybel_tools.mutation.collapse_by_central_dogma_to_genes)"
   ]
  },
  {
   "cell_type": "code",
   "execution_count": 13,
   "metadata": {
    "collapsed": true
   },
   "outputs": [],
   "source": [
    "pbt.mutation.collapse_by_central_dogma_to_genes(graph)\n",
    "\n",
    "pbt.mutation.rewire_variants_to_genes(graph)"
   ]
  },
  {
   "cell_type": "code",
   "execution_count": 14,
   "metadata": {},
   "outputs": [
    {
     "name": "stdout",
     "output_type": "stream",
     "text": [
      "Nodes: 3659\n",
      "Edges: 20012\n",
      "Citations: 1753\n",
      "Authors: 9280\n",
      "Network density: 0.0014951486863058218\n",
      "Components: 71\n",
      "Average degree: 5.4692538945066955\n",
      "Compilation warnings: 2493\n"
     ]
    }
   ],
   "source": [
    "pbt.summary.print_summary(graph)"
   ]
  },
  {
   "cell_type": "code",
   "execution_count": 15,
   "metadata": {},
   "outputs": [
    {
     "data": {
      "image/png": "[encoded data removed]",
      "text/plain": [
       "<matplotlib.figure.Figure at 0x1147f52b0>"
      ]
     },
     "metadata": {},
     "output_type": "display_data"
    }
   ],
   "source": [
    "pbt.summary.plot_summary(graph, plt, figsize=(10, 4))\n",
    "plt.show()"
   ]
  },
  {
   "cell_type": "markdown",
   "metadata": {},
   "source": [
    "## Differential Gene Expression\n",
    "\n",
    "Differential gene expression data can be obtained from many sources, including ADNI and other large clinical studies. This analysis is concerned with the log-fold-changes on each gene, and not necessarily the p-value. This is better as a data-driven process becuase it does not require a model or multiple hypothesis testing on raw data."
   ]
  },
  {
   "cell_type": "code",
   "execution_count": 16,
   "metadata": {
    "collapsed": true
   },
   "outputs": [],
   "source": [
    "data_path = os.path.join(owncloud_base, 'alzheimers', 'SevAD.csv')\n",
    "target_columns = ['Gene.symbol', 'logFC']"
   ]
  },
  {
   "cell_type": "code",
   "execution_count": 17,
   "metadata": {},
   "outputs": [
    {
     "data": {
      "text/html": [
       "<div>\n",
       "<style>\n",
       "    .dataframe thead tr:only-child th {\n",
       "        text-align: right;\n",
       "    }\n",
       "\n",
       "    .dataframe thead th {\n",
       "        text-align: left;\n",
       "    }\n",
       "\n",
       "    .dataframe tbody tr th {\n",
       "        vertical-align: top;\n",
       "    }\n",
       "</style>\n",
       "<table border=\"1\" class=\"dataframe\">\n",
       "  <thead>\n",
       "    <tr style=\"text-align: right;\">\n",
       "      <th></th>\n",
       "      <th>Gene.symbol</th>\n",
       "      <th>logFC</th>\n",
       "    </tr>\n",
       "  </thead>\n",
       "  <tbody>\n",
       "    <tr>\n",
       "      <th>0</th>\n",
       "      <td>ZNF616</td>\n",
       "      <td>-4.244691</td>\n",
       "    </tr>\n",
       "    <tr>\n",
       "      <th>1</th>\n",
       "      <td>DEFB125</td>\n",
       "      <td>3.974393</td>\n",
       "    </tr>\n",
       "    <tr>\n",
       "      <th>3</th>\n",
       "      <td>SNAP23</td>\n",
       "      <td>3.337636</td>\n",
       "    </tr>\n",
       "    <tr>\n",
       "      <th>4</th>\n",
       "      <td>PHLDB2</td>\n",
       "      <td>3.192559</td>\n",
       "    </tr>\n",
       "    <tr>\n",
       "      <th>5</th>\n",
       "      <td>LOC389895</td>\n",
       "      <td>-4.296850</td>\n",
       "    </tr>\n",
       "  </tbody>\n",
       "</table>\n",
       "</div>"
      ],
      "text/latex": [
       "\\begin{center}{\\begin{tabular}{llr}\n",
       "\\toprule\n",
       "{} & Gene.symbol &     logFC \\\\\n",
       "\\midrule\n",
       "0 &      ZNF616 & -4.244691 \\\\\n",
       "1 &     DEFB125 &  3.974393 \\\\\n",
       "3 &      SNAP23 &  3.337636 \\\\\n",
       "4 &      PHLDB2 &  3.192559 \\\\\n",
       "5 &   LOC389895 & -4.296850 \\\\\n",
       "\\bottomrule\n",
       "\\end{tabular}\n",
       "}\\end{center}"
      ],
      "text/plain": [
       "  Gene.symbol     logFC\n",
       "0      ZNF616 -4.244691\n",
       "1     DEFB125  3.974393\n",
       "3      SNAP23  3.337636\n",
       "4      PHLDB2  3.192559\n",
       "5   LOC389895 -4.296850"
      ]
     },
     "execution_count": 17,
     "metadata": {},
     "output_type": "execute_result"
    }
   ],
   "source": [
    "df = pd.read_csv(data_path)\n",
    "df = df.loc[df['Gene.symbol'].notnull(), target_columns]\n",
    "df.head()"
   ]
  },
  {
   "cell_type": "markdown",
   "metadata": {},
   "source": [
    "A histogram of the log-fold-changes shows that the data are normally distributed, as expected for differential gene expression data."
   ]
  },
  {
   "cell_type": "code",
   "execution_count": 18,
   "metadata": {
    "collapsed": true
   },
   "outputs": [],
   "source": [
    "# max_fc = {}\n",
    "# for row, symbol, fc in df.itertuples():\n",
    "#    if symbol not in max_fc or abs(max_fc[symbol]) < abs(fc):\n",
    "#        max_fc[symbol] = fc\n",
    "        \n",
    "data = {k: v for _, k, v in df.itertuples()}"
   ]
  },
  {
   "cell_type": "code",
   "execution_count": 19,
   "metadata": {},
   "outputs": [
    {
     "data": {
      "image/png": "[encoded data removed]",
      "text/plain": [
       "<matplotlib.figure.Figure at 0x11bbd8ef0>"
      ]
     },
     "metadata": {},
     "output_type": "display_data"
    }
   ],
   "source": [
    "plt.title('Distribution of Log-Fold-Changes')\n",
    "plt.xlabel('Log-Fold-Change')\n",
    "plt.ylabel('Frequency')\n",
    "plt.hist(list(data.values()))\n",
    "plt.show()"
   ]
  },
  {
   "cell_type": "markdown",
   "metadata": {},
   "source": [
    "## Overlap Summary"
   ]
  },
  {
   "cell_type": "markdown",
   "metadata": {},
   "source": [
    "The number of shared elements in the knowledge assembly and differential gene data set are counted."
   ]
  },
  {
   "cell_type": "code",
   "execution_count": 20,
   "metadata": {},
   "outputs": [
    {
     "data": {
      "image/png": "[encoded data removed]",
      "text/plain": [
       "<matplotlib.figure.Figure at 0x11a699f60>"
      ]
     },
     "metadata": {},
     "output_type": "display_data"
    }
   ],
   "source": [
    "hgnc_names = pbt.summary.get_names_by_namespace(graph, 'HGNC')\n",
    "df_names = set(df['Gene.symbol'])\n",
    "overlapping_hgnc_names = hgnc_names & df_names\n",
    "\n",
    "plt.title('HGNC Gene Names')\n",
    "venn2([hgnc_names, df_names], set_labels=[\"Alzheimer's Disease KAM\", 'E-GEOD-5281'])\n",
    "plt.show()"
   ]
  },
  {
   "cell_type": "markdown",
   "metadata": {},
   "source": [
    "# Analysis"
   ]
  },
  {
   "cell_type": "markdown",
   "metadata": {},
   "source": [
    "## Data Integration\n",
    "\n",
    "Finally, the differential gene expression data are ovelayed on the BEL graph with [pbt.integration.overlay_type_data](http://pybel-tools.readthedocs.io/en/latest/integration.html#pybel_tools.integration.overlay_type_data)"
   ]
  },
  {
   "cell_type": "code",
   "execution_count": 21,
   "metadata": {
    "collapsed": true
   },
   "outputs": [],
   "source": [
    "key = 'weight'\n",
    "cutoff = 0.3"
   ]
  },
  {
   "cell_type": "code",
   "execution_count": 22,
   "metadata": {
    "collapsed": true
   },
   "outputs": [],
   "source": [
    "pbt.integration.overlay_type_data(graph, data, key, GENE, 'HGNC', overwrite=False, impute=0)"
   ]
  },
  {
   "cell_type": "code",
   "execution_count": 23,
   "metadata": {},
   "outputs": [
    {
     "data": {
      "text/plain": [
       "dict_keys([('Pathology', 'MESHD', 'Alzheimer Disease'), ('Gene', 'dbSNP', 'rs12129547')])"
      ]
     },
     "execution_count": 23,
     "metadata": {},
     "output_type": "execute_result"
    }
   ],
   "source": [
    "graph.edge[graph.nodes()[25]].keys()"
   ]
  },
  {
   "cell_type": "markdown",
   "metadata": {},
   "source": [
    "## Concordance\n",
    "\n",
    "The concordance is calculated over the full network"
   ]
  },
  {
   "cell_type": "code",
   "execution_count": 24,
   "metadata": {},
   "outputs": [
    {
     "data": {
      "image/png": "[encoded data removed]",
      "text/plain": [
       "<matplotlib.figure.Figure at 0x111d390b8>"
      ]
     },
     "metadata": {},
     "output_type": "display_data"
    }
   ],
   "source": [
    "cutoffs = np.linspace(0, 3, 50)\n",
    "\n",
    "plt.plot(cutoffs, [\n",
    "    calculate_concordance(graph, key, cutoff=c)\n",
    "    for c in cutoffs\n",
    "])\n",
    "\n",
    "plt.title('Effect of Cutoff on Concordance \\nfor {}'.format(graph))\n",
    "plt.ylabel('Concordance')\n",
    "plt.xlabel('Cutoff')\n",
    "plt.show()"
   ]
  },
  {
   "cell_type": "markdown",
   "metadata": {},
   "source": [
    "### Stratify by Subgraph\n",
    "\n",
    "The distribution of the concordance values across the stratified subgraphs is displayed below."
   ]
  },
  {
   "cell_type": "code",
   "execution_count": 25,
   "metadata": {},
   "outputs": [
    {
     "name": "stdout",
     "output_type": "stream",
     "text": [
      "CPU times: user 367 ms, sys: 26.9 ms, total: 394 ms\n",
      "Wall time: 394 ms\n"
     ]
    }
   ],
   "source": [
    "%%time\n",
    "results = calculate_concordance_by_annotation(graph, 'Subgraph', key, cutoff)"
   ]
  },
  {
   "cell_type": "code",
   "execution_count": 26,
   "metadata": {},
   "outputs": [
    {
     "data": {
      "image/png": "[encoded data removed]",
      "text/plain": [
       "<matplotlib.figure.Figure at 0x11a664860>"
      ]
     },
     "metadata": {},
     "output_type": "display_data"
    }
   ],
   "source": [
    "sns.distplot(\n",
    "    [\n",
    "        x\n",
    "        for x in results.values() \n",
    "        if x != -1\n",
    "    ],\n",
    ")\n",
    "\n",
    "plt.title('Distribution of concordance values at $C={}$'.format(cutoff))\n",
    "plt.xlabel('Concordance')\n",
    "plt.ylabel('Frequency')\n",
    "plt.show()"
   ]
  },
  {
   "cell_type": "code",
   "execution_count": 27,
   "metadata": {},
   "outputs": [],
   "source": [
    "concordance_df = pd.DataFrame.from_dict(\n",
    "    {\n",
    "        value.replace(' subgraph', ''): calculate_concordance_helper(subgraph, key, cutoff)\n",
    "        for value, subgraph in pbt.selection.get_subgraphs_by_annotation(graph, 'Subgraph').items()\n",
    "    }, \n",
    "    orient='index'\n",
    ")"
   ]
  },
  {
   "cell_type": "markdown",
   "metadata": {},
   "source": [
    "The non-null values are output below."
   ]
  },
  {
   "cell_type": "code",
   "execution_count": 28,
   "metadata": {},
   "outputs": [
    {
     "data": {
      "text/plain": [
       "{'ADAM Metallopeptidase subgraph': 0.0,\n",
       " 'APOE subgraph': 0.0,\n",
       " 'Acetylcholine signaling subgraph': 0.5,\n",
       " 'Akt subgraph': 0.2857142857142857,\n",
       " 'Albumin subgraph': 0.75,\n",
       " 'Amyloidogenic subgraph': 0.1,\n",
       " 'Apoptosis signaling subgraph': 0.2,\n",
       " 'Autophagy signaling subgraph': 0.0,\n",
       " 'Axonal transport subgraph': 0.3333333333333333,\n",
       " 'Bcl-2 subgraph': 0.21428571428571427,\n",
       " 'Beta secretase subgraph': 0.0,\n",
       " 'Binding and Uptake of Ligands by Scavenger Receptors': 0.4,\n",
       " 'Calcium-dependent signal transduction': 0.0,\n",
       " 'Calsyntenin subgraph': 0.0,\n",
       " 'Caspase subgraph': 0.21739130434782608,\n",
       " 'Cell adhesion subgraph': 0.0,\n",
       " 'Cell cycle subgraph': 1.0,\n",
       " 'Chaperone subgraph': 0.18181818181818182,\n",
       " 'Chemokine signaling subgraph': 0.3333333333333333,\n",
       " 'Cholesterol metabolism subgraph': 0.0,\n",
       " 'Complement system subgraph': 0.5,\n",
       " 'Cyclin-CDK subgraph': 0.0,\n",
       " 'Cytokine signaling subgraph': 0.0,\n",
       " 'DKK1 subgraph': 0.5,\n",
       " 'Electron transport chain': 0.0,\n",
       " 'Endosomal lysosomal subgraph': 0.1111111111111111,\n",
       " 'G-protein-mediated signaling': 0.0,\n",
       " 'GABA subgraph': 0.0,\n",
       " 'GSK3 subgraph': 0.07692307692307693,\n",
       " 'Galanin subgraph': 0.0,\n",
       " 'Gamma secretase subgraph': 0.15384615384615385,\n",
       " 'Glutamatergic subgraph': 0.05,\n",
       " 'Immunoglobulin subgraph': 0.2,\n",
       " 'Inflammatory response subgraph': 0.32,\n",
       " 'Innate immune system subgraph': 0.0,\n",
       " 'Insulin signal transduction': 0.3448275862068966,\n",
       " 'Interferon signaling subgraph': 0.6666666666666666,\n",
       " 'Interleukin signaling subgraph': 0.32786885245901637,\n",
       " 'JAK-STAT signaling subgraph': 0.0,\n",
       " 'Leptin subgraph': 0.0,\n",
       " 'Lipid metabolism subgraph': 0.0,\n",
       " 'Low density lipoprotein subgraph': 0.0,\n",
       " 'MAPK-ERK subgraph': 0.16666666666666666,\n",
       " 'MAPK-JNK subgraph': 0.0,\n",
       " 'Matrix metalloproteinase subgraph': 0.0,\n",
       " 'Metabolism of steroid hormones subgraph': 1.0,\n",
       " 'Mitochondrial translocation subgraph': 0.0,\n",
       " 'NMDA receptor': 0.0,\n",
       " 'Nerve growth factor subgraph': 0.375,\n",
       " 'Neuroprotection subgraph': 0.0,\n",
       " 'Neurotrophic subgraph': 0.46153846153846156,\n",
       " 'Nitric oxide subgraph': 0.0,\n",
       " 'Non-amyloidogenic subgraph': 0.0,\n",
       " 'Notch signaling subgraph': 0.5,\n",
       " 'Nuclear factor Kappa beta subgraph': 0.21621621621621623,\n",
       " 'Peroxisome proliferator activated receptor subgraph': 0.0,\n",
       " 'Phosphatidylinositol 3 subgraph': 0.0,\n",
       " 'Plasminogen activator subgraph': 1.0,\n",
       " 'Prostaglandin subgraph': 0.3333333333333333,\n",
       " 'Protein degradation subgraph': 0.0,\n",
       " 'Reactive oxygen species subgraph': 0.6666666666666666,\n",
       " 'Reelin signaling subgraph': 0.0,\n",
       " 'Regulation of cytoskeleton subgraph': 0.0,\n",
       " 'Response to oxidative stress': 0.0,\n",
       " 'Synaptic vesicle endocytosis subgraph': 0.0,\n",
       " 'T cells signaling': 0.16666666666666666,\n",
       " 'TGF-Beta subgraph': 0.0,\n",
       " 'Tau protein subgraph': 0.07692307692307693,\n",
       " 'Toll like receptor subgraph': 0.0,\n",
       " 'Tumor necrosis factor subgraph': 0.40816326530612246,\n",
       " 'Unfolded protein response subgraph': 0.0,\n",
       " 'Vitamin subgraph': 1.0,\n",
       " 'Wnt signaling subgraph': 0.0,\n",
       " 'XIAP subgraph': 0.0,\n",
       " 'miRNA subgraph': 0.38461538461538464,\n",
       " 'p53 stabilization subgraph': 0.0}"
      ]
     },
     "execution_count": 28,
     "metadata": {},
     "output_type": "execute_result"
    }
   ],
   "source": [
    "{\n",
    "    k: v \n",
    "    for k, v in results.items() \n",
    "    if v != -1.0\n",
    "}"
   ]
  },
  {
   "cell_type": "markdown",
   "metadata": {},
   "source": [
    "## Conclusions\n",
    "\n",
    "Varying the threshold from just zero to just above zero to much more stringent reveals varying results. High-dimensional data visualization techniques will need to be used to identify the effect of the threshold, and eventually the stability of concordance values through randomized permutation tests to assess the reliability of this method."
   ]
  }
 ],
 "metadata": {
  "kernelspec": {
   "display_name": "Python 3",
   "language": "python",
   "name": "python3"
  },
  "language_info": {
   "codemirror_mode": {
    "name": "ipython",
    "version": 3
   },
   "file_extension": ".py",
   "mimetype": "text/x-python",
   "name": "python",
   "nbconvert_exporter": "python",
   "pygments_lexer": "ipython3",
   "version": "3.6.2"
  }
 },
 "nbformat": 4,
 "nbformat_minor": 1
}
