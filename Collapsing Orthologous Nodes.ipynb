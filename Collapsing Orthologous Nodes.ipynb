{
 "cells": [
  {
   "cell_type": "markdown",
   "metadata": {},
   "source": [
    "# Collapsing Orthologous Nodes\n",
    "\n",
    "This notebook outlines how mouse and rat genes can be collapsed to their orthologous human genes in a BEL network produced by `PyBEL`"
   ]
  },
  {
   "cell_type": "code",
   "execution_count": 1,
   "metadata": {
    "collapsed": false
   },
   "outputs": [
    {
     "data": {
      "text/plain": [
       "'PyBEL Version: 0.2.4-dev'"
      ]
     },
     "execution_count": 1,
     "metadata": {},
     "output_type": "execute_result"
    }
   ],
   "source": [
    "import os\n",
    "from collections import defaultdict, Counter\n",
    "\n",
    "import pybel\n",
    "import networkx as nx\n",
    "\n",
    "pybel.get_version()"
   ]
  },
  {
   "cell_type": "markdown",
   "metadata": {},
   "source": [
    "## Download Mapping\n",
    "\n",
    "Gene orthology data is downloaded from the OpenBEL Framework as a BEL document and parsed with `PyBEL`."
   ]
  },
  {
   "cell_type": "code",
   "execution_count": 2,
   "metadata": {
    "collapsed": true
   },
   "outputs": [],
   "source": [
    "url = 'http://resources.openbel.org/belframework/20150611/resource/gene-orthology.bel'"
   ]
  },
  {
   "cell_type": "code",
   "execution_count": 3,
   "metadata": {
    "collapsed": false
   },
   "outputs": [],
   "source": [
    "path = os.path.expanduser('~/.pybel/gene-orthology.gpickle')\n",
    "\n",
    "if not os.path.exists(path):\n",
    "    orthology = pybel.from_url(url)\n",
    "    pybel.to_pickle(g, path)\n",
    "else:\n",
    "    orthology = pybel.from_pickle(path)"
   ]
  },
  {
   "cell_type": "markdown",
   "metadata": {},
   "source": [
    "## Construct Equivalence Classes\n",
    "\n",
    "In this example, the directed BEL graph is relaxed to be undirected and connected components are grouped to reflect transitive equivalence. A mapping from each node to its \"equivalence\" class is built, and then further a mapping from each \"equivalence class\" to its contained Mouse Genome Informatics (MGI) name. "
   ]
  },
  {
   "cell_type": "code",
   "execution_count": 4,
   "metadata": {
    "collapsed": true
   },
   "outputs": [],
   "source": [
    "orthology_undirected = orthology.to_undirected()"
   ]
  },
  {
   "cell_type": "code",
   "execution_count": 5,
   "metadata": {
    "collapsed": false
   },
   "outputs": [
    {
     "data": {
      "text/plain": [
       "(36748, 109024, 17670)"
      ]
     },
     "execution_count": 5,
     "metadata": {},
     "output_type": "execute_result"
    }
   ],
   "source": [
    "index2component = {}\n",
    "member2index = {}\n",
    "index2mgi = {}\n",
    "\n",
    "for i, component in enumerate(nx.connected_components(orthology_undirected)):\n",
    "    index2component[i] = component\n",
    "    for function, namespace, name in component:\n",
    "        member2index[function, namespace, name] = i\n",
    "        \n",
    "        if 'MGI' == namespace:\n",
    "            index2mgi[i] = function, namespace, name\n",
    "        \n",
    "len(index2component), len(member2index), len(index2mgi)"
   ]
  },
  {
   "cell_type": "code",
   "execution_count": 6,
   "metadata": {
    "collapsed": false
   },
   "outputs": [
    {
     "data": {
      "text/plain": [
       "Counter({'HGNC': 17567, 'MGI': 17700, 'RGD': 17471})"
      ]
     },
     "execution_count": 6,
     "metadata": {},
     "output_type": "execute_result"
    }
   ],
   "source": [
    "mapping = {}\n",
    "\n",
    "for function, namepace, name in orthology_undirected:\n",
    "    if (function, namepace, name) not in member2index:\n",
    "        continue\n",
    "        \n",
    "    index = member2index[function, namepace, name]\n",
    "    \n",
    "    if index not in index2mgi:\n",
    "        continue\n",
    "        \n",
    "    mapping[function, namepace, name] = index2mgi[index]\n",
    "\n",
    "Counter(s for f, s, n in mapping)"
   ]
  },
  {
   "cell_type": "markdown",
   "metadata": {},
   "source": [
    "# Application to Sample Corpus"
   ]
  },
  {
   "cell_type": "code",
   "execution_count": 20,
   "metadata": {
    "collapsed": false
   },
   "outputs": [],
   "source": [
    "g = pybel.get_small_corpus()"
   ]
  },
  {
   "cell_type": "code",
   "execution_count": 21,
   "metadata": {
    "collapsed": false
   },
   "outputs": [],
   "source": [
    "for name, data in g.nodes_iter(data=True):\n",
    "    if data['type'] == 'Gene' and name in mapping:\n",
    "        g.node[name].update(orthology_undirected.node[mapping[name]])"
   ]
  },
  {
   "cell_type": "code",
   "execution_count": 22,
   "metadata": {
    "collapsed": false
   },
   "outputs": [],
   "source": [
    "g = nx.relabel_nodes(g, lambda n: mapping[n] if n in mapping else n, copy=False)"
   ]
  },
  {
   "cell_type": "markdown",
   "metadata": {},
   "source": [
    "Summarize unsuccessful mappings"
   ]
  },
  {
   "cell_type": "code",
   "execution_count": 29,
   "metadata": {
    "collapsed": false
   },
   "outputs": [
    {
     "data": {
      "text/plain": [
       "Counter({'HGNC': 5, 'PFH': 57, 'PFM': 20, 'PFR': 6, 'SPAC': 1})"
      ]
     },
     "execution_count": 29,
     "metadata": {},
     "output_type": "execute_result"
    }
   ],
   "source": [
    "Counter(node[1] for node in g.nodes_iter() if g.node[node]['type'] == 'Gene' and node[1] != 'MGI')"
   ]
  }
 ],
 "metadata": {
  "kernelspec": {
   "display_name": "Python 3",
   "language": "python",
   "name": "python3"
  },
  "language_info": {
   "codemirror_mode": {
    "name": "ipython",
    "version": 3
   },
   "file_extension": ".py",
   "mimetype": "text/x-python",
   "name": "python",
   "nbconvert_exporter": "python",
   "pygments_lexer": "ipython3",
   "version": "3.5.2"
  }
 },
 "nbformat": 4,
 "nbformat_minor": 1
}
