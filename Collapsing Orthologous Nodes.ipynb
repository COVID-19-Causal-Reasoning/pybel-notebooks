{
 "cells": [
  {
   "cell_type": "markdown",
   "metadata": {},
   "source": [
    "# Collapsing Orthologous Nodes\n",
    "\n",
    "**Author:** [Charles Tapley Hoyt](https://github.com/cthoyt/)\n",
    "\n",
    "Often, knowledge about the molecular interactions within one species can be used to make inferences about other species. This notebook outlines how human and rat genes can be mapped to their orthologous mouse genes in a BEL network produced by `PyBEL`."
   ]
  },
  {
   "cell_type": "code",
   "execution_count": 1,
   "metadata": {
    "collapsed": true
   },
   "outputs": [],
   "source": [
    "import os\n",
    "import time\n",
    "from collections import defaultdict, Counter\n",
    "\n",
    "import pybel\n",
    "import pandas as pd\n",
    "import networkx as nx\n",
    "import matplotlib.pyplot as plt\n",
    "\n",
    "%matplotlib inline"
   ]
  },
  {
   "cell_type": "code",
   "execution_count": 2,
   "metadata": {
    "collapsed": false
   },
   "outputs": [
    {
     "data": {
      "text/plain": [
       "'PyBEL Version: 0.2.5'"
      ]
     },
     "execution_count": 2,
     "metadata": {},
     "output_type": "execute_result"
    }
   ],
   "source": [
    "pybel.get_version()"
   ]
  },
  {
   "cell_type": "code",
   "execution_count": 3,
   "metadata": {
    "collapsed": false
   },
   "outputs": [
    {
     "data": {
      "text/plain": [
       "'Tue Nov 15 17:25:09 2016'"
      ]
     },
     "execution_count": 3,
     "metadata": {},
     "output_type": "execute_result"
    }
   ],
   "source": [
    "time.asctime()"
   ]
  },
  {
   "cell_type": "markdown",
   "metadata": {},
   "source": [
    "## Acquisition of Data\n",
    "\n",
    "Gene orthology data is avaliable in BEL from OpenBEL. They take the form of `g(A) orthologous g(B)` where `A` and `B` correspond to identifiers for genes in different species-specific namespaces, such as HGNC, MGI, and RGD. "
   ]
  },
  {
   "cell_type": "code",
   "execution_count": 4,
   "metadata": {
    "collapsed": true
   },
   "outputs": [],
   "source": [
    "gene_orthology_url = 'http://resources.openbel.org/belframework/20150611/resource/gene-orthology.bel'"
   ]
  },
  {
   "cell_type": "code",
   "execution_count": 5,
   "metadata": {
    "collapsed": false
   },
   "outputs": [],
   "source": [
    "# Download, parse, and cache if not already avaliable as a gpickle\n",
    "\n",
    "path = os.path.expanduser('~/.pybel/gene-orthology.gpickle')\n",
    "\n",
    "if not os.path.exists(path):\n",
    "    orthology = pybel.from_url(gene_orthology_url)\n",
    "    pybel.to_pickle(g, path)\n",
    "else:\n",
    "    orthology = pybel.from_pickle(path)"
   ]
  },
  {
   "cell_type": "markdown",
   "metadata": {},
   "source": [
    "Protein family and namex protein complex orthology data is also avaliable from OpenBEL. In the 1.0 release, there were species-specific files defining the memberships of protein families and , and another defining the family orthology. As of the most recent release, the names of these complexes have been normalized, and the human, mouse, and rat members are annotated to the same complex."
   ]
  },
  {
   "cell_type": "code",
   "execution_count": 6,
   "metadata": {
    "collapsed": true
   },
   "outputs": [],
   "source": [
    "named_complexes_url = 'http://resources.openbel.org/belframework/20150611/resource/named-complexes.bel'\n",
    "protein_families_url = 'http://resources.openbel.org/belframework/20150611/resource/protein-families.bel'"
   ]
  },
  {
   "cell_type": "markdown",
   "metadata": {},
   "source": [
    "## Construction of Equivalence Classes\n",
    "\n",
    "In this example, the directed BEL graph is relaxed to be undirected and connected components are grouped to reflect transitive equivalence. A mapping from each node to its \"equivalence\" class is built, and then further a mapping from each \"equivalence class\" to its contained Mouse Genome Informatics (MGI) name. "
   ]
  },
  {
   "cell_type": "code",
   "execution_count": 7,
   "metadata": {
    "collapsed": true
   },
   "outputs": [],
   "source": [
    "orthology_undirected = orthology.to_undirected()"
   ]
  },
  {
   "cell_type": "code",
   "execution_count": 8,
   "metadata": {
    "collapsed": false
   },
   "outputs": [],
   "source": [
    "index2component = {}\n",
    "member2index = {}\n",
    "index2mgi = {}\n",
    "\n",
    "for i, component in enumerate(nx.connected_components(orthology_undirected)):\n",
    "    index2component[i] = component\n",
    "\n",
    "    for function, namespace, name in component:\n",
    "        member2index[function, namespace, name] = i\n",
    "\n",
    "        if 'MGI' == namespace:\n",
    "            index2mgi[i] = function, namespace, name"
   ]
  },
  {
   "cell_type": "code",
   "execution_count": 9,
   "metadata": {
    "collapsed": true
   },
   "outputs": [],
   "source": [
    "mapping = {}\n",
    "\n",
    "for function, namepace, name in orthology_undirected:\n",
    "    if (function, namepace, name) not in member2index:\n",
    "        continue\n",
    "        \n",
    "    index = member2index[function, namepace, name]\n",
    "    \n",
    "    if index not in index2mgi:\n",
    "        continue\n",
    "        \n",
    "    mapping[function, namepace, name] = index2mgi[index]"
   ]
  },
  {
   "cell_type": "markdown",
   "metadata": {},
   "source": [
    "## Application to a Sample Corpus\n",
    "\n",
    "The Selventa Example Large Corpus is loaded. Below is shown the frequency of entities from each namespace used within the resulting graph."
   ]
  },
  {
   "cell_type": "code",
   "execution_count": 10,
   "metadata": {
    "collapsed": false
   },
   "outputs": [],
   "source": [
    "g = pybel.get_large_corpus()"
   ]
  },
  {
   "cell_type": "code",
   "execution_count": 11,
   "metadata": {
    "collapsed": false
   },
   "outputs": [
    {
     "data": {
      "image/png": "[encoded data removed]",
      "text/plain": [
       "<matplotlib.figure.Figure at 0x12587e390>"
      ]
     },
     "metadata": {},
     "output_type": "display_data"
    }
   ],
   "source": [
    "before_counter = Counter(node[1] for node in g.nodes_iter() if g.node[node]['type'] == 'Gene')\n",
    "\n",
    "before_df = pd.DataFrame.from_dict(before_counter, orient='index')\n",
    "before_df.sort_values(0, ascending=False).plot(kind='barh')\n",
    "plt.show()"
   ]
  },
  {
   "cell_type": "markdown",
   "metadata": {},
   "source": [
    "The entries from HGNC and RGD are mapped to MGI wherever possible, and the new namespace frequencies are shown."
   ]
  },
  {
   "cell_type": "code",
   "execution_count": 12,
   "metadata": {
    "collapsed": false
   },
   "outputs": [],
   "source": [
    "# Map node data\n",
    "for name, data in g.nodes_iter(data=True):\n",
    "    if data['type'] in ('Gene','RNA','Protein') and name in mapping:\n",
    "        g.node[name].update(orthology_undirected.node[mapping[name]])"
   ]
  },
  {
   "cell_type": "code",
   "execution_count": 13,
   "metadata": {
    "collapsed": false
   },
   "outputs": [],
   "source": [
    "# Map node labels\n",
    "g_relabeled = nx.relabel_nodes(g, lambda n: mapping[n] if n in mapping else n, copy=False)"
   ]
  },
  {
   "cell_type": "code",
   "execution_count": 14,
   "metadata": {
    "collapsed": false
   },
   "outputs": [
    {
     "data": {
      "image/png": "[encoded data removed]",
      "text/plain": [
       "<matplotlib.figure.Figure at 0x12492bfd0>"
      ]
     },
     "metadata": {},
     "output_type": "display_data"
    }
   ],
   "source": [
    "after_counter = Counter(node[1] for node in g_relabeled.nodes_iter() if g_relabeled.node[node]['type'] == 'Gene')\n",
    "\n",
    "after_df = pd.DataFrame.from_dict(after_counter, orient='index')\n",
    "after_df.sort_values(0, ascending=False).plot(kind='barh')\n",
    "plt.show()"
   ]
  },
  {
   "cell_type": "code",
   "execution_count": 15,
   "metadata": {
    "collapsed": true
   },
   "outputs": [],
   "source": [
    "# cache the resulting graph as a gpickle for later\n",
    "path = os.path.expanduser('~/.pybel/large_corpus_mgi.gpickle')\n",
    "pybel.to_pickle(g_relabeled, path)"
   ]
  },
  {
   "cell_type": "markdown",
   "metadata": {},
   "source": [
    "# Conclusions\n",
    "\n",
    "The mapping of orthologous genes allows for inference to be made from translational research. BEL and PyBEL provide easy mechanisms for mapping from one type to another. While it's not possible to map all gene names with the OpenBEL orthology documents, further data can be acquired from HGNC with up-to-date equivalences."
   ]
  }
 ],
 "metadata": {
  "kernelspec": {
   "display_name": "Python 3",
   "language": "python",
   "name": "python3"
  },
  "language_info": {
   "codemirror_mode": {
    "name": "ipython",
    "version": 3
   },
   "file_extension": ".py",
   "mimetype": "text/x-python",
   "name": "python",
   "nbconvert_exporter": "python",
   "pygments_lexer": "ipython3",
   "version": "3.5.2"
  }
 },
 "nbformat": 4,
 "nbformat_minor": 1
}
