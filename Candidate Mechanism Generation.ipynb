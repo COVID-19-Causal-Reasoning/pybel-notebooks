{
 "cells": [
  {
   "cell_type": "markdown",
   "metadata": {
    "deletable": true,
    "editable": true
   },
   "source": [
    "# Abstract\n",
    "\n",
    "**Author:** [Charles Tapley Hoyt](https://github.com/cthoyt)\n",
    "\n",
    "**Estimated Run Time:** \n",
    "\n",
    "This notebooks outlines the process of generating unbiased candidate mechanisms and comparing them to the dogmatic mechanisms from the NeuroMMSig Database."
   ]
  },
  {
   "cell_type": "code",
   "execution_count": 1,
   "metadata": {
    "collapsed": false,
    "deletable": true,
    "editable": true
   },
   "outputs": [],
   "source": [
    "import os\n",
    "\n",
    "import pandas as pd\n",
    "import matplotlib.pyplot as plt\n",
    "\n",
    "from matplotlib_venn import venn2\n",
    "import itertools as itt\n",
    "from collections import defaultdict\n",
    "import logging\n",
    "import pybel\n",
    "from pybel.constants import *\n",
    "from pybel.canonicalize import calculate_canonical_name\n",
    "import pybel_tools as pbt\n",
    "from pybel_tools.visualization import to_jupyter\n",
    "import pybel_tools.analysis.npa as npa\n",
    "\n",
    "import seaborn as sns\n",
    "\n",
    "#%config InlineBackend.figure_format = 'svg'\n",
    "%matplotlib inline"
   ]
  },
  {
   "cell_type": "code",
   "execution_count": 2,
   "metadata": {
    "collapsed": false,
    "deletable": true,
    "editable": true
   },
   "outputs": [
    {
     "data": {
      "text/plain": [
       "'0.4.2'"
      ]
     },
     "execution_count": 2,
     "metadata": {},
     "output_type": "execute_result"
    }
   ],
   "source": [
    "pybel.__version__"
   ]
  },
  {
   "cell_type": "code",
   "execution_count": 3,
   "metadata": {
    "collapsed": false,
    "deletable": true,
    "editable": true
   },
   "outputs": [
    {
     "data": {
      "text/plain": [
       "'0.1.3-dev'"
      ]
     },
     "execution_count": 3,
     "metadata": {},
     "output_type": "execute_result"
    }
   ],
   "source": [
    "pbt.__version__"
   ]
  },
  {
   "cell_type": "code",
   "execution_count": 4,
   "metadata": {
    "collapsed": true
   },
   "outputs": [],
   "source": [
    "# seed the random number generator\n",
    "import random\n",
    "random.seed(127)"
   ]
  },
  {
   "cell_type": "code",
   "execution_count": 5,
   "metadata": {
    "collapsed": true,
    "deletable": true,
    "editable": true
   },
   "outputs": [],
   "source": [
    "bms_base = os.environ['BMS_BASE']\n",
    "owncloud_base = os.environ['OWNCLOUD_BASE']"
   ]
  },
  {
   "cell_type": "markdown",
   "metadata": {
    "deletable": true,
    "editable": true
   },
   "source": [
    "# Data\n",
    "\n",
    "## Alzheimer's Disease Knowledge Assembly\n",
    "\n",
    "The Alzheimer's Disease knowledge assembly has been precompiled with the following command line script, and will be loaded from this format for improved performance. In general, derived data, such as the gpickle representation of a BEL script, are not saved under version control to ensure that the most up-to-date data is always used.\n",
    "\n",
    "```sh\n",
    "pybel convert --path \"$BMS_BASE/aetionomy/alzheimers.bel\" --pickle \"$BMS_BASE/aetionomy/alzheimers.gpickle\"\n",
    "```\n",
    "\n",
    "The BEL script can also be compiled from inside this notebook with the following python code:\n",
    "\n",
    "```python\n",
    ">>> import os\n",
    ">>> import pybel\n",
    ">>> # Input from BEL script\n",
    ">>> bel_path = os.path.join(bms_base, 'aetionomy', 'alzheimers.bel')\n",
    ">>> graph = pybel.from_path(bel_path)\n",
    ">>> # Output to gpickle for fast loading later\n",
    ">>> pickle_path = os.path.join(bms_base, 'aetionomy', 'alzheimers.gpickle')\n",
    ">>> pybel.to_pickle(graph, pickle_path)\n",
    "```"
   ]
  },
  {
   "cell_type": "code",
   "execution_count": 6,
   "metadata": {
    "collapsed": true,
    "deletable": true,
    "editable": true
   },
   "outputs": [],
   "source": [
    "pickle_path = os.path.join(bms_base, 'aetionomy', 'alzheimers.gpickle')"
   ]
  },
  {
   "cell_type": "code",
   "execution_count": 7,
   "metadata": {
    "collapsed": true,
    "deletable": true,
    "editable": true
   },
   "outputs": [],
   "source": [
    "graph = pybel.from_pickle(pickle_path)"
   ]
  },
  {
   "cell_type": "markdown",
   "metadata": {
    "deletable": true,
    "editable": true
   },
   "source": [
    "# Workflow"
   ]
  },
  {
   "cell_type": "markdown",
   "metadata": {
    "deletable": true,
    "editable": true
   },
   "source": [
    "## Canonical Mechanisms\n",
    "\n",
    "The names of the canonical mechanisms are extracted and listed below."
   ]
  },
  {
   "cell_type": "code",
   "execution_count": 8,
   "metadata": {
    "collapsed": false,
    "deletable": true,
    "editable": true
   },
   "outputs": [
    {
     "data": {
      "text/plain": [
       "['AD T2DM SNPs',\n",
       " 'ADAM Metallopeptidase subgraph',\n",
       " 'ATP binding cassette transport subgraph',\n",
       " 'Acetylcholine signaling subgraph',\n",
       " 'Akt subgraph',\n",
       " 'Albumin subgraph',\n",
       " 'Alcohol dehydrogenase subgraph',\n",
       " 'Alpha 2 macroglobulin subgraph',\n",
       " 'Amylin subgraph',\n",
       " 'Amyloidogenic subgraph',\n",
       " 'Androgen subgraph',\n",
       " 'ApoE subgraph',\n",
       " 'Apoptosis signaling subgraph',\n",
       " 'Autophagy signaling subgraph',\n",
       " 'Axonal guidance subgraph',\n",
       " 'Axonal transport subgraph',\n",
       " 'Bcl-2 subgraph',\n",
       " 'Beta secretase subgraph',\n",
       " 'Beta-Catenin subgraph',\n",
       " 'Beta-Oxidation of Fatty Acids',\n",
       " 'Binding and Uptake of Ligands by Scavenger Receptors',\n",
       " 'Blood vessel dilation subgraph',\n",
       " 'CREB subgraph',\n",
       " 'CRH subgraph',\n",
       " 'Calcium-dependent signal transduction',\n",
       " 'Calpastatin-calpain subgraph',\n",
       " 'Calsyntenin subgraph',\n",
       " 'Caspase subgraph',\n",
       " 'Cell adhesion subgraph',\n",
       " 'Cell cycle subgraph',\n",
       " 'Cell-cell communication subgraph',\n",
       " 'Chaperone subgraph',\n",
       " 'Chemokine signaling subgraph',\n",
       " 'Cholesterol metabolism subgraph',\n",
       " 'Complement system subgraph',\n",
       " 'Cortisol subgraph',\n",
       " 'Cyclin-CDK subgraph',\n",
       " 'Cytokine signaling subgraph',\n",
       " 'DNA synthesis',\n",
       " 'DYRK1A subgraph',\n",
       " 'Disaccharide metabolism subgraph',\n",
       " 'Dopaminergic subgraph',\n",
       " 'Eicosanoids signaling subgraph',\n",
       " 'Electron transport chain',\n",
       " 'Endoplasmic reticulum-Golgi protein export',\n",
       " 'Endosomal lysosomal subgraph',\n",
       " 'Endothelin subgraph',\n",
       " 'Energy metabolism',\n",
       " 'Estrogen subgraph',\n",
       " 'Free radical formation subgraph',\n",
       " 'G-protein-mediated signaling',\n",
       " 'GABA subgraph',\n",
       " 'GSK3 subgraph',\n",
       " 'Galanin subgraph',\n",
       " 'Gamma secretase subgraph',\n",
       " 'Gap junctions subgraph',\n",
       " 'Glucagon subgraph',\n",
       " 'Glutamatergic subgraph',\n",
       " 'Glutathione reductase subgraph',\n",
       " 'Glycolysis subgraph',\n",
       " 'Hydrogen peroxide subgraph',\n",
       " 'Hypoxia response subgraph',\n",
       " 'Immunoglobulin subgraph',\n",
       " 'Inflammatory response subgraph',\n",
       " 'Innate immune system subgraph',\n",
       " 'Insulin signal transduction',\n",
       " 'Interferon signaling',\n",
       " 'Interleukin signaling subgraph',\n",
       " 'JAK-STAT signaling subgraph',\n",
       " 'KANSL1 subgraph',\n",
       " 'Leptin subgraph',\n",
       " 'Lipid metabolism subgraph',\n",
       " 'Lipid peroxidation subgraph',\n",
       " 'Low density lipoprotein subgraph',\n",
       " 'MAPK-ERK subgraph',\n",
       " 'MAPK-JNK subgraph',\n",
       " 'Matrix metalloproteinase subgraph',\n",
       " 'Metabolism of steroid hormones subgraph',\n",
       " 'Mitochondrial translocation subgraph',\n",
       " 'Myeloperoxidase subgraph',\n",
       " 'NMDA receptor',\n",
       " 'Nerve growth factor subgraph',\n",
       " 'Neuroprotection subgraph',\n",
       " 'Neurotransmitter release subgraph',\n",
       " 'Neurotrophic subgraph',\n",
       " 'Nitric oxide subgraph',\n",
       " 'Non-amyloidogenic subgraph',\n",
       " 'Notch signaling subgraph',\n",
       " 'Nuclear factor Kappa beta subgraph',\n",
       " 'Nucleoside salvage subgraph',\n",
       " 'Paroxetine subgraph',\n",
       " 'Peroxisome proliferator activated receptor subgraph',\n",
       " 'Phosphatidylinositol 3 subgraph',\n",
       " 'Plasminogen activator subgraph',\n",
       " 'Prostaglandin subgraph',\n",
       " 'Protein biosynthesis subgraph',\n",
       " 'Protein degradation subgraph',\n",
       " 'Reactive oxygen species subgraph',\n",
       " 'Reelin subgraph',\n",
       " 'Regulation of cytoskeleton subgraph',\n",
       " 'Renin-angiotensin subgraph',\n",
       " 'Response DNA damage',\n",
       " 'Response to oxidative stress',\n",
       " 'Retinoblastoma subgraph',\n",
       " 'RhoA subgraph',\n",
       " 'Serotonergic subgraph',\n",
       " 'Smad subgraph',\n",
       " 'Sphingolipid metabolic subgraph',\n",
       " 'Synapse assembly subgraph',\n",
       " 'Synaptic vesicle endocytosis subgraph',\n",
       " 'Syndecan subgraph',\n",
       " 'Synuclein subgraph',\n",
       " 'T cells signaling',\n",
       " 'TGF-Beta subgraph',\n",
       " 'Tau protein subgraph',\n",
       " 'Toll like receptor subgraph',\n",
       " 'Tumor necrosis factor subgraph',\n",
       " 'Ubiquitin degradation subgraph',\n",
       " 'Unfolded protein response subgraph',\n",
       " 'Vascular endothelial growth factor subgraph',\n",
       " 'Vitamin subgraph',\n",
       " 'Wnt signaling subgraph',\n",
       " 'XIAP subgraph',\n",
       " 'mTOR signaling subgraph',\n",
       " 'miRNA subgraph',\n",
       " 'p53 stabilization subgraph']"
      ]
     },
     "execution_count": 8,
     "metadata": {},
     "output_type": "execute_result"
    }
   ],
   "source": [
    "canonical_mechanism_names = sorted(pbt.summary.get_annotation_values(graph, 'Subgraph'))\n",
    "canonical_mechanism_names "
   ]
  },
  {
   "cell_type": "markdown",
   "metadata": {
    "deletable": true,
    "editable": true
   },
   "source": [
    "The BEL graph object is split to multiple BEL graph objects representing each of the subgraphs with [pbt.selection.get_subgraph_by_annotation](http://pybel-tools.readthedocs.io/en/latest/selection.html#pybel_tools.selection.get_subgraph_by_annotation)."
   ]
  },
  {
   "cell_type": "code",
   "execution_count": 9,
   "metadata": {
    "collapsed": false,
    "deletable": true,
    "editable": true
   },
   "outputs": [
    {
     "name": "stdout",
     "output_type": "stream",
     "text": [
      "CPU times: user 13.8 s, sys: 79.3 ms, total: 13.9 s\n",
      "Wall time: 14 s\n"
     ]
    }
   ],
   "source": [
    "%%time\n",
    "\n",
    "canonical_mechanisms = {}\n",
    "\n",
    "for sg in canonical_mechanism_names:\n",
    "    m = pbt.selection.get_subgraph_by_annotation(graph, sg)\n",
    "    canonical_mechanisms[sg] = m"
   ]
  },
  {
   "cell_type": "markdown",
   "metadata": {
    "deletable": true,
    "editable": true
   },
   "source": [
    "### Exploration of Biological Processes in Dogmatic Mechanisms"
   ]
  },
  {
   "cell_type": "markdown",
   "metadata": {
    "deletable": true,
    "editable": true
   },
   "source": [
    "All biological process nodes are retrieved with [pbt.selection.get_nodes_by_function](http://pybel-tools.readthedocs.io/en/latest/selection.html#pybel_tools.selection.get_nodes_by_function)."
   ]
  },
  {
   "cell_type": "code",
   "execution_count": 10,
   "metadata": {
    "collapsed": false,
    "deletable": true,
    "editable": true
   },
   "outputs": [
    {
     "data": {
      "text/plain": [
       "440"
      ]
     },
     "execution_count": 10,
     "metadata": {},
     "output_type": "execute_result"
    }
   ],
   "source": [
    "bioprocess_nodes = sorted(pbt.selection.get_nodes_by_function(graph, BIOPROCESS))\n",
    "len(bioprocess_nodes)"
   ]
  },
  {
   "cell_type": "markdown",
   "metadata": {
    "deletable": true,
    "editable": true
   },
   "source": [
    "Which bioprocesses appear in multiple canonical mechanisms? The upstream controllers of these nodes in the knowledge assembly will be direct evidence for cross talk."
   ]
  },
  {
   "cell_type": "code",
   "execution_count": 11,
   "metadata": {
    "collapsed": false,
    "deletable": true,
    "editable": true
   },
   "outputs": [],
   "source": [
    "bp2sg = defaultdict(set)\n",
    "\n",
    "for cm, m in canonical_mechanisms.items():\n",
    "    for bp in pbt.selection.get_nodes_by_function(m, BIOPROCESS):\n",
    "        bp2sg[bp].add(cm)"
   ]
  },
  {
   "cell_type": "code",
   "execution_count": 12,
   "metadata": {
    "collapsed": false,
    "deletable": true,
    "editable": true
   },
   "outputs": [
    {
     "name": "stdout",
     "output_type": "stream",
     "text": [
      "42 GOBP   apoptotic process\n",
      "30 GOBP   neuron apoptotic process\n",
      "28 GOBP   neuron death\n",
      "26 GOBP   cognition\n",
      "24 GOBP   cell death\n",
      "20 MESHPP Oxidative Stress\n",
      "20 GOBP   memory\n",
      "20 GOBP   inflammatory response\n",
      "15 GOBP   calcium ion import\n",
      "14 GOBP   response to oxidative stress\n",
      "14 GOBP   microglial cell activation\n",
      "12 GOBP   learning\n",
      "12 MESHPP Apoptosis\n",
      "11 MESHPP Insulin Resistance\n",
      "11 GOBP   regulation of synaptic plasticity\n",
      "10 GOBP   negative regulation of neuron apoptotic process\n",
      "10 GOBP   calcium-mediated signaling\n",
      "10 GOBP   insulin receptor signaling pathway\n",
      "10 GOBP   endocytosis\n",
      "10 GOBP   microglial cell activation involved in immune response\n",
      " 9 GOBP   beta-amyloid formation\n",
      " 9 GOBP   synaptic transmission\n",
      " 9 GOBP   neuron projection development\n",
      " 9 MESHPP Neurogenesis\n",
      " 9 GOBP   cytoskeleton organization\n",
      " 9 GOBP   long-term synaptic potentiation\n",
      " 8 GOBP   beta-amyloid clearance\n",
      " 8 GOBP   learning or memory\n",
      " 8 GOBP   negative regulation of insulin receptor signaling pathway\n",
      " 8 GOBP   mitochondria-nucleus signaling pathway\n",
      " 8 GOBP   calcium ion homeostasis\n",
      " 8 GOBP   cell proliferation\n",
      " 8 MESHPP Wnt Signaling Pathway\n",
      " 7 GOBP   aging\n",
      " 7 GOBP   glucose metabolic process\n",
      " 7 GOBP   reactive oxygen species metabolic process\n",
      " 7 GOBP   positive regulation of neuron apoptotic process\n",
      " 7 GOBP   metabolic process\n",
      " 7 MESHPP Long-Term Potentiation\n",
      " 7 GOBP   positive regulation of clathrin-mediated endocytosis\n",
      " 7 GOBP   vasodilation\n",
      " 7 GOBP   neuron development\n",
      " 7 GOBP   insulin receptor signaling pathway via phosphatidylinositol 3-kinase\n",
      " 7 GOBP   chronic inflammatory response\n",
      " 7 GOBP   brain development\n",
      " 7 MESHPP Polymorphism, Single Nucleotide\n",
      " 6 GOBP   lipid metabolic process\n",
      " 6 GOBP   regulation of N-methyl-D-aspartate selective glutamate receptor activity\n",
      " 6 GOBP   negative regulation of calcium-mediated signaling\n",
      " 6 GOBP   cell cycle\n",
      " 6 GOBP   angiogenesis\n",
      " 6 GOBP   insulin-like growth factor receptor signaling pathway\n",
      " 5 MESHPP Endoplasmic Reticulum Stress\n",
      " 5 GOBP   blood circulation\n",
      " 5 GOBP   positive regulation of synaptic plasticity\n",
      " 5 GOBP   regulation of long-term synaptic potentiation\n",
      " 5 PTS    inflammatory response pathway\n",
      " 5 GOBP   peptidyl-cysteine S-trans-nitrosylation\n",
      " 5 GOBP   response to stress\n",
      " 5 GOBP   regulation of synaptic activity\n",
      " 5 GOBP   astrocyte activation\n",
      " 5 GOBP   Notch signaling pathway\n",
      " 5 GOBP   regulation of energy homeostasis\n",
      " 5 MESHPP Cell Survival\n",
      " 5 PTS    nuclear factor kappa B signaling pathway\n",
      " 5 GOBP   neuron differentiation\n",
      " 5 GOBP   response to endoplasmic reticulum stress\n",
      " 5 GOBP   telencephalon microglial cell migration\n",
      " 5 GOBP   phagocytosis\n",
      " 5 GOBP   production of molecular mediator involved in inflammatory response\n",
      " 5 GOBP   regulation of cAMP-dependent protein kinase activity\n",
      " 5 GOBP   glucose import\n",
      " 5 GOBP   transmission of nerve impulse\n",
      " 4 GOBP   cholesterol efflux\n",
      " 4 GOBP   long term synaptic depression\n",
      " 4 GOBP   acetylcholine secretion\n",
      " 4 GOBP   positive regulation of mitochondrial translation in response to stress\n",
      " 4 GOBP   maintenance of blood-brain barrier\n",
      " 4 GOBP   electron transport chain\n",
      " 4 GOBP   mitochondrial calcium ion homeostasis\n",
      " 4 GOBP   chromosome segregation\n",
      " 4 GOBP   cell adhesion\n",
      " 4 GOBP   regulation of neuron migration\n",
      " 4 GOBP   glial cell differentiation\n",
      " 4 GOBP   reelin-mediated signaling pathway\n",
      " 4 GOBP   negative regulation of neuron projection regeneration\n",
      " 4 ADO    loss_of_synapses\n",
      " 4 GOBP   cellular response to oxidative stress\n",
      " 4 GOBP   amyloid fibril formation\n",
      " 4 GOBP   cholesterol homeostasis\n",
      " 4 GOBP   positive regulation of lysosomal membrane permeability\n",
      " 4 GOBP   autophagy\n",
      " 4 GOBP   regulation of glucose metabolic process\n",
      " 4 PMIBP  growth cone collapse response\n",
      " 4 GOBP   regulation of dendritic cell dendrite assembly\n",
      " 4 GOBP   signaling\n",
      " 4 GOBP   positive regulation of mitochondrial membrane potential\n",
      " 4 GOBP   negative regulation of synaptic plasticity\n",
      " 4 GOBP   positive regulation of synaptic transmission, glutamatergic\n",
      " 4 GOBP   regulation of ryanodine-sensitive calcium-release channel activity\n",
      " 4 GOBP   regulation of neuronal synaptic plasticity\n",
      " 4 GOBP   chemokine biosynthetic process\n",
      " 4 GOBP   monocyte aggregation\n",
      " 4 GOBP   cell differentiation\n",
      " 4 GOBP   cell growth\n",
      " 4 GOBP   synaptic vesicle budding from endosome\n",
      " 4 GOBP   plasma membrane fusion\n",
      " 4 GOBP   neuron migration\n",
      " 4 GOBP   hydrogen peroxide-mediated programmed cell death\n",
      " 3 GOBP   regulation of synaptic transmission, cholinergic\n",
      " 3 GOBP   regulation of short-term neuronal synaptic plasticity\n",
      " 3 GOBP   cell redox homeostasis\n",
      " 3 MESHPP Neuronal Plasticity\n",
      " 3 GOBP   amyloid precursor protein metabolic process\n",
      " 3 GOBP   negative regulation of synaptic transmission, cholinergic\n",
      " 3 GOBP   negative regulation of insulin secretion involved in cellular response to glucose stimulus\n",
      " 3 GOBP   behavior\n",
      " 3 PTS    APP processing pathway\n",
      " 3 GOBP   positive regulation of cellular process\n",
      " 3 GOBP   cell migration\n",
      " 3 GOBP   cell-matrix adhesion\n",
      " 3 GOBP   response to reactive oxygen species\n",
      " 3 GOBP   sodium ion homeostasis\n",
      " 3 PMIBP  neurofibrillary tangle formation\n",
      " 3 GOBP   positive regulation of endocytosis\n",
      " 3 GOBP   positive regulation of protein neddylation\n",
      " 3 GOBP   transcription, DNA-templated\n",
      " 3 PMIBP  beta amyloid induced neuron death\n",
      " 3 GOBP   death\n",
      " 3 GOBP   cholesterol transport\n",
      " 3 GOBP   cholesterol metabolic process\n",
      " 3 GOBP   apoptotic signaling pathway\n",
      " 3 MESHPP Membrane Potential, Mitochondrial\n",
      " 3 GOBP   cell death in response to oxidative stress\n",
      " 3 GOBP   glucose homeostasis\n",
      " 3 GOBP   fatty acid catabolic process\n",
      " 3 GOBP   vasoconstriction\n",
      " 3 GOBP   sequestering of calcium ion\n",
      " 3 GOBP   cell cycle process\n",
      " 3 GOBP   positive regulation of neuron death\n",
      " 3 GOBP   positive regulation of mitochondrial membrane permeability involved in apoptotic process\n",
      " 3 GOBP   ATP biosynthetic process\n",
      " 3 GOBP   cell-cell adhesion involved in synapse maturation\n",
      " 3 GOBP   immune response to tumor cell\n",
      " 3 GOBP   positive regulation of synapse assembly\n",
      " 3 MESHPP Cell Cycle\n",
      " 3 GOBP   regulation of synaptic transmission, glutamatergic\n",
      " 3 GOBP   myelination\n",
      " 3 GOBP   complement activation\n",
      " 3 MESHPP Aging\n",
      " 3 GOBP   stress-activated protein kinase signaling cascade\n",
      " 3 MESHPP Energy Metabolism\n",
      " 3 GOBP   energy reserve metabolic process\n",
      " 3 GOBP   TOR signaling\n",
      " 3 GOBP   embryo development\n",
      " 3 GOBP   negative regulation of Notch signaling pathway\n",
      " 3 GOBP   regulation of MAPK cascade\n",
      " 3 GOBP   immune response\n",
      " 3 PTS    Jak_Stat signaling pathway\n",
      " 3 GOBP   ERK1 and ERK2 cascade\n",
      " 3 GOBP   MAPK cascade\n",
      " 3 GOBP   activation of MAPKK activity\n",
      " 3 GOBP   central nervous system development\n",
      " 3 GOBP   necrotic cell death\n",
      " 2 GOBP   positive regulation of gene expression\n",
      " 2 GOBP   lipid transport\n",
      " 2 GOBP   glycoprotein transport\n",
      " 2 PMIBP  CHT endocytosis\n",
      " 2 GOBP   synaptic transmission, cholinergic\n",
      " 2 GOBP   negative regulation of synaptic transmission, glutamatergic\n",
      " 2 GOBP   acetylcholine metabolic process\n",
      " 2 GOBP   stress response to copper ion\n",
      " 2 GOBP   mitochondrial depolarization\n",
      " 2 GOBP   cytokine metabolic process\n",
      " 2 GOBP   regulation of cellular response to oxidative stress\n",
      " 2 GOBP   mitochondrion organization\n",
      " 2 GOBP   axon transport of mitochondrion\n",
      " 2 GOBP   copper ion export\n",
      " 2 GOBP   cAMP-mediated signaling\n",
      " 2 GOBP   neuronal signal transduction\n",
      " 2 GOBP   regulation of mitochondrial membrane potential\n",
      " 2 GOBP   clathrin-mediated endocytosis\n",
      " 2 GOBP   mitochondrial fission\n",
      " 2 GOBP   axonogenesis\n",
      " 2 PTS    amyloid pathway\n",
      " 2 PMIBP  APP secretion\n",
      " 2 GOBP   iron ion homeostasis\n",
      " 2 PMIBP  Neuronal injury-induced glial apoE secretion\n",
      " 2 GOBP   regulation of cholesterol homeostasis\n",
      " 2 GOBP   axon guidance\n",
      " 2 MESHPP Axonal Transport\n",
      " 2 GOBP   axon cargo transport\n",
      " 2 GOBP   regulation of insulin-like growth factor receptor signaling pathway\n",
      " 2 GOBP   neurotrophin production\n",
      " 2 GOBP   nitric oxide-cGMP-mediated signaling pathway\n",
      " 2 GOBP   leukotriene production involved in inflammatory response\n",
      " 2 GOBP   generation of neurons\n",
      " 2 GOBP   synapse assembly\n",
      " 2 GOBP   dendrite development\n",
      " 2 GOBP   positive regulation of CREB transcription factor activity\n",
      " 2 GOBP   calcium-dependent cell-matrix adhesion\n",
      " 2 GOBP   cell-cell adhesion mediated by cadherin\n",
      " 2 GOBP   regulation of cell-cell adhesion\n",
      " 2 GOBP   calcium ion transport\n",
      " 2 MESHPP Cell Death\n",
      " 2 PMIBP  astrogliosis\n",
      " 2 GOBP   T cell proliferation\n",
      " 2 GOBP   cell cycle arrest\n",
      " 2 GOBP   regulation of cell cycle checkpoint\n",
      " 2 GOBP   negative regulation of cell cycle checkpoint\n",
      " 2 GOBP   positive regulation of cell cycle checkpoint\n",
      " 2 GOBP   cell communication\n",
      " 2 GOBP   endoplasmic reticulum unfolded protein response\n",
      " 2 PTS    chaperone signaling pathway\n",
      " 2 GOBP   positive regulation of oxidative phosphorylation\n",
      " 2 PMIBP  beta amyloid induced stress\n",
      " 2 GOBP   wound healing\n",
      " 2 GOBP   dendrite extension\n",
      " 2 GOBP   regulation of cholesterol biosynthetic process\n",
      " 2 GOBP   synapse maturation\n",
      " 2 PMIBP  microtubule assembly\n",
      " 2 GOBP   regulation of cell cycle\n",
      " 2 GOBP   dopamine receptor signaling pathway\n",
      " 2 GOBP   synaptic vesicle to endosome fusion\n",
      " 2 GOBP   cytokine production\n",
      " 2 GOBP   cytokine secretion\n",
      " 2 GOBP   regulation of dendritic cell antigen processing and presentation\n",
      " 2 GOBP   positive regulation of heart rate\n",
      " 2 GOBP   adrenergic receptor signaling pathway\n",
      " 2 GOBP   oxygen homeostasis\n",
      " 2 GOBP   regulation of neurotransmitter levels\n",
      " 2 GOBP   protein import into mitochondrial matrix\n",
      " 2 GOBP   response to misfolded protein\n",
      " 2 GOBP   receptor-mediated endocytosis\n",
      " 2 GOBP   iron ion transport\n",
      " 2 GOBP   regulation of immune response\n",
      " 2 GOBP   regulation of inflammatory response\n",
      " 2 GOBP   regulation of tissue remodeling\n",
      " 2 GOBP   protein kinase A signaling\n",
      " 2 GOBP   negative regulation of phosphatidylinositol 3-kinase activity\n",
      " 2 GOBP   positive regulation of Notch signaling pathway\n",
      " 2 MESHPP Unfolded Protein Response\n",
      " 2 GOBP   endoplasmic reticulum calcium ion homeostasis\n",
      " 2 GOBP   response to unfolded protein\n",
      " 2 GOBP   regulation of ERK1 and ERK2 cascade\n",
      " 2 PTS    Wnt/beta_catenin pathway\n",
      " 2 GOBP   insulin secretion involved in cellular response to glucose stimulus\n",
      " 2 GOBP   negative regulation of L-glutamate transport\n",
      " 2 GOBP   calcium ion transport into cytosol\n",
      " 2 GOBP   glutamate homeostasis\n",
      " 2 GOBP   actin crosslink formation\n",
      " 2 GOBP   regulation of catalase activity\n",
      " 2 GOBP   methylglyoxal catabolic process to D-lactate\n",
      " 2 GOBP   cytokine production involved in inflammatory response\n",
      " 2 GOBP   negative regulation of synapse assembly\n",
      " 2 GOBP   regulation of prostaglandin-endoperoxide synthase activity\n",
      " 2 GOBP   nerve growth factor production\n",
      " 2 GOBP   positive regulation of apoptotic process\n",
      " 2 GOBP   negative regulation of insulin-like growth factor receptor signaling pathway\n",
      " 2 MESHPP Longevity\n",
      " 2 GOBP   energy homeostasis\n",
      " 2 GOBP   amyloid precursor protein catabolic process\n",
      " 2 GOBP   regulation of amyloid precursor protein catabolic process\n",
      " 2 PTS    mitochondrial pathway\n",
      " 2 GOBP   regulation of viral process\n",
      " 2 GOBP   gliogenesis\n",
      " 2 GOBP   JNK cascade\n",
      " 2 GOBP   lipid oxidation\n",
      " 2 GOBP   neural tube development\n",
      " 2 GOBP   regulation of peptidase activity\n",
      " 2 MESHPP Stress, Physiological\n",
      " 2 GOBP   amyloid precursor protein biosynthetic process\n",
      " 2 GOBP   growth\n",
      " 2 GOBP   regulation of natural killer cell apoptotic process\n",
      " 2 GOBP   mitochondrial calcium ion transport\n",
      " 2 GOBP   positive regulation of cellular response to oxidative stress\n",
      " 2 GOBP   regulation of microtubule cytoskeleton organization\n",
      " 2 GOBP   negative regulation of cell cycle\n",
      " 2 GOBP   T cell activation\n"
     ]
    }
   ],
   "source": [
    "for bp, sgs in sorted(bp2sg.items(), key=lambda x: len(x[1]), reverse=True):\n",
    "    if 2 <= len(sgs):\n",
    "        print('{:2} {:6} {}'.format(len(sgs), graph.node[bp][NAMESPACE], graph.node[bp][NAME]))"
   ]
  },
  {
   "cell_type": "markdown",
   "metadata": {
    "deletable": true,
    "editable": true
   },
   "source": [
    "Conversely, how many biological processes appear in each mechanism?"
   ]
  },
  {
   "cell_type": "code",
   "execution_count": 13,
   "metadata": {
    "collapsed": true,
    "deletable": true,
    "editable": true
   },
   "outputs": [],
   "source": [
    "sg2bp = {}\n",
    "\n",
    "for cm, m in canonical_mechanisms.items():\n",
    "    sg2bp[cm] = set(pbt.selection.get_nodes_by_function(m, BIOPROCESS))"
   ]
  },
  {
   "cell_type": "code",
   "execution_count": 14,
   "metadata": {
    "collapsed": false,
    "deletable": true,
    "editable": true
   },
   "outputs": [
    {
     "name": "stdout",
     "output_type": "stream",
     "text": [
      "97 Amyloidogenic subgraph\n",
      "64 Insulin signal transduction\n",
      "43 Inflammatory response subgraph\n",
      "42 Tau protein subgraph\n",
      "36 Low density lipoprotein subgraph\n",
      "34 Gamma secretase subgraph\n",
      "33 Acetylcholine signaling subgraph\n",
      "30 MAPK-ERK subgraph\n",
      "29 Cyclin-CDK subgraph\n",
      "29 Non-amyloidogenic subgraph\n",
      "28 Glutamatergic subgraph\n",
      "26 Reactive oxygen species subgraph\n",
      "25 Calcium-dependent signal transduction\n",
      "23 Tumor necrosis factor subgraph\n",
      "22 Phosphatidylinositol 3 subgraph\n",
      "22 Regulation of cytoskeleton subgraph\n",
      "21 Chemokine signaling subgraph\n",
      "21 GSK3 subgraph\n",
      "21 Interleukin signaling subgraph\n",
      "21 Nitric oxide subgraph\n",
      "20 Caspase subgraph\n",
      "19 ApoE subgraph\n",
      "19 CREB subgraph\n",
      "19 Response to oxidative stress\n",
      "17 Endosomal lysosomal subgraph\n",
      "16 Apoptosis signaling subgraph\n",
      "16 Notch signaling subgraph\n",
      "15 MAPK-JNK subgraph\n",
      "15 Nerve growth factor subgraph\n",
      "15 miRNA subgraph\n",
      "14 Beta secretase subgraph\n",
      "14 Electron transport chain\n",
      "14 NMDA receptor\n",
      "13 Cell cycle subgraph\n",
      "13 Cholesterol metabolism subgraph\n",
      "13 Serotonergic subgraph\n",
      "13 Synapse assembly subgraph\n",
      "13 Unfolded protein response subgraph\n",
      "12 Bcl-2 subgraph\n",
      "12 Chaperone subgraph\n",
      "12 Peroxisome proliferator activated receptor subgraph\n",
      "12 Syndecan subgraph\n",
      "11 Matrix metalloproteinase subgraph\n",
      "11 Neuroprotection subgraph\n",
      "10 Blood vessel dilation subgraph\n",
      "10 Cell adhesion subgraph\n",
      "10 GABA subgraph\n",
      "10 Reelin subgraph\n",
      " 9 Akt subgraph\n",
      " 9 Cytokine signaling subgraph\n",
      " 9 DYRK1A subgraph\n",
      " 9 Dopaminergic subgraph\n",
      " 9 Free radical formation subgraph\n",
      " 9 Hydrogen peroxide subgraph\n",
      " 9 Plasminogen activator subgraph\n",
      " 9 Synaptic vesicle endocytosis subgraph\n",
      " 9 Ubiquitin degradation subgraph\n",
      " 8 AD T2DM SNPs\n",
      " 8 ATP binding cassette transport subgraph\n",
      " 8 Complement system subgraph\n",
      " 8 Immunoglobulin subgraph\n",
      " 8 JAK-STAT signaling subgraph\n",
      " 8 Sphingolipid metabolic subgraph\n",
      " 7 Axonal guidance subgraph\n",
      " 7 Lipid metabolism subgraph\n",
      " 7 Wnt signaling subgraph\n",
      " 6 Axonal transport subgraph\n",
      " 6 Glutathione reductase subgraph\n",
      " 6 KANSL1 subgraph\n",
      " 6 Neurotrophic subgraph\n",
      " 6 Nuclear factor Kappa beta subgraph\n",
      " 6 Renin-angiotensin subgraph\n",
      " 6 Retinoblastoma subgraph\n",
      " 6 mTOR signaling subgraph\n",
      " 5 Autophagy signaling subgraph\n",
      " 5 Calpastatin-calpain subgraph\n",
      " 5 G-protein-mediated signaling\n",
      " 5 Mitochondrial translocation subgraph\n",
      " 5 T cells signaling\n",
      " 4 Albumin subgraph\n",
      " 4 Beta-Oxidation of Fatty Acids\n",
      " 4 Binding and Uptake of Ligands by Scavenger Receptors\n",
      " 4 Eicosanoids signaling subgraph\n",
      " 4 Galanin subgraph\n",
      " 4 Innate immune system subgraph\n",
      " 4 Interferon signaling\n",
      " 4 Lipid peroxidation subgraph\n",
      " 4 Toll like receptor subgraph\n",
      " 4 XIAP subgraph\n",
      " 3 Alcohol dehydrogenase subgraph\n",
      " 3 Androgen subgraph\n",
      " 3 Beta-Catenin subgraph\n",
      " 3 Cell-cell communication subgraph\n",
      " 3 Endothelin subgraph\n",
      " 3 Prostaglandin subgraph\n",
      " 3 TGF-Beta subgraph\n",
      " 2 ADAM Metallopeptidase subgraph\n",
      " 2 DNA synthesis\n",
      " 2 Glucagon subgraph\n",
      " 2 Leptin subgraph\n",
      " 2 Metabolism of steroid hormones subgraph\n",
      " 2 Neurotransmitter release subgraph\n",
      " 2 Synuclein subgraph\n",
      " 2 Vascular endothelial growth factor subgraph\n",
      " 2 Vitamin subgraph\n",
      " 2 p53 stabilization subgraph\n",
      " 1 Alpha 2 macroglobulin subgraph\n",
      " 1 CRH subgraph\n",
      " 1 Cortisol subgraph\n",
      " 1 Disaccharide metabolism subgraph\n",
      " 1 Energy metabolism\n",
      " 1 Estrogen subgraph\n",
      " 1 Glycolysis subgraph\n",
      " 1 Hypoxia response subgraph\n",
      " 1 Myeloperoxidase subgraph\n",
      " 1 Paroxetine subgraph\n",
      " 1 Protein biosynthesis subgraph\n",
      " 1 RhoA subgraph\n",
      " 0 Amylin subgraph\n",
      " 0 Calsyntenin subgraph\n",
      " 0 Endoplasmic reticulum-Golgi protein export\n",
      " 0 Gap junctions subgraph\n",
      " 0 Nucleoside salvage subgraph\n",
      " 0 Protein degradation subgraph\n",
      " 0 Response DNA damage\n",
      " 0 Smad subgraph\n"
     ]
    }
   ],
   "source": [
    "for cm, bps in sorted(sg2bp.items(), key=lambda x: len(x[1]), reverse=True):\n",
    "    print('{:2} {}'.format(len(bps), cm))"
   ]
  },
  {
   "cell_type": "markdown",
   "metadata": {
    "deletable": true,
    "editable": true
   },
   "source": [
    "Show a heatmap, organized by dendrograms"
   ]
  },
  {
   "cell_type": "code",
   "execution_count": 15,
   "metadata": {
    "collapsed": false,
    "deletable": true,
    "editable": true
   },
   "outputs": [],
   "source": [
    "bp_sg_membership = defaultdict(dict)\n",
    "\n",
    "for cm in canonical_mechanism_names:\n",
    "    for bp in bioprocess_nodes:\n",
    "        bp_sg_membership[bp][cm] = 1 if bp in sg2bp[cm] else 0\n",
    "\n",
    "membership_df = pd.DataFrame(bp_sg_membership)"
   ]
  },
  {
   "cell_type": "code",
   "execution_count": 16,
   "metadata": {
    "collapsed": false,
    "deletable": true,
    "editable": true
   },
   "outputs": [
    {
     "name": "stderr",
     "output_type": "stream",
     "text": [
      "/usr/local/lib/python3.6/site-packages/matplotlib/cbook.py:136: MatplotlibDeprecationWarning: The axisbg attribute was deprecated in version 2.0. Use facecolor instead.\n",
      "  warnings.warn(message, mplDeprecation, stacklevel=1)\n"
     ]
    },
    {
     "data": {
      "image/png": "[encoded data removed]",
      "text/plain": [
       "<matplotlib.figure.Figure at 0x115410dd8>"
      ]
     },
     "metadata": {},
     "output_type": "display_data"
    }
   ],
   "source": [
    "sns.clustermap(membership_df.T, xticklabels=False, yticklabels=False, figsize=(20, 14))\n",
    "plt.show()"
   ]
  },
  {
   "cell_type": "markdown",
   "metadata": {
    "collapsed": true,
    "deletable": true,
    "editable": true
   },
   "source": [
    "## Generated Unbiased Mechanisms\n",
    "\n",
    "Each subgraph annotation in the NeuroMMSig Database comes from a specific domain of study.While these dogmatic mechanisms are helpful for communicating ideas, they are a discretization of the continuous and inseperable biological system. In this section, we will generate more, smaller candidate subgraphs with an unbiased approach in hopes of providing a more thorough overview of the individual mechanisms in the hollistic system and their interplay or \"cross-talk\". Later, we'll use that information to assess the overlap between dogmatic mechanisms and bridge the gaps between them."
   ]
  },
  {
   "cell_type": "markdown",
   "metadata": {
    "deletable": true,
    "editable": true
   },
   "source": [
    "The mechanisms themselves are generated with [pbt.generation.generate_mechanism](http://pybel-tools.readthedocs.io/en/latest/generation.html#pybel_tools.generation.generate_mechanism)."
   ]
  },
  {
   "cell_type": "code",
   "execution_count": 17,
   "metadata": {
    "collapsed": false,
    "deletable": true,
    "editable": true
   },
   "outputs": [
    {
     "name": "stdout",
     "output_type": "stream",
     "text": [
      "CPU times: user 3.48 s, sys: 56.4 ms, total: 3.53 s\n",
      "Wall time: 3.55 s\n"
     ]
    }
   ],
   "source": [
    "%%time\n",
    "\n",
    "candidate_mechanisms = {}\n",
    "for bp in bioprocess_nodes:\n",
    "    candidate_mechanisms[bp] = pbt.generation.generate_mechanism(graph, bp)"
   ]
  },
  {
   "cell_type": "code",
   "execution_count": 18,
   "metadata": {
    "collapsed": false,
    "deletable": true,
    "editable": true
   },
   "outputs": [
    {
     "data": {
      "image/png": "[encoded data removed]",
      "text/plain": [
       "<matplotlib.figure.Figure at 0x115068160>"
      ]
     },
     "metadata": {},
     "output_type": "display_data"
    }
   ],
   "source": [
    "plt.title('A histogram of generated mechanism sizes')\n",
    "plt.xlabel('Size')\n",
    "plt.ylabel('Frequency')\n",
    "plt.hist([len(cm) for cm in candidate_mechanisms.values()], log=True)\n",
    "plt.show()"
   ]
  },
  {
   "cell_type": "markdown",
   "metadata": {
    "deletable": true,
    "editable": true
   },
   "source": [
    "## Comparison"
   ]
  },
  {
   "cell_type": "code",
   "execution_count": 19,
   "metadata": {
    "collapsed": false,
    "deletable": true,
    "editable": true
   },
   "outputs": [
    {
     "name": "stdout",
     "output_type": "stream",
     "text": [
      "CPU times: user 4.74 s, sys: 36.9 ms, total: 4.78 s\n",
      "Wall time: 4.79 s\n"
     ]
    }
   ],
   "source": [
    "%%time\n",
    "\n",
    "results = defaultdict(dict)\n",
    "\n",
    "for candidate, canonical in itt.product(bioprocess_nodes, canonical_mechanism_names):\n",
    "    candidate_nodes = set(candidate_mechanisms[candidate].nodes_iter())\n",
    "    canonical_nodes = set(canonical_mechanisms[canonical].nodes_iter())\n",
    "    tanimoto = pbt.utils.tanimoto_set_similarity(candidate_nodes, canonical_nodes)\n",
    "    results[candidate][canonical] = tanimoto\n",
    "\n",
    "overlap_df = pd.DataFrame(results)"
   ]
  },
  {
   "cell_type": "code",
   "execution_count": 20,
   "metadata": {
    "collapsed": false,
    "deletable": true,
    "editable": true
   },
   "outputs": [
    {
     "data": {
      "image/png": "[encoded data removed]",
      "text/plain": [
       "<matplotlib.figure.Figure at 0x116562c88>"
      ]
     },
     "metadata": {},
     "output_type": "display_data"
    }
   ],
   "source": [
    "plt.title('A histogram over the pairwise overlap values')\n",
    "plt.xlabel('Percent Overlap')\n",
    "plt.ylabel('Frequency')\n",
    "plt.hist(overlap_df.as_matrix().ravel(), log=True)\n",
    "plt.show()"
   ]
  },
  {
   "cell_type": "code",
   "execution_count": 21,
   "metadata": {
    "collapsed": false,
    "deletable": true,
    "editable": true
   },
   "outputs": [],
   "source": [
    "overlap_df.to_csv(os.path.expanduser('~/Desktop/subgraph_comparison.csv'))"
   ]
  },
  {
   "cell_type": "code",
   "execution_count": 22,
   "metadata": {
    "collapsed": false,
    "deletable": true,
    "editable": true
   },
   "outputs": [
    {
     "name": "stderr",
     "output_type": "stream",
     "text": [
      "/usr/local/lib/python3.6/site-packages/matplotlib/cbook.py:136: MatplotlibDeprecationWarning: The axisbg attribute was deprecated in version 2.0. Use facecolor instead.\n",
      "  warnings.warn(message, mplDeprecation, stacklevel=1)\n"
     ]
    },
    {
     "data": {
      "image/png": "[encoded data removed]",
      "text/plain": [
       "<matplotlib.figure.Figure at 0x1185744a8>"
      ]
     },
     "metadata": {},
     "output_type": "display_data"
    }
   ],
   "source": [
    "sns.clustermap(overlap_df.T, xticklabels=False, yticklabels=False, figsize=(20, 14))\n",
    "plt.show()"
   ]
  },
  {
   "cell_type": "markdown",
   "metadata": {
    "deletable": true,
    "editable": true
   },
   "source": [
    "Bioprocesses will be annotated to subgraphs if they have more than the given cutoff similarity."
   ]
  },
  {
   "cell_type": "code",
   "execution_count": 23,
   "metadata": {
    "collapsed": false,
    "deletable": true,
    "editable": true
   },
   "outputs": [],
   "source": [
    "cutoff = .20\n",
    "sg2bp_cutoff = defaultdict(set)\n",
    "for candidate, canonical in itt.product(bioprocess_nodes, canonical_mechanism_names):\n",
    "    if not canonical in results or candidate not in results[canonical]:\n",
    "        continue\n",
    "    if results[canonical][candidate] > cutoff:\n",
    "        sg2bp_cutoff[canonical].add(candidate)\n",
    "        \n",
    "cutoff_df = pd.DataFrame(sg2bp_cutoff)"
   ]
  },
  {
   "cell_type": "code",
   "execution_count": 24,
   "metadata": {
    "collapsed": false,
    "deletable": true,
    "editable": true,
    "scrolled": false
   },
   "outputs": [
    {
     "name": "stderr",
     "output_type": "stream",
     "text": [
      "/usr/local/lib/python3.6/site-packages/matplotlib/cbook.py:136: MatplotlibDeprecationWarning: The axisbg attribute was deprecated in version 2.0. Use facecolor instead.\n",
      "  warnings.warn(message, mplDeprecation, stacklevel=1)\n"
     ]
    },
    {
     "data": {
      "image/png": "[encoded data removed]",
      "text/plain": [
       "<matplotlib.figure.Figure at 0x118465a58>"
      ]
     },
     "metadata": {},
     "output_type": "display_data"
    }
   ],
   "source": [
    "sns.clustermap(membership_df.T, xticklabels=False, yticklabels=False, figsize=(20, 14))\n",
    "plt.show()"
   ]
  },
  {
   "cell_type": "markdown",
   "metadata": {},
   "source": [
    "## Concordance Calculations"
   ]
  },
  {
   "cell_type": "markdown",
   "metadata": {
    "deletable": true,
    "editable": true
   },
   "source": [
    "What's the concordance for biological processes?\n",
    "\n",
    "Compare the subgraphs to which they're annotated to the ones where they have a high enough periphery overlap to be annotated. Use the tanimoto index."
   ]
  },
  {
   "cell_type": "code",
   "execution_count": 25,
   "metadata": {
    "collapsed": true,
    "deletable": true,
    "editable": true
   },
   "outputs": [],
   "source": [
    "# TODO"
   ]
  },
  {
   "cell_type": "markdown",
   "metadata": {},
   "source": [
    "Using the same technique, measure the concordance from the perspetive of the dogmatic mechanisms."
   ]
  },
  {
   "cell_type": "code",
   "execution_count": 26,
   "metadata": {
    "collapsed": true
   },
   "outputs": [],
   "source": [
    "# TODO"
   ]
  }
 ],
 "metadata": {
  "kernelspec": {
   "display_name": "Python 3",
   "language": "python",
   "name": "python3"
  },
  "language_info": {
   "codemirror_mode": {
    "name": "ipython",
    "version": 3
   },
   "file_extension": ".py",
   "mimetype": "text/x-python",
   "name": "python",
   "nbconvert_exporter": "python",
   "pygments_lexer": "ipython3",
   "version": "3.6.0"
  }
 },
 "nbformat": 4,
 "nbformat_minor": 2
}
