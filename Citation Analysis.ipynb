{
 "cells": [
  {
   "cell_type": "markdown",
   "metadata": {
    "deletable": true,
    "editable": true
   },
   "source": [
    "# Abstract\n",
    "\n",
    "**Author:** [Charles Tapley Hoyt](https://github.com/cthoyt)\n",
    "\n",
    "This notebook outlines a simple way to explore the citations, authors, and provenance information in a graph and its subgraphs."
   ]
  },
  {
   "cell_type": "markdown",
   "metadata": {},
   "source": [
    "### Notebook Setup"
   ]
  },
  {
   "cell_type": "code",
   "execution_count": 1,
   "metadata": {
    "collapsed": true,
    "deletable": true,
    "editable": true
   },
   "outputs": [],
   "source": [
    "import itertools as itt\n",
    "import os\n",
    "import time\n",
    "from collections import defaultdict, Counter\n",
    "from operator import itemgetter\n",
    "\n",
    "import pybel\n",
    "from pybel.constants import *\n",
    "\n",
    "import pybel_tools as pbt"
   ]
  },
  {
   "cell_type": "markdown",
   "metadata": {},
   "source": [
    "### Notebook Provenance\n",
    "\n",
    "The time of execution and the versions of the software packegs used are displayed explicitly."
   ]
  },
  {
   "cell_type": "code",
   "execution_count": 2,
   "metadata": {
    "collapsed": false
   },
   "outputs": [
    {
     "data": {
      "text/plain": [
       "'Tue Mar 21 23:25:13 2017'"
      ]
     },
     "execution_count": 2,
     "metadata": {},
     "output_type": "execute_result"
    }
   ],
   "source": [
    "time.asctime()"
   ]
  },
  {
   "cell_type": "code",
   "execution_count": 3,
   "metadata": {
    "collapsed": false,
    "deletable": true,
    "editable": true
   },
   "outputs": [
    {
     "data": {
      "text/plain": [
       "'0.4.4-dev'"
      ]
     },
     "execution_count": 3,
     "metadata": {},
     "output_type": "execute_result"
    }
   ],
   "source": [
    "pybel.__version__"
   ]
  },
  {
   "cell_type": "code",
   "execution_count": 4,
   "metadata": {
    "collapsed": false,
    "deletable": true,
    "editable": true
   },
   "outputs": [
    {
     "data": {
      "text/plain": [
       "'0.1.4-dev'"
      ]
     },
     "execution_count": 4,
     "metadata": {},
     "output_type": "execute_result"
    }
   ],
   "source": [
    "pbt.__version__"
   ]
  },
  {
   "cell_type": "markdown",
   "metadata": {},
   "source": [
    "### Local Path Definitions\n",
    "\n",
    "To make this notebook interoperable across many machines, locations to the repositories that contain the data used in this notebook are referenced from the environment, set in `~/.bashrc` to point to the place where the repositories have been cloned. Assuming the repositories have been `git clone`'d into the `~/dev` folder, the entries in `~/.bashrc` should look like:\n",
    "\n",
    "```bash\n",
    "...\n",
    "export BMS_BASE=~/dev/bms\n",
    "...\n",
    "```\n",
    "\n",
    "#### BMS \n",
    "\n",
    "The biological model store (BMS) is the internal Fraunhofer SCAI repository for keeping BEL models under version control. It can be downloaded from https://tor-2.scai.fraunhofer.de/gf/project/bms/"
   ]
  },
  {
   "cell_type": "code",
   "execution_count": 5,
   "metadata": {
    "collapsed": true,
    "deletable": true,
    "editable": true
   },
   "outputs": [],
   "source": [
    "bms_base = os.environ['BMS_BASE']"
   ]
  },
  {
   "cell_type": "markdown",
   "metadata": {
    "deletable": true,
    "editable": true
   },
   "source": [
    "## Loading\n",
    "\n",
    "The graph is loaded from a precompiled gpickle."
   ]
  },
  {
   "cell_type": "code",
   "execution_count": 6,
   "metadata": {
    "collapsed": true,
    "deletable": true,
    "editable": true
   },
   "outputs": [],
   "source": [
    "pickle_path = os.path.join(bms_base, 'aetionomy', 'alzheimers.gpickle')"
   ]
  },
  {
   "cell_type": "code",
   "execution_count": 7,
   "metadata": {
    "collapsed": false,
    "deletable": true,
    "editable": true
   },
   "outputs": [
    {
     "name": "stdout",
     "output_type": "stream",
     "text": [
      "Name: Alzheimer's Disease Model\n",
      "Number of nodes: 11420\n",
      "Number of edges: 64013\n",
      "Network density: 0.0004908784925238285\n",
      "Number weakly connected components: 65\n",
      "Average in-degree: 5.605341506129597\n",
      "Average out-degree: 5.605341506129597\n"
     ]
    }
   ],
   "source": [
    "graph = pybel.from_pickle(pickle_path)\n",
    "\n",
    "pbt.summary.print_summary(graph)"
   ]
  },
  {
   "cell_type": "markdown",
   "metadata": {},
   "source": [
    "## Publication Summary"
   ]
  },
  {
   "cell_type": "code",
   "execution_count": 8,
   "metadata": {
    "collapsed": true
   },
   "outputs": [],
   "source": [
    "pmid_counter = pbt.summary.count_pmids(graph)"
   ]
  },
  {
   "cell_type": "markdown",
   "metadata": {},
   "source": [
    "The total number of PubMed references:"
   ]
  },
  {
   "cell_type": "code",
   "execution_count": 9,
   "metadata": {
    "collapsed": false
   },
   "outputs": [
    {
     "data": {
      "text/plain": [
       "8318"
      ]
     },
     "execution_count": 9,
     "metadata": {},
     "output_type": "execute_result"
    }
   ],
   "source": [
    "len(pmid_counter)"
   ]
  },
  {
   "cell_type": "markdown",
   "metadata": {},
   "source": [
    "The top 35 most informative papers, in terms of edges contributed:"
   ]
  },
  {
   "cell_type": "code",
   "execution_count": 10,
   "metadata": {
    "collapsed": false
   },
   "outputs": [
    {
     "name": "stdout",
     "output_type": "stream",
     "text": [
      "https://www.ncbi.nlm.nih.gov/pubmed/20044591\t2535\n",
      "https://www.ncbi.nlm.nih.gov/pubmed/20938992\t1980\n",
      "https://www.ncbi.nlm.nih.gov/pubmed/19244175\t1835\n",
      "https://www.ncbi.nlm.nih.gov/pubmed/19619570\t839\n",
      "https://www.ncbi.nlm.nih.gov/pubmed/19549813\t799\n",
      "https://www.ncbi.nlm.nih.gov/pubmed/18951874\t795\n",
      "https://www.ncbi.nlm.nih.gov/pubmed/14699072\t751\n",
      "https://www.ncbi.nlm.nih.gov/pubmed/20106945\t658\n",
      "https://www.ncbi.nlm.nih.gov/pubmed/20436886\t617\n",
      "https://www.ncbi.nlm.nih.gov/pubmed/19167446\t583\n",
      "https://www.ncbi.nlm.nih.gov/pubmed/17404688\t563\n",
      "https://www.ncbi.nlm.nih.gov/pubmed/20660070\t523\n",
      "https://www.ncbi.nlm.nih.gov/pubmed/19484750\t461\n",
      "https://www.ncbi.nlm.nih.gov/pubmed/19059307\t434\n",
      "https://www.ncbi.nlm.nih.gov/pubmed/21185374\t365\n",
      "https://www.ncbi.nlm.nih.gov/pubmed/20847424\t307\n",
      "https://www.ncbi.nlm.nih.gov/pubmed/23019147\t296\n",
      "https://www.ncbi.nlm.nih.gov/pubmed/21179406\t270\n",
      "https://www.ncbi.nlm.nih.gov/pubmed/22574217\t268\n",
      "https://www.ncbi.nlm.nih.gov/pubmed/22496686\t265\n",
      "https://www.ncbi.nlm.nih.gov/pubmed/19885299\t245\n",
      "https://www.ncbi.nlm.nih.gov/pubmed/20404318\t226\n",
      "https://www.ncbi.nlm.nih.gov/pubmed/16474171\t217\n",
      "https://www.ncbi.nlm.nih.gov/pubmed/15598610\t204\n",
      "https://www.ncbi.nlm.nih.gov/pubmed/17584828\t204\n",
      "https://www.ncbi.nlm.nih.gov/pubmed/19519303\t201\n",
      "https://www.ncbi.nlm.nih.gov/pubmed/16514628\t175\n",
      "https://www.ncbi.nlm.nih.gov/pubmed/20847119\t172\n",
      "https://www.ncbi.nlm.nih.gov/pubmed/12419474\t159\n",
      "https://www.ncbi.nlm.nih.gov/pubmed/19734902\t154\n",
      "https://www.ncbi.nlm.nih.gov/pubmed/16984733\t152\n",
      "https://www.ncbi.nlm.nih.gov/pubmed/21515302\t148\n",
      "https://www.ncbi.nlm.nih.gov/pubmed/15498508\t141\n",
      "https://www.ncbi.nlm.nih.gov/pubmed/23557687\t128\n",
      "https://www.ncbi.nlm.nih.gov/pubmed/16054899\t127\n"
     ]
    }
   ],
   "source": [
    "for pmid, count in pmid_counter.most_common(35):\n",
    "    print('https://www.ncbi.nlm.nih.gov/pubmed/{}\\t{}'.format(pmid, count))"
   ]
  },
  {
   "cell_type": "markdown",
   "metadata": {},
   "source": [
    "## Citation Enrichment"
   ]
  },
  {
   "cell_type": "code",
   "execution_count": 11,
   "metadata": {
    "collapsed": true
   },
   "outputs": [],
   "source": [
    "pbt.mutation.parse_authors(graph)"
   ]
  },
  {
   "cell_type": "code",
   "execution_count": 12,
   "metadata": {
    "collapsed": false
   },
   "outputs": [
    {
     "name": "stderr",
     "output_type": "stream",
     "text": [
      "WARNING:pybel_tools.citation_utils:problems with following id: 19175363\n",
      "WARNING:pybel_tools.citation_utils:problems with following id: 20627362\n",
      "WARNING:pybel_tools.citation_utils:problems with following id: 22377427\n",
      "WARNING:pybel_tools.mutation.metadata:PMID not valid: 20627362\n",
      "WARNING:pybel_tools.mutation.metadata:PMID not valid: 22377427\n",
      "WARNING:pybel_tools.mutation.metadata:PMID not valid: 22377427\n",
      "WARNING:pybel_tools.mutation.metadata:PMID not valid: 22377427\n",
      "WARNING:pybel_tools.mutation.metadata:PMID not valid: 22377427\n",
      "WARNING:pybel_tools.mutation.metadata:PMID not valid: 22377427\n",
      "WARNING:pybel_tools.mutation.metadata:PMID not valid: 22377427\n",
      "WARNING:pybel_tools.mutation.metadata:PMID not valid: 19175363\n",
      "WARNING:pybel_tools.mutation.metadata:PMID not valid: 19175363\n"
     ]
    },
    {
     "name": "stdout",
     "output_type": "stream",
     "text": [
      "CPU times: user 2.65 s, sys: 185 ms, total: 2.83 s\n",
      "Wall time: 2min 17s\n"
     ]
    }
   ],
   "source": [
    "%%time\n",
    "pbt.mutation.fix_pubmed_citations(graph, stringify_authors=False)"
   ]
  },
  {
   "cell_type": "code",
   "execution_count": 13,
   "metadata": {
    "collapsed": true
   },
   "outputs": [],
   "source": [
    "author_publication_counter = pbt.summary.count_author_publications(graph)"
   ]
  },
  {
   "cell_type": "markdown",
   "metadata": {},
   "source": [
    "The total number of authors:"
   ]
  },
  {
   "cell_type": "code",
   "execution_count": 14,
   "metadata": {
    "collapsed": false
   },
   "outputs": [
    {
     "data": {
      "text/plain": [
       "34596"
      ]
     },
     "execution_count": 14,
     "metadata": {},
     "output_type": "execute_result"
    }
   ],
   "source": [
    "len(author_publication_counter)"
   ]
  },
  {
   "cell_type": "markdown",
   "metadata": {},
   "source": [
    "The top 35 authors, in terms of number of publication contributions:"
   ]
  },
  {
   "cell_type": "code",
   "execution_count": 15,
   "metadata": {
    "collapsed": false
   },
   "outputs": [
    {
     "data": {
      "text/plain": [
       "[('Zhang Y', 59),\n",
       " ('Wang Y', 55),\n",
       " ('Wang X', 49),\n",
       " ('Liu Y', 43),\n",
       " ('Zhang J', 41),\n",
       " ('Li Y', 41),\n",
       " ('Liu J', 37),\n",
       " ('Chen J', 35),\n",
       " ('Li X', 34),\n",
       " ('Zhang H', 33),\n",
       " ('Chen Y', 32),\n",
       " ('Wang H', 32),\n",
       " ('Liu X', 32),\n",
       " ('Wang L', 32),\n",
       " ('Zhang L', 32),\n",
       " ('Zhang X', 32),\n",
       " ('Safe S', 32),\n",
       " ('Wang J', 31),\n",
       " ('Wang Z', 30),\n",
       " ('Li J', 30),\n",
       " ('Zhang C', 29),\n",
       " ('Li H', 29),\n",
       " ('Zhang W', 26),\n",
       " ('Kim HJ', 26),\n",
       " ('Lee JH', 25),\n",
       " ('Liu H', 24),\n",
       " ('Kim SH', 24),\n",
       " ('Aggarwal BB', 24),\n",
       " ('Liu W', 23),\n",
       " ('Wang Q', 23),\n",
       " ('Xu J', 23),\n",
       " ('Takeuchi K', 23),\n",
       " ('Zhao Y', 22),\n",
       " ('Wang S', 21),\n",
       " ('Li L', 20)]"
      ]
     },
     "execution_count": 15,
     "metadata": {},
     "output_type": "execute_result"
    }
   ],
   "source": [
    "author_publication_counter.most_common(35)"
   ]
  },
  {
   "cell_type": "markdown",
   "metadata": {},
   "source": [
    "The top 35 authors, in terms of the number of edges contributed:"
   ]
  },
  {
   "cell_type": "code",
   "execution_count": 16,
   "metadata": {
    "collapsed": false
   },
   "outputs": [
    {
     "data": {
      "text/plain": [
       "[('Kleinjans JC', 3300),\n",
       " ('van Herwijnen MH', 3195),\n",
       " ('Briedé JJ', 2537),\n",
       " ('van Delft JM', 2537),\n",
       " ('de Kok TM', 2537),\n",
       " ('Maas LM', 2537),\n",
       " ('Gottschalk RW', 2537),\n",
       " ('Pogribny IP', 2039),\n",
       " ('Wang X', 2034),\n",
       " ('Ross SA', 2025),\n",
       " ('Tryndyak VP', 2019),\n",
       " ('Han T', 2019),\n",
       " ('Beland FA', 2019),\n",
       " ('Muskhelishvili L', 1986),\n",
       " ('Fuscoe JC', 1986),\n",
       " ('Kim J', 1873),\n",
       " ('Wen S', 1852),\n",
       " ('Vakar-Lopez F', 1848),\n",
       " ('Menter DG', 1845),\n",
       " ('Lippman SM', 1844),\n",
       " ('Tsavachidou D', 1843),\n",
       " ('McDonnell TJ', 1843),\n",
       " ('Pisters LL', 1843),\n",
       " ('Pettaway CA', 1843),\n",
       " ('Wood CG', 1843),\n",
       " ('Do KA', 1843),\n",
       " ('Thall PF', 1843),\n",
       " ('Stephens C', 1843),\n",
       " ('Efstathiou E', 1843),\n",
       " ('Taylor R', 1843),\n",
       " ('Troncoso P', 1843),\n",
       " ('Logothetis CJ', 1843),\n",
       " ('Leitman DC', 1471),\n",
       " ('Spink BC', 1220),\n",
       " ('Spink DC', 1220)]"
      ]
     },
     "execution_count": 16,
     "metadata": {},
     "output_type": "execute_result"
    }
   ],
   "source": [
    "author_counter = pbt.summary.count_authors(graph)\n",
    "\n",
    "author_counter.most_common(35)"
   ]
  },
  {
   "cell_type": "markdown",
   "metadata": {
    "deletable": true,
    "editable": true
   },
   "source": [
    "## Filtering\n",
    "\n",
    "The graph is filtered by to a specific subgraph - the Apoptosis signaling subgraph."
   ]
  },
  {
   "cell_type": "code",
   "execution_count": 17,
   "metadata": {
    "collapsed": true,
    "deletable": true,
    "editable": true
   },
   "outputs": [],
   "source": [
    "target_subgraph = 'Apoptosis signaling subgraph'"
   ]
  },
  {
   "cell_type": "code",
   "execution_count": 18,
   "metadata": {
    "collapsed": false,
    "deletable": true,
    "editable": true
   },
   "outputs": [
    {
     "name": "stdout",
     "output_type": "stream",
     "text": [
      "Name: Alzheimer's Disease Model - (Subgraph: Apoptosis signaling subgraph)\n",
      "Number of nodes: 130\n",
      "Number of edges: 211\n",
      "Network density: 0.012581991651759094\n",
      "Number weakly connected components: 10\n",
      "Average in-degree: 1.623076923076923\n",
      "Average out-degree: 1.623076923076923\n"
     ]
    }
   ],
   "source": [
    "subgraph = pbt.selection.get_subgraph_by_annotation(graph, target_subgraph)\n",
    "\n",
    "pbt.summary.print_summary(subgraph)"
   ]
  },
  {
   "cell_type": "markdown",
   "metadata": {
    "deletable": true,
    "editable": true
   },
   "source": [
    "The unique citations for every pair of nodes is calculated. This helps to remove the bias from edges that have many notations and have a cartesian explosion. This process can be repeated with [pbt.summary.count_pmids](http://pybel-tools.readthedocs.io/en/latest/summary.html#pybel_tools.summary.count_pmids)."
   ]
  },
  {
   "cell_type": "code",
   "execution_count": 19,
   "metadata": {
    "collapsed": false,
    "deletable": true,
    "editable": true
   },
   "outputs": [
    {
     "name": "stdout",
     "output_type": "stream",
     "text": [
      "https://www.ncbi.nlm.nih.gov/pubmed/19499146\t27\tActa biochimica et biophysica Sinica\n",
      "https://www.ncbi.nlm.nih.gov/pubmed/22496686\t11\tJournal of toxicology\n",
      "https://www.ncbi.nlm.nih.gov/pubmed/16153637\t9\tEuropean journal of pharmacology\n",
      "https://www.ncbi.nlm.nih.gov/pubmed/17869087\t7\tThe Journal of nutritional biochemistry\n",
      "https://www.ncbi.nlm.nih.gov/pubmed/22122372\t7\tJournal of neurochemistry\n",
      "https://www.ncbi.nlm.nih.gov/pubmed/19918364\t6\tPloS one\n",
      "https://www.ncbi.nlm.nih.gov/pubmed/11592846\t6\tNeurobiology of disease\n",
      "https://www.ncbi.nlm.nih.gov/pubmed/12548636\t6\tProteomics\n",
      "https://www.ncbi.nlm.nih.gov/pubmed/14744432\t5\tCell\n",
      "https://www.ncbi.nlm.nih.gov/pubmed/18997293\t4\tJournal of Alzheimer's disease : JAD\n",
      "https://www.ncbi.nlm.nih.gov/pubmed/22236693\t4\tJournal of negative results in biomedicine\n",
      "https://www.ncbi.nlm.nih.gov/pubmed/24821282\t4\tJournal of neurochemistry\n",
      "https://www.ncbi.nlm.nih.gov/pubmed/17316167\t4\tCurrent Alzheimer research\n",
      "https://www.ncbi.nlm.nih.gov/pubmed/19734902\t4\tNature genetics\n",
      "https://www.ncbi.nlm.nih.gov/pubmed/20847424\t4\tJournal of Alzheimer's disease : JAD\n",
      "https://www.ncbi.nlm.nih.gov/pubmed/22235318\t4\tPloS one\n",
      "https://www.ncbi.nlm.nih.gov/pubmed/15671026\t3\tThe Journal of biological chemistry\n",
      "https://www.ncbi.nlm.nih.gov/pubmed/22523685\t3\tJournal of aging research\n",
      "https://www.ncbi.nlm.nih.gov/pubmed/18782350\t3\tAging cell\n",
      "https://www.ncbi.nlm.nih.gov/pubmed/22433871\t3\tThe Journal of biological chemistry\n",
      "https://www.ncbi.nlm.nih.gov/pubmed/19596284\t3\tChemico-biological interactions\n",
      "https://www.ncbi.nlm.nih.gov/pubmed/21490080\t3\tPerfusion\n",
      "https://www.ncbi.nlm.nih.gov/pubmed/11744168\t2\tBrain research. Molecular brain research\n",
      "https://www.ncbi.nlm.nih.gov/pubmed/10662829\t2\tThe Journal of neuroscience : the official journal of the Society for Neuroscience\n",
      "https://www.ncbi.nlm.nih.gov/pubmed/10371197\t2\tFEBS letters\n",
      "https://www.ncbi.nlm.nih.gov/pubmed/22874667\t2\tPrion\n",
      "https://www.ncbi.nlm.nih.gov/pubmed/11432833\t2\tThe EMBO journal\n",
      "https://www.ncbi.nlm.nih.gov/pubmed/18718604\t2\tThe Journal of surgical research\n",
      "https://www.ncbi.nlm.nih.gov/pubmed/21893081\t2\tPharmacology, biochemistry, and behavior\n",
      "https://www.ncbi.nlm.nih.gov/pubmed/16303979\t2\tInvestigative ophthalmology &amp; visual science\n",
      "https://www.ncbi.nlm.nih.gov/pubmed/11400916\t2\tLife sciences\n",
      "https://www.ncbi.nlm.nih.gov/pubmed/16243823\t2\tClinical cancer research : an official journal of the American Association for Cancer Research\n",
      "https://www.ncbi.nlm.nih.gov/pubmed/22249458\t1\tJournal of neuropathology and experimental neurology\n",
      "https://www.ncbi.nlm.nih.gov/pubmed/21945540\t1\tNeurobiology of disease\n",
      "https://www.ncbi.nlm.nih.gov/pubmed/17213958\t1\tActa biochimica et biophysica Sinica\n"
     ]
    }
   ],
   "source": [
    "citations = defaultdict(set)\n",
    "\n",
    "for u, v, d in subgraph.edges_iter(data=True):\n",
    "    c = d[CITATION]\n",
    "    citations[u, v].add((c[CITATION_TYPE], c[CITATION_REFERENCE], c[CITATION_NAME]))\n",
    "    \n",
    "counter = Counter(itt.chain.from_iterable(citations.values()))\n",
    "\n",
    "for (_, pmid, name), v in counter.most_common(35):\n",
    "    print('https://www.ncbi.nlm.nih.gov/pubmed/{}\\t{}\\t{}' .format(int(pmid.strip()), v, name))"
   ]
  },
  {
   "cell_type": "markdown",
   "metadata": {
    "deletable": true,
    "editable": true
   },
   "source": [
    "# Conclusions\n",
    "\n",
    "The top 5 density papers that contributed to the Apoptosis signaling subgraph were:\n",
    "\n",
    "1. Acta Biochim Biophys Sin (Shanghai). 2009 Jun;41(6):437-45. ([pmid:19499146](www.ncbi.nlm.nih.gov/pubmed/19499146)) with (27) \n",
    "2.  J Toxicol. 2012;2012:187297. Epub 2012 Feb 8. ([pmid:22496686](www.ncbi.nlm.nih.gov/pubmed/22496686)) with (11)\n",
    "3. Eur J Pharmacol. 2005 Sep 27;520(1-3):1-11 ([pmid:16153637](www.ncbi.nlm.nih.gov/pubmed/16153637)) ( 9) \n",
    "4. J Nutr Biochem. 2008 Jul;19(7):459-66. Epub 2007 Sep 14 ([pmid:17869087](www.ncbi.nlm.nih.gov/pubmed/17869087)) with (7) \n",
    "5. J Neurochem. 2012 Jan;120 Suppl 1:9-21. doi: 10.1111/j.1471-4159.2011.07519.x. Epub 2011 Nov 28. ([pmid:22122372](www.ncbi.nlm.nih.gov/pubmed/22122372)) with (7) "
   ]
  }
 ],
 "metadata": {
  "kernelspec": {
   "display_name": "Python 3",
   "language": "python",
   "name": "python3"
  },
  "language_info": {
   "codemirror_mode": {
    "name": "ipython",
    "version": 3
   },
   "file_extension": ".py",
   "mimetype": "text/x-python",
   "name": "python",
   "nbconvert_exporter": "python",
   "pygments_lexer": "ipython3",
   "version": "3.6.0"
  }
 },
 "nbformat": 4,
 "nbformat_minor": 2
}
