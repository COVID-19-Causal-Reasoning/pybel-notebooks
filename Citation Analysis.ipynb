{
 "cells": [
  {
   "cell_type": "markdown",
   "metadata": {
    "deletable": true,
    "editable": true
   },
   "source": [
    "# Abstract\n",
    "\n",
    "**Author:** [Charles Tapley Hoyt](https://github.com/cthoyt)\n",
    "\n",
    "This notebook outlines a simple way to assess the citations that contribute to a subgraph."
   ]
  },
  {
   "cell_type": "code",
   "execution_count": 1,
   "metadata": {
    "collapsed": true,
    "deletable": true,
    "editable": true
   },
   "outputs": [],
   "source": [
    "import os\n",
    "from collections import defaultdict, Counter\n",
    "import itertools as itt\n",
    "\n",
    "import pybel\n",
    "from pybel.constants import *\n",
    "\n",
    "import pybel_tools as pbt"
   ]
  },
  {
   "cell_type": "code",
   "execution_count": 2,
   "metadata": {
    "collapsed": false,
    "deletable": true,
    "editable": true
   },
   "outputs": [
    {
     "data": {
      "text/plain": [
       "'0.4.1'"
      ]
     },
     "execution_count": 2,
     "metadata": {},
     "output_type": "execute_result"
    }
   ],
   "source": [
    "pybel.__version__"
   ]
  },
  {
   "cell_type": "code",
   "execution_count": 3,
   "metadata": {
    "collapsed": false,
    "deletable": true,
    "editable": true
   },
   "outputs": [
    {
     "data": {
      "text/plain": [
       "'0.1.3-dev'"
      ]
     },
     "execution_count": 3,
     "metadata": {},
     "output_type": "execute_result"
    }
   ],
   "source": [
    "pbt.__version__"
   ]
  },
  {
   "cell_type": "code",
   "execution_count": 4,
   "metadata": {
    "collapsed": true,
    "deletable": true,
    "editable": true
   },
   "outputs": [],
   "source": [
    "bms_base = os.environ['BMS_BASE']"
   ]
  },
  {
   "cell_type": "markdown",
   "metadata": {
    "deletable": true,
    "editable": true
   },
   "source": [
    "## Loading\n",
    "\n",
    "The graph is loaded from a precompiled gpickle."
   ]
  },
  {
   "cell_type": "code",
   "execution_count": 5,
   "metadata": {
    "collapsed": true,
    "deletable": true,
    "editable": true
   },
   "outputs": [],
   "source": [
    "pickle_path = os.path.join(bms_base, 'aetionomy', 'alzheimers.gpickle')"
   ]
  },
  {
   "cell_type": "code",
   "execution_count": 6,
   "metadata": {
    "collapsed": false,
    "deletable": true,
    "editable": true
   },
   "outputs": [
    {
     "name": "stdout",
     "output_type": "stream",
     "text": [
      "Name: \n",
      "Number of nodes: 11420\n",
      "Number of edges: 64013\n",
      "Network density: 0.0004908784925238285\n",
      "Number weakly connected components: 65\n",
      "Average in-degree: 5.605341506129597\n",
      "Average out-degree: 5.605341506129597\n"
     ]
    }
   ],
   "source": [
    "graph = pybel.from_pickle(pickle_path)\n",
    "\n",
    "pbt.summary.print_summary(graph)"
   ]
  },
  {
   "cell_type": "markdown",
   "metadata": {
    "deletable": true,
    "editable": true
   },
   "source": [
    "## Filtering\n",
    "\n",
    "The graph is filtered by to a specific subgraph - the Apoptosis signaling subgraph."
   ]
  },
  {
   "cell_type": "code",
   "execution_count": 7,
   "metadata": {
    "collapsed": true,
    "deletable": true,
    "editable": true
   },
   "outputs": [],
   "source": [
    "target_subgraph = 'Apoptosis signaling subgraph'"
   ]
  },
  {
   "cell_type": "code",
   "execution_count": 8,
   "metadata": {
    "collapsed": false,
    "deletable": true,
    "editable": true
   },
   "outputs": [
    {
     "name": "stdout",
     "output_type": "stream",
     "text": [
      "Name: Alzheimer's Disease Model - Subgraph - Apoptosis signaling subgraph\n",
      "Number of nodes: 130\n",
      "Number of edges: 211\n",
      "Network density: 0.012581991651759094\n",
      "Number weakly connected components: 10\n",
      "Average in-degree: 1.623076923076923\n",
      "Average out-degree: 1.623076923076923\n"
     ]
    }
   ],
   "source": [
    "subgraph = pbt.selection.get_subgraph_by_annotation(graph, target_subgraph)\n",
    "\n",
    "pbt.summary.print_summary(subgraph)"
   ]
  },
  {
   "cell_type": "markdown",
   "metadata": {
    "deletable": true,
    "editable": true
   },
   "source": [
    "## Analysis\n",
    "\n",
    "The unique citations for every pair of nodes is calculated. This helps to remove the bias from edges that have many notations and have a cartesian explosion. This process can be repeated with [pbt.summary.count_pmids](http://pybel-tools.readthedocs.io/en/latest/summary.html#pybel_tools.summary.count_pmids)."
   ]
  },
  {
   "cell_type": "code",
   "execution_count": 9,
   "metadata": {
    "collapsed": false,
    "deletable": true,
    "editable": true
   },
   "outputs": [
    {
     "name": "stdout",
     "output_type": "stream",
     "text": [
      "19499146\t27\tActa Biochim Biophys Sin (Shanghai). 2009 Jun;41(6):437-45.\n",
      "22496686\t11\tJ Toxicol. 2012;2012:187297. Epub 2012 Feb 8.\n",
      "16153637\t9\tEur J Pharmacol. 2005 Sep 27;520(1-3):1-11\n",
      "17869087\t7\tJ Nutr Biochem. 2008 Jul;19(7):459-66. Epub 2007 Sep 14\n",
      "22122372\t7\tJ Neurochem. 2012 Jan;120 Suppl 1:9-21. doi: 10.1111/j.1471-4159.2011.07519.x. Epub 2011 Nov 28.\n",
      "19918364\t6\tPLoS One. 2009 Nov 12;4(11):e7820\n",
      "11592846\t6\tNeurobiol Dis. 2001 Oct;8(5):764-73\n",
      "12548636\t6\tProteomics. 2003 Jan;3(1):73-7.\n",
      "14744432\t5\tCell. 2004 Jan 23;116(2):205-19.\n",
      "18997293\t4\tJ Alzheimers Dis. 2008 Nov;15(3):397-407\n",
      "22236693\t4\tJ Negat Results Biomed. 2012 Jan 12;11:5. doi: 10.1186/1477-5751-11-5.\n",
      "24821282\t4\tJ Neurochem. 2014 May 12. doi: 10.1111/jnc.12761\n",
      "17316167\t4\tCurr Alzheimer Res. 2007 Feb;4(1):67-72\n",
      "19734902\t4\tNat Genet. 2009 Oct;41(10):1088-93. doi: 10.1038/ng.440. Epub 2009 Sep 6.\n",
      "20847424\t4\tJ Alzheimers Dis. 2010;22(3):741-63\n",
      "22235318\t4\tPLoS One. 2012;7(1):e29641\n",
      "15671026\t3\tJ Biol Chem2005\n",
      "22523685\t3\tJ Aging Res. 2012;2012:324968. Epub 2012 Mar 19\n",
      "18782350\t3\tAging Cell. 2008 Dec;7(6):824-35. Epub 2008 Sep 8\n",
      "22433871\t3\tJ Biol Chem. 2012 May 18;287(21):17693-705. doi: 10.1074/jbc.M111.300012. Epub 2012 Mar 20.\n",
      "19596284\t3\tReference from AD_HBP Data\n",
      "21490080\t3\tPerfusion. 2011 May;26(3):245-52\n",
      "11744168\t2\tBrain Res Mol Brain Res2001\n",
      "10662829\t2\tJ Neurosci. 2000 Feb 15;20(4):1386-92\n",
      "10371197\t2\tFEBS Lett1999\n",
      "22874667\t2\tPrion. 2012 Sep-Oct;6(4):364-70\n",
      "11432833\t2\tEMBO J. 2001 Jul 2;20(13):3459-72\n",
      "18718604\t2\tJ Surg Res. 2009 Apr;152(2):238-48\n",
      "21893081\t2\tPharmacol Biochem Behav. 2011 Dec;100(2):311-9\n",
      "16303979\t2\tInvest Ophthalmol Vis Sci. 2005 Dec;46(12):4780-7\n",
      "11400916\t2\tLife Sci. 2001 May 4;68(24):2741-50.\n",
      "16243823\t2\tReference from AD_HBP Data\n",
      "22249458\t1\tJ Neuropathol Exp Neurol. 2012 Feb;71(2):130-9\n",
      "21945540\t1\tNeurobiol Dis. 2012 Jan;45(1):425-37. Epub 2011 Sep 13.\n",
      "17213958\t1\tActa Biochim Biophys Sin (Shanghai). 2007 Jan;39(1):46-56.\n",
      "15709485\t1\tSubcell Biochem. 2005;38:299-317\n",
      "16014719\t1\tJ Neurosci2005\n",
      "14557245\t1\tJournal of cell biology2003\n",
      "19306298\t1\tJ Cell Physiol2009\n",
      "22110360\t1\tExp Neurobiol. 2011 Mar;20(1):35-44. Epub 2011 Mar 31.\n",
      "15314261\t1\tJ Mol Neurosci. 2004;24(1):129-36\n",
      "19885299\t1\tJ Diabetes Sci Technol. Nov 2008; 2(6): 1101â€“1113.\n",
      "21396986\t1\tNeuroscience. 2011 Sep 15;191:107-17. doi: 10.1016/j.neuroscience.2011.03.011. Epub 2011 Mar 22.\n",
      "18692909\t1\tJ Neuroimmunol. 2008 Oct 15;203(1):12-22\n",
      "14580317\t1\tAntioxid Redox Signal. 2003 Oct;5(5):609-20\n",
      "16507903\t1\tAm J Pathol. 2006 Mar;168(3):878-87.\n",
      "23153928\t1\tNeurobiol Aging. 2013 Apr;34(4):1090-100\n",
      "11226677\t1\tNeuroscience. 2001;102(1):139-50\n",
      "22046282\t1\tPLoS One. 2011;6(10):e26420\n",
      "10067977\t1\tInvest Ophthalmol Vis Sci. 1999 Mar;40(3):729-36\n",
      "20885006\t1\tPharmacol Rep. 2010 Jul-Aug;62(4):664-73\n",
      "21857080\t1\tPharmacol Rep. 2011;63(3):697-707\n",
      "21246057\t1\tPLoS One. 2011 Jan 5;6(1):e15816. doi: 10.1371/journal.pone.0015816.\n",
      "21246057\t1\tPLoS One2011\n",
      "18480271\t1\tJ Neurosci. 2008 May 14;28(20):5149-58. doi: 10.1523/JNEUROSCI.4878-07.2008.\n",
      "18480271\t1\tJ Neurosci2008\n",
      "18624760\t1\tReference from AD_HBP Data\n",
      "22058016\t1\tReference from AD_HBP Data\n",
      "21699726\t1\tJ Neuroinflammation. 2011 Jun 23;8:72. doi: 10.1186/1742-2094-8-72.\n"
     ]
    }
   ],
   "source": [
    "citations = defaultdict(set)\n",
    "\n",
    "for u, v, d in subgraph.edges_iter(data=True):\n",
    "    c = d[CITATION]\n",
    "    citations[u, v].add((c[CITATION_TYPE], c[CITATION_REFERENCE], c[CITATION_NAME]))\n",
    "    \n",
    "counter = Counter(itt.chain.from_iterable(citations.values()))\n",
    "\n",
    "for (_, pmid, name), v in counter.most_common():\n",
    "    print('{}\\t{}\\t{}' .format(int(pmid.strip()), v, name))"
   ]
  },
  {
   "cell_type": "markdown",
   "metadata": {
    "deletable": true,
    "editable": true
   },
   "source": [
    "# Conclusions\n",
    "\n",
    "The top 5 density papers that contributed to the Apoptosis signaling subgraph were:\n",
    "\n",
    "1. Acta Biochim Biophys Sin (Shanghai). 2009 Jun;41(6):437-45. ([pmid:19499146](www.ncbi.nlm.nih.gov/pubmed/19499146)) with (27) \n",
    "2.  J Toxicol. 2012;2012:187297. Epub 2012 Feb 8. ([pmid:22496686](www.ncbi.nlm.nih.gov/pubmed/22496686)) with (11)\n",
    "3. Eur J Pharmacol. 2005 Sep 27;520(1-3):1-11 ([pmid:16153637](www.ncbi.nlm.nih.gov/pubmed/16153637)) ( 9) \n",
    "4. J Nutr Biochem. 2008 Jul;19(7):459-66. Epub 2007 Sep 14 ([pmid:17869087](www.ncbi.nlm.nih.gov/pubmed/17869087)) with (7) \n",
    "5. J Neurochem. 2012 Jan;120 Suppl 1:9-21. doi: 10.1111/j.1471-4159.2011.07519.x. Epub 2011 Nov 28. ([pmid:22122372](www.ncbi.nlm.nih.gov/pubmed/22122372)) with (7) "
   ]
  }
 ],
 "metadata": {
  "kernelspec": {
   "display_name": "Python 3",
   "language": "python",
   "name": "python3"
  },
  "language_info": {
   "codemirror_mode": {
    "name": "ipython",
    "version": 3
   },
   "file_extension": ".py",
   "mimetype": "text/x-python",
   "name": "python",
   "nbconvert_exporter": "python",
   "pygments_lexer": "ipython3",
   "version": "3.6.0"
  }
 },
 "nbformat": 4,
 "nbformat_minor": 2
}
