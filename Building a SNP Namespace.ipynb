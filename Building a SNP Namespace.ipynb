{
 "cells": [
  {
   "cell_type": "markdown",
   "metadata": {},
   "source": [
    "# Building a SNP Namespace\n",
    "\n",
    "**Author:** [Charles Tapley Hoyt](https://github.com/cthoyt/)\n",
    "\n",
    "This notebook outlines the process to programatically download a curated SNP listing and build a namespace with the PyBEL namespace builder. "
   ]
  },
  {
   "cell_type": "code",
   "execution_count": 1,
   "metadata": {
    "collapsed": false
   },
   "outputs": [],
   "source": [
    "import requests\n",
    "import os\n",
    "\n",
    "from pybel_tools.namespace_utils import build_namespace"
   ]
  },
  {
   "cell_type": "code",
   "execution_count": 3,
   "metadata": {
    "collapsed": false
   },
   "outputs": [],
   "source": [
    "out_path = os.path.expanduser('~/Downloads/snps.belns')"
   ]
  },
  {
   "cell_type": "markdown",
   "metadata": {},
   "source": [
    "## Download\n",
    "\n",
    "The data comes from Ensembl."
   ]
  },
  {
   "cell_type": "code",
   "execution_count": 2,
   "metadata": {
    "collapsed": true
   },
   "outputs": [],
   "source": [
    "url = \"http://www.ensembl.org/biomart/martview/8335b18c43ef6a646d303cdba04299ce?VIRTUALSCHEMANAME=default&ATTRIBUTES=hsapiens_snp.default.snp.refsnp_id|hsapiens_snp.default.snp.refsnp_source|hsapiens_snp.default.snp.chr_name|hsapiens_snp.default.snp.chrom_start|hsapiens_snp.default.snp.chrom_end&FILTERS=&VISIBLEPANEL=resultspanel\""
   ]
  },
  {
   "cell_type": "code",
   "execution_count": 4,
   "metadata": {
    "collapsed": false
   },
   "outputs": [
    {
     "name": "stdout",
     "output_type": "stream",
     "text": [
      "CPU times: user 15.7 ms, sys: 5.63 ms, total: 21.3 ms\n",
      "Wall time: 210 ms\n"
     ]
    }
   ],
   "source": [
    "%%time\n",
    "res = requests.get(url)\n",
    "res.status_code"
   ]
  },
  {
   "cell_type": "code",
   "execution_count": 5,
   "metadata": {
    "collapsed": true
   },
   "outputs": [],
   "source": [
    "snps = res.content.decode('utf-8').split('\\n')"
   ]
  },
  {
   "cell_type": "markdown",
   "metadata": {},
   "source": [
    "## Output\n",
    "\n",
    "The `buildns` command in `pybel_tools` takes a list of items on stdin and the appropriate annotations as arguments to write a `*.belns` file conforming to the [specification](openbel-framework.readthedocs.io/en/latest/tutorials/building_custom_namespaces.html) from the OpenBEL Framework"
   ]
  },
  {
   "cell_type": "code",
   "execution_count": 6,
   "metadata": {
    "collapsed": false
   },
   "outputs": [
    {
     "name": "stdout",
     "output_type": "stream",
     "text": [
      "CPU times: user 1.45 ms, sys: 1.34 ms, total: 2.79 ms\n",
      "Wall time: 2.97 ms\n"
     ]
    }
   ],
   "source": [
    "%%time\n",
    "with open(out_path, 'w') as f:\n",
    "    build_namespace(\n",
    "        \"Ensembl SNPS\", \n",
    "        \"EnsblSNP\", \n",
    "        \"Gene and Gene Products\", \n",
    "        'Charles Tapley Hoyt', \n",
    "        url, \n",
    "        snps,\n",
    "        namespace_description=\"SNP List acquired from Ensembl\",\n",
    "        namespace_species='9606',\n",
    "        author_copyright='WTF License',\n",
    "        functions=\"G\",\n",
    "        author_contact=\"charles.hoyt@scai.fraunhofer.de\",\n",
    "        output=f\n",
    "    )"
   ]
  }
 ],
 "metadata": {
  "kernelspec": {
   "display_name": "Python 3",
   "language": "python",
   "name": "python3"
  },
  "language_info": {
   "codemirror_mode": {
    "name": "ipython",
    "version": 3
   },
   "file_extension": ".py",
   "mimetype": "text/x-python",
   "name": "python",
   "nbconvert_exporter": "python",
   "pygments_lexer": "ipython3",
   "version": "3.6.0"
  }
 },
 "nbformat": 4,
 "nbformat_minor": 2
}
