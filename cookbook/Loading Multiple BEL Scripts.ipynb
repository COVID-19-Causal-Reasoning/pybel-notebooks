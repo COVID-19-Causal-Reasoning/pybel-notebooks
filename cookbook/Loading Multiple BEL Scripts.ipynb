{
 "cells": [
  {
   "cell_type": "markdown",
   "metadata": {},
   "source": [
    "# Loading Multiple BEL Scripts\n",
    "\n",
    "**Author**: Charles Tapley Hoyt"
   ]
  },
  {
   "cell_type": "markdown",
   "metadata": {},
   "source": [
    "Parsing a BEL Script with PyBEL is as simple as:"
   ]
  },
  {
   "cell_type": "markdown",
   "metadata": {},
   "source": [
    "```python\n",
    ">>> import pybel\n",
    ">>> graph = pybel.from_url('...')\n",
    "```"
   ]
  },
  {
   "cell_type": "markdown",
   "metadata": {},
   "source": [
    "## Scenario"
   ]
  },
  {
   "cell_type": "markdown",
   "metadata": {},
   "source": [
    "However, the simple functions exposed at the package-level obscure the caching functionality. In the situation where multiple BEL Scripts would be loaded, the following code would be very slow:"
   ]
  },
  {
   "cell_type": "markdown",
   "metadata": {},
   "source": [
    "```python\n",
    "import pybel\n",
    "my_urls = ['... url 1 ...', '... url 2 ...', ...]\n",
    "graphs = [\n",
    "    pybel.from_url(url)\n",
    "    for url in my_urls\n",
    "]\n",
    "```\n",
    "    "
   ]
  },
  {
   "cell_type": "markdown",
   "metadata": {},
   "source": [
    "This is because PyBEL takes care of making a connection to a local SQLite cache. It has to build the cache in-memory each time the function is run."
   ]
  },
  {
   "cell_type": "markdown",
   "metadata": {},
   "source": [
    "## Solution\n",
    "\n",
    "One solution is to make a `CacheManager` object that can be used across each of the runs so the cache doesn't need to be loaded in to memory each time."
   ]
  },
  {
   "cell_type": "markdown",
   "metadata": {},
   "source": [
    "```python\n",
    "import pybel\n",
    "from pybel.manager import CacheManager\n",
    "manager = CacheManager()\n",
    "my_urls = ['... url 1 ...', '... url 2 ...', ...]\n",
    "graphs = [\n",
    "    pybel.from_url(url, connection=manager)\n",
    "    for url in my_urls\n",
    "]\n",
    "```"
   ]
  },
  {
   "cell_type": "markdown",
   "metadata": {},
   "source": [
    "Other common patterns, which includes loading a list of graphs and taking their union, have been implemented in the PyBEL Tools IO Utilities submodule. See: http://pybel-tools.readthedocs.io/en/latest/ioutils.html"
   ]
  },
  {
   "cell_type": "markdown",
   "metadata": {},
   "source": [
    "## Extra Credit\n",
    "\n",
    "The cache manager uses SQLite by default because it requires zero configuration. Better performance can be achieved by switching to using a relational database management system like MySQL or Postgres.\n",
    "\n",
    "This can be attained by using a RFC-1738 database connection string as the `connection` argument to the `CacheManager` function"
   ]
  },
  {
   "cell_type": "markdown",
   "metadata": {},
   "source": [
    "```python\n",
    "from pybel.manager import CacheManager\n",
    "connection = 'mysql+pymysql://<username>:<password>@<host>/<dbname>?charset=utf8[&<options>]'\n",
    "manager = CacheManager(connection=connection)\n",
    "```"
   ]
  },
  {
   "cell_type": "markdown",
   "metadata": {},
   "source": [
    "A default connection string can be set by following the instructions in the documentation at http://pybel.readthedocs.io/en/latest/constants.html#configuration-loading"
   ]
  }
 ],
 "metadata": {
  "kernelspec": {
   "display_name": "Python 3",
   "language": "python",
   "name": "python3"
  },
  "language_info": {
   "codemirror_mode": {
    "name": "ipython",
    "version": 3
   },
   "file_extension": ".py",
   "mimetype": "text/x-python",
   "name": "python",
   "nbconvert_exporter": "python",
   "pygments_lexer": "ipython3",
   "version": "3.6.2"
  }
 },
 "nbformat": 4,
 "nbformat_minor": 2
}
