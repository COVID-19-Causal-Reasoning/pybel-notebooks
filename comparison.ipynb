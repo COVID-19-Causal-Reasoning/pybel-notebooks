{
 "cells": [
  {
   "cell_type": "markdown",
   "metadata": {},
   "source": [
    "# BEL Compiler Comparison\n",
    "\n",
    "This document uses the OpenBEL Framework example Small Corpus as a baseline of comparison for compile time for PyBEL, bel.rb, and the OpenBEL Framework compiler.\n",
    "\n",
    "To run this notebook, install the Bash Kernel for Jupyter Notebook with:\n",
    "```sh\n",
    "$ python3 -m pip install bash_kernel\n",
    "$ python3 -m bash_kernel.install\n",
    "```"
   ]
  },
  {
   "cell_type": "code",
   "execution_count": 1,
   "metadata": {
    "collapsed": false
   },
   "outputs": [
    {
     "name": "stdout",
     "output_type": "stream",
     "text": [
      "Thu Oct 27 09:23:09 CEST 2016\r\n"
     ]
    }
   ],
   "source": [
    "date"
   ]
  },
  {
   "cell_type": "code",
   "execution_count": 2,
   "metadata": {
    "collapsed": false
   },
   "outputs": [
    {
     "name": "stdout",
     "output_type": "stream",
     "text": []
    }
   ],
   "source": [
    "small=~/.pybel/bel/small_corpus.bel"
   ]
  },
  {
   "cell_type": "code",
   "execution_count": 3,
   "metadata": {
    "collapsed": false
   },
   "outputs": [
    {
     "name": "stdout",
     "output_type": "stream",
     "text": [
      "##################################################################################\r",
      "\r\n",
      "# Document Properties Section\r",
      "\r\n",
      "\r",
      "\r\n",
      "SET DOCUMENT Name = \"BEL Framework Small Corpus Document\"\r",
      "\r\n",
      "SET DOCUMENT Description = \"Approximately 2000 hand curated statements drawn from 57 PubMeds.\"\r",
      "\r\n",
      "SET DOCUMENT Version = \"1.6\"\r",
      "\r\n",
      "SET DOCUMENT Copyright = \"Copyright (c) 2011-2012, Selventa. All Rights Reserved.\"\r",
      "\r\n",
      "SET DOCUMENT Authors = \"Selventa\"\r",
      "\r\n",
      "SET DOCUMENT Licenses = \"Creative Commons Attribution-Non-Commercial-ShareAlike 3.0 Unported License\"\r",
      "\r\n",
      "SET DOCUMENT ContactInfo = \"support@belframework.org\"\r",
      "\r\n"
     ]
    }
   ],
   "source": [
    "head $small"
   ]
  },
  {
   "cell_type": "markdown",
   "metadata": {},
   "source": [
    "## Test with [PyBEL](https://github.com/pybel/pybel)"
   ]
  },
  {
   "cell_type": "code",
   "execution_count": 4,
   "metadata": {
    "collapsed": false
   },
   "outputs": [
    {
     "name": "stdout",
     "output_type": "stream",
     "text": [
      "pybel, version 0.2.3\r\n"
     ]
    }
   ],
   "source": [
    "pybel --version"
   ]
  },
  {
   "cell_type": "code",
   "execution_count": 5,
   "metadata": {
    "collapsed": false
   },
   "outputs": [
    {
     "name": "stdout",
     "output_type": "stream",
     "text": [
      "Usage: pybel convert [OPTIONS]\r\n",
      "\r\n",
      "  Options for multiple outputs/conversions\r\n",
      "\r\n",
      "Options:\r\n",
      "  --path FILENAME  Input BEL file file path. Use - for stdin\r\n",
      "  --url TEXT       Input BEL file URL\r\n",
      "  --database TEXT  Input BEL database\r\n",
      "  --csv TEXT       Output path for *.csv\r\n",
      "  --graphml TEXT   Output path for GraphML output. Use *.graphml for Cytoscape\r\n",
      "  --json FILENAME  Output path for Node-link *.json\r\n",
      "  --pickle TEXT    Output path for NetworkX *.gpickle\r\n",
      "  --lenient        Enable lenient parsing\r\n",
      "  --log-file TEXT  Optional path for verbose log output\r\n",
      "  -v, --verbose\r\n",
      "  --help           Show this message and exit.\r\n"
     ]
    }
   ],
   "source": [
    "pybel convert --help"
   ]
  },
  {
   "cell_type": "code",
   "execution_count": 6,
   "metadata": {
    "collapsed": false
   },
   "outputs": [
    {
     "name": "stdout",
     "output_type": "stream",
     "text": [
      "\r\n",
      "real\t0m22.370s\r\n",
      "user\t0m21.692s\r\n",
      "sys\t0m0.637s\r\n"
     ]
    }
   ],
   "source": [
    "time pybel convert --path $small --pickle ~/Downloads/test.gpickle -v"
   ]
  },
  {
   "cell_type": "markdown",
   "metadata": {},
   "source": [
    "## Test with [bel.rb](https://github.com/OpenBEL/bel.rb)\n",
    "\n",
    "We've yet to get `bel.rb` to run by following either the simple instructions `gem install bel` or the developer instructions on the project GitHub page. We're waiting on the developer for some support. This is as far as we've got:"
   ]
  },
  {
   "cell_type": "code",
   "execution_count": 7,
   "metadata": {
    "collapsed": false
   },
   "outputs": [
    {
     "name": "stdout",
     "output_type": "stream",
     "text": [
      "bel 1.0.1\r\n",
      "Copyright (C) 2016 OpenBEL\r\n",
      "Apache License, Version 2.0, January 2004\r\n",
      "http://www.apache.org/licenses/\r\n"
     ]
    }
   ],
   "source": [
    "bel --version"
   ]
  },
  {
   "cell_type": "code",
   "execution_count": 8,
   "metadata": {
    "collapsed": false
   },
   "outputs": [
    {
     "name": "stdout",
     "output_type": "stream",
     "text": [
      "Usage: bel [OPTIONS]... bel2rdf [OPTIONS]\r\n",
      "Converts BEL to RDF.\r\n",
      "\r\n",
      "Options:\r\n",
      "  -b, --bel=<s>                The BEL script to parse and output (Defaults to\r\n",
      "                               STDIN).\r\n",
      "  -f, --format=<s>             The RDF format to output. (Default: ntriples)\r\n",
      "  -s, --schema                 Includes the BEL RDFS schema in RDF output.\r\n",
      "  -p, --rdf-prefix-file=<s>    A YAML file mapping prefix containing key/value\r\n",
      "                               pairs. The key is an RDF prefix to use in the\r\n",
      "                               RDF output; the value is the RDF URI for that\r\n",
      "                               prefix. For example, belv:\r\n",
      "                               'http://www.openbel.org/vocabulary/'\r\n",
      "  -r, --remap-file=<s>         A YAML file that remaps annotation and namespace\r\n",
      "                               definitions. Run \"bel remapfile\" to get an\r\n",
      "                               example of the YAML format.\r\n",
      "  -h, --help                   Show this message\r\n"
     ]
    }
   ],
   "source": [
    "bel bel2rdf --help"
   ]
  },
  {
   "cell_type": "code",
   "execution_count": 9,
   "metadata": {
    "collapsed": false,
    "scrolled": false
   },
   "outputs": [
    {
     "name": "stdout",
     "output_type": "stream",
     "text": [
      "Warning - Reusing value database.\r\n",
      "  URL:  http://resource.belframework.org/belframework/1.0/namespace/selventa-legacy-diseases.belns\r\n",
      "  File: /var/folders/n1/h1c266qj2jq8kfdzfxj53pzw0000gn/T/belresources/DaJpV891Wc3yPL0GtGK9bW7leGM.gdbm\r\n",
      "Warning - Reusing value database.\r\n",
      "  URL:  http://resource.belframework.org/belframework/1.0/namespace/selventa-named-rat-protein-families.belns\r\n",
      "  File: /var/folders/n1/h1c266qj2jq8kfdzfxj53pzw0000gn/T/belresources/JwgWLXyTbo5FrCj07aIIOFhWBaE.gdbm\r\n",
      "Warning - Reusing value database.\r\n",
      "  URL:  http://resource.belframework.org/belframework/1.0/namespace/mgi-approved-symbols.belns\r\n",
      "  File: /var/folders/n1/h1c266qj2jq8kfdzfxj53pzw0000gn/T/belresources/2WyAb0puDednR9fFXKpvDJP7vPk.gdbm\r\n",
      "Warning - Reusing value database.\r\n",
      "  URL:  http://resource.belframework.org/belframework/1.0/namespace/selventa-named-mouse-protein-families.belns\r\n",
      "  File: /var/folders/n1/h1c266qj2jq8kfdzfxj53pzw0000gn/T/belresources/LvCYCdRd+Sxo7JrLK2qaHwWL5sk.gdbm\r\n",
      "Warning - Reusing value database.\r\n",
      "  URL:  http://resource.belframework.org/belframework/1.0/namespace/mesh-biological-processes.belns\r\n",
      "  File: /var/folders/n1/h1c266qj2jq8kfdzfxj53pzw0000gn/T/belresources/bZlTvv0b0+PWsIyg27+NBiYuoaA.gdbm\r\n",
      "Warning - Reusing value database.\r\n",
      "  URL:  http://resource.belframework.org/belframework/1.0/namespace/mesh-cellular-locations.belns\r\n",
      "  File: /var/folders/n1/h1c266qj2jq8kfdzfxj53pzw0000gn/T/belresources/nXHoXMIB9gTevqG7g4vB+cg4aF0.gdbm\r\n",
      "Warning - Reusing value database.\r\n",
      "  URL:  http://resource.belframework.org/belframework/1.0/namespace/selventa-named-human-complexes.belns\r\n",
      "  File: /var/folders/n1/h1c266qj2jq8kfdzfxj53pzw0000gn/T/belresources/U0u3GM09JszBqMQsnqw7X1dzeww.gdbm\r\n",
      "Warning - Reusing value database.\r\n",
      "  URL:  http://resource.belframework.org/belframework/1.0/namespace/chebi-names.belns\r\n",
      "  File: /var/folders/n1/h1c266qj2jq8kfdzfxj53pzw0000gn/T/belresources/XiWCWsomXIN7lxbTODFEJ61RTms.gdbm\r\n",
      "Warning - Reusing value database.\r\n",
      "  URL:  http://resource.belframework.org/belframework/1.0/namespace/selventa-named-rat-complexes.belns\r\n",
      "  File: /var/folders/n1/h1c266qj2jq8kfdzfxj53pzw0000gn/T/belresources/rsiBeJl9LAf9fqNUbn8dLZ+nTvQ.gdbm\r\n",
      "Warning - Reusing value database.\r\n",
      "  URL:  http://resource.belframework.org/belframework/1.0/namespace/hgnc-approved-symbols.belns\r\n",
      "  File: /var/folders/n1/h1c266qj2jq8kfdzfxj53pzw0000gn/T/belresources/7SjirTb++cyqucBggZAdQPJ+VA.gdbm\r\n",
      "Warning - Reusing value database.\r\n",
      "  URL:  http://resource.belframework.org/belframework/1.0/namespace/swissprot-accession-numbers.belns\r\n",
      "  File: /var/folders/n1/h1c266qj2jq8kfdzfxj53pzw0000gn/T/belresources/aOMKxhM1HF0b3i0c+R+rG3CdEg8.gdbm\r\n",
      "Warning - Reusing value database.\r\n",
      "  URL:  http://resource.belframework.org/belframework/1.0/namespace/selventa-named-human-protein-families.belns\r\n",
      "  File: /var/folders/n1/h1c266qj2jq8kfdzfxj53pzw0000gn/T/belresources/vV5F7GOYCpDXFD7ZjGHHP7o4DJI.gdbm\r\n",
      "Warning - Reusing value database.\r\n",
      "  URL:  http://resource.belframework.org/belframework/1.0/namespace/selventa-named-mouse-complexes.belns\r\n",
      "  File: /var/folders/n1/h1c266qj2jq8kfdzfxj53pzw0000gn/T/belresources/mDJhMJESo1SbJAdRWxYuLSDu4GE.gdbm\r\n",
      "Warning - Reusing value database.\r\n",
      "  URL:  http://resource.belframework.org/belframework/1.0/namespace/chebi-ids.belns\r\n",
      "  File: /var/folders/n1/h1c266qj2jq8kfdzfxj53pzw0000gn/T/belresources/or69oDZvMZUYWeVIPxDrNuKgDc.gdbm\r\n",
      "Warning - Reusing value database.\r\n",
      "  URL:  http://resource.belframework.org/belframework/1.0/namespace/rgd-approved-symbols.belns\r\n",
      "  File: /var/folders/n1/h1c266qj2jq8kfdzfxj53pzw0000gn/T/belresources/DzUIWbqf9+e5jY7P3i9jPPVXGI.gdbm\r\n",
      "Warning - Reusing value database.\r\n",
      "  URL:  http://resource.belframework.org/belframework/1.0/namespace/mesh-diseases.belns\r\n",
      "  File: /var/folders/n1/h1c266qj2jq8kfdzfxj53pzw0000gn/T/belresources/IFr0Phzh+RQyqEb4ro2YDCANEcE.gdbm\r\n",
      "Warning - Reusing value database.\r\n",
      "  URL:  http://resource.belframework.org/belframework/1.0/namespace/go-biological-processes-names.belns\r\n",
      "  File: /var/folders/n1/h1c266qj2jq8kfdzfxj53pzw0000gn/T/belresources/hfPvjQtu8xfCEV5iPIfKRfliF1E.gdbm\r\n",
      "Warning - Reusing value database.\r\n",
      "  URL:  http://resource.belframework.org/belframework/1.0/namespace/selventa-legacy-chemical-names.belns\r\n",
      "  File: /var/folders/n1/h1c266qj2jq8kfdzfxj53pzw0000gn/T/belresources/Qtgl7SjY+z1sl39ZAl7STwHEhUk.gdbm\r\n",
      "Warning - Reusing value database.\r\n",
      "  URL:  http://resource.belframework.org/belframework/1.0/namespace/entrez-gene-ids-hmr.belns\r\n",
      "  File: /var/folders/n1/h1c266qj2jq8kfdzfxj53pzw0000gn/T/belresources/vaeQ9VYwDBX6iWA2bO8SB6YF3oQ.gdbm\r\n",
      "Warning - Reusing value database.\r\n",
      "  URL:  http://resource.belframework.org/belframework/1.0/annotation/mesh-hemic-and-immune-system.belanno\r\n",
      "  File: /var/folders/n1/h1c266qj2jq8kfdzfxj53pzw0000gn/T/belresources/gNSac5QotPXtSzN1KCL9wte49iU.gdbm\r\n",
      "Warning - Reusing value database.\r\n",
      "  URL:  http://resource.belframework.org/belframework/1.0/annotation/mesh-urogenital-system.belanno\r\n",
      "  File: /var/folders/n1/h1c266qj2jq8kfdzfxj53pzw0000gn/T/belresources/SGx0ALqaBbdlgrwVAe6yJLNL9eY.gdbm\r\n",
      "Warning - Reusing value database.\r\n",
      "  URL:  http://resource.belframework.org/belframework/1.0/annotation/mesh-fluid-and-secretion.belanno\r\n",
      "  File: /var/folders/n1/h1c266qj2jq8kfdzfxj53pzw0000gn/T/belresources/fl4JtodfxA5c2ezNV+L4UhVAb4.gdbm\r\n",
      "Warning - Reusing value database.\r\n",
      "  URL:  http://resource.belframework.org/belframework/1.0/annotation/mesh-cell-structure.belanno\r\n",
      "  File: /var/folders/n1/h1c266qj2jq8kfdzfxj53pzw0000gn/T/belresources/G0C4bicMjWaa9dt166zwikMm6Pc.gdbm\r\n",
      "Warning - Reusing value database.\r\n",
      "  URL:  http://resource.belframework.org/belframework/1.0/annotation/atcc-cell-line.belanno\r\n",
      "  File: /var/folders/n1/h1c266qj2jq8kfdzfxj53pzw0000gn/T/belresources/lRQs61AXS1gIfvLwehl7JNmY.gdbm\r\n",
      "Warning - Reusing value database.\r\n",
      "  URL:  http://resource.belframework.org/belframework/1.0/annotation/mesh-integumentary-system.belanno\r\n",
      "  File: /var/folders/n1/h1c266qj2jq8kfdzfxj53pzw0000gn/T/belresources/jVBI2fLGGU0EABcgxnEQHkKKJ4.gdbm\r\n",
      "Warning - Reusing value database.\r\n",
      "  URL:  http://resource.belframework.org/belframework/1.0/annotation/mesh-digestive-system.belanno\r\n",
      "  File: /var/folders/n1/h1c266qj2jq8kfdzfxj53pzw0000gn/T/belresources/bzivuTXsma2tDmYy1UT1U21RlUA.gdbm\r\n",
      "Warning - Reusing value database.\r\n",
      "  URL:  http://resource.belframework.org/belframework/1.0/annotation/mesh-musculoskeletal-system.belanno\r\n",
      "  File: /var/folders/n1/h1c266qj2jq8kfdzfxj53pzw0000gn/T/belresources/l6U6yTiyWvJ9XHOkrQCEIxe5Q.gdbm\r\n",
      "Warning - Reusing value database.\r\n",
      "  URL:  http://resource.belframework.org/belframework/1.0/annotation/mesh-tissue.belanno\r\n",
      "  File: /var/folders/n1/h1c266qj2jq8kfdzfxj53pzw0000gn/T/belresources/FSTeoeZ5CBOixC7GzWpGirnejI0.gdbm\r\n",
      "Warning - Reusing value database.\r\n",
      "  URL:  http://resource.belframework.org/belframework/1.0/annotation/mesh-body-region.belanno\r\n",
      "  File: /var/folders/n1/h1c266qj2jq8kfdzfxj53pzw0000gn/T/belresources/zunq0ZnoNDdJtFE011OVtrM0nY.gdbm\r\n",
      "Warning - Reusing value database.\r\n",
      "  URL:  http://resource.belframework.org/belframework/1.0/annotation/mesh-cell.belanno\r\n",
      "  File: /var/folders/n1/h1c266qj2jq8kfdzfxj53pzw0000gn/T/belresources/iT1WU2ir5cFUeuJ2JzjhGcbXVGk.gdbm\r\n",
      "Warning - Reusing value database.\r\n",
      "  URL:  http://resource.belframework.org/belframework/1.0/annotation/mesh-nervous-system.belanno\r\n",
      "  File: /var/folders/n1/h1c266qj2jq8kfdzfxj53pzw0000gn/T/belresources/adHF+raxrWt95lRGhlSbOluFl8.gdbm\r\n",
      "Warning - Reusing value database.\r\n",
      "  URL:  http://resource.belframework.org/belframework/1.0/annotation/mesh-sense-organ.belanno\r\n",
      "  File: /var/folders/n1/h1c266qj2jq8kfdzfxj53pzw0000gn/T/belresources/LN8XiTiG2rUoG2Sp3ljKt1u5X0.gdbm\r\n",
      "Warning - Reusing value database.\r\n",
      "  URL:  http://resource.belframework.org/belframework/1.0/annotation/mesh-disease.belanno\r\n",
      "  File: /var/folders/n1/h1c266qj2jq8kfdzfxj53pzw0000gn/T/belresources/1Dg97fkXT+5nh0x8nRdcAFiKKv0.gdbm\r\n",
      "Warning - Reusing value database.\r\n",
      "  URL:  http://resource.belframework.org/belframework/1.0/annotation/mesh-respiratory-system.belanno\r\n",
      "  File: /var/folders/n1/h1c266qj2jq8kfdzfxj53pzw0000gn/T/belresources/SkZKzq71WYi27OrLH9+Im0RUst0.gdbm\r\n",
      "Warning - Reusing value database.\r\n",
      "  URL:  http://resource.belframework.org/belframework/1.0/annotation/species-taxonomy-id.belanno\r\n",
      "  File: /var/folders/n1/h1c266qj2jq8kfdzfxj53pzw0000gn/T/belresources/mCEDIQKG99MXrcOu+VU99jwIdFY.gdbm\r\n",
      "Warning - Reusing value database.\r\n",
      "  URL:  http://resource.belframework.org/belframework/1.0/annotation/mesh-cardiovascular-system.belanno\r\n",
      "  File: /var/folders/n1/h1c266qj2jq8kfdzfxj53pzw0000gn/T/belresources/ncJwkxHEd3SJKnL19NHsZMLL8YU.gdbm\r\n",
      "Warning - Reusing value database.\r\n",
      "  URL:  http://resource.belframework.org/belframework/1.0/annotation/mesh-endocrine-system.belanno\r\n",
      "  File: /var/folders/n1/h1c266qj2jq8kfdzfxj53pzw0000gn/T/belresources/WkFu4GqXsTuBaF16S68yWzFzFM0.gdbm\r\n",
      "/usr/local/lib/ruby/gems/2.3.0/gems/bel-1.0.1/lib/bel/translator/plugins/rdf/monkey_patch.rb:351:in `to_rdf': undefined method `parse_statement' for BEL::Nanopub::Nanopub:Class (NoMethodError)\r\n",
      "\tfrom /usr/local/lib/ruby/gems/2.3.0/gems/bel-1.0.1/lib/bel/translator/plugins/rdf/translator.rb:83:in `block (2 levels) in write_rdf_to_io'\r\n",
      "\tfrom /usr/local/lib/ruby/gems/2.3.0/gems/bel_parser-1.0.7/lib/bel/translator/plugins/bel_script/reader.rb:35:in `block in each'\r\n",
      "\tfrom /usr/local/lib/ruby/gems/2.3.0/gems/bel_parser-1.0.7/lib/bel_parser/script/nanopub_mapper.rb:39:in `block in each'\r\n",
      "\tfrom /usr/local/lib/ruby/gems/2.3.0/gems/bel_parser-1.0.7/lib/bel_parser/script/validator.rb:39:in `block in each'\r\n",
      "\tfrom /usr/local/lib/ruby/gems/2.3.0/gems/bel_parser-1.0.7/lib/bel_parser/script/state_aggregator.rb:25:in `block in each'\r\n",
      "\tfrom /usr/local/lib/ruby/gems/2.3.0/gems/bel_parser-1.0.7/lib/bel_parser/script/first_node.rb:13:in `block in each'\r\n",
      "\tfrom /usr/local/lib/ruby/gems/2.3.0/gems/bel_parser-1.0.7/lib/bel_parser/ast_filter.rb:15:in `block in each'\r\n",
      "\tfrom /usr/local/lib/ruby/gems/2.3.0/gems/bel_parser-1.0.7/lib/bel_parser/ast_generator.rb:63:in `block in each'\r\n",
      "\tfrom /usr/local/lib/ruby/gems/2.3.0/gems/bel_parser-1.0.7/lib/bel_parser/ast_generator.rb:52:in `yield'\r\n",
      "\tfrom /usr/local/lib/ruby/gems/2.3.0/gems/bel_parser-1.0.7/lib/bel_parser/ast_generator.rb:52:in `each_line'\r\n",
      "\tfrom /usr/local/lib/ruby/gems/2.3.0/gems/bel_parser-1.0.7/lib/bel_parser/ast_generator.rb:52:in `each'\r\n",
      "\tfrom /usr/local/lib/ruby/gems/2.3.0/gems/bel_parser-1.0.7/lib/bel_parser/ast_generator.rb:52:in `each'\r\n",
      "\tfrom /usr/local/lib/ruby/gems/2.3.0/gems/bel_parser-1.0.7/lib/bel_parser/ast_generator.rb:52:in `each'\r\n",
      "\tfrom /usr/local/lib/ruby/gems/2.3.0/gems/bel_parser-1.0.7/lib/bel_parser/ast_generator.rb:52:in `each'\r\n",
      "\tfrom /usr/local/lib/ruby/gems/2.3.0/gems/bel_parser-1.0.7/lib/bel_parser/ast_generator.rb:52:in `each'\r\n",
      "\tfrom /usr/local/lib/ruby/gems/2.3.0/gems/bel_parser-1.0.7/lib/bel_parser/ast_filter.rb:13:in `each'\r\n",
      "\tfrom /usr/local/lib/ruby/gems/2.3.0/gems/bel_parser-1.0.7/lib/bel_parser/script/filter.rb:28:in `each'\r\n",
      "\tfrom /usr/local/lib/ruby/gems/2.3.0/gems/bel_parser-1.0.7/lib/bel_parser/script/first_node.rb:12:in `each'\r\n",
      "\tfrom /usr/local/lib/ruby/gems/2.3.0/gems/bel_parser-1.0.7/lib/bel_parser/script/state_aggregator.rb:19:in `each'\r\n",
      "\tfrom /usr/local/lib/ruby/gems/2.3.0/gems/bel_parser-1.0.7/lib/bel_parser/script/validator.rb:30:in `each'\r\n",
      "\tfrom /usr/local/lib/ruby/gems/2.3.0/gems/bel_parser-1.0.7/lib/bel_parser/script/nanopub_mapper.rb:26:in `each'\r\n",
      "\tfrom /usr/local/lib/ruby/gems/2.3.0/gems/bel_parser-1.0.7/lib/bel/translator/plugins/bel_script/reader.rb:34:in `each'\r\n",
      "\tfrom /usr/local/lib/ruby/gems/2.3.0/gems/bel-1.0.1/lib/bel/translator/plugins/rdf/translator.rb:72:in `block in write_rdf_to_io'\r\n",
      "\tfrom /usr/local/lib/ruby/gems/2.3.0/gems/bel-1.0.1/lib/bel/translator/plugins/rdf/translator.rb:111:in `each'\r\n",
      "\tfrom /usr/local/lib/ruby/gems/2.3.0/gems/bel-1.0.1/lib/bel/translator/plugins/rdf/translator.rb:111:in `each'\r\n",
      "\tfrom /usr/local/lib/ruby/gems/2.3.0/gems/bel-1.0.1/lib/bel/translator/plugins/rdf/translator.rb:111:in `write_rdf_to_io'\r\n",
      "\tfrom /usr/local/lib/ruby/gems/2.3.0/gems/bel-1.0.1/lib/bel/translator/plugins/rdf/translator.rb:33:in `write'\r\n",
      "\tfrom /usr/local/lib/ruby/gems/2.3.0/gems/bel-1.0.1/lib/bel/translate.rb:53:in `translate'\r\n",
      "\tfrom /usr/local/lib/ruby/gems/2.3.0/gems/bel-1.0.1/bin/bel2rdf.rb:108:in `<top (required)>'\r\n",
      "\tfrom /usr/local/lib/ruby/gems/2.3.0/gems/bel-1.0.1/bin/bel:103:in `require_relative'\r\n",
      "\tfrom /usr/local/lib/ruby/gems/2.3.0/gems/bel-1.0.1/bin/bel:103:in `run'\r\n",
      "\tfrom /usr/local/lib/ruby/gems/2.3.0/gems/bel-1.0.1/bin/bel:583:in `<top (required)>'\r\n",
      "\tfrom /usr/local/bin/bel:23:in `load'\r\n",
      "\tfrom /usr/local/bin/bel:23:in `<main>'\r\n",
      "\r\n",
      "real\t0m25.898s\r\n",
      "user\t0m1.936s\r\n",
      "sys\t0m0.480s\r\n"
     ]
    }
   ],
   "source": [
    "time bel bel2rdf -b $small > ~/Downloads/test.rdf"
   ]
  },
  {
   "cell_type": "markdown",
   "metadata": {},
   "source": [
    "## Test with [OpenBEL Framework](https://github.com/OpenBEL/openbel-framework)"
   ]
  },
  {
   "cell_type": "code",
   "execution_count": 10,
   "metadata": {
    "collapsed": false,
    "scrolled": false
   },
   "outputs": [
    {
     "name": "stdout",
     "output_type": "stream",
     "text": [
      "usage: [OPTIONS]... [-p <path> [-p <path 2> [...] ] ] [-f <filename> [-f <filename 2> [...] ] ] [-k\r\n",
      "                    <kam_name>] [-d <kam_description>]\r\n",
      "BEL Framework Compiler/Assembler V3.0.0\r\n",
      "Options:\r\n",
      "     --debug           Enables debug mode.\r\n",
      "                       The default is to disable debug mode.\r\n",
      "  -h,--help            Shows command line options.\r\n",
      "  -k,--kam-name <kam>  Name of the KAM to create. If a KAM with same name exists it will be\r\n",
      "                       overwritten if the --no-preserve option is set.\r\n",
      "     --no-preserve     If present, if a KAM with the same name exists it will be overwritten.\r\n",
      "                       The default is to preserve the KAM and exit with an error if the existing KAM\r\n",
      "                       will be overwritten.\r\n",
      "  -v,--verbose         Enables verbose mode. This mode outputs additional information as the\r\n",
      "                       application runs.\r\n",
      "                       The default is to disable verbose mode.\r\n",
      "usage: [OPTION]... [-p <path>]... [-f <filename>]...\r\n",
      "Phase I: Compiling proto-networks\r\n",
      "Options:\r\n",
      "     --debug                          Enables debug mode.\r\n",
      "                                      The default is to disable debug mode.\r\n",
      "  -f,--file <filename>                File name of an XBEL or BEL Script file to compile. This\r\n",
      "                                      option may be used multiple times.\r\n",
      "  -h,--help                           Shows command line options.\r\n",
      "     --no-nested-statements           Modifies Phase I to force the compiler not to create a\r\n",
      "                                      relationship between the subject term of a statement with a\r\n",
      "                                      nested statement as an object, to the object term of the\r\n",
      "                                      nested statement.\r\n",
      "                                      The default is to couple nested statements.\r\n",
      "     --no-semantic-check              Bypasses the semantic checker. When set, this option will omit\r\n",
      "                                      checking for semantic errors in the input documents.\r\n",
      "                                      The default is to enable semantic checking.\r\n",
      "     --no-syntax-check                Bypasses the syntax checker. When set, this option will omit\r\n",
      "                                      checking for syntax errors in the input documents. This is not\r\n",
      "                                      recommended as it can lead to unpredictable KAM topologies.\r\n",
      "                                      The default is to enable syntax checking.\r\n",
      "  -p,--input-path <path>              Path to a folder containing one or more XBEL or BEL Script\r\n",
      "                                      files to compile. This option may be used multiple times.\r\n",
      "     --pedantic                       Enables pedantic mode. This mode treats warnings as errors and\r\n",
      "                                      will terminate the compiler/assembler at the end of a phase if\r\n",
      "                                      a warning is generated in the phase.\r\n",
      "                                      The default is to disable pedantic mode.\r\n",
      "  -s,--system-config-file <filename>  Optional. Allows the user to specify the path to a system\r\n",
      "                                      configuration file to use to specify the OpenBEL Framework\r\n",
      "                                      configuration.\r\n",
      "                                      The default is to use the default systems configuration file\r\n",
      "                                      found in [installdir]/config.\r\n",
      "  -t,--timing                         Enables timing mode. This mode outputs times in seconds for\r\n",
      "                                      each reported phase of the compiler/assembler. Usually used in\r\n",
      "                                      conjunction with --verbose.\r\n",
      "                                      The default is to disable timing mode.\r\n",
      "  -v,--verbose                        Enables verbose mode. This mode outputs additional information\r\n",
      "                                      as the application runs.\r\n",
      "                                      The default is to disable verbose mode.\r\n",
      "usage: [OPTION]...\r\n",
      "Phase II: Merging proto-networks\r\n",
      "Options:\r\n",
      "     --debug                          Enables debug mode.\r\n",
      "                                      The default is to disable debug mode.\r\n",
      "  -h,--help                           Shows command line options.\r\n",
      "     --pedantic                       Enables pedantic mode. This mode treats warnings as errors and\r\n",
      "                                      will terminate the compiler/assembler at the end of a phase if\r\n",
      "                                      a warning is generated in the phase.\r\n",
      "                                      The default is to disable pedantic mode.\r\n",
      "  -s,--system-config-file <filename>  Optional. Allows the user to specify the path to a system\r\n",
      "                                      configuration file to use to specify the OpenBEL Framework\r\n",
      "                                      configuration.\r\n",
      "                                      The default is to use the default systems configuration file\r\n",
      "                                      found in [installdir]/config.\r\n",
      "  -t,--timing                         Enables timing mode. This mode outputs times in seconds for\r\n",
      "                                      each reported phase of the compiler/assembler. Usually used in\r\n",
      "                                      conjunction with --verbose.\r\n",
      "                                      The default is to disable timing mode.\r\n",
      "  -v,--verbose                        Enables verbose mode. This mode outputs additional information\r\n",
      "                                      as the application runs.\r\n",
      "                                      The default is to disable verbose mode.\r\n",
      "usage: [OPTION]...\r\n",
      "Phase III: Expansion and augmentation of composite network\r\n",
      "Options:\r\n",
      "     --debug                          Enables debug mode.\r\n",
      "                                      The default is to disable debug mode.\r\n",
      "     --expand-named-complexes         Modifies Phase III to inject named complex members and\r\n",
      "                                      associated hasComponent edges when a member of a named complex\r\n",
      "                                      is defined in a BEL Document.\r\n",
      "                                      The default is to not inject named complex nodes and edges.\r\n",
      "     --expand-protein-families        Modifies Phase III to inject protein family nodes, members,\r\n",
      "                                      and associated hasMember edges when a member of a protein\r\n",
      "                                      family is defined in a BEL Document.\r\n",
      "                                      The default is to not inject protein family nodes and edges.\r\n",
      "  -h,--help                           Shows command line options.\r\n",
      "     --no-gene-scaffolding            Modifies Phase III to omit expanding the composite network to\r\n",
      "                                      include gene activation pathways for gene products identified\r\n",
      "                                      in BEL Document input to the compiler.\r\n",
      "                                      The default is to expand gene activation pathways for\r\n",
      "                                      identified gene products.\r\n",
      "     --no-named-complexes             Modifies Phase III to omit coupling named complexes to its\r\n",
      "                                      components in the composite network.\r\n",
      "                                      The default is to automatically create edges from named\r\n",
      "                                      complexes, in a BEL Document, to their components.\r\n",
      "     --no-orthology                   Modifies Phase III to omit coupling orthologous family members\r\n",
      "                                      to existing nodes in the composite network. The default is to\r\n",
      "                                      add orthologous edges to the network.\r\n",
      "     --no-phaseIII                    Executes Phase III in pass-through mode. This is the same as\r\n",
      "                                      specifying --no-gene-scaffolding, --no-named-complexes,\r\n",
      "                                      --no-protein-families, and --no-orthology.\r\n",
      "     --no-protein-families            Modifies Phase III to omit coupling protein family members to\r\n",
      "                                      existing nodes in the composite network.\r\n",
      "                                      The default is to automatically create edges from protein\r\n",
      "                                      family nodes to their members.\r\n",
      "     --pedantic                       Enables pedantic mode. This mode treats warnings as errors and\r\n",
      "                                      will terminate the compiler/assembler at the end of a phase if\r\n",
      "                                      a warning is generated in the phase.\r\n",
      "                                      The default is to disable pedantic mode.\r\n",
      "  -s,--system-config-file <filename>  Optional. Allows the user to specify the path to a system\r\n",
      "                                      configuration file to use to specify the OpenBEL Framework\r\n",
      "                                      configuration.\r\n",
      "                                      The default is to use the default systems configuration file\r\n",
      "                                      found in [installdir]/config.\r\n",
      "  -t,--timing                         Enables timing mode. This mode outputs times in seconds for\r\n",
      "                                      each reported phase of the compiler/assembler. Usually used in\r\n",
      "                                      conjunction with --verbose.\r\n",
      "                                      The default is to disable timing mode.\r\n",
      "  -v,--verbose                        Enables verbose mode. This mode outputs additional information\r\n",
      "                                      as the application runs.\r\n",
      "                                      The default is to disable verbose mode.\r\n",
      "usage: [OPTION]... -k <kam> -d <description>\r\n",
      "Phase IV: Exporting final network to the KAM Store\r\n",
      "Options:\r\n",
      "  -d,--kam-description <description>  A description for the KAM that will be created. Put the\r\n",
      "                                      description in quotes. It may be necessary to escape the\r\n",
      "                                      quotes (i.e. \\\") for the full description to be recognized by\r\n",
      "                                      BELC.\r\n",
      "     --debug                          Enables debug mode.\r\n",
      "                                      The default is to disable debug mode.\r\n",
      "  -h,--help                           Shows command line options.\r\n",
      "  -k,--kam-name <kam>                 Name of the KAM to create. If a KAM with same name exists it\r\n",
      "                                      will be overwritten if the --no-preserve option is set.\r\n",
      "     --pedantic                       Enables pedantic mode. This mode treats warnings as errors and\r\n",
      "                                      will terminate the compiler/assembler at the end of a phase if\r\n",
      "                                      a warning is generated in the phase.\r\n",
      "                                      The default is to disable pedantic mode.\r\n",
      "  -s,--system-config-file <filename>  Optional. Allows the user to specify the path to a system\r\n",
      "                                      configuration file to use to specify the OpenBEL Framework\r\n",
      "                                      configuration.\r\n",
      "                                      The default is to use the default systems configuration file\r\n",
      "                                      found in [installdir]/config.\r\n",
      "  -t,--timing                         Enables timing mode. This mode outputs times in seconds for\r\n",
      "                                      each reported phase of the compiler/assembler. Usually used in\r\n",
      "                                      conjunction with --verbose.\r\n",
      "                                      The default is to disable timing mode.\r\n",
      "  -v,--verbose                        Enables verbose mode. This mode outputs additional information\r\n",
      "                                      as the application runs.\r\n",
      "                                      The default is to disable verbose mode.\r\n"
     ]
    }
   ],
   "source": [
    "sh ~/dev/openbel/belc.sh --help"
   ]
  },
  {
   "cell_type": "code",
   "execution_count": 11,
   "metadata": {
    "collapsed": false,
    "scrolled": false
   },
   "outputs": [
    {
     "name": "stdout",
     "output_type": "stream",
     "text": [
      "\r\n",
      "OpenBEL Framework V3.0.0: Compiler/Assembler\r\n",
      "Copyright (c) 2011-2012, Selventa. All Rights Reserved.\r\n",
      "\r\n",
      "\r\n",
      "    === Phase I: Compiling proto-networks ===\r\n",
      "    Compiling 1 BEL Document(s)\r\n",
      "    Compiling 1 of 1 BEL Document(s)\r\n",
      "    Stage 1 of 7: Validation\r\n",
      "        Validating /Users/cthoyt/.pybel/bel/small_corpus.bel\r\n",
      "        \r\n",
      "\r\n",
      "    Stage 2 of 7: Namespace compilation\r\n",
      "        Compiling 19 namespaces for BEL Framework Small Corpus Document\r\n",
      "        \r\n",
      "\r\n",
      "    Stage 3 of 7: Symbol verification\r\n",
      "        Verifying symbols in BEL Framework Small Corpus Document\r\n",
      "        \r\n",
      "\r\n",
      "    Stage 4 of 7: Semantic verification\r\n",
      "        Verifying semantics in BEL Framework Small Corpus Document\r\n",
      "        \r\n",
      "\r\n",
      "    Stage 5 of 7: Building proto-networks\r\n",
      "        Building proto-network for BEL Framework Small Corpus Document\r\n",
      "        \r\n",
      "\r\n",
      "    Stage 6 of 7: Expansion\r\n",
      "        Expanding statements and terms\r\n",
      "        \r\n",
      "\r\n",
      "    Stage 7 of 7: Saving proto-networks\r\n",
      "        Saving proto-network for BEL Framework Small Corpus Document\r\n",
      "        \r\n",
      "\r\n",
      "    === Phase Complete === \r\n",
      "    === Phase II: Merging proto-networks ===\r\n",
      "    Stage 1 of 4: Merging proto-networks\r\n",
      "        Merging 1 network\r\n",
      "        \r\n",
      "\r\n",
      "    Stage 2 of 4: Loading equivalence index\r\n",
      "        Loading namespace equivalences from resource index\r\n",
      "        Equivalence for http://resource.belframework.org/belframework/1.0/namespace/mesh-cellular-locations.belns\r\n",
      "        Equivalence for http://resource.belframework.org/belframework/1.0/namespace/go-biological-processes-names.belns\r\n",
      "        Equivalence for http://resource.belframework.org/belframework/1.0/namespace/affy-rat230-2.belns\r\n",
      "        Equivalence for http://resource.belframework.org/belframework/1.0/namespace/entrez-gene-ids-hmr.belns\r\n",
      "        Equivalence for http://resource.belframework.org/belframework/1.0/namespace/affy-mouse430a-2.belns\r\n",
      "        Equivalence for http://resource.belframework.org/belframework/1.0/namespace/go-cellular-component-terms.belns\r\n",
      "        Equivalence for http://resource.belframework.org/belframework/1.0/namespace/selventa-named-rat-complexes.belns\r\n",
      "        Equivalence for http://resource.belframework.org/belframework/1.0/namespace/affy-hg-u133ab.belns\r\n",
      "        Equivalence for http://resource.belframework.org/belframework/1.0/namespace/swissprot-accession-numbers.belns\r\n",
      "        Equivalence for http://resource.belframework.org/belframework/1.0/namespace/affy-moe430ab.belns\r\n",
      "        Equivalence for http://resource.belframework.org/belframework/1.0/namespace/go-biological-processes-accession-numbers.belns\r\n",
      "        Equivalence for http://resource.belframework.org/belframework/1.0/namespace/mgi-approved-symbols.belns\r\n",
      "        Equivalence for http://resource.belframework.org/belframework/1.0/namespace/affy-hg-u95av2.belns\r\n",
      "        Equivalence for http://resource.belframework.org/belframework/1.0/namespace/chebi-names.belns\r\n",
      "        Equivalence for http://resource.belframework.org/belframework/1.0/namespace/go-cellular-component-accession-numbers.belns\r\n",
      "        Equivalence for http://resource.belframework.org/belframework/1.0/namespace/affy-mg-u74abc.belns\r\n",
      "        Equivalence for http://resource.belframework.org/belframework/1.0/namespace/mesh-diseases.belns\r\n",
      "        Equivalence for http://resource.belframework.org/belframework/1.0/namespace/hgnc-approved-symbols.belns\r\n",
      "        Equivalence for http://resource.belframework.org/belframework/1.0/namespace/rgd-approved-symbols.belns\r\n",
      "        Equivalence for http://resource.belframework.org/belframework/1.0/namespace/selventa-named-mouse-complexes.belns\r\n",
      "        Equivalence for http://resource.belframework.org/belframework/1.0/namespace/affy-mouse430-2.belns\r\n",
      "        Equivalence for http://resource.belframework.org/belframework/1.0/namespace/selventa-named-human-protein-families.belns\r\n",
      "        Equivalence for http://resource.belframework.org/belframework/1.0/namespace/selventa-named-human-complexes.belns\r\n",
      "        Equivalence for http://resource.belframework.org/belframework/1.0/namespace/affy-hg-u133-plus2.belns\r\n",
      "        Equivalence for http://resource.belframework.org/belframework/1.0/namespace/swissprot-entry-names.belns\r\n",
      "        Equivalence for http://resource.belframework.org/belframework/1.0/namespace/chebi-ids.belns\r\n",
      "        Equivalence for http://resource.belframework.org/belframework/1.0/namespace/selventa-named-mouse-protein-families.belns\r\n",
      "        Equivalence for http://resource.belframework.org/belframework/1.0/namespace/selventa-named-rat-protein-families.belns\r\n",
      "        Equivalence for http://resource.belframework.org/belframework/1.0/namespace/mesh-biological-processes.belns\r\n",
      "        Equivalence for http://resource.belframework.org/belframework/1.0/namespace/affy-rae230ab-2.belns\r\n",
      "        \r\n",
      "\r\n",
      "    Stage 3 of 4: Equivalencing merged network\r\n",
      "        Equivalencing parameters\r\n",
      "        (5 equivalences)\r\n",
      "        Equivalencing terms\r\n",
      "        (15 equivalences)\r\n",
      "        Equivalencing statements\r\n",
      "        (2485 equivalences)\r\n",
      "        2060 statements, 1704 terms, 944 parameters\r\n",
      "        \r\n",
      "\r\n",
      "    Stage 4 of 4: Saving merged network\r\n",
      "        Saving network\r\n",
      "        \r\n",
      "\r\n",
      "    === Phase Complete === \r\n",
      "    === Phase III: Expansion and augmentation of composite network ===\r\n",
      "    Stage 1 of 6: Processing protein families\r\n",
      "        Processing protein families\r\n",
      "        \r\n",
      "        Pruning protein families\r\n",
      "        \r\n",
      "        80 of 720 statements remain after pruning\r\n",
      "        Inferring protein family relationships\r\n",
      "        \r\n",
      "        42 of 122 statements inferred for protein families\r\n",
      "        Compiling pruned protein families\r\n",
      "        \r\n",
      "        Merging proto-networks\r\n",
      "        \r\n",
      "\r\n",
      "    Stage 2 of 6: Processing named complexes\r\n",
      "        Processing named complexes\r\n",
      "        \r\n",
      "        Pruning named complexes\r\n",
      "        \r\n",
      "        11 of 202 statements remain after pruning\r\n",
      "        Compiling named complexes proto-network\r\n",
      "        \r\n",
      "        Merging proto-networks\r\n",
      "        \r\n",
      "\r\n",
      "    Stage 3 of 6: Processing gene scaffolding\r\n",
      "        Processing gene scaffolding\r\n",
      "        \r\n",
      "        Pruning gene scaffolding\r\n",
      "        \r\n",
      "        1800 of 164847 statements remain after pruning\r\n",
      "        Compiling gene scaffolding proto-network\r\n",
      "        \r\n",
      "        Merging proto-networks\r\n",
      "        \r\n",
      "\r\n",
      "    Stage 4 of 6: Incorporating orthology information\r\n",
      "        Processing orthology document 'BEL Framework Orthologous Genes Document'\r\n",
      "        \r\n",
      "        Processing orthology document 'BEL Framework Orthologous Protein Family Document'\r\n",
      "        \r\n",
      "        Processing orthology document 'BEL Framework Orthologous Protein Complex Document'\r\n",
      "        \r\n",
      "    Stage 5 of 6: Equivalencing merged network\r\n",
      "        Equivalencing parameters\r\n",
      "        (2129 equivalences)\r\n",
      "        Equivalencing terms\r\n",
      "        (3602 equivalences)\r\n",
      "        Equivalencing statements\r\n",
      "        (42862 equivalences)\r\n",
      "        9723 statements, 11268 terms, 4838 parameters\r\n",
      "        \r\n",
      "\r\n",
      "    Stage 6 of 6: Saving augmented network\r\n",
      "        Saving augmented network\r\n",
      "        \r\n",
      "\r\n",
      "    === Phase Complete === \r\n",
      "    === Phase IV: Exporting final network to the KAM Store ===\r\n",
      "    Stage 1 of 1: Building final KAM\r\n",
      "    === Phase Complete === \r\n",
      "\r\n",
      "real\t4m12.331s\r\n",
      "user\t3m42.912s\r\n",
      "sys\t0m32.776s\r\n"
     ]
    }
   ],
   "source": [
    "time sh ~/dev/openbel/belc.sh -f $small -k \"Small_Corpus\" -d \"Testing the Small Corpus\" -v --no-preserve"
   ]
  }
 ],
 "metadata": {
  "kernelspec": {
   "display_name": "Bash",
   "language": "bash",
   "name": "bash"
  },
  "language_info": {
   "codemirror_mode": "shell",
   "file_extension": ".sh",
   "mimetype": "text/x-sh",
   "name": "bash"
  }
 },
 "nbformat": 4,
 "nbformat_minor": 1
}
