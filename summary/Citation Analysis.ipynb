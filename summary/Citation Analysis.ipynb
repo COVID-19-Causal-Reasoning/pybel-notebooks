{
 "cells": [
  {
   "cell_type": "markdown",
   "metadata": {},
   "source": [
    "# Abstract\n",
    "\n",
    "**Author:** [Charles Tapley Hoyt](https://github.com/cthoyt)\n",
    "\n",
    "This notebook outlines a simple way to explore the citations, authors, and provenance information in a graph and its subgraphs."
   ]
  },
  {
   "cell_type": "markdown",
   "metadata": {},
   "source": [
    "### Notebook Setup"
   ]
  },
  {
   "cell_type": "code",
   "execution_count": 23,
   "metadata": {
    "collapsed": true
   },
   "outputs": [],
   "source": [
    "import itertools as itt\n",
    "import os\n",
    "import time\n",
    "from collections import defaultdict, Counter\n",
    "from operator import itemgetter\n",
    "\n",
    "import pandas as pd\n",
    "import pybel\n",
    "import pybel_tools as pbt\n",
    "\n",
    "from pybel.constants import *"
   ]
  },
  {
   "cell_type": "markdown",
   "metadata": {},
   "source": [
    "### Notebook Provenance\n",
    "\n",
    "The time of execution and the versions of the software packegs used are displayed explicitly."
   ]
  },
  {
   "cell_type": "code",
   "execution_count": 24,
   "metadata": {},
   "outputs": [
    {
     "data": {
      "text/plain": [
       "'Tue Apr 25 11:08:49 2017'"
      ]
     },
     "execution_count": 24,
     "metadata": {},
     "output_type": "execute_result"
    }
   ],
   "source": [
    "time.asctime()"
   ]
  },
  {
   "cell_type": "code",
   "execution_count": 25,
   "metadata": {},
   "outputs": [
    {
     "data": {
      "text/plain": [
       "'0.5.3'"
      ]
     },
     "execution_count": 25,
     "metadata": {},
     "output_type": "execute_result"
    }
   ],
   "source": [
    "pybel.__version__"
   ]
  },
  {
   "cell_type": "code",
   "execution_count": 26,
   "metadata": {},
   "outputs": [
    {
     "data": {
      "text/plain": [
       "'0.1.8-dev'"
      ]
     },
     "execution_count": 26,
     "metadata": {},
     "output_type": "execute_result"
    }
   ],
   "source": [
    "pbt.__version__"
   ]
  },
  {
   "cell_type": "markdown",
   "metadata": {},
   "source": [
    "### Local Path Definitions\n",
    "\n",
    "To make this notebook interoperable across many machines, locations to the repositories that contain the data used in this notebook are referenced from the environment, set in `~/.bashrc` to point to the place where the repositories have been cloned. Assuming the repositories have been `git clone`'d into the `~/dev` folder, the entries in `~/.bashrc` should look like:\n",
    "\n",
    "```bash\n",
    "...\n",
    "export BMS_BASE=~/dev/bms\n",
    "...\n",
    "```\n",
    "\n",
    "#### BMS \n",
    "\n",
    "The biological model store (BMS) is the internal Fraunhofer SCAI repository for keeping BEL models under version control. It can be downloaded from https://tor-2.scai.fraunhofer.de/gf/project/bms/"
   ]
  },
  {
   "cell_type": "code",
   "execution_count": 27,
   "metadata": {
    "collapsed": true
   },
   "outputs": [],
   "source": [
    "bms_base = os.environ['BMS_BASE']"
   ]
  },
  {
   "cell_type": "markdown",
   "metadata": {},
   "source": [
    "# Data\n",
    "\n",
    "The Alzheimer's Disease Knowledge Assembly has been precompiled with the following command line script, and will be loaded from this format for improved performance. In general, derived data, such as the gpickle representation of a BEL script, are not saved under version control to ensure that the most up-to-date data is always used.\n",
    "\n",
    "```sh\n",
    "pybel convert --path \"$BMS_BASE/aetionomy/alzheimers.bel\" --pickle \"$BMS_BASE/aetionomy/alzheimers.gpickle\"\n",
    "```\n",
    "\n",
    "The BEL script can also be compiled from inside this notebook with the following python code:\n",
    "\n",
    "```python\n",
    ">>> import os\n",
    ">>> import pybel\n",
    ">>> # Input from BEL script\n",
    ">>> bel_path = os.path.join(bms_base, 'aetionomy', 'alzheimers.bel')\n",
    ">>> graph = pybel.from_path(bel_path)\n",
    ">>> # Output to gpickle for fast loading later\n",
    ">>> pickle_path = os.path.join(bms_base, 'aetionomy', 'alzheimers.gpickle')\n",
    ">>> pybel.to_pickle(graph, pickle_path)\n",
    "```"
   ]
  },
  {
   "cell_type": "code",
   "execution_count": 28,
   "metadata": {
    "collapsed": true
   },
   "outputs": [],
   "source": [
    "pickle_path = os.path.join(bms_base, 'aetionomy', 'alzheimers', 'alzheimers.gpickle')"
   ]
  },
  {
   "cell_type": "code",
   "execution_count": 29,
   "metadata": {
    "collapsed": true
   },
   "outputs": [],
   "source": [
    "graph = pybel.from_pickle(pickle_path)"
   ]
  },
  {
   "cell_type": "code",
   "execution_count": 30,
   "metadata": {},
   "outputs": [
    {
     "data": {
      "text/plain": [
       "'3.0.2'"
      ]
     },
     "execution_count": 30,
     "metadata": {},
     "output_type": "execute_result"
    }
   ],
   "source": [
    "graph.version"
   ]
  },
  {
   "cell_type": "markdown",
   "metadata": {},
   "source": [
    "# Provenance Summary\n",
    "\n",
    "## Publication Summary\n",
    "\n",
    "The number of unique referenecs to documents in PubMed can be calculated with [pbt.summary.count_pmids](http://pybel-tools.readthedocs.io/en/latest/summary.html#pybel_tools.summary.count_pmids)"
   ]
  },
  {
   "cell_type": "code",
   "execution_count": 31,
   "metadata": {
    "collapsed": true
   },
   "outputs": [],
   "source": [
    "pmid_counter = pbt.summary.count_pmids(graph)"
   ]
  },
  {
   "cell_type": "markdown",
   "metadata": {},
   "source": [
    "The total number of PubMed references can be readily accessed by the `len()` of the counter output by [pbt.summary.count_pmids](http://pybel-tools.readthedocs.io/en/latest/summary.html#pybel_tools.summary.count_pmids)."
   ]
  },
  {
   "cell_type": "code",
   "execution_count": 32,
   "metadata": {},
   "outputs": [
    {
     "data": {
      "text/plain": [
       "1719"
      ]
     },
     "execution_count": 32,
     "metadata": {},
     "output_type": "execute_result"
    }
   ],
   "source": [
    "len(pmid_counter)"
   ]
  },
  {
   "cell_type": "markdown",
   "metadata": {},
   "source": [
    "The top 35 most informative papers, in terms of number edges contributed, are displayed below."
   ]
  },
  {
   "cell_type": "code",
   "execution_count": 34,
   "metadata": {},
   "outputs": [
    {
     "data": {
      "text/html": [
       "<div>\n",
       "<table border=\"1\" class=\"dataframe\">\n",
       "  <thead>\n",
       "    <tr style=\"text-align: right;\">\n",
       "      <th></th>\n",
       "      <th>0</th>\n",
       "      <th>1</th>\n",
       "    </tr>\n",
       "  </thead>\n",
       "  <tbody>\n",
       "    <tr>\n",
       "      <th>0</th>\n",
       "      <td>20847424</td>\n",
       "      <td>668</td>\n",
       "    </tr>\n",
       "    <tr>\n",
       "      <th>1</th>\n",
       "      <td>22496686</td>\n",
       "      <td>580</td>\n",
       "    </tr>\n",
       "    <tr>\n",
       "      <th>2</th>\n",
       "      <td>19885299</td>\n",
       "      <td>418</td>\n",
       "    </tr>\n",
       "    <tr>\n",
       "      <th>3</th>\n",
       "      <td>19519303</td>\n",
       "      <td>297</td>\n",
       "    </tr>\n",
       "    <tr>\n",
       "      <th>4</th>\n",
       "      <td>19499146</td>\n",
       "      <td>176</td>\n",
       "    </tr>\n",
       "    <tr>\n",
       "      <th>5</th>\n",
       "      <td>19734902</td>\n",
       "      <td>168</td>\n",
       "    </tr>\n",
       "    <tr>\n",
       "      <th>6</th>\n",
       "      <td>21711233</td>\n",
       "      <td>146</td>\n",
       "    </tr>\n",
       "    <tr>\n",
       "      <th>7</th>\n",
       "      <td>24262633</td>\n",
       "      <td>145</td>\n",
       "    </tr>\n",
       "    <tr>\n",
       "      <th>8</th>\n",
       "      <td>22110360</td>\n",
       "      <td>132</td>\n",
       "    </tr>\n",
       "    <tr>\n",
       "      <th>9</th>\n",
       "      <td>22122372</td>\n",
       "      <td>122</td>\n",
       "    </tr>\n",
       "    <tr>\n",
       "      <th>10</th>\n",
       "      <td>22862420</td>\n",
       "      <td>120</td>\n",
       "    </tr>\n",
       "    <tr>\n",
       "      <th>11</th>\n",
       "      <td>18675468</td>\n",
       "      <td>115</td>\n",
       "    </tr>\n",
       "    <tr>\n",
       "      <th>12</th>\n",
       "      <td>19419557</td>\n",
       "      <td>115</td>\n",
       "    </tr>\n",
       "    <tr>\n",
       "      <th>13</th>\n",
       "      <td>19515914</td>\n",
       "      <td>102</td>\n",
       "    </tr>\n",
       "    <tr>\n",
       "      <th>14</th>\n",
       "      <td>24332564</td>\n",
       "      <td>102</td>\n",
       "    </tr>\n",
       "    <tr>\n",
       "      <th>15</th>\n",
       "      <td>14976144</td>\n",
       "      <td>102</td>\n",
       "    </tr>\n",
       "    <tr>\n",
       "      <th>16</th>\n",
       "      <td>10967351</td>\n",
       "      <td>100</td>\n",
       "    </tr>\n",
       "    <tr>\n",
       "      <th>17</th>\n",
       "      <td>25681350</td>\n",
       "      <td>90</td>\n",
       "    </tr>\n",
       "    <tr>\n",
       "      <th>18</th>\n",
       "      <td>22367557</td>\n",
       "      <td>85</td>\n",
       "    </tr>\n",
       "    <tr>\n",
       "      <th>19</th>\n",
       "      <td>22382662</td>\n",
       "      <td>82</td>\n",
       "    </tr>\n",
       "    <tr>\n",
       "      <th>20</th>\n",
       "      <td>19244175</td>\n",
       "      <td>81</td>\n",
       "    </tr>\n",
       "    <tr>\n",
       "      <th>21</th>\n",
       "      <td>19909279</td>\n",
       "      <td>78</td>\n",
       "    </tr>\n",
       "    <tr>\n",
       "      <th>22</th>\n",
       "      <td>18564425</td>\n",
       "      <td>74</td>\n",
       "    </tr>\n",
       "    <tr>\n",
       "      <th>23</th>\n",
       "      <td>21460841</td>\n",
       "      <td>70</td>\n",
       "    </tr>\n",
       "    <tr>\n",
       "      <th>24</th>\n",
       "      <td>19237574</td>\n",
       "      <td>69</td>\n",
       "    </tr>\n",
       "    <tr>\n",
       "      <th>25</th>\n",
       "      <td>10760295</td>\n",
       "      <td>69</td>\n",
       "    </tr>\n",
       "    <tr>\n",
       "      <th>26</th>\n",
       "      <td>19272425</td>\n",
       "      <td>68</td>\n",
       "    </tr>\n",
       "    <tr>\n",
       "      <th>27</th>\n",
       "      <td>20044591</td>\n",
       "      <td>68</td>\n",
       "    </tr>\n",
       "    <tr>\n",
       "      <th>28</th>\n",
       "      <td>22236693</td>\n",
       "      <td>66</td>\n",
       "    </tr>\n",
       "    <tr>\n",
       "      <th>29</th>\n",
       "      <td>20502503</td>\n",
       "      <td>66</td>\n",
       "    </tr>\n",
       "    <tr>\n",
       "      <th>30</th>\n",
       "      <td>15314261</td>\n",
       "      <td>65</td>\n",
       "    </tr>\n",
       "    <tr>\n",
       "      <th>31</th>\n",
       "      <td>17316167</td>\n",
       "      <td>64</td>\n",
       "    </tr>\n",
       "    <tr>\n",
       "      <th>32</th>\n",
       "      <td>21893081</td>\n",
       "      <td>63</td>\n",
       "    </tr>\n",
       "    <tr>\n",
       "      <th>33</th>\n",
       "      <td>21598254</td>\n",
       "      <td>60</td>\n",
       "    </tr>\n",
       "    <tr>\n",
       "      <th>34</th>\n",
       "      <td>18554520</td>\n",
       "      <td>60</td>\n",
       "    </tr>\n",
       "  </tbody>\n",
       "</table>\n",
       "</div>"
      ],
      "text/latex": [
       "\\begin{center}{\\begin{tabular}{llr}\n",
       "\\toprule\n",
       "{} &         0 &    1 \\\\\n",
       "\\midrule\n",
       "0  &  20847424 &  668 \\\\\n",
       "1  &  22496686 &  580 \\\\\n",
       "2  &  19885299 &  418 \\\\\n",
       "3  &  19519303 &  297 \\\\\n",
       "4  &  19499146 &  176 \\\\\n",
       "5  &  19734902 &  168 \\\\\n",
       "6  &  21711233 &  146 \\\\\n",
       "7  &  24262633 &  145 \\\\\n",
       "8  &  22110360 &  132 \\\\\n",
       "9  &  22122372 &  122 \\\\\n",
       "10 &  22862420 &  120 \\\\\n",
       "11 &  18675468 &  115 \\\\\n",
       "12 &  19419557 &  115 \\\\\n",
       "13 &  19515914 &  102 \\\\\n",
       "14 &  24332564 &  102 \\\\\n",
       "15 &  14976144 &  102 \\\\\n",
       "16 &  10967351 &  100 \\\\\n",
       "17 &  25681350 &   90 \\\\\n",
       "18 &  22367557 &   85 \\\\\n",
       "19 &  22382662 &   82 \\\\\n",
       "20 &  19244175 &   81 \\\\\n",
       "21 &  19909279 &   78 \\\\\n",
       "22 &  18564425 &   74 \\\\\n",
       "23 &  21460841 &   70 \\\\\n",
       "24 &  19237574 &   69 \\\\\n",
       "25 &  10760295 &   69 \\\\\n",
       "26 &  19272425 &   68 \\\\\n",
       "27 &  20044591 &   68 \\\\\n",
       "28 &  22236693 &   66 \\\\\n",
       "29 &  20502503 &   66 \\\\\n",
       "30 &  15314261 &   65 \\\\\n",
       "31 &  17316167 &   64 \\\\\n",
       "32 &  21893081 &   63 \\\\\n",
       "33 &  21598254 &   60 \\\\\n",
       "34 &  18554520 &   60 \\\\\n",
       "\\bottomrule\n",
       "\\end{tabular}\n",
       "}\\end{center}"
      ],
      "text/plain": [
       "           0    1\n",
       "0   20847424  668\n",
       "1   22496686  580\n",
       "2   19885299  418\n",
       "3   19519303  297\n",
       "4   19499146  176\n",
       "5   19734902  168\n",
       "6   21711233  146\n",
       "7   24262633  145\n",
       "8   22110360  132\n",
       "9   22122372  122\n",
       "10  22862420  120\n",
       "11  18675468  115\n",
       "12  19419557  115\n",
       "13  19515914  102\n",
       "14  24332564  102\n",
       "15  14976144  102\n",
       "16  10967351  100\n",
       "17  25681350   90\n",
       "18  22367557   85\n",
       "19  22382662   82\n",
       "20  19244175   81\n",
       "21  19909279   78\n",
       "22  18564425   74\n",
       "23  21460841   70\n",
       "24  19237574   69\n",
       "25  10760295   69\n",
       "26  19272425   68\n",
       "27  20044591   68\n",
       "28  22236693   66\n",
       "29  20502503   66\n",
       "30  15314261   65\n",
       "31  17316167   64\n",
       "32  21893081   63\n",
       "33  21598254   60\n",
       "34  18554520   60"
      ]
     },
     "execution_count": 34,
     "metadata": {},
     "output_type": "execute_result"
    }
   ],
   "source": [
    "pd.DataFrame(pmid_counter.most_common(35), columns='')"
   ]
  },
  {
   "cell_type": "code",
   "execution_count": 33,
   "metadata": {},
   "outputs": [
    {
     "name": "stdout",
     "output_type": "stream",
     "text": [
      "https://www.ncbi.nlm.nih.gov/pubmed/20847424\t668\n",
      "https://www.ncbi.nlm.nih.gov/pubmed/22496686\t580\n",
      "https://www.ncbi.nlm.nih.gov/pubmed/19885299\t418\n",
      "https://www.ncbi.nlm.nih.gov/pubmed/19519303\t297\n",
      "https://www.ncbi.nlm.nih.gov/pubmed/19499146\t176\n",
      "https://www.ncbi.nlm.nih.gov/pubmed/19734902\t168\n",
      "https://www.ncbi.nlm.nih.gov/pubmed/21711233\t146\n",
      "https://www.ncbi.nlm.nih.gov/pubmed/24262633\t145\n",
      "https://www.ncbi.nlm.nih.gov/pubmed/22110360\t132\n",
      "https://www.ncbi.nlm.nih.gov/pubmed/22122372\t122\n",
      "https://www.ncbi.nlm.nih.gov/pubmed/22862420\t120\n",
      "https://www.ncbi.nlm.nih.gov/pubmed/18675468\t115\n",
      "https://www.ncbi.nlm.nih.gov/pubmed/19419557\t115\n",
      "https://www.ncbi.nlm.nih.gov/pubmed/19515914\t102\n",
      "https://www.ncbi.nlm.nih.gov/pubmed/24332564\t102\n",
      "https://www.ncbi.nlm.nih.gov/pubmed/14976144\t102\n",
      "https://www.ncbi.nlm.nih.gov/pubmed/10967351\t100\n",
      "https://www.ncbi.nlm.nih.gov/pubmed/25681350\t90\n",
      "https://www.ncbi.nlm.nih.gov/pubmed/22367557\t85\n",
      "https://www.ncbi.nlm.nih.gov/pubmed/22382662\t82\n",
      "https://www.ncbi.nlm.nih.gov/pubmed/19244175\t81\n",
      "https://www.ncbi.nlm.nih.gov/pubmed/19909279\t78\n",
      "https://www.ncbi.nlm.nih.gov/pubmed/18564425\t74\n",
      "https://www.ncbi.nlm.nih.gov/pubmed/21460841\t70\n",
      "https://www.ncbi.nlm.nih.gov/pubmed/19237574\t69\n",
      "https://www.ncbi.nlm.nih.gov/pubmed/10760295\t69\n",
      "https://www.ncbi.nlm.nih.gov/pubmed/19272425\t68\n",
      "https://www.ncbi.nlm.nih.gov/pubmed/20044591\t68\n",
      "https://www.ncbi.nlm.nih.gov/pubmed/22236693\t66\n",
      "https://www.ncbi.nlm.nih.gov/pubmed/20502503\t66\n",
      "https://www.ncbi.nlm.nih.gov/pubmed/15314261\t65\n",
      "https://www.ncbi.nlm.nih.gov/pubmed/17316167\t64\n",
      "https://www.ncbi.nlm.nih.gov/pubmed/21893081\t63\n",
      "https://www.ncbi.nlm.nih.gov/pubmed/21598254\t60\n",
      "https://www.ncbi.nlm.nih.gov/pubmed/18554520\t60\n"
     ]
    }
   ],
   "source": [
    "for pmid, count in :\n",
    "    print('https://www.ncbi.nlm.nih.gov/pubmed/{}\\t{}'.format(pmid, count))"
   ]
  },
  {
   "cell_type": "markdown",
   "metadata": {},
   "source": [
    "## Citation Enrichment\n",
    "\n",
    "The NCBI eUtils platform is used to look up all PubMed references and enrich information about the authors, publication, volume, page, and title with [pbt.mutation.fix_pubmed_citations](http://pybel-tools.readthedocs.io/en/latest/mutation.html#pybel_tools.mutation.fix_pubmed_citations)."
   ]
  },
  {
   "cell_type": "code",
   "execution_count": 12,
   "metadata": {
    "collapsed": true
   },
   "outputs": [],
   "source": [
    "pbt.mutation.parse_authors(graph)"
   ]
  },
  {
   "cell_type": "code",
   "execution_count": 13,
   "metadata": {},
   "outputs": [
    {
     "name": "stderr",
     "output_type": "stream",
     "text": [
      "WARNING:pybel_tools.citation_utils:problems with following id: 22377427\n",
      "WARNING:pybel_tools.mutation.metadata:PMID not valid: 22377427\n",
      "WARNING:pybel_tools.mutation.metadata:PMID not valid: 22377427\n",
      "WARNING:pybel_tools.mutation.metadata:PMID not valid: 22377427\n",
      "WARNING:pybel_tools.mutation.metadata:PMID not valid: 22377427\n",
      "WARNING:pybel_tools.mutation.metadata:PMID not valid: 22377427\n",
      "WARNING:pybel_tools.mutation.metadata:PMID not valid: 22377427\n"
     ]
    },
    {
     "name": "stdout",
     "output_type": "stream",
     "text": [
      "CPU times: user 648 ms, sys: 59.3 ms, total: 708 ms\n",
      "Wall time: 30.4 s\n"
     ]
    }
   ],
   "source": [
    "%%time\n",
    "erroneous_pmids = pbt.mutation.fix_pubmed_citations(graph, stringify_authors=False)"
   ]
  },
  {
   "cell_type": "markdown",
   "metadata": {},
   "source": [
    "### Investigation of Errors\n",
    "\n",
    "The erroneous PMIDs are summarized below. The evidence strings can be googled to identify the correct publications for recuration of the original BEL document."
   ]
  },
  {
   "cell_type": "code",
   "execution_count": 14,
   "metadata": {},
   "outputs": [
    {
     "name": "stdout",
     "output_type": "stream",
     "text": [
      "https://www.ncbi.nlm.nih.gov/pubmed/22377427\n",
      "\t Here we find that a mitochondrial solute carrier family protein, appoptosin, induces reactive oxygen species release and intrinsic caspase-dependent apoptosis. The physiological function of appoptosin is to transport/exchange glycine/5-amino-levulinic acid across the mitochondrial membrane for heme synthesis. Alzheimer's Abeta-amyloid precursor protein interacts with appoptosin and modulates appoptosin-induced apoptosis. Levels of appoptosin are upregulated in brain samples from Alzheimer's disease and infarct patients and in rodent stroke models, as well as in cells treated with Abeta-amyloid (Abeta) and glutamate. Downregulation of appoptosin prevents the cell death and caspase activation caused by glutamate or Abeta insults. \n",
      "\n"
     ]
    }
   ],
   "source": [
    "pmid_evidences = pbt.summary.get_evidences_by_pmid(graph, erroneous_pmids)\n",
    "\n",
    "for pmid in sorted(pmid_evidences):\n",
    "    print('https://www.ncbi.nlm.nih.gov/pubmed/{}'.format(pmid))\n",
    "    \n",
    "    for evidence in sorted(pmid_evidences[pmid]):\n",
    "        print('\\t', evidence, '\\n')"
   ]
  },
  {
   "cell_type": "markdown",
   "metadata": {},
   "source": [
    "## Author Summary\n",
    "\n",
    "The associations between authors and their publications can be summarized with [pbt.summary.count_author_publications](http://pybel-tools.readthedocs.io/en/latest/summary.html#pybel_tools.summary.count_author_publications)."
   ]
  },
  {
   "cell_type": "code",
   "execution_count": 15,
   "metadata": {
    "collapsed": true
   },
   "outputs": [],
   "source": [
    "author_publication_counter = pbt.summary.count_author_publications(graph)"
   ]
  },
  {
   "cell_type": "markdown",
   "metadata": {},
   "source": [
    "The total number of authors can be readily counted by the `len()` of the Counter returned by [pbt.summary.count_author_publications](http://pybel-tools.readthedocs.io/en/latest/summary.html#pybel_tools.summary.count_author_publications)."
   ]
  },
  {
   "cell_type": "code",
   "execution_count": 16,
   "metadata": {},
   "outputs": [
    {
     "data": {
      "text/plain": [
       "9219"
      ]
     },
     "execution_count": 16,
     "metadata": {},
     "output_type": "execute_result"
    }
   ],
   "source": [
    "len(author_publication_counter)"
   ]
  },
  {
   "cell_type": "markdown",
   "metadata": {},
   "source": [
    "The top 35 authors, in terms of the number of publications contributed to the graph, are displayed below."
   ]
  },
  {
   "cell_type": "code",
   "execution_count": 17,
   "metadata": {},
   "outputs": [
    {
     "data": {
      "text/plain": [
       "[('Hyman BT', 16),\n",
       " ('Li Y', 14),\n",
       " ('Wang Y', 14),\n",
       " ('Williams J', 14),\n",
       " ('Smith MA', 13),\n",
       " ('Perry G', 13),\n",
       " ('Wang X', 13),\n",
       " ('Love S', 12),\n",
       " ('Mayeux R', 12),\n",
       " ('Farrer LA', 12),\n",
       " ('Lovestone S', 12),\n",
       " ('Liu Y', 11),\n",
       " ('Zhao Y', 11),\n",
       " ('Zhang Y', 11),\n",
       " ('Haass C', 11),\n",
       " ('Younkin SG', 11),\n",
       " ('Holtzman DM', 11),\n",
       " ('Kehoe PG', 11),\n",
       " ('Galimberti D', 11),\n",
       " ('Hardy J', 11),\n",
       " ('Pericak-Vance MA', 11),\n",
       " ('Koo EH', 10),\n",
       " ('Mattson MP', 10),\n",
       " ('Tan J', 10),\n",
       " (\"Alzheimer's Disease Neuroimaging Initiative.\", 10),\n",
       " ('St George-Hyslop P', 10),\n",
       " ('Lambert JC', 10),\n",
       " ('Amouyel P', 10),\n",
       " ('Harold D', 10),\n",
       " ('Scarpini E', 10),\n",
       " ('Owen MJ', 10),\n",
       " ('Petersen RC', 10),\n",
       " ('Haines JL', 10),\n",
       " ('Xu H', 9),\n",
       " ('Zhang J', 9)]"
      ]
     },
     "execution_count": 17,
     "metadata": {},
     "output_type": "execute_result"
    }
   ],
   "source": [
    "author_publication_counter.most_common(35)"
   ]
  },
  {
   "cell_type": "markdown",
   "metadata": {},
   "source": [
    "It's also possible to look up the contributions of individual authors using the Counter's dictionary lookup and a simple substring search."
   ]
  },
  {
   "cell_type": "code",
   "execution_count": 18,
   "metadata": {},
   "outputs": [
    {
     "name": "stdout",
     "output_type": "stream",
     "text": [
      "Heneka MT 8\n"
     ]
    }
   ],
   "source": [
    "for author in author_publication_counter:\n",
    "    if 'Heneka' in author:\n",
    "        print(author, author_publication_counter[author])"
   ]
  },
  {
   "cell_type": "markdown",
   "metadata": {},
   "source": [
    "The top 35 authors, in terms of the number of edges contributed to the graph, are displayed below."
   ]
  },
  {
   "cell_type": "code",
   "execution_count": 19,
   "metadata": {},
   "outputs": [
    {
     "data": {
      "text/plain": [
       "[('Parihar MS', 677),\n",
       " ('Brewer GJ', 668),\n",
       " ('Russo C', 623),\n",
       " ('Florio T', 623),\n",
       " ('Nizzari M', 620),\n",
       " ('Pagano A', 583),\n",
       " ('Thellung S', 580),\n",
       " ('Corsaro A', 580),\n",
       " ('Villa V', 580),\n",
       " ('Porcile C', 580),\n",
       " ('de la Monte SM', 418),\n",
       " ('Wands JR', 418),\n",
       " ('Hardy J', 363),\n",
       " ('Lovestone S', 333),\n",
       " ('Williams J', 332),\n",
       " ('Younkin SG', 322),\n",
       " ('Goate AM', 311),\n",
       " ('Hyman BT', 310),\n",
       " ('Schubert M', 303),\n",
       " ('Cruchaga C', 302),\n",
       " ('Carrasquillo MM', 302),\n",
       " ('Owen MJ', 300),\n",
       " ('Freude S', 297),\n",
       " ('Schilbach K', 297),\n",
       " ('Harold D', 290),\n",
       " ('Kauwe JS', 288),\n",
       " ('Kehoe PG', 280),\n",
       " ('Sims R', 267),\n",
       " ('Morris JC', 267),\n",
       " ('Love S', 265),\n",
       " ('Gerrish A', 259),\n",
       " ('Nowotny P', 258),\n",
       " ('Brayne C', 254),\n",
       " ('Engelborghs S', 252),\n",
       " ('Craig D', 252)]"
      ]
     },
     "execution_count": 19,
     "metadata": {},
     "output_type": "execute_result"
    }
   ],
   "source": [
    "author_counter = pbt.summary.count_authors(graph)\n",
    "\n",
    "author_counter.most_common(35)"
   ]
  },
  {
   "cell_type": "markdown",
   "metadata": {},
   "source": [
    "# Apoptosis Signalling Subgraph Summary\n",
    "\n",
    "In this example, the Apopotosis Signalling Subgraph is investigated more closely."
   ]
  },
  {
   "cell_type": "code",
   "execution_count": 20,
   "metadata": {
    "collapsed": true
   },
   "outputs": [],
   "source": [
    "target_subgraph = 'Apoptosis signaling subgraph'"
   ]
  },
  {
   "cell_type": "code",
   "execution_count": 21,
   "metadata": {},
   "outputs": [
    {
     "name": "stdout",
     "output_type": "stream",
     "text": [
      "Number of nodes: 132\n",
      "Number of edges: 221\n",
      "Network density: 0.012780476520934536\n",
      "Number weakly connected components: 10\n",
      "Average in-degree: 1.6742424242424243\n",
      "Average out-degree: 1.6742424242424243\n"
     ]
    }
   ],
   "source": [
    "subgraph = pbt.selection.get_subgraph_by_annotation_value(graph, annotation='Subgraph', value=target_subgraph)\n",
    "\n",
    "pbt.summary.print_summary(subgraph)"
   ]
  },
  {
   "cell_type": "markdown",
   "metadata": {},
   "source": [
    "The unique citations for every pair of nodes is calculated. This helps to remove the bias from edges that have many notations and have a cartesian explosion. This process can be repeated with [pbt.summary.count_pmids](http://pybel-tools.readthedocs.io/en/latest/summary.html#pybel_tools.summary.count_pmids)."
   ]
  },
  {
   "cell_type": "code",
   "execution_count": 22,
   "metadata": {},
   "outputs": [
    {
     "name": "stdout",
     "output_type": "stream",
     "text": [
      "https://www.ncbi.nlm.nih.gov/pubmed/19499146\t27\tActa biochimica et biophysica Sinica\n",
      "https://www.ncbi.nlm.nih.gov/pubmed/22122372\t12\tJournal of neurochemistry\n",
      "https://www.ncbi.nlm.nih.gov/pubmed/22496686\t11\tJournal of toxicology\n",
      "https://www.ncbi.nlm.nih.gov/pubmed/16153637\t9\tEuropean journal of pharmacology\n",
      "https://www.ncbi.nlm.nih.gov/pubmed/17869087\t7\tThe Journal of nutritional biochemistry\n",
      "https://www.ncbi.nlm.nih.gov/pubmed/19918364\t6\tPloS one\n",
      "https://www.ncbi.nlm.nih.gov/pubmed/11592846\t6\tNeurobiology of disease\n",
      "https://www.ncbi.nlm.nih.gov/pubmed/12548636\t6\tProteomics\n",
      "https://www.ncbi.nlm.nih.gov/pubmed/19306298\t5\tJournal of cellular physiology\n",
      "https://www.ncbi.nlm.nih.gov/pubmed/14744432\t5\tCell\n",
      "https://www.ncbi.nlm.nih.gov/pubmed/18997293\t4\tJournal of Alzheimer's disease : JAD\n",
      "https://www.ncbi.nlm.nih.gov/pubmed/22236693\t4\tJournal of negative results in biomedicine\n",
      "https://www.ncbi.nlm.nih.gov/pubmed/17316167\t4\tCurrent Alzheimer research\n",
      "https://www.ncbi.nlm.nih.gov/pubmed/19734902\t4\tNature genetics\n",
      "https://www.ncbi.nlm.nih.gov/pubmed/20847424\t4\tJournal of Alzheimer's disease : JAD\n",
      "https://www.ncbi.nlm.nih.gov/pubmed/22235318\t4\tPloS one\n",
      "https://www.ncbi.nlm.nih.gov/pubmed/15671026\t3\tThe Journal of biological chemistry\n",
      "https://www.ncbi.nlm.nih.gov/pubmed/22523685\t3\tJournal of aging research\n",
      "https://www.ncbi.nlm.nih.gov/pubmed/18782350\t3\tAging cell\n",
      "https://www.ncbi.nlm.nih.gov/pubmed/22433871\t3\tThe Journal of biological chemistry\n",
      "https://www.ncbi.nlm.nih.gov/pubmed/19596284\t3\tChemico-biological interactions\n",
      "https://www.ncbi.nlm.nih.gov/pubmed/21490080\t3\tPerfusion\n",
      "https://www.ncbi.nlm.nih.gov/pubmed/11744168\t2\tBrain research. Molecular brain research\n",
      "https://www.ncbi.nlm.nih.gov/pubmed/10662829\t2\tThe Journal of neuroscience : the official journal of the Society for Neuroscience\n",
      "https://www.ncbi.nlm.nih.gov/pubmed/10371197\t2\tFEBS letters\n",
      "https://www.ncbi.nlm.nih.gov/pubmed/22874667\t2\tPrion\n",
      "https://www.ncbi.nlm.nih.gov/pubmed/11432833\t2\tThe EMBO journal\n",
      "https://www.ncbi.nlm.nih.gov/pubmed/18718604\t2\tThe Journal of surgical research\n",
      "https://www.ncbi.nlm.nih.gov/pubmed/21893081\t2\tPharmacology, biochemistry, and behavior\n",
      "https://www.ncbi.nlm.nih.gov/pubmed/16303979\t2\tInvestigative ophthalmology &amp; visual science\n",
      "https://www.ncbi.nlm.nih.gov/pubmed/11400916\t2\tLife sciences\n",
      "https://www.ncbi.nlm.nih.gov/pubmed/16243823\t2\tClinical cancer research : an official journal of the American Association for Cancer Research\n",
      "https://www.ncbi.nlm.nih.gov/pubmed/22249458\t1\tJournal of neuropathology and experimental neurology\n",
      "https://www.ncbi.nlm.nih.gov/pubmed/21945540\t1\tNeurobiology of disease\n",
      "https://www.ncbi.nlm.nih.gov/pubmed/17213958\t1\tActa biochimica et biophysica Sinica\n"
     ]
    }
   ],
   "source": [
    "citations = defaultdict(set)\n",
    "\n",
    "for u, v, d in subgraph.edges_iter(data=True):\n",
    "    c = d[CITATION]\n",
    "    citations[u, v].add((c[CITATION_TYPE], c[CITATION_REFERENCE], c[CITATION_NAME]))\n",
    "    \n",
    "counter = Counter(itt.chain.from_iterable(citations.values()))\n",
    "\n",
    "for (_, pmid, name), v in counter.most_common(35):\n",
    "    print('https://www.ncbi.nlm.nih.gov/pubmed/{}\\t{}\\t{}' .format(int(pmid.strip()), v, name))"
   ]
  },
  {
   "cell_type": "markdown",
   "metadata": {},
   "source": [
    "# Conclusions\n",
    "\n",
    "While BEL documents are a repository for biological knowledge, they also provide insight into the most prolific authors and highest information-density papers. After making this information readily available through the functions provided in PyBEL Tools, other tools that handle citation networks could be integrated and utilities like [SCAIView](http://www.scaiview.com/) could be further leveraged to identify which publications would have the highest potential to improve the content of the network."
   ]
  }
 ],
 "metadata": {
  "kernelspec": {
   "display_name": "Python 3",
   "language": "python",
   "name": "python3"
  },
  "language_info": {
   "codemirror_mode": {
    "name": "ipython",
    "version": 3
   },
   "file_extension": ".py",
   "mimetype": "text/x-python",
   "name": "python",
   "nbconvert_exporter": "python",
   "pygments_lexer": "ipython3",
   "version": "3.6.1"
  }
 },
 "nbformat": 4,
 "nbformat_minor": 2
}
